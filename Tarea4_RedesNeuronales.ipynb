{
  "cells": [
    {
      "cell_type": "markdown",
      "metadata": {
        "id": "view-in-github",
        "colab_type": "text"
      },
      "source": [
        "<a href=\"https://colab.research.google.com/github/HilbertN/Analisis_de_datos_Tareas/blob/main/Tarea4_RedesNeuronales.ipynb\" target=\"_parent\"><img src=\"https://colab.research.google.com/assets/colab-badge.svg\" alt=\"Open In Colab\"/></a>"
      ]
    },
    {
      "cell_type": "code",
      "execution_count": 135,
      "metadata": {
        "id": "mwHkNutiQktm"
      },
      "outputs": [],
      "source": [
        "import tensorflow as tf\n",
        "from tensorflow import keras\n",
        "from tensorflow.keras import layers\n",
        "from tensorflow.keras.datasets import mnist\n",
        "from tensorflow.keras.models import Sequential\n",
        "from tensorflow.keras.layers import Dense, Dropout\n",
        "from tensorflow.keras.optimizers import RMSprop, SGD, Adam\n",
        "from tensorflow.keras.losses import CategoricalCrossentropy,MeanSquaredError\n",
        "from keras.preprocessing.image import ImageDataGenerator\n",
        "import pandas as pd \n",
        "import numpy as np\n",
        "import shutil \n",
        "import os\n",
        "import matplotlib.pyplot as plt"
      ]
    },
    {
      "cell_type": "code",
      "source": [
        "#Ejercicio 1: Entrena una red neuronal para que reproduzca la siguientes funciones en el  intervalo  de  [-1,1].  \n",
        "# Graficar  la  solución  de  la  red  en  conjunto  con  la gráfica de la función.(a)  3 sin(πx)(b)  1 + 2x+ 4x3\n",
        "\n",
        "#Vamos a proponer los siguientes arreglos como conjuntos de entranmiento y de prueba \n",
        "\n",
        "x_train = np.linspace(-1, 1, 1000).reshape(-1, 1)\n",
        "y_train = 3 * np.sin(np.pi * x_train)\n",
        "x_test = np.linspace(-1, 1, 100).reshape(-1, 1)\n",
        "y_test= 3 * np.sin(np.pi * x_test)\n"
      ],
      "metadata": {
        "id": "YnH0MfFrzWLG"
      },
      "execution_count": 151,
      "outputs": []
    },
    {
      "cell_type": "code",
      "source": [
        "model = Sequential()\n",
        "model.add(Dense(300, activation='relu', input_shape=(1,)))\n",
        "model.add(Dropout(0.2))\n",
        "model.add(Dense(300, activation='relu'))\n",
        "model.add(Dense(1))\n",
        "\n",
        "model.compile(loss='mean_squared_error', optimizer=SGD(learning_rate=0.01), metrics=['mse'])\n"
      ],
      "metadata": {
        "id": "KYrfAK504xJ-"
      },
      "execution_count": 152,
      "outputs": []
    },
    {
      "cell_type": "code",
      "source": [
        "history = model.fit(x_train, y_train, batch_size=30, epochs=40, verbose=1, validation_data=(x_test, y_test))"
      ],
      "metadata": {
        "colab": {
          "base_uri": "https://localhost:8080/"
        },
        "id": "RkEMuSd6B4Ij",
        "outputId": "76496db2-8063-4cf9-8aa6-320f816b3d73"
      },
      "execution_count": 153,
      "outputs": [
        {
          "output_type": "stream",
          "name": "stdout",
          "text": [
            "Epoch 1/40\n",
            "34/34 [==============================] - 1s 6ms/step - loss: 3.6528 - mse: 3.6528 - val_loss: 2.5962 - val_mse: 2.5962\n",
            "Epoch 2/40\n",
            "34/34 [==============================] - 0s 3ms/step - loss: 1.8827 - mse: 1.8827 - val_loss: 1.2751 - val_mse: 1.2751\n",
            "Epoch 3/40\n",
            "34/34 [==============================] - 0s 6ms/step - loss: 1.1940 - mse: 1.1940 - val_loss: 1.1446 - val_mse: 1.1446\n",
            "Epoch 4/40\n",
            "34/34 [==============================] - 0s 11ms/step - loss: 1.1141 - mse: 1.1141 - val_loss: 1.1215 - val_mse: 1.1215\n",
            "Epoch 5/40\n",
            "34/34 [==============================] - 0s 6ms/step - loss: 1.0677 - mse: 1.0677 - val_loss: 1.0793 - val_mse: 1.0793\n",
            "Epoch 6/40\n",
            "34/34 [==============================] - 0s 3ms/step - loss: 1.0339 - mse: 1.0339 - val_loss: 1.0468 - val_mse: 1.0468\n",
            "Epoch 7/40\n",
            "34/34 [==============================] - 0s 3ms/step - loss: 1.0381 - mse: 1.0381 - val_loss: 1.0044 - val_mse: 1.0044\n",
            "Epoch 8/40\n",
            "34/34 [==============================] - 0s 3ms/step - loss: 0.9716 - mse: 0.9716 - val_loss: 0.9793 - val_mse: 0.9793\n",
            "Epoch 9/40\n",
            "34/34 [==============================] - 0s 3ms/step - loss: 0.9496 - mse: 0.9496 - val_loss: 0.9394 - val_mse: 0.9394\n",
            "Epoch 10/40\n",
            "34/34 [==============================] - 0s 3ms/step - loss: 0.9123 - mse: 0.9123 - val_loss: 0.8898 - val_mse: 0.8898\n",
            "Epoch 11/40\n",
            "34/34 [==============================] - 0s 4ms/step - loss: 0.8718 - mse: 0.8718 - val_loss: 0.8493 - val_mse: 0.8493\n",
            "Epoch 12/40\n",
            "34/34 [==============================] - 0s 3ms/step - loss: 0.8252 - mse: 0.8252 - val_loss: 0.8063 - val_mse: 0.8063\n",
            "Epoch 13/40\n",
            "34/34 [==============================] - 0s 3ms/step - loss: 0.7805 - mse: 0.7805 - val_loss: 0.7619 - val_mse: 0.7619\n",
            "Epoch 14/40\n",
            "34/34 [==============================] - 0s 3ms/step - loss: 0.7316 - mse: 0.7316 - val_loss: 0.7076 - val_mse: 0.7076\n",
            "Epoch 15/40\n",
            "34/34 [==============================] - 0s 3ms/step - loss: 0.6786 - mse: 0.6786 - val_loss: 0.6567 - val_mse: 0.6567\n",
            "Epoch 16/40\n",
            "34/34 [==============================] - 0s 3ms/step - loss: 0.6368 - mse: 0.6368 - val_loss: 0.6043 - val_mse: 0.6043\n",
            "Epoch 17/40\n",
            "34/34 [==============================] - 0s 4ms/step - loss: 0.5870 - mse: 0.5870 - val_loss: 0.5507 - val_mse: 0.5507\n",
            "Epoch 18/40\n",
            "34/34 [==============================] - 0s 3ms/step - loss: 0.5338 - mse: 0.5338 - val_loss: 0.5010 - val_mse: 0.5010\n",
            "Epoch 19/40\n",
            "34/34 [==============================] - 0s 3ms/step - loss: 0.4889 - mse: 0.4889 - val_loss: 0.4598 - val_mse: 0.4598\n",
            "Epoch 20/40\n",
            "34/34 [==============================] - 0s 4ms/step - loss: 0.4371 - mse: 0.4371 - val_loss: 0.4035 - val_mse: 0.4035\n",
            "Epoch 21/40\n",
            "34/34 [==============================] - 0s 4ms/step - loss: 0.3918 - mse: 0.3918 - val_loss: 0.3546 - val_mse: 0.3546\n",
            "Epoch 22/40\n",
            "34/34 [==============================] - 0s 3ms/step - loss: 0.3568 - mse: 0.3568 - val_loss: 0.3094 - val_mse: 0.3094\n",
            "Epoch 23/40\n",
            "34/34 [==============================] - 0s 3ms/step - loss: 0.2979 - mse: 0.2979 - val_loss: 0.2806 - val_mse: 0.2806\n",
            "Epoch 24/40\n",
            "34/34 [==============================] - 0s 3ms/step - loss: 0.2678 - mse: 0.2678 - val_loss: 0.2382 - val_mse: 0.2382\n",
            "Epoch 25/40\n",
            "34/34 [==============================] - 0s 4ms/step - loss: 0.2584 - mse: 0.2584 - val_loss: 0.2100 - val_mse: 0.2100\n",
            "Epoch 26/40\n",
            "34/34 [==============================] - 0s 3ms/step - loss: 0.2052 - mse: 0.2052 - val_loss: 0.1943 - val_mse: 0.1943\n",
            "Epoch 27/40\n",
            "34/34 [==============================] - 0s 4ms/step - loss: 0.1979 - mse: 0.1979 - val_loss: 0.1634 - val_mse: 0.1634\n",
            "Epoch 28/40\n",
            "34/34 [==============================] - 0s 4ms/step - loss: 0.1711 - mse: 0.1711 - val_loss: 0.1453 - val_mse: 0.1453\n",
            "Epoch 29/40\n",
            "34/34 [==============================] - 0s 5ms/step - loss: 0.1543 - mse: 0.1543 - val_loss: 0.1286 - val_mse: 0.1286\n",
            "Epoch 30/40\n",
            "34/34 [==============================] - 0s 4ms/step - loss: 0.1402 - mse: 0.1402 - val_loss: 0.1079 - val_mse: 0.1079\n",
            "Epoch 31/40\n",
            "34/34 [==============================] - 0s 4ms/step - loss: 0.1234 - mse: 0.1234 - val_loss: 0.1007 - val_mse: 0.1007\n",
            "Epoch 32/40\n",
            "34/34 [==============================] - 0s 5ms/step - loss: 0.1179 - mse: 0.1179 - val_loss: 0.0863 - val_mse: 0.0863\n",
            "Epoch 33/40\n",
            "34/34 [==============================] - 0s 5ms/step - loss: 0.1052 - mse: 0.1052 - val_loss: 0.0755 - val_mse: 0.0755\n",
            "Epoch 34/40\n",
            "34/34 [==============================] - 0s 5ms/step - loss: 0.0898 - mse: 0.0898 - val_loss: 0.0674 - val_mse: 0.0674\n",
            "Epoch 35/40\n",
            "34/34 [==============================] - 0s 5ms/step - loss: 0.0873 - mse: 0.0873 - val_loss: 0.0598 - val_mse: 0.0598\n",
            "Epoch 36/40\n",
            "34/34 [==============================] - 0s 5ms/step - loss: 0.0827 - mse: 0.0827 - val_loss: 0.0584 - val_mse: 0.0584\n",
            "Epoch 37/40\n",
            "34/34 [==============================] - 0s 4ms/step - loss: 0.0740 - mse: 0.0740 - val_loss: 0.0495 - val_mse: 0.0495\n",
            "Epoch 38/40\n",
            "34/34 [==============================] - 0s 4ms/step - loss: 0.0754 - mse: 0.0754 - val_loss: 0.0487 - val_mse: 0.0487\n",
            "Epoch 39/40\n",
            "34/34 [==============================] - 0s 4ms/step - loss: 0.0678 - mse: 0.0678 - val_loss: 0.0469 - val_mse: 0.0469\n",
            "Epoch 40/40\n",
            "34/34 [==============================] - 0s 4ms/step - loss: 0.0609 - mse: 0.0609 - val_loss: 0.0362 - val_mse: 0.0362\n"
          ]
        }
      ]
    },
    {
      "cell_type": "code",
      "execution_count": 107,
      "metadata": {
        "id": "ThGOk8CoxPAy"
      },
      "outputs": [],
      "source": [
        "#Ejercicio dos: Identificar enfermedades en plantas \n"
      ]
    },
    {
      "cell_type": "code",
      "execution_count": 85,
      "metadata": {
        "colab": {
          "base_uri": "https://localhost:8080/"
        },
        "id": "b6GSpDdZYgqF",
        "outputId": "c8a85104-b9ea-4ea9-bdf8-3958f5ca20e0"
      },
      "outputs": [
        {
          "output_type": "stream",
          "name": "stdout",
          "text": [
            "Drive already mounted at /content/drive; to attempt to forcibly remount, call drive.mount(\"/content/drive\", force_remount=True).\n"
          ]
        }
      ],
      "source": [
        "#Para leer datos desde Google Drive: \n",
        "from google.colab import drive \n",
        "drive.mount('/content/drive') "
      ]
    },
    {
      "cell_type": "code",
      "execution_count": 86,
      "metadata": {
        "id": "2jUIvkPG3e1n"
      },
      "outputs": [],
      "source": [
        "df = pd.read_csv('/content/drive/MyDrive/Base de datos/train.csv', names=['Nombre', 'Clase'])"
      ]
    },
    {
      "cell_type": "code",
      "execution_count": 87,
      "metadata": {
        "id": "2KNuXaqv3zHM"
      },
      "outputs": [],
      "source": [
        "df=df.drop(0,axis=0)#Eliminamos la primera fila que no es d eutilidad"
      ]
    },
    {
      "cell_type": "code",
      "execution_count": 88,
      "metadata": {
        "colab": {
          "base_uri": "https://localhost:8080/"
        },
        "id": "Pas6quIE3f7m",
        "outputId": "fdc4c848-206c-47ba-ce40-70053b8fefe3"
      },
      "outputs": [
        {
          "output_type": "execute_result",
          "data": {
            "text/plain": [
              "array(['healthy', 'scab frog_eye_leaf_spot complex', 'scab', 'complex',\n",
              "       'rust', 'frog_eye_leaf_spot', 'powdery_mildew',\n",
              "       'scab frog_eye_leaf_spot', 'frog_eye_leaf_spot complex',\n",
              "       'rust frog_eye_leaf_spot', 'powdery_mildew complex',\n",
              "       'rust complex'], dtype=object)"
            ]
          },
          "metadata": {},
          "execution_count": 88
        }
      ],
      "source": [
        "df.Clase.unique()#Checamos las etiquetas de las clases"
      ]
    },
    {
      "cell_type": "code",
      "source": [
        "df[df['Clase']=='healthy']['Nombre'].size"
      ],
      "metadata": {
        "colab": {
          "base_uri": "https://localhost:8080/"
        },
        "id": "5NH6UZaFxjPz",
        "outputId": "52aac726-3c62-44d2-84a6-84df935d0007"
      },
      "execution_count": 89,
      "outputs": [
        {
          "output_type": "execute_result",
          "data": {
            "text/plain": [
              "4624"
            ]
          },
          "metadata": {},
          "execution_count": 89
        }
      ]
    },
    {
      "cell_type": "code",
      "source": [
        "for x in list(df.Clase.unique()): \n",
        "  y=df[df['Clase']==x]['Nombre'].size\n",
        "  print(f'{x}={y}')"
      ],
      "metadata": {
        "colab": {
          "base_uri": "https://localhost:8080/"
        },
        "id": "j4iI1bFDvVcb",
        "outputId": "a7b5a63e-0635-4807-a9ce-5b01c8559caf"
      },
      "execution_count": 90,
      "outputs": [
        {
          "output_type": "stream",
          "name": "stdout",
          "text": [
            "healthy=4624\n",
            "scab frog_eye_leaf_spot complex=200\n",
            "scab=4826\n",
            "complex=1602\n",
            "rust=1860\n",
            "frog_eye_leaf_spot=3181\n",
            "powdery_mildew=1184\n",
            "scab frog_eye_leaf_spot=686\n",
            "frog_eye_leaf_spot complex=165\n",
            "rust frog_eye_leaf_spot=120\n",
            "powdery_mildew complex=87\n",
            "rust complex=97\n"
          ]
        }
      ]
    },
    {
      "cell_type": "code",
      "execution_count": 91,
      "metadata": {
        "colab": {
          "base_uri": "https://localhost:8080/"
        },
        "id": "bLppSbGtKpKq",
        "outputId": "a4a406bd-f77a-4790-fef6-c6704d2f9964"
      },
      "outputs": [
        {
          "output_type": "execute_result",
          "data": {
            "text/plain": [
              "(18632, 2)"
            ]
          },
          "metadata": {},
          "execution_count": 91
        }
      ],
      "source": [
        "df.shape"
      ]
    },
    {
      "cell_type": "code",
      "execution_count": 92,
      "metadata": {
        "id": "xhCRzQdzKfZl"
      },
      "outputs": [],
      "source": [
        "#Vamos a mezclar de manera aleatoria todas las filas del csv\n",
        "#df= df.sample(frac=1, random_state=42)\n",
        "#Vamos a dividir a la mitad la base de datos para la primera parte para imagenes de entrenamiento y la otra por prueba\n",
        "#df1=df.iloc[0:9316,:]\n",
        "#df2=df.iloc[9316:18633,:]"
      ]
    },
    {
      "cell_type": "code",
      "execution_count": 93,
      "metadata": {
        "id": "l7LL-OGFNM1T"
      },
      "outputs": [],
      "source": [
        "#Podemos notar que los conjuntos no tienen elementos en común \n",
        "#set(df1.Nombre).intersection(set(df2.Nombre))"
      ]
    },
    {
      "cell_type": "code",
      "execution_count": 94,
      "metadata": {
        "id": "gpxVur6m3onF"
      },
      "outputs": [],
      "source": [
        "# Ruta de la carpeta de destino para las subcarpetas\n",
        "mini_train = '/content/train_'\n",
        "\n",
        "# Crear la carpeta de destino si no existe\n",
        "if not os.path.exists(mini_train ):\n",
        "    os.makedirs(mini_train )"
      ]
    },
    {
      "cell_type": "code",
      "execution_count": 95,
      "metadata": {
        "id": "VteqNplB8Gxa"
      },
      "outputs": [],
      "source": [
        "#Formamos una lista ordenada de las categorias de que tenemos en nuestro csv\n",
        "E= df.sort_values('Clase')\n",
        "clases= list(E.Clase.unique())"
      ]
    },
    {
      "cell_type": "code",
      "execution_count": 96,
      "metadata": {
        "id": "9t8q8CUu1Kjy"
      },
      "outputs": [],
      "source": [
        "#El próposito de este for es formar carpetas de cada una de las clasificaciones en la carpeta llamada train_\n",
        "#Cada carpeta consta de 50 imágenes con la finalidad de reducir el tiempo de aprendizaje de la red convolucional\n",
        "for i in clases:\n",
        "    contador = 0  # Contador de imágenes en la carpeta actual\n",
        "    for c in list(df[df['Clase'] == i]['Nombre']):\n",
        "        if contador >= 50:\n",
        "            break  # Se alcanzó el límite de imágenes por carpeta\n",
        "        imagen= os.path.join('/content/drive/MyDrive/Base de datos/train_images', c)\n",
        "        if os.path.exists(imagen):\n",
        "            mt= os.path.join(mini_train , 'train_' + i)\n",
        "            if not os.path.exists(mt):\n",
        "                os.makedirs(mt)\n",
        "            m= shutil.copy(imagen,mt)\n",
        "            contador+= 1\n",
        "\n"
      ]
    },
    {
      "cell_type": "code",
      "source": [
        "l=list(os.listdir('/content/train_'))\n"
      ],
      "metadata": {
        "id": "WizohjIqrdBM"
      },
      "execution_count": 97,
      "outputs": []
    },
    {
      "cell_type": "code",
      "execution_count": 98,
      "metadata": {
        "id": "ApCGw3SZNTa_"
      },
      "outputs": [],
      "source": [
        "#Realizamos el mismo procedimiento para crear la carpeta con subcarpetas de las categorías del problema\n",
        "#Esta vez para el conjunto de prueba \n",
        "\n",
        "# Ruta de la carpeta de destino para las subcarpetas\n",
        "mini_test = '/content/test_'\n",
        "\n",
        "# Crear la carpeta de destino si no existe\n",
        "if not os.path.exists(mini_test):\n",
        "    os.makedirs(mini_test )"
      ]
    },
    {
      "cell_type": "code",
      "execution_count": 99,
      "metadata": {
        "id": "WBjX5MMxNs2U"
      },
      "outputs": [],
      "source": [
        "#Formamos una lista ordenada de las categorias de que tenemos en nuestro csv\n",
        "#E= df2.sort_values('Clase')\n",
        "#clases= list(E.Clase.unique())"
      ]
    },
    {
      "cell_type": "code",
      "execution_count": 100,
      "metadata": {
        "id": "cfkR9xU9N2WR"
      },
      "outputs": [],
      "source": [
        "#El próposito de este for es formar carpetas de cada una de las clasificaciones en la carpeta llamada test_\n",
        "#Cada carpeta consta de 5 imágenes,estamos considerado el 10% de las imagenes de entrenamiento.\n",
        "for i in clases:\n",
        "    contador = 0  # Contador de imágenes en la carpeta actual\n",
        "    for c in list(df[df['Clase'] == i]['Nombre']):\n",
        "        if contador >= 5:\n",
        "            break  # Se alcanzó el límite de imágenes por carpeta\n",
        "        imagen= os.path.join('/content/drive/MyDrive/Base de datos/train_images', c)\n",
        "        if os.path.exists(imagen):\n",
        "            mt= os.path.join(mini_test , 'test_' + i)\n",
        "            if not os.path.exists(mt):\n",
        "                os.makedirs(mt)\n",
        "            m= shutil.copy(imagen,mt)\n",
        "            contador+= 1\n"
      ]
    },
    {
      "cell_type": "code",
      "execution_count": 105,
      "metadata": {
        "id": "MyNUZB8fRO07"
      },
      "outputs": [],
      "source": [
        "ih,iw=150,150 #Tamaño de la imagen\n",
        "input_shape=(ih,iw,3) #forma de la imagen : Largo, Ancho y colores\n",
        "train_dir= '/content/train_' #directorio de entrenamiento\n",
        "test_dir='/content/test_' #directorio de prueba \n",
        "num_class=12 #Número de clases\n",
        "epochs=30 #Epocas\n",
        "batch_size=5  #batch para hacer cada entrenamiento. Lee 5 'batch_size' imagenes antes de actualizar\n",
        "num_train= 600 #Número de imágenes en train \n",
        "num_test=60 #Número de imágenes en test\n",
        "epoch_steps= num_train//batch_size \n",
        "test_steps=num_test // batch_size"
      ]
    },
    {
      "cell_type": "code",
      "execution_count": 102,
      "metadata": {
        "colab": {
          "base_uri": "https://localhost:8080/"
        },
        "id": "sQg7DCQVnitK",
        "outputId": "8b0554ed-74b7-4b21-ca85-1ce9d36043b0"
      },
      "outputs": [
        {
          "output_type": "stream",
          "name": "stdout",
          "text": [
            "Found 600 images belonging to 12 classes.\n",
            "Found 60 images belonging to 12 classes.\n"
          ]
        }
      ],
      "source": [
        "gentrain = ImageDataGenerator(rescale=1. / 255.) #indica que reescale cada canal con valor entre 0 y 1.\n",
        "\n",
        "\n",
        "train = gentrain.flow_from_directory(train_dir,\n",
        "                batch_size=batch_size,\n",
        "                target_size=(iw, ih),\n",
        "                class_mode='categorical')\n",
        "\n",
        "gentest = ImageDataGenerator(rescale=1. / 255)\n",
        "\n",
        "test = gentest.flow_from_directory(test_dir,\n",
        "                batch_size=batch_size,\n",
        "                target_size=(iw, ih),\n",
        "                class_mode='categorical')"
      ]
    },
    {
      "cell_type": "code",
      "execution_count": 103,
      "metadata": {
        "id": "-hmEwCGb2knw"
      },
      "outputs": [],
      "source": [
        "#shutil.rmtree('/content/train_') #Para eliminar una carpeta\n"
      ]
    },
    {
      "cell_type": "code",
      "source": [
        "#shutil.rmtree('/content/test_') #Para eliminar una carpeta"
      ],
      "metadata": {
        "id": "6ExgRldlsgBq"
      },
      "execution_count": 104,
      "outputs": []
    }
  ],
  "metadata": {
    "colab": {
      "provenance": [],
      "authorship_tag": "ABX9TyPRkUWdcl/5YmHbCHWBQsGI",
      "include_colab_link": true
    },
    "kernelspec": {
      "display_name": "Python 3",
      "name": "python3"
    },
    "language_info": {
      "name": "python"
    }
  },
  "nbformat": 4,
  "nbformat_minor": 0
}