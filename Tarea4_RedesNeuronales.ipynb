{
  "cells": [
    {
      "cell_type": "markdown",
      "metadata": {
        "id": "view-in-github",
        "colab_type": "text"
      },
      "source": [
        "<a href=\"https://colab.research.google.com/github/HilbertN/Analisis_de_datos_Tareas/blob/main/Tarea4_RedesNeuronales.ipynb\" target=\"_parent\"><img src=\"https://colab.research.google.com/assets/colab-badge.svg\" alt=\"Open In Colab\"/></a>"
      ]
    },
    {
      "cell_type": "code",
      "execution_count": 135,
      "metadata": {
        "id": "mwHkNutiQktm"
      },
      "outputs": [],
      "source": [
        "import tensorflow as tf\n",
        "from tensorflow import keras\n",
        "from tensorflow.keras import layers\n",
        "from tensorflow.keras.datasets import mnist\n",
        "from tensorflow.keras.models import Sequential\n",
        "from tensorflow.keras.layers import Dense, Dropout\n",
        "from tensorflow.keras.optimizers import RMSprop, SGD, Adam\n",
        "from tensorflow.keras.losses import CategoricalCrossentropy,MeanSquaredError\n",
        "from keras.preprocessing.image import ImageDataGenerator\n",
        "import pandas as pd \n",
        "import numpy as np\n",
        "import shutil \n",
        "import os\n",
        "import matplotlib.pyplot as plt"
      ]
    },
    {
      "cell_type": "code",
      "source": [
        "#Ejercicio 1: Entrena una red neuronal para que reproduzca la siguientes funciones en el  intervalo  de  [-1,1].  \n",
        "# Graficar  la  solución  de  la  red  en  conjunto  con  la gráfica de la función.(a)  3 sin(πx)(b)  1 + 2x+ 4x3\n",
        "\n",
        "#Vamos a proponer los siguientes arreglos como conjuntos de entranmiento y de prueba \n",
        "\n",
        "x_train = np.linspace(-1, 1, 1000).reshape(-1, 1)\n",
        "y_train = 3 * np.sin(np.pi * x_train)\n",
        "\n",
        "#Eliminamos elementos repetidos entre el conjunto de entrenamiento y de prueba\n",
        "v=np.linspace(-1, 1, 100)\n",
        "cond=np.isin(np.linspace(-1, 1, 100),np.linspace(-1, 1, 1000))\n",
        "v=v[np.where(~cond)]\n",
        "\n",
        "x_test = v.reshape(-1, 1)\n",
        "y_test= 3 * np.sin(np.pi * x_test)\n"
      ],
      "metadata": {
        "id": "YnH0MfFrzWLG"
      },
      "execution_count": 194,
      "outputs": []
    },
    {
      "cell_type": "code",
      "source": [
        "#No hay elementos repetidos entre el conjunto de prueba y entrenamiento\n",
        "h1=set(np.linspace(-1, 1, 1000))\n",
        "h3=set(v)\n",
        "Repetidos=list(h3.intersection(h1))\n",
        "Repetidos"
      ],
      "metadata": {
        "colab": {
          "base_uri": "https://localhost:8080/"
        },
        "id": "AB_VsCGZE4aU",
        "outputId": "f39da6ee-5cb8-40e4-c7ed-8cf292cee7d2"
      },
      "execution_count": 197,
      "outputs": [
        {
          "output_type": "execute_result",
          "data": {
            "text/plain": [
              "[]"
            ]
          },
          "metadata": {},
          "execution_count": 197
        }
      ]
    },
    {
      "cell_type": "code",
      "source": [
        "model = Sequential()\n",
        "model.add(Dense(300, activation='relu', input_shape=(1,)))\n",
        "model.add(Dropout(0.2))\n",
        "model.add(Dense(300, activation='relu'))\n",
        "model.add(Dense(1))\n",
        "\n",
        "model.compile(loss='mean_squared_error', optimizer=SGD(learning_rate=0.01), metrics=['mse'])\n"
      ],
      "metadata": {
        "id": "KYrfAK504xJ-"
      },
      "execution_count": 198,
      "outputs": []
    },
    {
      "cell_type": "code",
      "source": [
        "history = model.fit(x_train, y_train, batch_size=30, epochs=40, verbose=1, validation_data=(x_test, y_test))"
      ],
      "metadata": {
        "colab": {
          "base_uri": "https://localhost:8080/"
        },
        "id": "RkEMuSd6B4Ij",
        "outputId": "eac04746-cd71-4a62-e60b-db70b101a9ab"
      },
      "execution_count": 199,
      "outputs": [
        {
          "output_type": "stream",
          "name": "stdout",
          "text": [
            "Epoch 1/40\n",
            "34/34 [==============================] - 1s 8ms/step - loss: 3.3716 - mse: 3.3716 - val_loss: 2.1674 - val_mse: 2.1674\n",
            "Epoch 2/40\n",
            "34/34 [==============================] - 0s 5ms/step - loss: 1.5998 - mse: 1.5998 - val_loss: 1.1180 - val_mse: 1.1180\n",
            "Epoch 3/40\n",
            "34/34 [==============================] - 0s 5ms/step - loss: 1.1491 - mse: 1.1491 - val_loss: 1.0266 - val_mse: 1.0266\n",
            "Epoch 4/40\n",
            "34/34 [==============================] - 0s 5ms/step - loss: 1.1008 - mse: 1.1008 - val_loss: 1.0013 - val_mse: 1.0013\n",
            "Epoch 5/40\n",
            "34/34 [==============================] - 0s 4ms/step - loss: 1.0710 - mse: 1.0710 - val_loss: 0.9598 - val_mse: 0.9598\n",
            "Epoch 6/40\n",
            "34/34 [==============================] - 0s 4ms/step - loss: 1.0301 - mse: 1.0301 - val_loss: 0.9309 - val_mse: 0.9309\n",
            "Epoch 7/40\n",
            "34/34 [==============================] - 0s 4ms/step - loss: 0.9922 - mse: 0.9922 - val_loss: 0.9118 - val_mse: 0.9118\n",
            "Epoch 8/40\n",
            "34/34 [==============================] - 0s 5ms/step - loss: 0.9574 - mse: 0.9574 - val_loss: 0.8679 - val_mse: 0.8679\n",
            "Epoch 9/40\n",
            "34/34 [==============================] - 0s 5ms/step - loss: 0.9257 - mse: 0.9257 - val_loss: 0.8877 - val_mse: 0.8877\n",
            "Epoch 10/40\n",
            "34/34 [==============================] - 0s 4ms/step - loss: 0.9013 - mse: 0.9013 - val_loss: 0.7931 - val_mse: 0.7931\n",
            "Epoch 11/40\n",
            "34/34 [==============================] - 0s 5ms/step - loss: 0.8521 - mse: 0.8521 - val_loss: 0.7537 - val_mse: 0.7537\n",
            "Epoch 12/40\n",
            "34/34 [==============================] - 0s 4ms/step - loss: 0.8387 - mse: 0.8387 - val_loss: 0.7113 - val_mse: 0.7113\n",
            "Epoch 13/40\n",
            "34/34 [==============================] - 0s 4ms/step - loss: 0.7810 - mse: 0.7810 - val_loss: 0.6666 - val_mse: 0.6666\n",
            "Epoch 14/40\n",
            "34/34 [==============================] - 0s 5ms/step - loss: 0.7301 - mse: 0.7301 - val_loss: 0.6179 - val_mse: 0.6179\n",
            "Epoch 15/40\n",
            "34/34 [==============================] - 0s 5ms/step - loss: 0.6710 - mse: 0.6710 - val_loss: 0.5794 - val_mse: 0.5794\n",
            "Epoch 16/40\n",
            "34/34 [==============================] - 0s 3ms/step - loss: 0.6176 - mse: 0.6176 - val_loss: 0.5219 - val_mse: 0.5219\n",
            "Epoch 17/40\n",
            "34/34 [==============================] - 0s 4ms/step - loss: 0.5835 - mse: 0.5835 - val_loss: 0.4708 - val_mse: 0.4708\n",
            "Epoch 18/40\n",
            "34/34 [==============================] - 0s 3ms/step - loss: 0.5288 - mse: 0.5288 - val_loss: 0.4207 - val_mse: 0.4207\n",
            "Epoch 19/40\n",
            "34/34 [==============================] - 0s 3ms/step - loss: 0.4712 - mse: 0.4712 - val_loss: 0.3752 - val_mse: 0.3752\n",
            "Epoch 20/40\n",
            "34/34 [==============================] - 0s 3ms/step - loss: 0.4179 - mse: 0.4179 - val_loss: 0.3285 - val_mse: 0.3285\n",
            "Epoch 21/40\n",
            "34/34 [==============================] - 0s 3ms/step - loss: 0.3716 - mse: 0.3716 - val_loss: 0.2845 - val_mse: 0.2845\n",
            "Epoch 22/40\n",
            "34/34 [==============================] - 0s 3ms/step - loss: 0.3370 - mse: 0.3370 - val_loss: 0.2629 - val_mse: 0.2629\n",
            "Epoch 23/40\n",
            "34/34 [==============================] - 0s 4ms/step - loss: 0.2919 - mse: 0.2919 - val_loss: 0.2249 - val_mse: 0.2249\n",
            "Epoch 24/40\n",
            "34/34 [==============================] - 0s 3ms/step - loss: 0.2649 - mse: 0.2649 - val_loss: 0.1873 - val_mse: 0.1873\n",
            "Epoch 25/40\n",
            "34/34 [==============================] - 0s 3ms/step - loss: 0.2372 - mse: 0.2372 - val_loss: 0.1571 - val_mse: 0.1571\n",
            "Epoch 26/40\n",
            "34/34 [==============================] - 0s 3ms/step - loss: 0.1947 - mse: 0.1947 - val_loss: 0.1466 - val_mse: 0.1466\n",
            "Epoch 27/40\n",
            "34/34 [==============================] - 0s 3ms/step - loss: 0.1815 - mse: 0.1815 - val_loss: 0.1254 - val_mse: 0.1254\n",
            "Epoch 28/40\n",
            "34/34 [==============================] - 0s 3ms/step - loss: 0.1573 - mse: 0.1573 - val_loss: 0.1047 - val_mse: 0.1047\n",
            "Epoch 29/40\n",
            "34/34 [==============================] - 0s 3ms/step - loss: 0.1351 - mse: 0.1351 - val_loss: 0.0900 - val_mse: 0.0900\n",
            "Epoch 30/40\n",
            "34/34 [==============================] - 0s 4ms/step - loss: 0.1269 - mse: 0.1269 - val_loss: 0.0805 - val_mse: 0.0805\n",
            "Epoch 31/40\n",
            "34/34 [==============================] - 0s 3ms/step - loss: 0.1159 - mse: 0.1159 - val_loss: 0.0695 - val_mse: 0.0695\n",
            "Epoch 32/40\n",
            "34/34 [==============================] - 0s 3ms/step - loss: 0.1020 - mse: 0.1020 - val_loss: 0.0682 - val_mse: 0.0682\n",
            "Epoch 33/40\n",
            "34/34 [==============================] - 0s 3ms/step - loss: 0.0967 - mse: 0.0967 - val_loss: 0.0547 - val_mse: 0.0547\n",
            "Epoch 34/40\n",
            "34/34 [==============================] - 0s 4ms/step - loss: 0.0887 - mse: 0.0887 - val_loss: 0.0509 - val_mse: 0.0509\n",
            "Epoch 35/40\n",
            "34/34 [==============================] - 0s 3ms/step - loss: 0.0827 - mse: 0.0827 - val_loss: 0.0424 - val_mse: 0.0424\n",
            "Epoch 36/40\n",
            "34/34 [==============================] - 0s 4ms/step - loss: 0.0744 - mse: 0.0744 - val_loss: 0.0384 - val_mse: 0.0384\n",
            "Epoch 37/40\n",
            "34/34 [==============================] - 0s 4ms/step - loss: 0.0701 - mse: 0.0701 - val_loss: 0.0346 - val_mse: 0.0346\n",
            "Epoch 38/40\n",
            "34/34 [==============================] - 0s 4ms/step - loss: 0.0633 - mse: 0.0633 - val_loss: 0.0363 - val_mse: 0.0363\n",
            "Epoch 39/40\n",
            "34/34 [==============================] - 0s 3ms/step - loss: 0.0575 - mse: 0.0575 - val_loss: 0.0315 - val_mse: 0.0315\n",
            "Epoch 40/40\n",
            "34/34 [==============================] - 0s 3ms/step - loss: 0.0503 - mse: 0.0503 - val_loss: 0.0270 - val_mse: 0.0270\n"
          ]
        }
      ]
    },
    {
      "cell_type": "code",
      "source": [
        "x_pred = np.linspace(-1, 1, 1000).reshape(-1, 1)\n",
        "y_pred = model.predict(x_pred)\n",
        "\n",
        "\n",
        "plt.figure(figsize=(8, 6))\n",
        "plt.plot(x_train, y_train, color='blue', label='Función (Datos de entranamiento)')\n",
        "plt.plot(x_pred, y_pred, color='red', label='Predicción de Red Neuronal')\n",
        "plt.xlabel('x')\n",
        "plt.ylabel('y')\n",
        "plt.legend()\n",
        "plt.show()"
      ],
      "metadata": {
        "colab": {
          "base_uri": "https://localhost:8080/",
          "height": 560
        },
        "id": "IdZ9-LlSLXx8",
        "outputId": "c813ddc1-6514-4dbb-fa37-998f0e39dbee"
      },
      "execution_count": 201,
      "outputs": [
        {
          "output_type": "stream",
          "name": "stdout",
          "text": [
            "32/32 [==============================] - 0s 2ms/step\n"
          ]
        },
        {
          "output_type": "display_data",
          "data": {
            "text/plain": [
              "<Figure size 800x600 with 1 Axes>"
            ],
            "image/png": "[encoded data removed]"
          },
          "metadata": {}
        }
      ]
    },
    {
      "cell_type": "code",
      "execution_count": 107,
      "metadata": {
        "id": "ThGOk8CoxPAy"
      },
      "outputs": [],
      "source": [
        "#Ejercicio dos: Identificar enfermedades en plantas \n"
      ]
    },
    {
      "cell_type": "code",
      "execution_count": 85,
      "metadata": {
        "colab": {
          "base_uri": "https://localhost:8080/"
        },
        "id": "b6GSpDdZYgqF",
        "outputId": "c8a85104-b9ea-4ea9-bdf8-3958f5ca20e0"
      },
      "outputs": [
        {
          "output_type": "stream",
          "name": "stdout",
          "text": [
            "Drive already mounted at /content/drive; to attempt to forcibly remount, call drive.mount(\"/content/drive\", force_remount=True).\n"
          ]
        }
      ],
      "source": [
        "#Para leer datos desde Google Drive: \n",
        "from google.colab import drive \n",
        "drive.mount('/content/drive') "
      ]
    },
    {
      "cell_type": "code",
      "execution_count": 86,
      "metadata": {
        "id": "2jUIvkPG3e1n"
      },
      "outputs": [],
      "source": [
        "df = pd.read_csv('/content/drive/MyDrive/Base de datos/train.csv', names=['Nombre', 'Clase'])"
      ]
    },
    {
      "cell_type": "code",
      "execution_count": 87,
      "metadata": {
        "id": "2KNuXaqv3zHM"
      },
      "outputs": [],
      "source": [
        "df=df.drop(0,axis=0)#Eliminamos la primera fila que no es d eutilidad"
      ]
    },
    {
      "cell_type": "code",
      "execution_count": 88,
      "metadata": {
        "colab": {
          "base_uri": "https://localhost:8080/"
        },
        "id": "Pas6quIE3f7m",
        "outputId": "fdc4c848-206c-47ba-ce40-70053b8fefe3"
      },
      "outputs": [
        {
          "output_type": "execute_result",
          "data": {
            "text/plain": [
              "array(['healthy', 'scab frog_eye_leaf_spot complex', 'scab', 'complex',\n",
              "       'rust', 'frog_eye_leaf_spot', 'powdery_mildew',\n",
              "       'scab frog_eye_leaf_spot', 'frog_eye_leaf_spot complex',\n",
              "       'rust frog_eye_leaf_spot', 'powdery_mildew complex',\n",
              "       'rust complex'], dtype=object)"
            ]
          },
          "metadata": {},
          "execution_count": 88
        }
      ],
      "source": [
        "df.Clase.unique()#Checamos las etiquetas de las clases"
      ]
    },
    {
      "cell_type": "code",
      "source": [
        "df[df['Clase']=='healthy']['Nombre'].size"
      ],
      "metadata": {
        "colab": {
          "base_uri": "https://localhost:8080/"
        },
        "id": "5NH6UZaFxjPz",
        "outputId": "52aac726-3c62-44d2-84a6-84df935d0007"
      },
      "execution_count": 89,
      "outputs": [
        {
          "output_type": "execute_result",
          "data": {
            "text/plain": [
              "4624"
            ]
          },
          "metadata": {},
          "execution_count": 89
        }
      ]
    },
    {
      "cell_type": "code",
      "source": [
        "for x in list(df.Clase.unique()): \n",
        "  y=df[df['Clase']==x]['Nombre'].size\n",
        "  print(f'{x}={y}')"
      ],
      "metadata": {
        "colab": {
          "base_uri": "https://localhost:8080/"
        },
        "id": "j4iI1bFDvVcb",
        "outputId": "a7b5a63e-0635-4807-a9ce-5b01c8559caf"
      },
      "execution_count": 90,
      "outputs": [
        {
          "output_type": "stream",
          "name": "stdout",
          "text": [
            "healthy=4624\n",
            "scab frog_eye_leaf_spot complex=200\n",
            "scab=4826\n",
            "complex=1602\n",
            "rust=1860\n",
            "frog_eye_leaf_spot=3181\n",
            "powdery_mildew=1184\n",
            "scab frog_eye_leaf_spot=686\n",
            "frog_eye_leaf_spot complex=165\n",
            "rust frog_eye_leaf_spot=120\n",
            "powdery_mildew complex=87\n",
            "rust complex=97\n"
          ]
        }
      ]
    },
    {
      "cell_type": "code",
      "execution_count": 91,
      "metadata": {
        "colab": {
          "base_uri": "https://localhost:8080/"
        },
        "id": "bLppSbGtKpKq",
        "outputId": "a4a406bd-f77a-4790-fef6-c6704d2f9964"
      },
      "outputs": [
        {
          "output_type": "execute_result",
          "data": {
            "text/plain": [
              "(18632, 2)"
            ]
          },
          "metadata": {},
          "execution_count": 91
        }
      ],
      "source": [
        "df.shape"
      ]
    },
    {
      "cell_type": "code",
      "execution_count": 92,
      "metadata": {
        "id": "xhCRzQdzKfZl"
      },
      "outputs": [],
      "source": [
        "#Vamos a mezclar de manera aleatoria todas las filas del csv\n",
        "#df= df.sample(frac=1, random_state=42)\n",
        "#Vamos a dividir a la mitad la base de datos para la primera parte para imagenes de entrenamiento y la otra por prueba\n",
        "#df1=df.iloc[0:9316,:]\n",
        "#df2=df.iloc[9316:18633,:]"
      ]
    },
    {
      "cell_type": "code",
      "execution_count": 93,
      "metadata": {
        "id": "l7LL-OGFNM1T"
      },
      "outputs": [],
      "source": [
        "#Podemos notar que los conjuntos no tienen elementos en común \n",
        "#set(df1.Nombre).intersection(set(df2.Nombre))"
      ]
    },
    {
      "cell_type": "code",
      "execution_count": 94,
      "metadata": {
        "id": "gpxVur6m3onF"
      },
      "outputs": [],
      "source": [
        "# Ruta de la carpeta de destino para las subcarpetas\n",
        "mini_train = '/content/train_'\n",
        "\n",
        "# Crear la carpeta de destino si no existe\n",
        "if not os.path.exists(mini_train ):\n",
        "    os.makedirs(mini_train )"
      ]
    },
    {
      "cell_type": "code",
      "execution_count": 95,
      "metadata": {
        "id": "VteqNplB8Gxa"
      },
      "outputs": [],
      "source": [
        "#Formamos una lista ordenada de las categorias de que tenemos en nuestro csv\n",
        "E= df.sort_values('Clase')\n",
        "clases= list(E.Clase.unique())"
      ]
    },
    {
      "cell_type": "code",
      "execution_count": 96,
      "metadata": {
        "id": "9t8q8CUu1Kjy"
      },
      "outputs": [],
      "source": [
        "#El próposito de este for es formar carpetas de cada una de las clasificaciones en la carpeta llamada train_\n",
        "#Cada carpeta consta de 50 imágenes con la finalidad de reducir el tiempo de aprendizaje de la red convolucional\n",
        "for i in clases:\n",
        "    contador = 0  # Contador de imágenes en la carpeta actual\n",
        "    for c in list(df[df['Clase'] == i]['Nombre']):\n",
        "        if contador >= 50:\n",
        "            break  # Se alcanzó el límite de imágenes por carpeta\n",
        "        imagen= os.path.join('/content/drive/MyDrive/Base de datos/train_images', c)\n",
        "        if os.path.exists(imagen):\n",
        "            mt= os.path.join(mini_train , 'train_' + i)\n",
        "            if not os.path.exists(mt):\n",
        "                os.makedirs(mt)\n",
        "            m= shutil.copy(imagen,mt)\n",
        "            contador+= 1\n",
        "\n"
      ]
    },
    {
      "cell_type": "code",
      "source": [
        "l=list(os.listdir('/content/train_'))\n"
      ],
      "metadata": {
        "id": "WizohjIqrdBM"
      },
      "execution_count": 97,
      "outputs": []
    },
    {
      "cell_type": "code",
      "execution_count": 98,
      "metadata": {
        "id": "ApCGw3SZNTa_"
      },
      "outputs": [],
      "source": [
        "#Realizamos el mismo procedimiento para crear la carpeta con subcarpetas de las categorías del problema\n",
        "#Esta vez para el conjunto de prueba \n",
        "\n",
        "# Ruta de la carpeta de destino para las subcarpetas\n",
        "mini_test = '/content/test_'\n",
        "\n",
        "# Crear la carpeta de destino si no existe\n",
        "if not os.path.exists(mini_test):\n",
        "    os.makedirs(mini_test )"
      ]
    },
    {
      "cell_type": "code",
      "execution_count": 99,
      "metadata": {
        "id": "WBjX5MMxNs2U"
      },
      "outputs": [],
      "source": [
        "#Formamos una lista ordenada de las categorias de que tenemos en nuestro csv\n",
        "#E= df2.sort_values('Clase')\n",
        "#clases= list(E.Clase.unique())"
      ]
    },
    {
      "cell_type": "code",
      "execution_count": 100,
      "metadata": {
        "id": "cfkR9xU9N2WR"
      },
      "outputs": [],
      "source": [
        "#El próposito de este for es formar carpetas de cada una de las clasificaciones en la carpeta llamada test_\n",
        "#Cada carpeta consta de 5 imágenes,estamos considerado el 10% de las imagenes de entrenamiento.\n",
        "for i in clases:\n",
        "    contador = 0  # Contador de imágenes en la carpeta actual\n",
        "    for c in list(df[df['Clase'] == i]['Nombre']):\n",
        "        if contador >= 5:\n",
        "            break  # Se alcanzó el límite de imágenes por carpeta\n",
        "        imagen= os.path.join('/content/drive/MyDrive/Base de datos/train_images', c)\n",
        "        if os.path.exists(imagen):\n",
        "            mt= os.path.join(mini_test , 'test_' + i)\n",
        "            if not os.path.exists(mt):\n",
        "                os.makedirs(mt)\n",
        "            m= shutil.copy(imagen,mt)\n",
        "            contador+= 1\n"
      ]
    },
    {
      "cell_type": "code",
      "execution_count": 105,
      "metadata": {
        "id": "MyNUZB8fRO07"
      },
      "outputs": [],
      "source": [
        "ih,iw=150,150 #Tamaño de la imagen\n",
        "input_shape=(ih,iw,3) #forma de la imagen : Largo, Ancho y colores\n",
        "train_dir= '/content/train_' #directorio de entrenamiento\n",
        "test_dir='/content/test_' #directorio de prueba \n",
        "num_class=12 #Número de clases\n",
        "epochs=30 #Epocas\n",
        "batch_size=5  #batch para hacer cada entrenamiento. Lee 5 'batch_size' imagenes antes de actualizar\n",
        "num_train= 600 #Número de imágenes en train \n",
        "num_test=60 #Número de imágenes en test\n",
        "epoch_steps= num_train//batch_size \n",
        "test_steps=num_test // batch_size"
      ]
    },
    {
      "cell_type": "code",
      "execution_count": 102,
      "metadata": {
        "colab": {
          "base_uri": "https://localhost:8080/"
        },
        "id": "sQg7DCQVnitK",
        "outputId": "8b0554ed-74b7-4b21-ca85-1ce9d36043b0"
      },
      "outputs": [
        {
          "output_type": "stream",
          "name": "stdout",
          "text": [
            "Found 600 images belonging to 12 classes.\n",
            "Found 60 images belonging to 12 classes.\n"
          ]
        }
      ],
      "source": [
        "gentrain = ImageDataGenerator(rescale=1. / 255.) #indica que reescale cada canal con valor entre 0 y 1.\n",
        "\n",
        "\n",
        "train = gentrain.flow_from_directory(train_dir,\n",
        "                batch_size=batch_size,\n",
        "                target_size=(iw, ih),\n",
        "                class_mode='categorical')\n",
        "\n",
        "gentest = ImageDataGenerator(rescale=1. / 255)\n",
        "\n",
        "test = gentest.flow_from_directory(test_dir,\n",
        "                batch_size=batch_size,\n",
        "                target_size=(iw, ih),\n",
        "                class_mode='categorical')"
      ]
    },
    {
      "cell_type": "code",
      "execution_count": 103,
      "metadata": {
        "id": "-hmEwCGb2knw"
      },
      "outputs": [],
      "source": [
        "#shutil.rmtree('/content/train_') #Para eliminar una carpeta\n"
      ]
    },
    {
      "cell_type": "code",
      "source": [
        "#shutil.rmtree('/content/test_') #Para eliminar una carpeta"
      ],
      "metadata": {
        "id": "6ExgRldlsgBq"
      },
      "execution_count": 104,
      "outputs": []
    }
  ],
  "metadata": {
    "colab": {
      "provenance": [],
      "authorship_tag": "ABX9TyO30/BykzpXeFPAmmh9z+W+",
      "include_colab_link": true
    },
    "kernelspec": {
      "display_name": "Python 3",
      "name": "python3"
    },
    "language_info": {
      "name": "python"
    }
  },
  "nbformat": 4,
  "nbformat_minor": 0
}