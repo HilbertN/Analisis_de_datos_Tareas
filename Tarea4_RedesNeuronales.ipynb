{
  "cells": [
    {
      "cell_type": "markdown",
      "metadata": {
        "id": "view-in-github",
        "colab_type": "text"
      },
      "source": [
        "<a href=\"https://colab.research.google.com/github/HilbertN/Analisis_de_datos_Tareas/blob/main/Tarea4_RedesNeuronales.ipynb\" target=\"_parent\"><img src=\"https://colab.research.google.com/assets/colab-badge.svg\" alt=\"Open In Colab\"/></a>"
      ]
    },
    {
      "cell_type": "code",
      "execution_count": 45,
      "metadata": {
        "id": "mwHkNutiQktm"
      },
      "outputs": [],
      "source": [
        "import tensorflow as tf\n",
        "from tensorflow import keras\n",
        "from tensorflow.keras import layers,models\n",
        "from tensorflow.keras.datasets import mnist\n",
        "from tensorflow.keras.models import Sequential\n",
        "from tensorflow.keras.layers import Dense, Dropout,Activation,MaxPooling2D,Flatten,Conv2D\n",
        "from tensorflow.keras.optimizers import RMSprop, SGD, Adam\n",
        "from tensorflow.keras.losses import CategoricalCrossentropy,MeanSquaredError\n",
        "from keras.preprocessing.image import ImageDataGenerator\n",
        "from keras.preprocessing import  image\n",
        "import pandas as pd \n",
        "import numpy as np\n",
        "import shutil \n",
        "import os\n",
        "import matplotlib.pyplot as plt"
      ]
    },
    {
      "cell_type": "code",
      "source": [
        "# Weights & Biases  (optional)\n",
        "!pip install -q wandb"
      ],
      "metadata": {
        "colab": {
          "base_uri": "https://localhost:8080/"
        },
        "id": "7zKE2skuVyza",
        "outputId": "87f1c78e-50dd-477a-9bd8-6c3b243fe158"
      },
      "execution_count": 9,
      "outputs": [
        {
          "output_type": "stream",
          "name": "stdout",
          "text": [
            "\u001b[2K     \u001b[90m━━━━━━━━━━━━━━━━━━━━━━━━━━━━━━━━━━━━━━━━\u001b[0m \u001b[32m2.0/2.0 MB\u001b[0m \u001b[31m22.4 MB/s\u001b[0m eta \u001b[36m0:00:00\u001b[0m\n",
            "\u001b[2K     \u001b[90m━━━━━━━━━━━━━━━━━━━━━━━━━━━━━━━━━━━━━━\u001b[0m \u001b[32m184.3/184.3 kB\u001b[0m \u001b[31m19.1 MB/s\u001b[0m eta \u001b[36m0:00:00\u001b[0m\n",
            "\u001b[2K     \u001b[90m━━━━━━━━━━━━━━━━━━━━━━━━━━━━━━━━━━━━━━\u001b[0m \u001b[32m206.5/206.5 kB\u001b[0m \u001b[31m19.2 MB/s\u001b[0m eta \u001b[36m0:00:00\u001b[0m\n",
            "\u001b[?25h  Preparing metadata (setup.py) ... \u001b[?25l\u001b[?25hdone\n",
            "\u001b[2K     \u001b[90m━━━━━━━━━━━━━━━━━━━━━━━━━━━━━━━━━━━━━━━━\u001b[0m \u001b[32m62.7/62.7 kB\u001b[0m \u001b[31m4.9 MB/s\u001b[0m eta \u001b[36m0:00:00\u001b[0m\n",
            "\u001b[?25h  Building wheel for pathtools (setup.py) ... \u001b[?25l\u001b[?25hdone\n"
          ]
        }
      ]
    },
    {
      "cell_type": "code",
      "source": [
        "!wandb login"
      ],
      "metadata": {
        "colab": {
          "base_uri": "https://localhost:8080/"
        },
        "id": "DuDK614nV5MK",
        "outputId": "d3fcc0b2-b764-4250-9368-0cadd5ab396f"
      },
      "execution_count": 10,
      "outputs": [
        {
          "output_type": "stream",
          "name": "stdout",
          "text": [
            "\u001b[34m\u001b[1mwandb\u001b[0m: Logging into wandb.ai. (Learn how to deploy a W&B server locally: https://wandb.me/wandb-server)\n",
            "\u001b[34m\u001b[1mwandb\u001b[0m: You can find your API key in your browser here: https://wandb.ai/authorize\n",
            "\u001b[34m\u001b[1mwandb\u001b[0m: Paste an API key from your profile and hit enter, or press ctrl+c to quit: \n",
            "\u001b[34m\u001b[1mwandb\u001b[0m: Appending key for api.wandb.ai to your netrc file: /root/.netrc\n"
          ]
        }
      ]
    },
    {
      "cell_type": "code",
      "source": [
        "#Ejercicio 1: Entrena una red neuronal para que reproduzca la siguientes funciones en el  intervalo  de  [-1,1].  \n",
        "# Graficar  la  solución  de  la  red  en  conjunto  con  la gráfica de la función.(a)  3 sin(πx)(b)  1 + 2x+ 4x3\n",
        "\n",
        "#Ejercicio 1(a): \n",
        "#Vamos a proponer los siguientes arreglos como conjuntos de entranmiento y de prueba \n",
        "\n",
        "x_train = np.linspace(-1, 1, 1000).reshape(-1, 1)\n",
        "y_train = 3 * np.sin(np.pi * x_train)\n",
        "\n",
        "#Eliminamos elementos repetidos entre el conjunto de entrenamiento y de prueba\n",
        "v=np.linspace(-1, 1, 100)\n",
        "cond=np.isin(np.linspace(-1, 1, 100),np.linspace(-1, 1, 1000))\n",
        "v=v[np.where(~cond)]\n",
        "\n",
        "x_test = v.reshape(-1, 1)\n",
        "y_test= 3 * np.sin(np.pi * x_test)\n"
      ],
      "metadata": {
        "id": "YnH0MfFrzWLG"
      },
      "execution_count": 11,
      "outputs": []
    },
    {
      "cell_type": "code",
      "source": [
        "#No hay elementos repetidos entre el conjunto de prueba y entrenamiento\n",
        "h1=set(np.linspace(-1, 1, 1000))\n",
        "h3=set(v)\n",
        "Repetidos=list(h3.intersection(h1))\n",
        "Repetidos"
      ],
      "metadata": {
        "colab": {
          "base_uri": "https://localhost:8080/"
        },
        "id": "AB_VsCGZE4aU",
        "outputId": "40321ef8-9050-4ef8-a1a8-619ffda6ae97"
      },
      "execution_count": 12,
      "outputs": [
        {
          "output_type": "execute_result",
          "data": {
            "text/plain": [
              "[]"
            ]
          },
          "metadata": {},
          "execution_count": 12
        }
      ]
    },
    {
      "cell_type": "code",
      "source": [
        "model = Sequential()\n",
        "model.add(Dense(300, activation='relu', input_shape=(1,)))\n",
        "model.add(Dropout(0.2))\n",
        "model.add(Dense(300, activation='relu'))\n",
        "model.add(Dense(1))\n",
        "\n",
        "\n"
      ],
      "metadata": {
        "id": "KYrfAK504xJ-"
      },
      "execution_count": 13,
      "outputs": []
    },
    {
      "cell_type": "code",
      "source": [
        "batch_size=30 \n",
        "epochs=40 \n",
        "learning_rate=0.03\n",
        "Optimizador=SGD"
      ],
      "metadata": {
        "id": "bEIKgwBbQ_Rm"
      },
      "execution_count": 14,
      "outputs": []
    },
    {
      "cell_type": "code",
      "source": [
        "model.compile(loss='mean_squared_error', optimizer=Optimizador(learning_rate=learning_rate), metrics=['mse'])\n",
        "history = model.fit(x_train, y_train, batch_size=batch_size, epochs=epochs, verbose=1, validation_data=(x_test, y_test))"
      ],
      "metadata": {
        "colab": {
          "base_uri": "https://localhost:8080/"
        },
        "id": "RkEMuSd6B4Ij",
        "outputId": "44a5fce9-0112-4f37-95ca-ad49aed21f85"
      },
      "execution_count": 15,
      "outputs": [
        {
          "output_type": "stream",
          "name": "stdout",
          "text": [
            "Epoch 1/40\n",
            "34/34 [==============================] - 1s 14ms/step - loss: 2.0554 - mse: 2.0554 - val_loss: 1.0227 - val_mse: 1.0227\n",
            "Epoch 2/40\n",
            "34/34 [==============================] - 0s 6ms/step - loss: 1.0814 - mse: 1.0814 - val_loss: 0.9364 - val_mse: 0.9364\n",
            "Epoch 3/40\n",
            "34/34 [==============================] - 0s 6ms/step - loss: 0.9808 - mse: 0.9808 - val_loss: 0.8440 - val_mse: 0.8440\n",
            "Epoch 4/40\n",
            "34/34 [==============================] - 0s 5ms/step - loss: 0.8870 - mse: 0.8870 - val_loss: 0.7418 - val_mse: 0.7418\n",
            "Epoch 5/40\n",
            "34/34 [==============================] - 0s 6ms/step - loss: 0.7670 - mse: 0.7670 - val_loss: 0.5999 - val_mse: 0.5999\n",
            "Epoch 6/40\n",
            "34/34 [==============================] - 0s 5ms/step - loss: 0.6023 - mse: 0.6023 - val_loss: 0.4633 - val_mse: 0.4633\n",
            "Epoch 7/40\n",
            "34/34 [==============================] - 0s 9ms/step - loss: 0.4844 - mse: 0.4844 - val_loss: 0.3472 - val_mse: 0.3472\n",
            "Epoch 8/40\n",
            "34/34 [==============================] - 0s 8ms/step - loss: 0.3481 - mse: 0.3481 - val_loss: 0.2234 - val_mse: 0.2234\n",
            "Epoch 9/40\n",
            "34/34 [==============================] - 0s 9ms/step - loss: 0.2466 - mse: 0.2466 - val_loss: 0.1852 - val_mse: 0.1852\n",
            "Epoch 10/40\n",
            "34/34 [==============================] - 0s 8ms/step - loss: 0.1782 - mse: 0.1782 - val_loss: 0.1167 - val_mse: 0.1167\n",
            "Epoch 11/40\n",
            "34/34 [==============================] - 0s 9ms/step - loss: 0.1259 - mse: 0.1259 - val_loss: 0.1198 - val_mse: 0.1198\n",
            "Epoch 12/40\n",
            "34/34 [==============================] - 0s 9ms/step - loss: 0.1026 - mse: 0.1026 - val_loss: 0.0639 - val_mse: 0.0639\n",
            "Epoch 13/40\n",
            "34/34 [==============================] - 0s 10ms/step - loss: 0.0737 - mse: 0.0737 - val_loss: 0.1057 - val_mse: 0.1057\n",
            "Epoch 14/40\n",
            "34/34 [==============================] - 0s 7ms/step - loss: 0.0576 - mse: 0.0576 - val_loss: 0.0359 - val_mse: 0.0359\n",
            "Epoch 15/40\n",
            "34/34 [==============================] - 0s 8ms/step - loss: 0.0499 - mse: 0.0499 - val_loss: 0.0267 - val_mse: 0.0267\n",
            "Epoch 16/40\n",
            "34/34 [==============================] - 0s 11ms/step - loss: 0.0506 - mse: 0.0506 - val_loss: 0.0365 - val_mse: 0.0365\n",
            "Epoch 17/40\n",
            "34/34 [==============================] - 0s 9ms/step - loss: 0.0395 - mse: 0.0395 - val_loss: 0.0177 - val_mse: 0.0177\n",
            "Epoch 18/40\n",
            "34/34 [==============================] - 0s 9ms/step - loss: 0.0392 - mse: 0.0392 - val_loss: 0.0241 - val_mse: 0.0241\n",
            "Epoch 19/40\n",
            "34/34 [==============================] - 0s 8ms/step - loss: 0.0356 - mse: 0.0356 - val_loss: 0.0235 - val_mse: 0.0235\n",
            "Epoch 20/40\n",
            "34/34 [==============================] - 0s 7ms/step - loss: 0.0323 - mse: 0.0323 - val_loss: 0.0229 - val_mse: 0.0229\n",
            "Epoch 21/40\n",
            "34/34 [==============================] - 0s 9ms/step - loss: 0.0314 - mse: 0.0314 - val_loss: 0.0157 - val_mse: 0.0157\n",
            "Epoch 22/40\n",
            "34/34 [==============================] - 0s 9ms/step - loss: 0.0275 - mse: 0.0275 - val_loss: 0.0101 - val_mse: 0.0101\n",
            "Epoch 23/40\n",
            "34/34 [==============================] - 0s 8ms/step - loss: 0.0282 - mse: 0.0282 - val_loss: 0.0067 - val_mse: 0.0067\n",
            "Epoch 24/40\n",
            "34/34 [==============================] - 0s 9ms/step - loss: 0.0259 - mse: 0.0259 - val_loss: 0.0105 - val_mse: 0.0105\n",
            "Epoch 25/40\n",
            "34/34 [==============================] - 0s 10ms/step - loss: 0.0245 - mse: 0.0245 - val_loss: 0.0066 - val_mse: 0.0066\n",
            "Epoch 26/40\n",
            "34/34 [==============================] - 0s 9ms/step - loss: 0.0270 - mse: 0.0270 - val_loss: 0.0129 - val_mse: 0.0129\n",
            "Epoch 27/40\n",
            "34/34 [==============================] - 0s 9ms/step - loss: 0.0244 - mse: 0.0244 - val_loss: 0.0106 - val_mse: 0.0106\n",
            "Epoch 28/40\n",
            "34/34 [==============================] - 0s 12ms/step - loss: 0.0233 - mse: 0.0233 - val_loss: 0.0173 - val_mse: 0.0173\n",
            "Epoch 29/40\n",
            "34/34 [==============================] - 0s 8ms/step - loss: 0.0208 - mse: 0.0208 - val_loss: 0.0090 - val_mse: 0.0090\n",
            "Epoch 30/40\n",
            "34/34 [==============================] - 0s 7ms/step - loss: 0.0208 - mse: 0.0208 - val_loss: 0.0156 - val_mse: 0.0156\n",
            "Epoch 31/40\n",
            "34/34 [==============================] - 0s 14ms/step - loss: 0.0185 - mse: 0.0185 - val_loss: 0.0062 - val_mse: 0.0062\n",
            "Epoch 32/40\n",
            "34/34 [==============================] - 1s 15ms/step - loss: 0.0234 - mse: 0.0234 - val_loss: 0.0044 - val_mse: 0.0044\n",
            "Epoch 33/40\n",
            "34/34 [==============================] - 1s 19ms/step - loss: 0.0218 - mse: 0.0218 - val_loss: 0.0051 - val_mse: 0.0051\n",
            "Epoch 34/40\n",
            "34/34 [==============================] - 1s 16ms/step - loss: 0.0225 - mse: 0.0225 - val_loss: 0.0429 - val_mse: 0.0429\n",
            "Epoch 35/40\n",
            "34/34 [==============================] - 1s 17ms/step - loss: 0.0200 - mse: 0.0200 - val_loss: 0.0061 - val_mse: 0.0061\n",
            "Epoch 36/40\n",
            "34/34 [==============================] - 0s 13ms/step - loss: 0.0185 - mse: 0.0185 - val_loss: 0.0080 - val_mse: 0.0080\n",
            "Epoch 37/40\n",
            "34/34 [==============================] - 0s 14ms/step - loss: 0.0185 - mse: 0.0185 - val_loss: 0.0034 - val_mse: 0.0034\n",
            "Epoch 38/40\n",
            "34/34 [==============================] - 1s 19ms/step - loss: 0.0202 - mse: 0.0202 - val_loss: 0.0073 - val_mse: 0.0073\n",
            "Epoch 39/40\n",
            "34/34 [==============================] - 1s 14ms/step - loss: 0.0184 - mse: 0.0184 - val_loss: 0.0050 - val_mse: 0.0050\n",
            "Epoch 40/40\n",
            "34/34 [==============================] - 1s 15ms/step - loss: 0.0191 - mse: 0.0191 - val_loss: 0.0080 - val_mse: 0.0080\n"
          ]
        }
      ]
    },
    {
      "cell_type": "code",
      "source": [
        "x_pred = np.linspace(-1, 1, 100).reshape(-1, 1)\n",
        "y_pred = model.predict(x_pred)\n",
        "\n",
        "\n",
        "plt.figure(figsize=(8, 6))\n",
        "plt.plot(x_test, y_test, color='blue', label='Función (Datos de entranamiento)')\n",
        "plt.plot(x_pred, y_pred, color='red', label='Predicción de Red Neuronal')\n",
        "plt.xlabel('x')\n",
        "plt.ylabel('y')\n",
        "plt.legend()\n",
        "plt.show()"
      ],
      "metadata": {
        "colab": {
          "base_uri": "https://localhost:8080/",
          "height": 560
        },
        "id": "IdZ9-LlSLXx8",
        "outputId": "3ece0ffb-ff86-4470-aa6c-487cb07a45c4"
      },
      "execution_count": 16,
      "outputs": [
        {
          "output_type": "stream",
          "name": "stdout",
          "text": [
            "4/4 [==============================] - 0s 4ms/step\n"
          ]
        },
        {
          "output_type": "display_data",
          "data": {
            "text/plain": [
              "<Figure size 800x600 with 1 Axes>"
            ],
            "image/png": "[encoded data removed]"
          },
          "metadata": {}
        }
      ]
    },
    {
      "cell_type": "code",
      "source": [
        "loss = history.history['loss']\n",
        "val_loss = history.history['val_loss']\n",
        "plt.plot(loss, label='loss')\n",
        "plt.plot(val_loss, label='val_loss')\n",
        "plt.xlabel('Epoch')\n",
        "plt.ylabel('Loss')\n",
        "plt.legend()\n",
        "plt.show()"
      ],
      "metadata": {
        "id": "uWGnWHkJUmE_",
        "outputId": "0dfba9b6-6294-48de-ab00-e39b2694f5de",
        "colab": {
          "base_uri": "https://localhost:8080/",
          "height": 449
        }
      },
      "execution_count": 17,
      "outputs": [
        {
          "output_type": "display_data",
          "data": {
            "text/plain": [
              "<Figure size 640x480 with 1 Axes>"
            ],
            "image/png": "[encoded data removed]"
          },
          "metadata": {}
        }
      ]
    },
    {
      "cell_type": "code",
      "source": [
        "#Ejercicio 1(b): \n",
        "#Vamos a proponer los siguientes arreglos como conjuntos de entranmiento y de prueba \n",
        "\n",
        "x_train = np.linspace(-1, 1, 1000).reshape(-1, 1)\n",
        "y_train = 1+2*x_train+4*np.power(x_train,3.)\n",
        "\n",
        "#Eliminamos elementos repetidos entre el conjunto de entrenamiento y de prueba\n",
        "v=np.linspace(-1, 1, 100)\n",
        "cond=np.isin(np.linspace(-1, 1, 100),np.linspace(-1, 1, 1000))\n",
        "v=v[np.where(~cond)]\n",
        "\n",
        "x_test = v.reshape(-1, 1)\n",
        "y_test = 1+2*x_test+4*np.power(x_test,3.)\n"
      ],
      "metadata": {
        "id": "XqJS8s22Nd2s"
      },
      "execution_count": 18,
      "outputs": []
    },
    {
      "cell_type": "code",
      "source": [
        "model = Sequential()\n",
        "model.add(Dense(300, activation='relu', input_shape=(1,)))\n",
        "model.add(Dropout(0.2))\n",
        "model.add(Dense(300, activation='relu'))\n",
        "model.add(Dense(1))\n",
        "\n"
      ],
      "metadata": {
        "id": "u7v0nOMYOTCl"
      },
      "execution_count": 19,
      "outputs": []
    },
    {
      "cell_type": "code",
      "source": [
        "batch_size=20 \n",
        "epochs=30\n",
        "learning_rate=0.01\n",
        "Optimizador=SGD\n",
        "import wandb\n",
        "from wandb.keras import WandbCallback\n",
        "wandb.init(project=\"Red_Neuronal_Ejercicio1b\")\n",
        "wandb.config.learning_rate = learning_rate\n",
        "wandb.config.epochs = epochs\n",
        "wandb.config.batch_size = batch_size\n",
        "wandb.config.optimizador=Optimizador"
      ],
      "metadata": {
        "id": "wz9JQrGsSDmw",
        "colab": {
          "base_uri": "https://localhost:8080/",
          "height": 123
        },
        "outputId": "db64c939-559d-4910-81ed-fb797f51cf89"
      },
      "execution_count": 20,
      "outputs": [
        {
          "output_type": "stream",
          "name": "stderr",
          "text": [
            "\u001b[34m\u001b[1mwandb\u001b[0m: Currently logged in as: \u001b[33mhilbert\u001b[0m (\u001b[33mhilbertn\u001b[0m). Use \u001b[1m`wandb login --relogin`\u001b[0m to force relogin\n"
          ]
        },
        {
          "output_type": "display_data",
          "data": {
            "text/plain": [
              "<IPython.core.display.HTML object>"
            ],
            "text/html": [
              "Tracking run with wandb version 0.15.3"
            ]
          },
          "metadata": {}
        },
        {
          "output_type": "display_data",
          "data": {
            "text/plain": [
              "<IPython.core.display.HTML object>"
            ],
            "text/html": [
              "Run data is saved locally in <code>/content/wandb/run-20230528_010638-br2r33sp</code>"
            ]
          },
          "metadata": {}
        },
        {
          "output_type": "display_data",
          "data": {
            "text/plain": [
              "<IPython.core.display.HTML object>"
            ],
            "text/html": [
              "Syncing run <strong><a href='https://wandb.ai/hilbertn/Red_Neuronal_Ejercicio1b/runs/br2r33sp' target=\"_blank\">gallant-glitter-14</a></strong> to <a href='https://wandb.ai/hilbertn/Red_Neuronal_Ejercicio1b' target=\"_blank\">Weights & Biases</a> (<a href='https://wandb.me/run' target=\"_blank\">docs</a>)<br/>"
            ]
          },
          "metadata": {}
        },
        {
          "output_type": "display_data",
          "data": {
            "text/plain": [
              "<IPython.core.display.HTML object>"
            ],
            "text/html": [
              " View project at <a href='https://wandb.ai/hilbertn/Red_Neuronal_Ejercicio1b' target=\"_blank\">https://wandb.ai/hilbertn/Red_Neuronal_Ejercicio1b</a>"
            ]
          },
          "metadata": {}
        },
        {
          "output_type": "display_data",
          "data": {
            "text/plain": [
              "<IPython.core.display.HTML object>"
            ],
            "text/html": [
              " View run at <a href='https://wandb.ai/hilbertn/Red_Neuronal_Ejercicio1b/runs/br2r33sp' target=\"_blank\">https://wandb.ai/hilbertn/Red_Neuronal_Ejercicio1b/runs/br2r33sp</a>"
            ]
          },
          "metadata": {}
        }
      ]
    },
    {
      "cell_type": "code",
      "source": [
        "model.compile(loss='mean_squared_error', optimizer=SGD(learning_rate=learning_rate), metrics=['mse'])\n",
        "history = model.fit(x_train, y_train, batch_size=batch_size, epochs=epochs, verbose=1, validation_data=(x_test, y_test),callbacks=[WandbCallback()])"
      ],
      "metadata": {
        "colab": {
          "base_uri": "https://localhost:8080/"
        },
        "id": "QoPKQzZWOgkm",
        "outputId": "e8874d48-a24b-40d9-ecb2-e91c932a459c"
      },
      "execution_count": 21,
      "outputs": [
        {
          "output_type": "stream",
          "name": "stderr",
          "text": [
            "\u001b[34m\u001b[1mwandb\u001b[0m: \u001b[33mWARNING\u001b[0m The save_model argument by default saves the model in the HDF5 format that cannot save custom objects like subclassed models and custom layers. This behavior will be deprecated in a future release in favor of the SavedModel format. Meanwhile, the HDF5 model is saved as W&B files and the SavedModel as W&B Artifacts.\n"
          ]
        },
        {
          "output_type": "stream",
          "name": "stdout",
          "text": [
            "Epoch 1/30\n",
            "48/50 [===========================>..] - ETA: 0s - loss: 4.2933 - mse: 4.2933"
          ]
        },
        {
          "output_type": "stream",
          "name": "stderr",
          "text": [
            "WARNING:absl:Found untraced functions such as _update_step_xla while saving (showing 1 of 1). These functions will not be directly callable after loading.\n",
            "\u001b[34m\u001b[1mwandb\u001b[0m: Adding directory to artifact (/content/wandb/run-20230528_010638-br2r33sp/files/model-best)... Done. 0.0s\n"
          ]
        },
        {
          "output_type": "stream",
          "name": "stdout",
          "text": [
            "\b\b\b\b\b\b\b\b\b\b\b\b\b\b\b\b\b\b\b\b\b\b\b\b\b\b\b\b\b\b\b\b\b\b\b\b\b\b\b\b\b\b\b\b\b\b\b\b\b\b\b\b\b\b\b\b\b\b\b\b\b\b\b\b\b\b\b\b\b\b\b\b\b\b\b\b\b\r50/50 [==============================] - 6s 79ms/step - loss: 4.1700 - mse: 4.1700 - val_loss: 1.0713 - val_mse: 1.0713\n",
            "Epoch 2/30\n",
            "44/50 [=========================>....] - ETA: 0s - loss: 0.8876 - mse: 0.8876"
          ]
        },
        {
          "output_type": "stream",
          "name": "stderr",
          "text": [
            "WARNING:absl:Found untraced functions such as _update_step_xla while saving (showing 1 of 1). These functions will not be directly callable after loading.\n",
            "\u001b[34m\u001b[1mwandb\u001b[0m: Adding directory to artifact (/content/wandb/run-20230528_010638-br2r33sp/files/model-best)... Done. 0.0s\n"
          ]
        },
        {
          "output_type": "stream",
          "name": "stdout",
          "text": [
            "\b\b\b\b\b\b\b\b\b\b\b\b\b\b\b\b\b\b\b\b\b\b\b\b\b\b\b\b\b\b\b\b\b\b\b\b\b\b\b\b\b\b\b\b\b\b\b\b\b\b\b\b\b\b\b\b\b\b\b\b\b\b\b\b\b\b\b\b\b\b\b\b\b\b\b\b\b\r50/50 [==============================] - 1s 25ms/step - loss: 0.8512 - mse: 0.8512 - val_loss: 0.5480 - val_mse: 0.5480\n",
            "Epoch 3/30\n",
            "48/50 [===========================>..] - ETA: 0s - loss: 0.5972 - mse: 0.5972"
          ]
        },
        {
          "output_type": "stream",
          "name": "stderr",
          "text": [
            "WARNING:absl:Found untraced functions such as _update_step_xla while saving (showing 1 of 1). These functions will not be directly callable after loading.\n",
            "\u001b[34m\u001b[1mwandb\u001b[0m: Adding directory to artifact (/content/wandb/run-20230528_010638-br2r33sp/files/model-best)... Done. 0.0s\n"
          ]
        },
        {
          "output_type": "stream",
          "name": "stdout",
          "text": [
            "\b\b\b\b\b\b\b\b\b\b\b\b\b\b\b\b\b\b\b\b\b\b\b\b\b\b\b\b\b\b\b\b\b\b\b\b\b\b\b\b\b\b\b\b\b\b\b\b\b\b\b\b\b\b\b\b\b\b\b\b\b\b\b\b\b\b\b\b\b\b\b\b\b\b\b\b\b\r50/50 [==============================] - 1s 23ms/step - loss: 0.5910 - mse: 0.5910 - val_loss: 0.3975 - val_mse: 0.3975\n",
            "Epoch 4/30\n",
            "45/50 [==========================>...] - ETA: 0s - loss: 0.4839 - mse: 0.4839"
          ]
        },
        {
          "output_type": "stream",
          "name": "stderr",
          "text": [
            "WARNING:absl:Found untraced functions such as _update_step_xla while saving (showing 1 of 1). These functions will not be directly callable after loading.\n",
            "\u001b[34m\u001b[1mwandb\u001b[0m: Adding directory to artifact (/content/wandb/run-20230528_010638-br2r33sp/files/model-best)... Done. 0.0s\n"
          ]
        },
        {
          "output_type": "stream",
          "name": "stdout",
          "text": [
            "\b\b\b\b\b\b\b\b\b\b\b\b\b\b\b\b\b\b\b\b\b\b\b\b\b\b\b\b\b\b\b\b\b\b\b\b\b\b\b\b\b\b\b\b\b\b\b\b\b\b\b\b\b\b\b\b\b\b\b\b\b\b\b\b\b\b\b\b\b\b\b\b\b\b\b\b\b\r50/50 [==============================] - 1s 23ms/step - loss: 0.4803 - mse: 0.4803 - val_loss: 0.3237 - val_mse: 0.3237\n",
            "Epoch 5/30\n",
            "39/50 [======================>.......] - ETA: 0s - loss: 0.4325 - mse: 0.4325"
          ]
        },
        {
          "output_type": "stream",
          "name": "stderr",
          "text": [
            "WARNING:absl:Found untraced functions such as _update_step_xla while saving (showing 1 of 1). These functions will not be directly callable after loading.\n",
            "\u001b[34m\u001b[1mwandb\u001b[0m: Adding directory to artifact (/content/wandb/run-20230528_010638-br2r33sp/files/model-best)... Done. 0.0s\n"
          ]
        },
        {
          "output_type": "stream",
          "name": "stdout",
          "text": [
            "\b\b\b\b\b\b\b\b\b\b\b\b\b\b\b\b\b\b\b\b\b\b\b\b\b\b\b\b\b\b\b\b\b\b\b\b\b\b\b\b\b\b\b\b\b\b\b\b\b\b\b\b\b\b\b\b\b\b\b\b\b\b\b\b\b\b\b\b\b\b\b\b\b\b\b\b\b\r50/50 [==============================] - 1s 24ms/step - loss: 0.4267 - mse: 0.4267 - val_loss: 0.2682 - val_mse: 0.2682\n",
            "Epoch 6/30\n",
            "41/50 [=======================>......] - ETA: 0s - loss: 0.3492 - mse: 0.3492"
          ]
        },
        {
          "output_type": "stream",
          "name": "stderr",
          "text": [
            "WARNING:absl:Found untraced functions such as _update_step_xla while saving (showing 1 of 1). These functions will not be directly callable after loading.\n",
            "\u001b[34m\u001b[1mwandb\u001b[0m: Adding directory to artifact (/content/wandb/run-20230528_010638-br2r33sp/files/model-best)... Done. 0.0s\n"
          ]
        },
        {
          "output_type": "stream",
          "name": "stdout",
          "text": [
            "\b\b\b\b\b\b\b\b\b\b\b\b\b\b\b\b\b\b\b\b\b\b\b\b\b\b\b\b\b\b\b\b\b\b\b\b\b\b\b\b\b\b\b\b\b\b\b\b\b\b\b\b\b\b\b\b\b\b\b\b\b\b\b\b\b\b\b\b\b\b\b\b\b\b\b\b\b\r50/50 [==============================] - 1s 24ms/step - loss: 0.3393 - mse: 0.3393 - val_loss: 0.2280 - val_mse: 0.2280\n",
            "Epoch 7/30\n",
            "35/50 [====================>.........] - ETA: 0s - loss: 0.3409 - mse: 0.3409"
          ]
        },
        {
          "output_type": "stream",
          "name": "stderr",
          "text": [
            "WARNING:absl:Found untraced functions such as _update_step_xla while saving (showing 1 of 1). These functions will not be directly callable after loading.\n",
            "\u001b[34m\u001b[1mwandb\u001b[0m: Adding directory to artifact (/content/wandb/run-20230528_010638-br2r33sp/files/model-best)... Done. 0.0s\n"
          ]
        },
        {
          "output_type": "stream",
          "name": "stdout",
          "text": [
            "\b\b\b\b\b\b\b\b\b\b\b\b\b\b\b\b\b\b\b\b\b\b\b\b\b\b\b\b\b\b\b\b\b\b\b\b\b\b\b\b\b\b\b\b\b\b\b\b\b\b\b\b\b\b\b\b\b\b\b\b\b\b\b\b\b\b\b\b\b\b\b\b\b\b\b\b\b\r50/50 [==============================] - 2s 30ms/step - loss: 0.3245 - mse: 0.3245 - val_loss: 0.1927 - val_mse: 0.1927\n",
            "Epoch 8/30\n",
            "45/50 [==========================>...] - ETA: 0s - loss: 0.2586 - mse: 0.2586"
          ]
        },
        {
          "output_type": "stream",
          "name": "stderr",
          "text": [
            "WARNING:absl:Found untraced functions such as _update_step_xla while saving (showing 1 of 1). These functions will not be directly callable after loading.\n",
            "\u001b[34m\u001b[1mwandb\u001b[0m: Adding directory to artifact (/content/wandb/run-20230528_010638-br2r33sp/files/model-best)... Done. 0.0s\n"
          ]
        },
        {
          "output_type": "stream",
          "name": "stdout",
          "text": [
            "\b\b\b\b\b\b\b\b\b\b\b\b\b\b\b\b\b\b\b\b\b\b\b\b\b\b\b\b\b\b\b\b\b\b\b\b\b\b\b\b\b\b\b\b\b\b\b\b\b\b\b\b\b\b\b\b\b\b\b\b\b\b\b\b\b\b\b\b\b\b\b\b\b\b\b\b\b\r50/50 [==============================] - 1s 24ms/step - loss: 0.2536 - mse: 0.2536 - val_loss: 0.1660 - val_mse: 0.1660\n",
            "Epoch 9/30\n",
            "45/50 [==========================>...] - ETA: 0s - loss: 0.2653 - mse: 0.2653"
          ]
        },
        {
          "output_type": "stream",
          "name": "stderr",
          "text": [
            "WARNING:absl:Found untraced functions such as _update_step_xla while saving (showing 1 of 1). These functions will not be directly callable after loading.\n",
            "\u001b[34m\u001b[1mwandb\u001b[0m: Adding directory to artifact (/content/wandb/run-20230528_010638-br2r33sp/files/model-best)... Done. 0.0s\n"
          ]
        },
        {
          "output_type": "stream",
          "name": "stdout",
          "text": [
            "\b\b\b\b\b\b\b\b\b\b\b\b\b\b\b\b\b\b\b\b\b\b\b\b\b\b\b\b\b\b\b\b\b\b\b\b\b\b\b\b\b\b\b\b\b\b\b\b\b\b\b\b\b\b\b\b\b\b\b\b\b\b\b\b\b\b\b\b\b\b\b\b\b\b\b\b\b\r50/50 [==============================] - 1s 24ms/step - loss: 0.2644 - mse: 0.2644 - val_loss: 0.1469 - val_mse: 0.1469\n",
            "Epoch 10/30\n",
            "46/50 [==========================>...] - ETA: 0s - loss: 0.2133 - mse: 0.2133"
          ]
        },
        {
          "output_type": "stream",
          "name": "stderr",
          "text": [
            "WARNING:absl:Found untraced functions such as _update_step_xla while saving (showing 1 of 1). These functions will not be directly callable after loading.\n",
            "\u001b[34m\u001b[1mwandb\u001b[0m: Adding directory to artifact (/content/wandb/run-20230528_010638-br2r33sp/files/model-best)... Done. 0.0s\n"
          ]
        },
        {
          "output_type": "stream",
          "name": "stdout",
          "text": [
            "\b\b\b\b\b\b\b\b\b\b\b\b\b\b\b\b\b\b\b\b\b\b\b\b\b\b\b\b\b\b\b\b\b\b\b\b\b\b\b\b\b\b\b\b\b\b\b\b\b\b\b\b\b\b\b\b\b\b\b\b\b\b\b\b\b\b\b\b\b\b\b\b\b\b\b\b\b\r50/50 [==============================] - 2s 38ms/step - loss: 0.2222 - mse: 0.2222 - val_loss: 0.1287 - val_mse: 0.1287\n",
            "Epoch 11/30\n",
            "46/50 [==========================>...] - ETA: 0s - loss: 0.2073 - mse: 0.2073"
          ]
        },
        {
          "output_type": "stream",
          "name": "stderr",
          "text": [
            "WARNING:absl:Found untraced functions such as _update_step_xla while saving (showing 1 of 1). These functions will not be directly callable after loading.\n",
            "\u001b[34m\u001b[1mwandb\u001b[0m: Adding directory to artifact (/content/wandb/run-20230528_010638-br2r33sp/files/model-best)... Done. 0.0s\n"
          ]
        },
        {
          "output_type": "stream",
          "name": "stdout",
          "text": [
            "\b\b\b\b\b\b\b\b\b\b\b\b\b\b\b\b\b\b\b\b\b\b\b\b\b\b\b\b\b\b\b\b\b\b\b\b\b\b\b\b\b\b\b\b\b\b\b\b\b\b\b\b\b\b\b\b\b\b\b\b\b\b\b\b\b\b\b\b\b\b\b\b\b\b\b\b\b\r50/50 [==============================] - 2s 37ms/step - loss: 0.2008 - mse: 0.2008 - val_loss: 0.1164 - val_mse: 0.1164\n",
            "Epoch 12/30\n",
            "49/50 [============================>.] - ETA: 0s - loss: 0.1801 - mse: 0.1801"
          ]
        },
        {
          "output_type": "stream",
          "name": "stderr",
          "text": [
            "WARNING:absl:Found untraced functions such as _update_step_xla while saving (showing 1 of 1). These functions will not be directly callable after loading.\n",
            "\u001b[34m\u001b[1mwandb\u001b[0m: Adding directory to artifact (/content/wandb/run-20230528_010638-br2r33sp/files/model-best)... Done. 0.0s\n"
          ]
        },
        {
          "output_type": "stream",
          "name": "stdout",
          "text": [
            "\b\b\b\b\b\b\b\b\b\b\b\b\b\b\b\b\b\b\b\b\b\b\b\b\b\b\b\b\b\b\b\b\b\b\b\b\b\b\b\b\b\b\b\b\b\b\b\b\b\b\b\b\b\b\b\b\b\b\b\b\b\b\b\b\b\b\b\b\b\b\b\b\b\b\b\b\b\r50/50 [==============================] - 1s 23ms/step - loss: 0.1808 - mse: 0.1808 - val_loss: 0.0955 - val_mse: 0.0955\n",
            "Epoch 13/30\n",
            "41/50 [=======================>......] - ETA: 0s - loss: 0.1524 - mse: 0.1524"
          ]
        },
        {
          "output_type": "stream",
          "name": "stderr",
          "text": [
            "WARNING:absl:Found untraced functions such as _update_step_xla while saving (showing 1 of 1). These functions will not be directly callable after loading.\n",
            "\u001b[34m\u001b[1mwandb\u001b[0m: Adding directory to artifact (/content/wandb/run-20230528_010638-br2r33sp/files/model-best)... Done. 0.0s\n"
          ]
        },
        {
          "output_type": "stream",
          "name": "stdout",
          "text": [
            "\b\b\b\b\b\b\b\b\b\b\b\b\b\b\b\b\b\b\b\b\b\b\b\b\b\b\b\b\b\b\b\b\b\b\b\b\b\b\b\b\b\b\b\b\b\b\b\b\b\b\b\b\b\b\b\b\b\b\b\b\b\b\b\b\b\b\b\b\b\b\b\b\b\b\b\b\b\r50/50 [==============================] - 2s 48ms/step - loss: 0.1577 - mse: 0.1577 - val_loss: 0.0818 - val_mse: 0.0818\n",
            "Epoch 14/30\n",
            "50/50 [==============================] - 0s 5ms/step - loss: 0.1575 - mse: 0.1575 - val_loss: 0.0869 - val_mse: 0.0869\n",
            "Epoch 15/30\n",
            "45/50 [==========================>...] - ETA: 0s - loss: 0.1487 - mse: 0.1487"
          ]
        },
        {
          "output_type": "stream",
          "name": "stderr",
          "text": [
            "WARNING:absl:Found untraced functions such as _update_step_xla while saving (showing 1 of 1). These functions will not be directly callable after loading.\n",
            "\u001b[34m\u001b[1mwandb\u001b[0m: Adding directory to artifact (/content/wandb/run-20230528_010638-br2r33sp/files/model-best)... Done. 0.0s\n"
          ]
        },
        {
          "output_type": "stream",
          "name": "stdout",
          "text": [
            "\b\b\b\b\b\b\b\b\b\b\b\b\b\b\b\b\b\b\b\b\b\b\b\b\b\b\b\b\b\b\b\b\b\b\b\b\b\b\b\b\b\b\b\b\b\b\b\b\b\b\b\b\b\b\b\b\b\b\b\b\b\b\b\b\b\b\b\b\b\b\b\b\b\b\b\b\b\r50/50 [==============================] - 1s 25ms/step - loss: 0.1499 - mse: 0.1499 - val_loss: 0.0615 - val_mse: 0.0615\n",
            "Epoch 16/30\n",
            "46/50 [==========================>...] - ETA: 0s - loss: 0.1118 - mse: 0.1118"
          ]
        },
        {
          "output_type": "stream",
          "name": "stderr",
          "text": [
            "WARNING:absl:Found untraced functions such as _update_step_xla while saving (showing 1 of 1). These functions will not be directly callable after loading.\n",
            "\u001b[34m\u001b[1mwandb\u001b[0m: Adding directory to artifact (/content/wandb/run-20230528_010638-br2r33sp/files/model-best)... Done. 0.0s\n"
          ]
        },
        {
          "output_type": "stream",
          "name": "stdout",
          "text": [
            "\b\b\b\b\b\b\b\b\b\b\b\b\b\b\b\b\b\b\b\b\b\b\b\b\b\b\b\b\b\b\b\b\b\b\b\b\b\b\b\b\b\b\b\b\b\b\b\b\b\b\b\b\b\b\b\b\b\b\b\b\b\b\b\b\b\b\b\b\b\b\b\b\b\b\b\b\b\r50/50 [==============================] - 1s 24ms/step - loss: 0.1138 - mse: 0.1138 - val_loss: 0.0552 - val_mse: 0.0552\n",
            "Epoch 17/30\n",
            "43/50 [========================>.....] - ETA: 0s - loss: 0.1090 - mse: 0.1090"
          ]
        },
        {
          "output_type": "stream",
          "name": "stderr",
          "text": [
            "WARNING:absl:Found untraced functions such as _update_step_xla while saving (showing 1 of 1). These functions will not be directly callable after loading.\n",
            "\u001b[34m\u001b[1mwandb\u001b[0m: Adding directory to artifact (/content/wandb/run-20230528_010638-br2r33sp/files/model-best)... Done. 0.0s\n"
          ]
        },
        {
          "output_type": "stream",
          "name": "stdout",
          "text": [
            "\b\b\b\b\b\b\b\b\b\b\b\b\b\b\b\b\b\b\b\b\b\b\b\b\b\b\b\b\b\b\b\b\b\b\b\b\b\b\b\b\b\b\b\b\b\b\b\b\b\b\b\b\b\b\b\b\b\b\b\b\b\b\b\b\b\b\b\b\b\b\b\b\b\b\b\b\b\r50/50 [==============================] - 1s 23ms/step - loss: 0.1050 - mse: 0.1050 - val_loss: 0.0541 - val_mse: 0.0541\n",
            "Epoch 18/30\n",
            "43/50 [========================>.....] - ETA: 0s - loss: 0.0946 - mse: 0.0946"
          ]
        },
        {
          "output_type": "stream",
          "name": "stderr",
          "text": [
            "WARNING:absl:Found untraced functions such as _update_step_xla while saving (showing 1 of 1). These functions will not be directly callable after loading.\n",
            "\u001b[34m\u001b[1mwandb\u001b[0m: Adding directory to artifact (/content/wandb/run-20230528_010638-br2r33sp/files/model-best)... Done. 0.0s\n"
          ]
        },
        {
          "output_type": "stream",
          "name": "stdout",
          "text": [
            "\b\b\b\b\b\b\b\b\b\b\b\b\b\b\b\b\b\b\b\b\b\b\b\b\b\b\b\b\b\b\b\b\b\b\b\b\b\b\b\b\b\b\b\b\b\b\b\b\b\b\b\b\b\b\b\b\b\b\b\b\b\b\b\b\b\b\b\b\b\b\b\b\b\b\b\b\b\r50/50 [==============================] - 2s 33ms/step - loss: 0.0918 - mse: 0.0918 - val_loss: 0.0408 - val_mse: 0.0408\n",
            "Epoch 19/30\n",
            "44/50 [=========================>....] - ETA: 0s - loss: 0.0957 - mse: 0.0957"
          ]
        },
        {
          "output_type": "stream",
          "name": "stderr",
          "text": [
            "WARNING:absl:Found untraced functions such as _update_step_xla while saving (showing 1 of 1). These functions will not be directly callable after loading.\n",
            "\u001b[34m\u001b[1mwandb\u001b[0m: Adding directory to artifact (/content/wandb/run-20230528_010638-br2r33sp/files/model-best)... Done. 0.0s\n"
          ]
        },
        {
          "output_type": "stream",
          "name": "stdout",
          "text": [
            "\b\b\b\b\b\b\b\b\b\b\b\b\b\b\b\b\b\b\b\b\b\b\b\b\b\b\b\b\b\b\b\b\b\b\b\b\b\b\b\b\b\b\b\b\b\b\b\b\b\b\b\b\b\b\b\b\b\b\b\b\b\b\b\b\b\b\b\b\b\b\b\b\b\b\b\b\b\r50/50 [==============================] - 1s 25ms/step - loss: 0.0962 - mse: 0.0962 - val_loss: 0.0343 - val_mse: 0.0343\n",
            "Epoch 20/30\n",
            "48/50 [===========================>..] - ETA: 0s - loss: 0.0823 - mse: 0.0823"
          ]
        },
        {
          "output_type": "stream",
          "name": "stderr",
          "text": [
            "WARNING:absl:Found untraced functions such as _update_step_xla while saving (showing 1 of 1). These functions will not be directly callable after loading.\n",
            "\u001b[34m\u001b[1mwandb\u001b[0m: Adding directory to artifact (/content/wandb/run-20230528_010638-br2r33sp/files/model-best)... Done. 0.0s\n"
          ]
        },
        {
          "output_type": "stream",
          "name": "stdout",
          "text": [
            "\b\b\b\b\b\b\b\b\b\b\b\b\b\b\b\b\b\b\b\b\b\b\b\b\b\b\b\b\b\b\b\b\b\b\b\b\b\b\b\b\b\b\b\b\b\b\b\b\b\b\b\b\b\b\b\b\b\b\b\b\b\b\b\b\b\b\b\b\b\b\b\b\b\b\b\b\b\r50/50 [==============================] - 2s 36ms/step - loss: 0.0829 - mse: 0.0829 - val_loss: 0.0307 - val_mse: 0.0307\n",
            "Epoch 21/30\n",
            "50/50 [==============================] - ETA: 0s - loss: 0.0803 - mse: 0.0803"
          ]
        },
        {
          "output_type": "stream",
          "name": "stderr",
          "text": [
            "WARNING:absl:Found untraced functions such as _update_step_xla while saving (showing 1 of 1). These functions will not be directly callable after loading.\n",
            "\u001b[34m\u001b[1mwandb\u001b[0m: Adding directory to artifact (/content/wandb/run-20230528_010638-br2r33sp/files/model-best)... Done. 0.0s\n"
          ]
        },
        {
          "output_type": "stream",
          "name": "stdout",
          "text": [
            "\b\b\b\b\b\b\b\b\b\b\b\b\b\b\b\b\b\b\b\b\b\b\b\b\b\b\b\b\b\b\b\b\b\b\b\b\b\b\b\b\b\b\b\b\b\b\b\b\b\b\b\b\b\b\b\b\b\b\b\b\b\b\b\b\b\b\b\b\b\b\b\b\b\b\b\b\b\r50/50 [==============================] - 2s 37ms/step - loss: 0.0803 - mse: 0.0803 - val_loss: 0.0289 - val_mse: 0.0289\n",
            "Epoch 22/30\n",
            "45/50 [==========================>...] - ETA: 0s - loss: 0.0792 - mse: 0.0792"
          ]
        },
        {
          "output_type": "stream",
          "name": "stderr",
          "text": [
            "WARNING:absl:Found untraced functions such as _update_step_xla while saving (showing 1 of 1). These functions will not be directly callable after loading.\n",
            "\u001b[34m\u001b[1mwandb\u001b[0m: Adding directory to artifact (/content/wandb/run-20230528_010638-br2r33sp/files/model-best)... Done. 0.0s\n"
          ]
        },
        {
          "output_type": "stream",
          "name": "stdout",
          "text": [
            "\b\b\b\b\b\b\b\b\b\b\b\b\b\b\b\b\b\b\b\b\b\b\b\b\b\b\b\b\b\b\b\b\b\b\b\b\b\b\b\b\b\b\b\b\b\b\b\b\b\b\b\b\b\b\b\b\b\b\b\b\b\b\b\b\b\b\b\b\b\b\b\b\b\b\b\b\b\r50/50 [==============================] - 1s 24ms/step - loss: 0.0775 - mse: 0.0775 - val_loss: 0.0283 - val_mse: 0.0283\n",
            "Epoch 23/30\n",
            "44/50 [=========================>....] - ETA: 0s - loss: 0.0784 - mse: 0.0784"
          ]
        },
        {
          "output_type": "stream",
          "name": "stderr",
          "text": [
            "WARNING:absl:Found untraced functions such as _update_step_xla while saving (showing 1 of 1). These functions will not be directly callable after loading.\n",
            "\u001b[34m\u001b[1mwandb\u001b[0m: Adding directory to artifact (/content/wandb/run-20230528_010638-br2r33sp/files/model-best)... Done. 0.0s\n"
          ]
        },
        {
          "output_type": "stream",
          "name": "stdout",
          "text": [
            "\b\b\b\b\b\b\b\b\b\b\b\b\b\b\b\b\b\b\b\b\b\b\b\b\b\b\b\b\b\b\b\b\b\b\b\b\b\b\b\b\b\b\b\b\b\b\b\b\b\b\b\b\b\b\b\b\b\b\b\b\b\b\b\b\b\b\b\b\b\b\b\b\b\b\b\b\b\r50/50 [==============================] - 1s 23ms/step - loss: 0.0782 - mse: 0.0782 - val_loss: 0.0214 - val_mse: 0.0214\n",
            "Epoch 24/30\n",
            "42/50 [========================>.....] - ETA: 0s - loss: 0.0594 - mse: 0.0594"
          ]
        },
        {
          "output_type": "stream",
          "name": "stderr",
          "text": [
            "WARNING:absl:Found untraced functions such as _update_step_xla while saving (showing 1 of 1). These functions will not be directly callable after loading.\n",
            "\u001b[34m\u001b[1mwandb\u001b[0m: Adding directory to artifact (/content/wandb/run-20230528_010638-br2r33sp/files/model-best)... Done. 0.0s\n"
          ]
        },
        {
          "output_type": "stream",
          "name": "stdout",
          "text": [
            "\b\b\b\b\b\b\b\b\b\b\b\b\b\b\b\b\b\b\b\b\b\b\b\b\b\b\b\b\b\b\b\b\b\b\b\b\b\b\b\b\b\b\b\b\b\b\b\b\b\b\b\b\b\b\b\b\b\b\b\b\b\b\b\b\b\b\b\b\b\b\b\b\b\b\b\b\b\r50/50 [==============================] - 1s 23ms/step - loss: 0.0658 - mse: 0.0658 - val_loss: 0.0203 - val_mse: 0.0203\n",
            "Epoch 25/30\n",
            "44/50 [=========================>....] - ETA: 0s - loss: 0.0589 - mse: 0.0589"
          ]
        },
        {
          "output_type": "stream",
          "name": "stderr",
          "text": [
            "WARNING:absl:Found untraced functions such as _update_step_xla while saving (showing 1 of 1). These functions will not be directly callable after loading.\n",
            "\u001b[34m\u001b[1mwandb\u001b[0m: Adding directory to artifact (/content/wandb/run-20230528_010638-br2r33sp/files/model-best)... Done. 0.0s\n"
          ]
        },
        {
          "output_type": "stream",
          "name": "stdout",
          "text": [
            "\b\b\b\b\b\b\b\b\b\b\b\b\b\b\b\b\b\b\b\b\b\b\b\b\b\b\b\b\b\b\b\b\b\b\b\b\b\b\b\b\b\b\b\b\b\b\b\b\b\b\b\b\b\b\b\b\b\b\b\b\b\b\b\b\b\b\b\b\b\b\b\b\b\b\b\b\b\r50/50 [==============================] - 1s 25ms/step - loss: 0.0575 - mse: 0.0575 - val_loss: 0.0185 - val_mse: 0.0185\n",
            "Epoch 26/30\n",
            "43/50 [========================>.....] - ETA: 0s - loss: 0.0539 - mse: 0.0539"
          ]
        },
        {
          "output_type": "stream",
          "name": "stderr",
          "text": [
            "WARNING:absl:Found untraced functions such as _update_step_xla while saving (showing 1 of 1). These functions will not be directly callable after loading.\n",
            "\u001b[34m\u001b[1mwandb\u001b[0m: Adding directory to artifact (/content/wandb/run-20230528_010638-br2r33sp/files/model-best)... Done. 0.0s\n"
          ]
        },
        {
          "output_type": "stream",
          "name": "stdout",
          "text": [
            "\b\b\b\b\b\b\b\b\b\b\b\b\b\b\b\b\b\b\b\b\b\b\b\b\b\b\b\b\b\b\b\b\b\b\b\b\b\b\b\b\b\b\b\b\b\b\b\b\b\b\b\b\b\b\b\b\b\b\b\b\b\b\b\b\b\b\b\b\b\b\b\b\b\b\b\b\b\r50/50 [==============================] - 1s 24ms/step - loss: 0.0556 - mse: 0.0556 - val_loss: 0.0174 - val_mse: 0.0174\n",
            "Epoch 27/30\n",
            "43/50 [========================>.....] - ETA: 0s - loss: 0.0528 - mse: 0.0528"
          ]
        },
        {
          "output_type": "stream",
          "name": "stderr",
          "text": [
            "WARNING:absl:Found untraced functions such as _update_step_xla while saving (showing 1 of 1). These functions will not be directly callable after loading.\n",
            "\u001b[34m\u001b[1mwandb\u001b[0m: Adding directory to artifact (/content/wandb/run-20230528_010638-br2r33sp/files/model-best)... Done. 0.0s\n"
          ]
        },
        {
          "output_type": "stream",
          "name": "stdout",
          "text": [
            "\b\b\b\b\b\b\b\b\b\b\b\b\b\b\b\b\b\b\b\b\b\b\b\b\b\b\b\b\b\b\b\b\b\b\b\b\b\b\b\b\b\b\b\b\b\b\b\b\b\b\b\b\b\b\b\b\b\b\b\b\b\b\b\b\b\b\b\b\b\b\b\b\b\b\b\b\b\r50/50 [==============================] - 1s 23ms/step - loss: 0.0548 - mse: 0.0548 - val_loss: 0.0155 - val_mse: 0.0155\n",
            "Epoch 28/30\n",
            "50/50 [==============================] - 0s 5ms/step - loss: 0.0561 - mse: 0.0561 - val_loss: 0.0175 - val_mse: 0.0175\n",
            "Epoch 29/30\n",
            "50/50 [==============================] - 0s 6ms/step - loss: 0.0525 - mse: 0.0525 - val_loss: 0.0163 - val_mse: 0.0163\n",
            "Epoch 30/30\n",
            "50/50 [==============================] - 0s 5ms/step - loss: 0.0471 - mse: 0.0471 - val_loss: 0.0172 - val_mse: 0.0172\n"
          ]
        }
      ]
    },
    {
      "cell_type": "code",
      "source": [
        "x_pred = np.linspace(-1, 1, 100).reshape(-1, 1)\n",
        "y_pred = model.predict(x_pred)\n",
        "\n",
        "plt.figure(figsize=(8, 6))\n",
        "plt.plot(x_test, y_test, color='blue', label='Función (Datos de entranamiento)')\n",
        "plt.plot(x_pred, y_pred, color='red', label='Predicción de Red Neuronal')\n",
        "plt.xlabel('x')\n",
        "plt.ylabel('y')\n",
        "plt.legend()\n",
        "plt.show()"
      ],
      "metadata": {
        "colab": {
          "base_uri": "https://localhost:8080/",
          "height": 560
        },
        "id": "48CJGeqbPeMi",
        "outputId": "eda2341d-b932-4ffb-b34b-cf576b7eaf89"
      },
      "execution_count": 22,
      "outputs": [
        {
          "output_type": "stream",
          "name": "stdout",
          "text": [
            "4/4 [==============================] - 0s 4ms/step\n"
          ]
        },
        {
          "output_type": "display_data",
          "data": {
            "text/plain": [
              "<Figure size 800x600 with 1 Axes>"
            ],
            "image/png": "[encoded data removed]"
          },
          "metadata": {}
        }
      ]
    },
    {
      "cell_type": "code",
      "source": [
        "loss = history.history['loss']\n",
        "val_loss = history.history['val_loss']\n",
        "plt.plot(loss, label='loss')\n",
        "plt.plot(val_loss, label='val_oss')\n",
        "plt.xlabel('Epoch')\n",
        "plt.ylabel('Loss')\n",
        "plt.legend()\n",
        "plt.show()"
      ],
      "metadata": {
        "colab": {
          "base_uri": "https://localhost:8080/",
          "height": 449
        },
        "id": "_PWheNbQSq4T",
        "outputId": "49f7d455-3c62-4d2a-f038-87a42322a1dc"
      },
      "execution_count": 23,
      "outputs": [
        {
          "output_type": "display_data",
          "data": {
            "text/plain": [
              "<Figure size 640x480 with 1 Axes>"
            ],
            "image/png": "[encoded data removed]"
          },
          "metadata": {}
        }
      ]
    },
    {
      "cell_type": "code",
      "execution_count": 24,
      "metadata": {
        "id": "ThGOk8CoxPAy"
      },
      "outputs": [],
      "source": [
        "#Ejercicio dos: Identificar enfermedades en plantas \n"
      ]
    },
    {
      "cell_type": "code",
      "execution_count": 25,
      "metadata": {
        "colab": {
          "base_uri": "https://localhost:8080/"
        },
        "id": "b6GSpDdZYgqF",
        "outputId": "c497d296-efb6-47da-f795-d560546f3c5c"
      },
      "outputs": [
        {
          "output_type": "stream",
          "name": "stdout",
          "text": [
            "Mounted at /content/drive\n"
          ]
        }
      ],
      "source": [
        "#Para leer datos desde Google Drive: \n",
        "from google.colab import drive \n",
        "drive.mount('/content/drive') "
      ]
    },
    {
      "cell_type": "code",
      "execution_count": 26,
      "metadata": {
        "id": "2jUIvkPG3e1n"
      },
      "outputs": [],
      "source": [
        "df = pd.read_csv('/content/drive/MyDrive/Base de datos/train.csv', names=['Nombre', 'Clase'])"
      ]
    },
    {
      "cell_type": "code",
      "execution_count": 27,
      "metadata": {
        "id": "2KNuXaqv3zHM"
      },
      "outputs": [],
      "source": [
        "df=df.drop(0,axis=0)#Eliminamos la primera fila que no es d eutilidad"
      ]
    },
    {
      "cell_type": "code",
      "execution_count": 28,
      "metadata": {
        "colab": {
          "base_uri": "https://localhost:8080/"
        },
        "id": "Pas6quIE3f7m",
        "outputId": "246a7663-f661-4abf-cd8f-0a1660ca1666"
      },
      "outputs": [
        {
          "output_type": "execute_result",
          "data": {
            "text/plain": [
              "array(['healthy', 'scab frog_eye_leaf_spot complex', 'scab', 'complex',\n",
              "       'rust', 'frog_eye_leaf_spot', 'powdery_mildew',\n",
              "       'scab frog_eye_leaf_spot', 'frog_eye_leaf_spot complex',\n",
              "       'rust frog_eye_leaf_spot', 'powdery_mildew complex',\n",
              "       'rust complex'], dtype=object)"
            ]
          },
          "metadata": {},
          "execution_count": 28
        }
      ],
      "source": [
        "df.Clase.unique()#Checamos las etiquetas de las clases"
      ]
    },
    {
      "cell_type": "code",
      "source": [
        "df[df['Clase']=='healthy']['Nombre'].size"
      ],
      "metadata": {
        "colab": {
          "base_uri": "https://localhost:8080/"
        },
        "id": "5NH6UZaFxjPz",
        "outputId": "c5a1e034-f5ba-45a2-b041-7b3e23eac3ff"
      },
      "execution_count": 29,
      "outputs": [
        {
          "output_type": "execute_result",
          "data": {
            "text/plain": [
              "4624"
            ]
          },
          "metadata": {},
          "execution_count": 29
        }
      ]
    },
    {
      "cell_type": "code",
      "source": [
        "for x in list(df.Clase.unique()): \n",
        "  y=df[df['Clase']==x]['Nombre'].size\n",
        "  print(f'{x}={y}')"
      ],
      "metadata": {
        "colab": {
          "base_uri": "https://localhost:8080/"
        },
        "id": "j4iI1bFDvVcb",
        "outputId": "c8d647e9-e4df-461b-c65d-c6d52ff37deb"
      },
      "execution_count": 30,
      "outputs": [
        {
          "output_type": "stream",
          "name": "stdout",
          "text": [
            "healthy=4624\n",
            "scab frog_eye_leaf_spot complex=200\n",
            "scab=4826\n",
            "complex=1602\n",
            "rust=1860\n",
            "frog_eye_leaf_spot=3181\n",
            "powdery_mildew=1184\n",
            "scab frog_eye_leaf_spot=686\n",
            "frog_eye_leaf_spot complex=165\n",
            "rust frog_eye_leaf_spot=120\n",
            "powdery_mildew complex=87\n",
            "rust complex=97\n"
          ]
        }
      ]
    },
    {
      "cell_type": "code",
      "execution_count": 31,
      "metadata": {
        "colab": {
          "base_uri": "https://localhost:8080/"
        },
        "id": "bLppSbGtKpKq",
        "outputId": "50ab82e2-c43e-4e42-de19-7e2c85939562"
      },
      "outputs": [
        {
          "output_type": "execute_result",
          "data": {
            "text/plain": [
              "(18632, 2)"
            ]
          },
          "metadata": {},
          "execution_count": 31
        }
      ],
      "source": [
        "df.shape"
      ]
    },
    {
      "cell_type": "code",
      "execution_count": 32,
      "metadata": {
        "id": "xhCRzQdzKfZl"
      },
      "outputs": [],
      "source": [
        "#Vamos a mezclar de manera aleatoria todas las filas del csv\n",
        "#df= df.sample(frac=1, random_state=42)\n",
        "#Vamos a dividir a la mitad la base de datos para la primera parte para imagenes de entrenamiento y la otra por prueba\n",
        "#df1=df.iloc[0:9316,:]\n",
        "#df2=df.iloc[9316:18633,:]"
      ]
    },
    {
      "cell_type": "code",
      "execution_count": 33,
      "metadata": {
        "id": "l7LL-OGFNM1T"
      },
      "outputs": [],
      "source": [
        "#Podemos notar que los conjuntos no tienen elementos en común \n",
        "#set(df1.Nombre).intersection(set(df2.Nombre))"
      ]
    },
    {
      "cell_type": "code",
      "execution_count": 34,
      "metadata": {
        "id": "gpxVur6m3onF"
      },
      "outputs": [],
      "source": [
        "# Ruta de la carpeta de destino para las subcarpetas\n",
        "mini_train = '/content/train_'\n",
        "\n",
        "# Crear la carpeta de destino si no existe\n",
        "if not os.path.exists(mini_train ):\n",
        "    os.makedirs(mini_train )"
      ]
    },
    {
      "cell_type": "code",
      "execution_count": 35,
      "metadata": {
        "id": "VteqNplB8Gxa"
      },
      "outputs": [],
      "source": [
        "#Formamos una lista ordenada de las categorias de que tenemos en nuestro csv\n",
        "E= df.sort_values('Clase')\n",
        "clases= list(E.Clase.unique())"
      ]
    },
    {
      "cell_type": "code",
      "execution_count": 36,
      "metadata": {
        "id": "9t8q8CUu1Kjy"
      },
      "outputs": [],
      "source": [
        "#El próposito de este for es formar carpetas de cada una de las clasificaciones en la carpeta llamada train_\n",
        "#Cada carpeta consta de 50 imágenes con la finalidad de reducir el tiempo de aprendizaje de la red convolucional\n",
        "for i in clases:\n",
        "    contador = 0  # Contador de imágenes en la carpeta actual\n",
        "    for c in list(df[df['Clase'] == i]['Nombre']):\n",
        "        if contador >= 50:\n",
        "            break  # Se alcanzó el límite de imágenes por carpeta\n",
        "        imagen= os.path.join('/content/drive/MyDrive/Base de datos/train_images', c)\n",
        "        if os.path.exists(imagen):\n",
        "            mt= os.path.join(mini_train , 'train_' + i)\n",
        "            if not os.path.exists(mt):\n",
        "                os.makedirs(mt)\n",
        "            m= shutil.copy(imagen,mt)\n",
        "            contador+= 1\n",
        "\n"
      ]
    },
    {
      "cell_type": "code",
      "source": [
        "l=list(os.listdir('/content/train_'))\n"
      ],
      "metadata": {
        "id": "WizohjIqrdBM"
      },
      "execution_count": 37,
      "outputs": []
    },
    {
      "cell_type": "code",
      "execution_count": 38,
      "metadata": {
        "id": "ApCGw3SZNTa_"
      },
      "outputs": [],
      "source": [
        "#Realizamos el mismo procedimiento para crear la carpeta con subcarpetas de las categorías del problema\n",
        "#Esta vez para el conjunto de prueba \n",
        "\n",
        "# Ruta de la carpeta de destino para las subcarpetas\n",
        "mini_test = '/content/test_'\n",
        "\n",
        "# Crear la carpeta de destino si no existe\n",
        "if not os.path.exists(mini_test):\n",
        "    os.makedirs(mini_test )"
      ]
    },
    {
      "cell_type": "code",
      "execution_count": 39,
      "metadata": {
        "id": "WBjX5MMxNs2U"
      },
      "outputs": [],
      "source": [
        "#Formamos una lista ordenada de las categorias de que tenemos en nuestro csv\n",
        "#E= df2.sort_values('Clase')\n",
        "#clases= list(E.Clase.unique())"
      ]
    },
    {
      "cell_type": "code",
      "execution_count": 40,
      "metadata": {
        "id": "cfkR9xU9N2WR"
      },
      "outputs": [],
      "source": [
        "#El próposito de este for es formar carpetas de cada una de las clasificaciones en la carpeta llamada test_\n",
        "#Cada carpeta consta de 5 imágenes,estamos considerado el 10% de las imagenes de entrenamiento.\n",
        "for i in clases:\n",
        "    contador = 0  # Contador de imágenes en la carpeta actual\n",
        "    for c in list(df[df['Clase'] == i]['Nombre']):\n",
        "        if contador >= 5:\n",
        "            break  # Se alcanzó el límite de imágenes por carpeta\n",
        "        imagen= os.path.join('/content/drive/MyDrive/Base de datos/train_images', c)\n",
        "        if os.path.exists(imagen):\n",
        "            mt= os.path.join(mini_test , 'test_' + i)\n",
        "            if not os.path.exists(mt):\n",
        "                os.makedirs(mt)\n",
        "            m= shutil.copy(imagen,mt)\n",
        "            contador+= 1\n"
      ]
    },
    {
      "cell_type": "code",
      "execution_count": 41,
      "metadata": {
        "id": "MyNUZB8fRO07"
      },
      "outputs": [],
      "source": [
        "ih,iw=150,150 #Tamaño de la imagen\n",
        "input_shape=(ih,iw,3) #forma de la imagen : Largo, Ancho y colores\n",
        "train_dir= '/content/train_' #directorio de entrenamiento\n",
        "test_dir='/content/test_' #directorio de prueba \n",
        "num_class=12 #Número de clases\n",
        "epochs=30 #Epocas\n",
        "batch_size=5  #batch para hacer cada entrenamiento. Lee 5 'batch_size' imagenes antes de actualizar\n",
        "num_train= 600 #Número de imágenes en train \n",
        "num_test=60 #Número de imágenes en test\n",
        "epoch_steps= num_train//batch_size \n",
        "test_steps=num_test // batch_size"
      ]
    },
    {
      "cell_type": "code",
      "execution_count": 42,
      "metadata": {
        "colab": {
          "base_uri": "https://localhost:8080/"
        },
        "id": "sQg7DCQVnitK",
        "outputId": "9c5f7472-ad40-4049-c01c-0f4c7fffca7a"
      },
      "outputs": [
        {
          "output_type": "stream",
          "name": "stdout",
          "text": [
            "Found 600 images belonging to 12 classes.\n",
            "Found 60 images belonging to 12 classes.\n"
          ]
        }
      ],
      "source": [
        "gentrain = ImageDataGenerator(rescale=1. / 255.) #indica que reescale cada canal con valor entre 0 y 1.\n",
        "\n",
        "\n",
        "train = gentrain.flow_from_directory(train_dir,\n",
        "                batch_size=batch_size,\n",
        "                target_size=(iw, ih),\n",
        "                class_mode='categorical')\n",
        "\n",
        "gentest = ImageDataGenerator(rescale=1. / 255)\n",
        "\n",
        "test = gentest.flow_from_directory(test_dir,\n",
        "                batch_size=batch_size,\n",
        "                target_size=(iw, ih),\n",
        "                class_mode='categorical')"
      ]
    },
    {
      "cell_type": "code",
      "execution_count": 43,
      "metadata": {
        "id": "-hmEwCGb2knw"
      },
      "outputs": [],
      "source": [
        "#shutil.rmtree('/content/train_') #Para eliminar una carpeta\n"
      ]
    },
    {
      "cell_type": "code",
      "source": [
        "#shutil.rmtree('/content/test_') #Para eliminar una carpeta"
      ],
      "metadata": {
        "id": "6ExgRldlsgBq"
      },
      "execution_count": 44,
      "outputs": []
    },
    {
      "cell_type": "code",
      "source": [
        "model=Sequential() \n",
        "model.add(Conv2D(10,(3,3),input_shape=(ih,iw,3)))\n",
        "model.add(Activation('relu'))\n",
        "model.add(MaxPooling2D(pool_size=(2,2)))\n",
        "\n",
        "model.add(Conv2D(10,(3,3))) \n",
        "model.add(Activation('relu'))\n",
        "model.add(MaxPooling2D(pool_size=(2,2))) \n",
        "\n",
        "model.add(Conv2D(20,(3,3))) \n",
        "model.add(Activation('relu')) \n",
        "model.add(MaxPooling2D(pool_size=(2,2))) \n",
        "\n",
        "model.add(Flatten())\n",
        "model.add(Dense(64)) \n",
        "model.add(Activation('relu')) \n",
        "model.add(Dropout(0.2))\n",
        "model.add(Dense(12)) \n",
        "model.add(Activation('sigmoid'))\n",
        "\n",
        "model.summary()"
      ],
      "metadata": {
        "colab": {
          "base_uri": "https://localhost:8080/"
        },
        "id": "x9NhMoQs6aOc",
        "outputId": "c1072f11-a074-4185-90d8-ce2b1d4dbc27"
      },
      "execution_count": 53,
      "outputs": [
        {
          "output_type": "stream",
          "name": "stdout",
          "text": [
            "Model: \"sequential_7\"\n",
            "_________________________________________________________________\n",
            " Layer (type)                Output Shape              Param #   \n",
            "=================================================================\n",
            " conv2d_15 (Conv2D)          (None, 148, 148, 10)      280       \n",
            "                                                                 \n",
            " activation_19 (Activation)  (None, 148, 148, 10)      0         \n",
            "                                                                 \n",
            " max_pooling2d_14 (MaxPoolin  (None, 74, 74, 10)       0         \n",
            " g2D)                                                            \n",
            "                                                                 \n",
            " conv2d_16 (Conv2D)          (None, 72, 72, 10)        910       \n",
            "                                                                 \n",
            " activation_20 (Activation)  (None, 72, 72, 10)        0         \n",
            "                                                                 \n",
            " max_pooling2d_15 (MaxPoolin  (None, 36, 36, 10)       0         \n",
            " g2D)                                                            \n",
            "                                                                 \n",
            " conv2d_17 (Conv2D)          (None, 34, 34, 20)        1820      \n",
            "                                                                 \n",
            " activation_21 (Activation)  (None, 34, 34, 20)        0         \n",
            "                                                                 \n",
            " max_pooling2d_16 (MaxPoolin  (None, 17, 17, 20)       0         \n",
            " g2D)                                                            \n",
            "                                                                 \n",
            " flatten_3 (Flatten)         (None, 5780)              0         \n",
            "                                                                 \n",
            " dense_10 (Dense)            (None, 64)                369984    \n",
            "                                                                 \n",
            " activation_22 (Activation)  (None, 64)                0         \n",
            "                                                                 \n",
            " dropout_5 (Dropout)         (None, 64)                0         \n",
            "                                                                 \n",
            " dense_11 (Dense)            (None, 12)                780       \n",
            "                                                                 \n",
            " activation_23 (Activation)  (None, 12)                0         \n",
            "                                                                 \n",
            "=================================================================\n",
            "Total params: 373,774\n",
            "Trainable params: 373,774\n",
            "Non-trainable params: 0\n",
            "_________________________________________________________________\n"
          ]
        }
      ]
    }
  ],
  "metadata": {
    "colab": {
      "provenance": [],
      "authorship_tag": "ABX9TyNDKEcvqmv6riAG1fuSD2lR",
      "include_colab_link": true
    },
    "kernelspec": {
      "display_name": "Python 3",
      "name": "python3"
    },
    "language_info": {
      "name": "python"
    }
  },
  "nbformat": 4,
  "nbformat_minor": 0
}