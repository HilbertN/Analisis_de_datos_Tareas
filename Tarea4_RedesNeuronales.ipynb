{
  "cells": [
    {
      "cell_type": "markdown",
      "metadata": {
        "id": "view-in-github",
        "colab_type": "text"
      },
      "source": [
        "<a href=\"https://colab.research.google.com/github/HilbertN/Analisis_de_datos_Tareas/blob/main/Tarea4_RedesNeuronales.ipynb\" target=\"_parent\"><img src=\"https://colab.research.google.com/assets/colab-badge.svg\" alt=\"Open In Colab\"/></a>"
      ]
    },
    {
      "cell_type": "code",
      "execution_count": 43,
      "metadata": {
        "id": "mwHkNutiQktm"
      },
      "outputs": [],
      "source": [
        "import tensorflow as tf\n",
        "from tensorflow import keras\n",
        "from tensorflow.keras import layers,models,regularizers\n",
        "from tensorflow.keras.datasets import mnist\n",
        "from tensorflow.keras.models import Sequential\n",
        "from tensorflow.keras.layers import Dense, Dropout,Activation,MaxPooling2D,Flatten,Conv2D\n",
        "from tensorflow.keras.optimizers import RMSprop, SGD, Adam\n",
        "from tensorflow.keras.losses import CategoricalCrossentropy,MeanSquaredError\n",
        "from keras.preprocessing.image import ImageDataGenerator\n",
        "from keras.preprocessing import  image\n",
        "import pandas as pd \n",
        "import numpy as np\n",
        "import shutil \n",
        "import os\n",
        "import matplotlib.pyplot as plt"
      ]
    },
    {
      "cell_type": "code",
      "execution_count": 2,
      "metadata": {
        "id": "7zKE2skuVyza",
        "colab": {
          "base_uri": "https://localhost:8080/"
        },
        "outputId": "8a005d7b-a268-4246-d969-d166d65267f7"
      },
      "outputs": [
        {
          "output_type": "stream",
          "name": "stdout",
          "text": [
            "\u001b[2K     \u001b[90m━━━━━━━━━━━━━━━━━━━━━━━━━━━━━━━━━━━━━━━━\u001b[0m \u001b[32m2.0/2.0 MB\u001b[0m \u001b[31m18.5 MB/s\u001b[0m eta \u001b[36m0:00:00\u001b[0m\n",
            "\u001b[2K     \u001b[90m━━━━━━━━━━━━━━━━━━━━━━━━━━━━━━━━━━━━━━\u001b[0m \u001b[32m184.3/184.3 kB\u001b[0m \u001b[31m13.5 MB/s\u001b[0m eta \u001b[36m0:00:00\u001b[0m\n",
            "\u001b[2K     \u001b[90m━━━━━━━━━━━━━━━━━━━━━━━━━━━━━━━━━━━━━━━\u001b[0m \u001b[32m206.5/206.5 kB\u001b[0m \u001b[31m8.8 MB/s\u001b[0m eta \u001b[36m0:00:00\u001b[0m\n",
            "\u001b[?25h  Preparing metadata (setup.py) ... \u001b[?25l\u001b[?25hdone\n",
            "\u001b[2K     \u001b[90m━━━━━━━━━━━━━━━━━━━━━━━━━━━━━━━━━━━━━━━━\u001b[0m \u001b[32m62.7/62.7 kB\u001b[0m \u001b[31m5.5 MB/s\u001b[0m eta \u001b[36m0:00:00\u001b[0m\n",
            "\u001b[?25h  Building wheel for pathtools (setup.py) ... \u001b[?25l\u001b[?25hdone\n"
          ]
        }
      ],
      "source": [
        "# Weights & Biases  (optional)\n",
        "!pip install -q wandb"
      ]
    },
    {
      "cell_type": "code",
      "execution_count": 3,
      "metadata": {
        "id": "DuDK614nV5MK",
        "colab": {
          "base_uri": "https://localhost:8080/"
        },
        "outputId": "bd3400bb-e63b-4515-bebb-d3eeca34ea9b"
      },
      "outputs": [
        {
          "output_type": "stream",
          "name": "stdout",
          "text": [
            "\u001b[34m\u001b[1mwandb\u001b[0m: Logging into wandb.ai. (Learn how to deploy a W&B server locally: https://wandb.me/wandb-server)\n",
            "\u001b[34m\u001b[1mwandb\u001b[0m: You can find your API key in your browser here: https://wandb.ai/authorize\n",
            "\u001b[34m\u001b[1mwandb\u001b[0m: Paste an API key from your profile and hit enter, or press ctrl+c to quit: \n",
            "\u001b[34m\u001b[1mwandb\u001b[0m: Appending key for api.wandb.ai to your netrc file: /root/.netrc\n"
          ]
        }
      ],
      "source": [
        "!wandb login"
      ]
    },
    {
      "cell_type": "code",
      "execution_count": 4,
      "metadata": {
        "id": "YnH0MfFrzWLG"
      },
      "outputs": [],
      "source": [
        "#Ejercicio 1: Entrena una red neuronal para que reproduzca la siguientes funciones en el  intervalo  de  [-1,1].  \n",
        "# Graficar  la  solución  de  la  red  en  conjunto  con  la gráfica de la función.(a)  3 sin(πx)(b)  1 + 2x+ 4x3\n",
        "\n",
        "#Ejercicio 1(a): \n",
        "#Vamos a proponer los siguientes arreglos como conjuntos de entranmiento y de prueba \n",
        "\n",
        "x_train = np.linspace(-1, 1, 1000).reshape(-1, 1)\n",
        "y_train = 3 * np.sin(np.pi * x_train)\n",
        "\n",
        "#Eliminamos elementos repetidos entre el conjunto de entrenamiento y de prueba\n",
        "v=np.linspace(-1, 1, 100)\n",
        "cond=np.isin(np.linspace(-1, 1, 100),np.linspace(-1, 1, 1000))\n",
        "v=v[np.where(~cond)]\n",
        "\n",
        "x_test = v.reshape(-1, 1)\n",
        "y_test= 3 * np.sin(np.pi * x_test)\n"
      ]
    },
    {
      "cell_type": "code",
      "execution_count": 5,
      "metadata": {
        "id": "AB_VsCGZE4aU",
        "colab": {
          "base_uri": "https://localhost:8080/"
        },
        "outputId": "59fa16b5-808f-41a9-b93f-656fbbdd895c"
      },
      "outputs": [
        {
          "output_type": "execute_result",
          "data": {
            "text/plain": [
              "[]"
            ]
          },
          "metadata": {},
          "execution_count": 5
        }
      ],
      "source": [
        "#No hay elementos repetidos entre el conjunto de prueba y entrenamiento\n",
        "h1=set(np.linspace(-1, 1, 1000))\n",
        "h3=set(v)\n",
        "Repetidos=list(h3.intersection(h1))\n",
        "Repetidos"
      ]
    },
    {
      "cell_type": "code",
      "execution_count": 6,
      "metadata": {
        "id": "KYrfAK504xJ-"
      },
      "outputs": [],
      "source": [
        "model = Sequential()\n",
        "model.add(Dense(300, activation='relu', input_shape=(1,)))\n",
        "model.add(Dropout(0.2))\n",
        "model.add(Dense(300, activation='relu'))\n",
        "model.add(Dense(1))\n",
        "\n",
        "\n"
      ]
    },
    {
      "cell_type": "code",
      "execution_count": 7,
      "metadata": {
        "id": "bEIKgwBbQ_Rm"
      },
      "outputs": [],
      "source": [
        "batch_size=30 \n",
        "epochs=40 \n",
        "learning_rate=0.03\n",
        "Optimizador=SGD"
      ]
    },
    {
      "cell_type": "code",
      "execution_count": 8,
      "metadata": {
        "id": "RkEMuSd6B4Ij",
        "colab": {
          "base_uri": "https://localhost:8080/"
        },
        "outputId": "3eff764a-f71d-4f1f-cc0a-56ed9d2d415a"
      },
      "outputs": [
        {
          "output_type": "stream",
          "name": "stdout",
          "text": [
            "Epoch 1/40\n",
            "34/34 [==============================] - 1s 10ms/step - loss: 2.4412 - mse: 2.4412 - val_loss: 1.0586 - val_mse: 1.0586\n",
            "Epoch 2/40\n",
            "34/34 [==============================] - 0s 8ms/step - loss: 1.0893 - mse: 1.0893 - val_loss: 0.9402 - val_mse: 0.9402\n",
            "Epoch 3/40\n",
            "34/34 [==============================] - 0s 11ms/step - loss: 0.9551 - mse: 0.9551 - val_loss: 0.8432 - val_mse: 0.8432\n",
            "Epoch 4/40\n",
            "34/34 [==============================] - 0s 14ms/step - loss: 0.8717 - mse: 0.8717 - val_loss: 0.8653 - val_mse: 0.8653\n",
            "Epoch 5/40\n",
            "34/34 [==============================] - 0s 13ms/step - loss: 0.7499 - mse: 0.7499 - val_loss: 0.5770 - val_mse: 0.5770\n",
            "Epoch 6/40\n",
            "34/34 [==============================] - 0s 13ms/step - loss: 0.5993 - mse: 0.5993 - val_loss: 0.4362 - val_mse: 0.4362\n",
            "Epoch 7/40\n",
            "34/34 [==============================] - 0s 15ms/step - loss: 0.4609 - mse: 0.4609 - val_loss: 0.3185 - val_mse: 0.3185\n",
            "Epoch 8/40\n",
            "34/34 [==============================] - 0s 13ms/step - loss: 0.3228 - mse: 0.3228 - val_loss: 0.2487 - val_mse: 0.2487\n",
            "Epoch 9/40\n",
            "34/34 [==============================] - 0s 11ms/step - loss: 0.2324 - mse: 0.2324 - val_loss: 0.2250 - val_mse: 0.2250\n",
            "Epoch 10/40\n",
            "34/34 [==============================] - 0s 13ms/step - loss: 0.1730 - mse: 0.1730 - val_loss: 0.1153 - val_mse: 0.1153\n",
            "Epoch 11/40\n",
            "34/34 [==============================] - 1s 15ms/step - loss: 0.1340 - mse: 0.1340 - val_loss: 0.1166 - val_mse: 0.1166\n",
            "Epoch 12/40\n",
            "34/34 [==============================] - 1s 15ms/step - loss: 0.0984 - mse: 0.0984 - val_loss: 0.0598 - val_mse: 0.0598\n",
            "Epoch 13/40\n",
            "34/34 [==============================] - 1s 16ms/step - loss: 0.0790 - mse: 0.0790 - val_loss: 0.0523 - val_mse: 0.0523\n",
            "Epoch 14/40\n",
            "34/34 [==============================] - 0s 10ms/step - loss: 0.0640 - mse: 0.0640 - val_loss: 0.0360 - val_mse: 0.0360\n",
            "Epoch 15/40\n",
            "34/34 [==============================] - 0s 7ms/step - loss: 0.0545 - mse: 0.0545 - val_loss: 0.0432 - val_mse: 0.0432\n",
            "Epoch 16/40\n",
            "34/34 [==============================] - 0s 8ms/step - loss: 0.0491 - mse: 0.0491 - val_loss: 0.0257 - val_mse: 0.0257\n",
            "Epoch 17/40\n",
            "34/34 [==============================] - 0s 8ms/step - loss: 0.0458 - mse: 0.0458 - val_loss: 0.0168 - val_mse: 0.0168\n",
            "Epoch 18/40\n",
            "34/34 [==============================] - 0s 8ms/step - loss: 0.0400 - mse: 0.0400 - val_loss: 0.0173 - val_mse: 0.0173\n",
            "Epoch 19/40\n",
            "34/34 [==============================] - 0s 8ms/step - loss: 0.0380 - mse: 0.0380 - val_loss: 0.0150 - val_mse: 0.0150\n",
            "Epoch 20/40\n",
            "34/34 [==============================] - 0s 9ms/step - loss: 0.0333 - mse: 0.0333 - val_loss: 0.0190 - val_mse: 0.0190\n",
            "Epoch 21/40\n",
            "34/34 [==============================] - 0s 7ms/step - loss: 0.0355 - mse: 0.0355 - val_loss: 0.0088 - val_mse: 0.0088\n",
            "Epoch 22/40\n",
            "34/34 [==============================] - 0s 9ms/step - loss: 0.0323 - mse: 0.0323 - val_loss: 0.0088 - val_mse: 0.0088\n",
            "Epoch 23/40\n",
            "34/34 [==============================] - 0s 8ms/step - loss: 0.0286 - mse: 0.0286 - val_loss: 0.0222 - val_mse: 0.0222\n",
            "Epoch 24/40\n",
            "34/34 [==============================] - 0s 7ms/step - loss: 0.0277 - mse: 0.0277 - val_loss: 0.0084 - val_mse: 0.0084\n",
            "Epoch 25/40\n",
            "34/34 [==============================] - 0s 10ms/step - loss: 0.0247 - mse: 0.0247 - val_loss: 0.0090 - val_mse: 0.0090\n",
            "Epoch 26/40\n",
            "34/34 [==============================] - 0s 8ms/step - loss: 0.0247 - mse: 0.0247 - val_loss: 0.0257 - val_mse: 0.0257\n",
            "Epoch 27/40\n",
            "34/34 [==============================] - 0s 8ms/step - loss: 0.0256 - mse: 0.0256 - val_loss: 0.0159 - val_mse: 0.0159\n",
            "Epoch 28/40\n",
            "34/34 [==============================] - 0s 8ms/step - loss: 0.0267 - mse: 0.0267 - val_loss: 0.0156 - val_mse: 0.0156\n",
            "Epoch 29/40\n",
            "34/34 [==============================] - 1s 15ms/step - loss: 0.0240 - mse: 0.0240 - val_loss: 0.0075 - val_mse: 0.0075\n",
            "Epoch 30/40\n",
            "34/34 [==============================] - 0s 11ms/step - loss: 0.0230 - mse: 0.0230 - val_loss: 0.0138 - val_mse: 0.0138\n",
            "Epoch 31/40\n",
            "34/34 [==============================] - 0s 8ms/step - loss: 0.0217 - mse: 0.0217 - val_loss: 0.0031 - val_mse: 0.0031\n",
            "Epoch 32/40\n",
            "34/34 [==============================] - 0s 8ms/step - loss: 0.0204 - mse: 0.0204 - val_loss: 0.0090 - val_mse: 0.0090\n",
            "Epoch 33/40\n",
            "34/34 [==============================] - 0s 13ms/step - loss: 0.0200 - mse: 0.0200 - val_loss: 0.0032 - val_mse: 0.0032\n",
            "Epoch 34/40\n",
            "34/34 [==============================] - 0s 9ms/step - loss: 0.0212 - mse: 0.0212 - val_loss: 0.0086 - val_mse: 0.0086\n",
            "Epoch 35/40\n",
            "34/34 [==============================] - 0s 10ms/step - loss: 0.0189 - mse: 0.0189 - val_loss: 0.0072 - val_mse: 0.0072\n",
            "Epoch 36/40\n",
            "34/34 [==============================] - 0s 12ms/step - loss: 0.0187 - mse: 0.0187 - val_loss: 0.0052 - val_mse: 0.0052\n",
            "Epoch 37/40\n",
            "34/34 [==============================] - 0s 10ms/step - loss: 0.0189 - mse: 0.0189 - val_loss: 0.0164 - val_mse: 0.0164\n",
            "Epoch 38/40\n",
            "34/34 [==============================] - 0s 10ms/step - loss: 0.0185 - mse: 0.0185 - val_loss: 0.0033 - val_mse: 0.0033\n",
            "Epoch 39/40\n",
            "34/34 [==============================] - 0s 12ms/step - loss: 0.0208 - mse: 0.0208 - val_loss: 0.0068 - val_mse: 0.0068\n",
            "Epoch 40/40\n",
            "34/34 [==============================] - 0s 9ms/step - loss: 0.0198 - mse: 0.0198 - val_loss: 0.0065 - val_mse: 0.0065\n"
          ]
        }
      ],
      "source": [
        "model.compile(loss='mean_squared_error', optimizer=Optimizador(learning_rate=learning_rate), metrics=['mse'])\n",
        "history = model.fit(x_train, y_train, batch_size=batch_size, epochs=epochs, verbose=1, validation_data=(x_test, y_test))"
      ]
    },
    {
      "cell_type": "code",
      "execution_count": 9,
      "metadata": {
        "id": "IdZ9-LlSLXx8",
        "colab": {
          "base_uri": "https://localhost:8080/",
          "height": 560
        },
        "outputId": "a5847af9-c171-4c3d-e183-956ef3131a70"
      },
      "outputs": [
        {
          "output_type": "stream",
          "name": "stdout",
          "text": [
            "4/4 [==============================] - 0s 4ms/step\n"
          ]
        },
        {
          "output_type": "display_data",
          "data": {
            "text/plain": [
              "<Figure size 800x600 with 1 Axes>"
            ],
            "image/png": "[encoded data removed]"
          },
          "metadata": {}
        }
      ],
      "source": [
        "x_pred = np.linspace(-1, 1, 100).reshape(-1, 1)\n",
        "y_pred = model.predict(x_pred)\n",
        "\n",
        "\n",
        "plt.figure(figsize=(8, 6))\n",
        "plt.plot(x_test, y_test, color='blue', label='Función (Datos de entranamiento)')\n",
        "plt.plot(x_pred, y_pred, color='red', label='Predicción de Red Neuronal')\n",
        "plt.xlabel('x')\n",
        "plt.ylabel('y')\n",
        "plt.legend()\n",
        "plt.show()"
      ]
    },
    {
      "cell_type": "code",
      "execution_count": 10,
      "metadata": {
        "id": "uWGnWHkJUmE_",
        "colab": {
          "base_uri": "https://localhost:8080/",
          "height": 449
        },
        "outputId": "da7f6709-ee9c-403f-aab3-1485138a18e7"
      },
      "outputs": [
        {
          "output_type": "display_data",
          "data": {
            "text/plain": [
              "<Figure size 640x480 with 1 Axes>"
            ],
            "image/png": "[encoded data removed]"
          },
          "metadata": {}
        }
      ],
      "source": [
        "loss = history.history['loss']\n",
        "val_loss = history.history['val_loss']\n",
        "plt.plot(loss, label='loss')\n",
        "plt.plot(val_loss, label='val_loss')\n",
        "plt.xlabel('Epoch')\n",
        "plt.ylabel('Loss')\n",
        "plt.legend()\n",
        "plt.show()"
      ]
    },
    {
      "cell_type": "code",
      "execution_count": 11,
      "metadata": {
        "id": "XqJS8s22Nd2s"
      },
      "outputs": [],
      "source": [
        "#Ejercicio 1(b): \n",
        "#Vamos a proponer los siguientes arreglos como conjuntos de entranmiento y de prueba \n",
        "\n",
        "x_train = np.linspace(-1, 1, 1000).reshape(-1, 1)\n",
        "y_train = 1+2*x_train+4*np.power(x_train,3.)\n",
        "\n",
        "#Eliminamos elementos repetidos entre el conjunto de entrenamiento y de prueba\n",
        "v=np.linspace(-1, 1, 100)\n",
        "cond=np.isin(np.linspace(-1, 1, 100),np.linspace(-1, 1, 1000))\n",
        "v=v[np.where(~cond)]\n",
        "\n",
        "x_test = v.reshape(-1, 1)\n",
        "y_test = 1+2*x_test+4*np.power(x_test,3.)\n"
      ]
    },
    {
      "cell_type": "code",
      "execution_count": 12,
      "metadata": {
        "id": "u7v0nOMYOTCl"
      },
      "outputs": [],
      "source": [
        "model = Sequential()\n",
        "model.add(Dense(300, activation='relu', input_shape=(1,)))\n",
        "model.add(Dropout(0.2))\n",
        "model.add(Dense(300, activation='relu'))\n",
        "model.add(Dense(1))\n",
        "\n"
      ]
    },
    {
      "cell_type": "code",
      "source": [
        "model = Sequential()\n",
        "model.add(Dense(300, activation='relu', kernel_regularizer=regularizers.l2(0.01), input_shape=(1,)))\n",
        "model.add(Dropout(0.2))\n",
        "model.add(Dense(300, activation='relu', kernel_regularizer=regularizers.l2(0.01)))\n",
        "model.add(Dropout(0.2))\n",
        "model.add(Dense(1))"
      ],
      "metadata": {
        "id": "oR-dciXIzvMu"
      },
      "execution_count": null,
      "outputs": []
    },
    {
      "cell_type": "code",
      "execution_count": null,
      "metadata": {
        "id": "wz9JQrGsSDmw"
      },
      "outputs": [],
      "source": [
        "batch_size=20 \n",
        "epochs=30\n",
        "learning_rate=0.01\n",
        "Optimizador=SGD\n",
        "import wandb\n",
        "from wandb.keras import WandbCallback\n",
        "wandb.init(project=\"Red_Neuronal_Ejercicio1b\")\n",
        "wandb.config.learning_rate = learning_rate\n",
        "wandb.config.epochs = epochs\n",
        "wandb.config.batch_size = batch_size\n",
        "wandb.config.optimizador=Optimizador"
      ]
    },
    {
      "cell_type": "code",
      "execution_count": 14,
      "metadata": {
        "id": "QoPKQzZWOgkm",
        "colab": {
          "base_uri": "https://localhost:8080/"
        },
        "outputId": "d3348df7-97c5-47d9-e6b0-fc1124ae55df"
      },
      "outputs": [
        {
          "output_type": "stream",
          "name": "stderr",
          "text": [
            "\u001b[34m\u001b[1mwandb\u001b[0m: \u001b[33mWARNING\u001b[0m The save_model argument by default saves the model in the HDF5 format that cannot save custom objects like subclassed models and custom layers. This behavior will be deprecated in a future release in favor of the SavedModel format. Meanwhile, the HDF5 model is saved as W&B files and the SavedModel as W&B Artifacts.\n"
          ]
        },
        {
          "output_type": "stream",
          "name": "stdout",
          "text": [
            "Epoch 1/30\n",
            "43/50 [========================>.....] - ETA: 0s - loss: 4.7209 - mse: 4.7209"
          ]
        },
        {
          "output_type": "stream",
          "name": "stderr",
          "text": [
            "WARNING:absl:Found untraced functions such as _update_step_xla while saving (showing 1 of 1). These functions will not be directly callable after loading.\n",
            "\u001b[34m\u001b[1mwandb\u001b[0m: Adding directory to artifact (/content/wandb/run-20230528_191114-2fedjzj2/files/model-best)... Done. 0.0s\n"
          ]
        },
        {
          "output_type": "stream",
          "name": "stdout",
          "text": [
            "\b\b\b\b\b\b\b\b\b\b\b\b\b\b\b\b\b\b\b\b\b\b\b\b\b\b\b\b\b\b\b\b\b\b\b\b\b\b\b\b\b\b\b\b\b\b\b\b\b\b\b\b\b\b\b\b\b\b\b\b\b\b\b\b\b\b\b\b\b\b\b\b\b\b\b\b\b\r50/50 [==============================] - 2s 29ms/step - loss: 4.1973 - mse: 4.1973 - val_loss: 1.0492 - val_mse: 1.0492\n",
            "Epoch 2/30\n",
            "43/50 [========================>.....] - ETA: 0s - loss: 0.8557 - mse: 0.8557"
          ]
        },
        {
          "output_type": "stream",
          "name": "stderr",
          "text": [
            "WARNING:absl:Found untraced functions such as _update_step_xla while saving (showing 1 of 1). These functions will not be directly callable after loading.\n",
            "\u001b[34m\u001b[1mwandb\u001b[0m: Adding directory to artifact (/content/wandb/run-20230528_191114-2fedjzj2/files/model-best)... Done. 0.0s\n"
          ]
        },
        {
          "output_type": "stream",
          "name": "stdout",
          "text": [
            "\b\b\b\b\b\b\b\b\b\b\b\b\b\b\b\b\b\b\b\b\b\b\b\b\b\b\b\b\b\b\b\b\b\b\b\b\b\b\b\b\b\b\b\b\b\b\b\b\b\b\b\b\b\b\b\b\b\b\b\b\b\b\b\b\b\b\b\b\b\b\b\b\b\b\b\b\b\r50/50 [==============================] - 1s 24ms/step - loss: 0.8303 - mse: 0.8303 - val_loss: 0.5593 - val_mse: 0.5593\n",
            "Epoch 3/30\n",
            "46/50 [==========================>...] - ETA: 0s - loss: 0.5821 - mse: 0.5821"
          ]
        },
        {
          "output_type": "stream",
          "name": "stderr",
          "text": [
            "WARNING:absl:Found untraced functions such as _update_step_xla while saving (showing 1 of 1). These functions will not be directly callable after loading.\n",
            "\u001b[34m\u001b[1mwandb\u001b[0m: Adding directory to artifact (/content/wandb/run-20230528_191114-2fedjzj2/files/model-best)... Done. 0.0s\n"
          ]
        },
        {
          "output_type": "stream",
          "name": "stdout",
          "text": [
            "\b\b\b\b\b\b\b\b\b\b\b\b\b\b\b\b\b\b\b\b\b\b\b\b\b\b\b\b\b\b\b\b\b\b\b\b\b\b\b\b\b\b\b\b\b\b\b\b\b\b\b\b\b\b\b\b\b\b\b\b\b\b\b\b\b\b\b\b\b\b\b\b\b\b\b\b\b\r50/50 [==============================] - 1s 28ms/step - loss: 0.5778 - mse: 0.5778 - val_loss: 0.4694 - val_mse: 0.4694\n",
            "Epoch 4/30\n",
            "46/50 [==========================>...] - ETA: 0s - loss: 0.5101 - mse: 0.5101"
          ]
        },
        {
          "output_type": "stream",
          "name": "stderr",
          "text": [
            "WARNING:absl:Found untraced functions such as _update_step_xla while saving (showing 1 of 1). These functions will not be directly callable after loading.\n",
            "\u001b[34m\u001b[1mwandb\u001b[0m: Adding directory to artifact (/content/wandb/run-20230528_191114-2fedjzj2/files/model-best)... Done. 0.0s\n"
          ]
        },
        {
          "output_type": "stream",
          "name": "stdout",
          "text": [
            "\b\b\b\b\b\b\b\b\b\b\b\b\b\b\b\b\b\b\b\b\b\b\b\b\b\b\b\b\b\b\b\b\b\b\b\b\b\b\b\b\b\b\b\b\b\b\b\b\b\b\b\b\b\b\b\b\b\b\b\b\b\b\b\b\b\b\b\b\b\b\b\b\b\b\b\b\b\r50/50 [==============================] - 2s 34ms/step - loss: 0.5036 - mse: 0.5036 - val_loss: 0.3372 - val_mse: 0.3372\n",
            "Epoch 5/30\n",
            "49/50 [============================>.] - ETA: 0s - loss: 0.4362 - mse: 0.4362"
          ]
        },
        {
          "output_type": "stream",
          "name": "stderr",
          "text": [
            "WARNING:absl:Found untraced functions such as _update_step_xla while saving (showing 1 of 1). These functions will not be directly callable after loading.\n",
            "\u001b[34m\u001b[1mwandb\u001b[0m: Adding directory to artifact (/content/wandb/run-20230528_191114-2fedjzj2/files/model-best)... Done. 0.0s\n"
          ]
        },
        {
          "output_type": "stream",
          "name": "stdout",
          "text": [
            "\b\b\b\b\b\b\b\b\b\b\b\b\b\b\b\b\b\b\b\b\b\b\b\b\b\b\b\b\b\b\b\b\b\b\b\b\b\b\b\b\b\b\b\b\b\b\b\b\b\b\b\b\b\b\b\b\b\b\b\b\b\b\b\b\b\b\b\b\b\b\b\b\b\b\b\b\b\r50/50 [==============================] - 2s 34ms/step - loss: 0.4355 - mse: 0.4355 - val_loss: 0.3018 - val_mse: 0.3018\n",
            "Epoch 6/30\n",
            "44/50 [=========================>....] - ETA: 0s - loss: 0.3884 - mse: 0.3884"
          ]
        },
        {
          "output_type": "stream",
          "name": "stderr",
          "text": [
            "WARNING:absl:Found untraced functions such as _update_step_xla while saving (showing 1 of 1). These functions will not be directly callable after loading.\n",
            "\u001b[34m\u001b[1mwandb\u001b[0m: Adding directory to artifact (/content/wandb/run-20230528_191114-2fedjzj2/files/model-best)... Done. 0.0s\n"
          ]
        },
        {
          "output_type": "stream",
          "name": "stdout",
          "text": [
            "\b\b\b\b\b\b\b\b\b\b\b\b\b\b\b\b\b\b\b\b\b\b\b\b\b\b\b\b\b\b\b\b\b\b\b\b\b\b\b\b\b\b\b\b\b\b\b\b\b\b\b\b\b\b\b\b\b\b\b\b\b\b\b\b\b\b\b\b\b\b\b\b\b\b\b\b\b\r50/50 [==============================] - 1s 23ms/step - loss: 0.3897 - mse: 0.3897 - val_loss: 0.2436 - val_mse: 0.2436\n",
            "Epoch 7/30\n",
            "49/50 [============================>.] - ETA: 0s - loss: 0.3257 - mse: 0.3257"
          ]
        },
        {
          "output_type": "stream",
          "name": "stderr",
          "text": [
            "WARNING:absl:Found untraced functions such as _update_step_xla while saving (showing 1 of 1). These functions will not be directly callable after loading.\n",
            "\u001b[34m\u001b[1mwandb\u001b[0m: Adding directory to artifact (/content/wandb/run-20230528_191114-2fedjzj2/files/model-best)... Done. 0.0s\n"
          ]
        },
        {
          "output_type": "stream",
          "name": "stdout",
          "text": [
            "\b\b\b\b\b\b\b\b\b\b\b\b\b\b\b\b\b\b\b\b\b\b\b\b\b\b\b\b\b\b\b\b\b\b\b\b\b\b\b\b\b\b\b\b\b\b\b\b\b\b\b\b\b\b\b\b\b\b\b\b\b\b\b\b\b\b\b\b\b\b\b\b\b\b\b\b\b\r50/50 [==============================] - 1s 29ms/step - loss: 0.3251 - mse: 0.3251 - val_loss: 0.2066 - val_mse: 0.2066\n",
            "Epoch 8/30\n",
            "47/50 [===========================>..] - ETA: 0s - loss: 0.2929 - mse: 0.2929"
          ]
        },
        {
          "output_type": "stream",
          "name": "stderr",
          "text": [
            "WARNING:absl:Found untraced functions such as _update_step_xla while saving (showing 1 of 1). These functions will not be directly callable after loading.\n",
            "\u001b[34m\u001b[1mwandb\u001b[0m: Adding directory to artifact (/content/wandb/run-20230528_191114-2fedjzj2/files/model-best)... Done. 0.0s\n"
          ]
        },
        {
          "output_type": "stream",
          "name": "stdout",
          "text": [
            "\b\b\b\b\b\b\b\b\b\b\b\b\b\b\b\b\b\b\b\b\b\b\b\b\b\b\b\b\b\b\b\b\b\b\b\b\b\b\b\b\b\b\b\b\b\b\b\b\b\b\b\b\b\b\b\b\b\b\b\b\b\b\b\b\b\b\b\b\b\b\b\b\b\b\b\b\b\r50/50 [==============================] - 1s 23ms/step - loss: 0.2920 - mse: 0.2920 - val_loss: 0.1862 - val_mse: 0.1862\n",
            "Epoch 9/30\n",
            "48/50 [===========================>..] - ETA: 0s - loss: 0.2665 - mse: 0.2665"
          ]
        },
        {
          "output_type": "stream",
          "name": "stderr",
          "text": [
            "WARNING:absl:Found untraced functions such as _update_step_xla while saving (showing 1 of 1). These functions will not be directly callable after loading.\n",
            "\u001b[34m\u001b[1mwandb\u001b[0m: Adding directory to artifact (/content/wandb/run-20230528_191114-2fedjzj2/files/model-best)... Done. 0.0s\n"
          ]
        },
        {
          "output_type": "stream",
          "name": "stdout",
          "text": [
            "\b\b\b\b\b\b\b\b\b\b\b\b\b\b\b\b\b\b\b\b\b\b\b\b\b\b\b\b\b\b\b\b\b\b\b\b\b\b\b\b\b\b\b\b\b\b\b\b\b\b\b\b\b\b\b\b\b\b\b\b\b\b\b\b\b\b\b\b\b\b\b\b\b\b\b\b\b\r50/50 [==============================] - 1s 22ms/step - loss: 0.2667 - mse: 0.2667 - val_loss: 0.1525 - val_mse: 0.1525\n",
            "Epoch 10/30\n",
            "36/50 [====================>.........] - ETA: 0s - loss: 0.2440 - mse: 0.2440"
          ]
        },
        {
          "output_type": "stream",
          "name": "stderr",
          "text": [
            "WARNING:absl:Found untraced functions such as _update_step_xla while saving (showing 1 of 1). These functions will not be directly callable after loading.\n",
            "\u001b[34m\u001b[1mwandb\u001b[0m: Adding directory to artifact (/content/wandb/run-20230528_191114-2fedjzj2/files/model-best)... Done. 0.0s\n"
          ]
        },
        {
          "output_type": "stream",
          "name": "stdout",
          "text": [
            "\b\b\b\b\b\b\b\b\b\b\b\b\b\b\b\b\b\b\b\b\b\b\b\b\b\b\b\b\b\b\b\b\b\b\b\b\b\b\b\b\b\b\b\b\b\b\b\b\b\b\b\b\b\b\b\b\b\b\b\b\b\b\b\b\b\b\b\b\b\b\b\b\b\b\b\b\b\r50/50 [==============================] - 1s 23ms/step - loss: 0.2278 - mse: 0.2278 - val_loss: 0.1310 - val_mse: 0.1310\n",
            "Epoch 11/30\n",
            "43/50 [========================>.....] - ETA: 0s - loss: 0.2148 - mse: 0.2148"
          ]
        },
        {
          "output_type": "stream",
          "name": "stderr",
          "text": [
            "WARNING:absl:Found untraced functions such as _update_step_xla while saving (showing 1 of 1). These functions will not be directly callable after loading.\n",
            "\u001b[34m\u001b[1mwandb\u001b[0m: Adding directory to artifact (/content/wandb/run-20230528_191114-2fedjzj2/files/model-best)... Done. 0.0s\n"
          ]
        },
        {
          "output_type": "stream",
          "name": "stdout",
          "text": [
            "\b\b\b\b\b\b\b\b\b\b\b\b\b\b\b\b\b\b\b\b\b\b\b\b\b\b\b\b\b\b\b\b\b\b\b\b\b\b\b\b\b\b\b\b\b\b\b\b\b\b\b\b\b\b\b\b\b\b\b\b\b\b\b\b\b\b\b\b\b\b\b\b\b\b\b\b\b\r50/50 [==============================] - 1s 22ms/step - loss: 0.2133 - mse: 0.2133 - val_loss: 0.1157 - val_mse: 0.1157\n",
            "Epoch 12/30\n",
            "48/50 [===========================>..] - ETA: 0s - loss: 0.1882 - mse: 0.1882"
          ]
        },
        {
          "output_type": "stream",
          "name": "stderr",
          "text": [
            "WARNING:absl:Found untraced functions such as _update_step_xla while saving (showing 1 of 1). These functions will not be directly callable after loading.\n",
            "\u001b[34m\u001b[1mwandb\u001b[0m: Adding directory to artifact (/content/wandb/run-20230528_191114-2fedjzj2/files/model-best)... Done. 0.0s\n"
          ]
        },
        {
          "output_type": "stream",
          "name": "stdout",
          "text": [
            "\b\b\b\b\b\b\b\b\b\b\b\b\b\b\b\b\b\b\b\b\b\b\b\b\b\b\b\b\b\b\b\b\b\b\b\b\b\b\b\b\b\b\b\b\b\b\b\b\b\b\b\b\b\b\b\b\b\b\b\b\b\b\b\b\b\b\b\b\b\b\b\b\b\b\b\b\b\r50/50 [==============================] - 1s 24ms/step - loss: 0.1875 - mse: 0.1875 - val_loss: 0.0996 - val_mse: 0.0996\n",
            "Epoch 13/30\n",
            "47/50 [===========================>..] - ETA: 0s - loss: 0.1685 - mse: 0.1685"
          ]
        },
        {
          "output_type": "stream",
          "name": "stderr",
          "text": [
            "WARNING:absl:Found untraced functions such as _update_step_xla while saving (showing 1 of 1). These functions will not be directly callable after loading.\n",
            "\u001b[34m\u001b[1mwandb\u001b[0m: Adding directory to artifact (/content/wandb/run-20230528_191114-2fedjzj2/files/model-best)... Done. 0.0s\n"
          ]
        },
        {
          "output_type": "stream",
          "name": "stdout",
          "text": [
            "\b\b\b\b\b\b\b\b\b\b\b\b\b\b\b\b\b\b\b\b\b\b\b\b\b\b\b\b\b\b\b\b\b\b\b\b\b\b\b\b\b\b\b\b\b\b\b\b\b\b\b\b\b\b\b\b\b\b\b\b\b\b\b\b\b\b\b\b\b\b\b\b\b\b\b\b\b\r50/50 [==============================] - 1s 23ms/step - loss: 0.1675 - mse: 0.1675 - val_loss: 0.0905 - val_mse: 0.0905\n",
            "Epoch 14/30\n",
            "50/50 [==============================] - ETA: 0s - loss: 0.1451 - mse: 0.1451"
          ]
        },
        {
          "output_type": "stream",
          "name": "stderr",
          "text": [
            "WARNING:absl:Found untraced functions such as _update_step_xla while saving (showing 1 of 1). These functions will not be directly callable after loading.\n",
            "\u001b[34m\u001b[1mwandb\u001b[0m: Adding directory to artifact (/content/wandb/run-20230528_191114-2fedjzj2/files/model-best)... Done. 0.0s\n"
          ]
        },
        {
          "output_type": "stream",
          "name": "stdout",
          "text": [
            "\b\b\b\b\b\b\b\b\b\b\b\b\b\b\b\b\b\b\b\b\b\b\b\b\b\b\b\b\b\b\b\b\b\b\b\b\b\b\b\b\b\b\b\b\b\b\b\b\b\b\b\b\b\b\b\b\b\b\b\b\b\b\b\b\b\b\b\b\b\b\b\b\b\b\b\b\b\r50/50 [==============================] - 1s 28ms/step - loss: 0.1451 - mse: 0.1451 - val_loss: 0.0847 - val_mse: 0.0847\n",
            "Epoch 15/30\n",
            "46/50 [==========================>...] - ETA: 0s - loss: 0.1435 - mse: 0.1435"
          ]
        },
        {
          "output_type": "stream",
          "name": "stderr",
          "text": [
            "WARNING:absl:Found untraced functions such as _update_step_xla while saving (showing 1 of 1). These functions will not be directly callable after loading.\n",
            "\u001b[34m\u001b[1mwandb\u001b[0m: Adding directory to artifact (/content/wandb/run-20230528_191114-2fedjzj2/files/model-best)... Done. 0.0s\n"
          ]
        },
        {
          "output_type": "stream",
          "name": "stdout",
          "text": [
            "\b\b\b\b\b\b\b\b\b\b\b\b\b\b\b\b\b\b\b\b\b\b\b\b\b\b\b\b\b\b\b\b\b\b\b\b\b\b\b\b\b\b\b\b\b\b\b\b\b\b\b\b\b\b\b\b\b\b\b\b\b\b\b\b\b\b\b\b\b\b\b\b\b\b\b\b\b\r50/50 [==============================] - 2s 35ms/step - loss: 0.1431 - mse: 0.1431 - val_loss: 0.0643 - val_mse: 0.0643\n",
            "Epoch 16/30\n",
            "47/50 [===========================>..] - ETA: 0s - loss: 0.1339 - mse: 0.1339"
          ]
        },
        {
          "output_type": "stream",
          "name": "stderr",
          "text": [
            "WARNING:absl:Found untraced functions such as _update_step_xla while saving (showing 1 of 1). These functions will not be directly callable after loading.\n",
            "\u001b[34m\u001b[1mwandb\u001b[0m: Adding directory to artifact (/content/wandb/run-20230528_191114-2fedjzj2/files/model-best)... Done. 0.0s\n"
          ]
        },
        {
          "output_type": "stream",
          "name": "stdout",
          "text": [
            "\b\b\b\b\b\b\b\b\b\b\b\b\b\b\b\b\b\b\b\b\b\b\b\b\b\b\b\b\b\b\b\b\b\b\b\b\b\b\b\b\b\b\b\b\b\b\b\b\b\b\b\b\b\b\b\b\b\b\b\b\b\b\b\b\b\b\b\b\b\b\b\b\b\b\b\b\b\r50/50 [==============================] - 2s 35ms/step - loss: 0.1352 - mse: 0.1352 - val_loss: 0.0572 - val_mse: 0.0572\n",
            "Epoch 17/30\n",
            "41/50 [=======================>......] - ETA: 0s - loss: 0.1090 - mse: 0.1090"
          ]
        },
        {
          "output_type": "stream",
          "name": "stderr",
          "text": [
            "WARNING:absl:Found untraced functions such as _update_step_xla while saving (showing 1 of 1). These functions will not be directly callable after loading.\n",
            "\u001b[34m\u001b[1mwandb\u001b[0m: Adding directory to artifact (/content/wandb/run-20230528_191114-2fedjzj2/files/model-best)... Done. 0.0s\n"
          ]
        },
        {
          "output_type": "stream",
          "name": "stdout",
          "text": [
            "\b\b\b\b\b\b\b\b\b\b\b\b\b\b\b\b\b\b\b\b\b\b\b\b\b\b\b\b\b\b\b\b\b\b\b\b\b\b\b\b\b\b\b\b\b\b\b\b\b\b\b\b\b\b\b\b\b\b\b\b\b\b\b\b\b\b\b\b\b\b\b\b\b\b\b\b\b\r50/50 [==============================] - 1s 23ms/step - loss: 0.1094 - mse: 0.1094 - val_loss: 0.0549 - val_mse: 0.0549\n",
            "Epoch 18/30\n",
            "50/50 [==============================] - ETA: 0s - loss: 0.1087 - mse: 0.1087"
          ]
        },
        {
          "output_type": "stream",
          "name": "stderr",
          "text": [
            "WARNING:absl:Found untraced functions such as _update_step_xla while saving (showing 1 of 1). These functions will not be directly callable after loading.\n",
            "\u001b[34m\u001b[1mwandb\u001b[0m: Adding directory to artifact (/content/wandb/run-20230528_191114-2fedjzj2/files/model-best)... Done. 0.0s\n"
          ]
        },
        {
          "output_type": "stream",
          "name": "stdout",
          "text": [
            "\b\b\b\b\b\b\b\b\b\b\b\b\b\b\b\b\b\b\b\b\b\b\b\b\b\b\b\b\b\b\b\b\b\b\b\b\b\b\b\b\b\b\b\b\b\b\b\b\b\b\b\b\b\b\b\b\b\b\b\b\b\b\b\b\b\b\b\b\b\b\b\b\b\b\b\b\b\r50/50 [==============================] - 2s 32ms/step - loss: 0.1087 - mse: 0.1087 - val_loss: 0.0451 - val_mse: 0.0451\n",
            "Epoch 19/30\n",
            "49/50 [============================>.] - ETA: 0s - loss: 0.0914 - mse: 0.0914"
          ]
        },
        {
          "output_type": "stream",
          "name": "stderr",
          "text": [
            "WARNING:absl:Found untraced functions such as _update_step_xla while saving (showing 1 of 1). These functions will not be directly callable after loading.\n",
            "\u001b[34m\u001b[1mwandb\u001b[0m: Adding directory to artifact (/content/wandb/run-20230528_191114-2fedjzj2/files/model-best)... Done. 0.0s\n"
          ]
        },
        {
          "output_type": "stream",
          "name": "stdout",
          "text": [
            "\b\b\b\b\b\b\b\b\b\b\b\b\b\b\b\b\b\b\b\b\b\b\b\b\b\b\b\b\b\b\b\b\b\b\b\b\b\b\b\b\b\b\b\b\b\b\b\b\b\b\b\b\b\b\b\b\b\b\b\b\b\b\b\b\b\b\b\b\b\b\b\b\b\b\b\b\b\r50/50 [==============================] - 1s 23ms/step - loss: 0.0915 - mse: 0.0915 - val_loss: 0.0384 - val_mse: 0.0384\n",
            "Epoch 20/30\n",
            "45/50 [==========================>...] - ETA: 0s - loss: 0.0848 - mse: 0.0848"
          ]
        },
        {
          "output_type": "stream",
          "name": "stderr",
          "text": [
            "WARNING:absl:Found untraced functions such as _update_step_xla while saving (showing 1 of 1). These functions will not be directly callable after loading.\n",
            "\u001b[34m\u001b[1mwandb\u001b[0m: Adding directory to artifact (/content/wandb/run-20230528_191114-2fedjzj2/files/model-best)... Done. 0.0s\n"
          ]
        },
        {
          "output_type": "stream",
          "name": "stdout",
          "text": [
            "\b\b\b\b\b\b\b\b\b\b\b\b\b\b\b\b\b\b\b\b\b\b\b\b\b\b\b\b\b\b\b\b\b\b\b\b\b\b\b\b\b\b\b\b\b\b\b\b\b\b\b\b\b\b\b\b\b\b\b\b\b\b\b\b\b\b\b\b\b\b\b\b\b\b\b\b\b\r50/50 [==============================] - 1s 24ms/step - loss: 0.0872 - mse: 0.0872 - val_loss: 0.0327 - val_mse: 0.0327\n",
            "Epoch 21/30\n",
            "50/50 [==============================] - ETA: 0s - loss: 0.0855 - mse: 0.0855"
          ]
        },
        {
          "output_type": "stream",
          "name": "stderr",
          "text": [
            "WARNING:absl:Found untraced functions such as _update_step_xla while saving (showing 1 of 1). These functions will not be directly callable after loading.\n",
            "\u001b[34m\u001b[1mwandb\u001b[0m: Adding directory to artifact (/content/wandb/run-20230528_191114-2fedjzj2/files/model-best)... Done. 0.0s\n"
          ]
        },
        {
          "output_type": "stream",
          "name": "stdout",
          "text": [
            "\b\b\b\b\b\b\b\b\b\b\b\b\b\b\b\b\b\b\b\b\b\b\b\b\b\b\b\b\b\b\b\b\b\b\b\b\b\b\b\b\b\b\b\b\b\b\b\b\b\b\b\b\b\b\b\b\b\b\b\b\b\b\b\b\b\b\b\b\b\b\b\b\b\b\b\b\b\r50/50 [==============================] - 1s 24ms/step - loss: 0.0855 - mse: 0.0855 - val_loss: 0.0304 - val_mse: 0.0304\n",
            "Epoch 22/30\n",
            "41/50 [=======================>......] - ETA: 0s - loss: 0.0747 - mse: 0.0747"
          ]
        },
        {
          "output_type": "stream",
          "name": "stderr",
          "text": [
            "WARNING:absl:Found untraced functions such as _update_step_xla while saving (showing 1 of 1). These functions will not be directly callable after loading.\n",
            "\u001b[34m\u001b[1mwandb\u001b[0m: Adding directory to artifact (/content/wandb/run-20230528_191114-2fedjzj2/files/model-best)... Done. 0.0s\n"
          ]
        },
        {
          "output_type": "stream",
          "name": "stdout",
          "text": [
            "\b\b\b\b\b\b\b\b\b\b\b\b\b\b\b\b\b\b\b\b\b\b\b\b\b\b\b\b\b\b\b\b\b\b\b\b\b\b\b\b\b\b\b\b\b\b\b\b\b\b\b\b\b\b\b\b\b\b\b\b\b\b\b\b\b\b\b\b\b\b\b\b\b\b\b\b\b\r50/50 [==============================] - 1s 24ms/step - loss: 0.0802 - mse: 0.0802 - val_loss: 0.0256 - val_mse: 0.0256\n",
            "Epoch 23/30\n",
            "35/50 [====================>.........] - ETA: 0s - loss: 0.0758 - mse: 0.0758"
          ]
        },
        {
          "output_type": "stream",
          "name": "stderr",
          "text": [
            "WARNING:absl:Found untraced functions such as _update_step_xla while saving (showing 1 of 1). These functions will not be directly callable after loading.\n",
            "\u001b[34m\u001b[1mwandb\u001b[0m: Adding directory to artifact (/content/wandb/run-20230528_191114-2fedjzj2/files/model-best)... Done. 0.0s\n"
          ]
        },
        {
          "output_type": "stream",
          "name": "stdout",
          "text": [
            "\b\b\b\b\b\b\b\b\b\b\b\b\b\b\b\b\b\b\b\b\b\b\b\b\b\b\b\b\b\b\b\b\b\b\b\b\b\b\b\b\b\b\b\b\b\b\b\b\b\b\b\b\b\b\b\b\b\b\b\b\b\b\b\b\b\b\b\b\b\b\b\b\b\b\b\b\b\r50/50 [==============================] - 1s 23ms/step - loss: 0.0710 - mse: 0.0710 - val_loss: 0.0246 - val_mse: 0.0246\n",
            "Epoch 24/30\n",
            "44/50 [=========================>....] - ETA: 0s - loss: 0.0733 - mse: 0.0733"
          ]
        },
        {
          "output_type": "stream",
          "name": "stderr",
          "text": [
            "WARNING:absl:Found untraced functions such as _update_step_xla while saving (showing 1 of 1). These functions will not be directly callable after loading.\n",
            "\u001b[34m\u001b[1mwandb\u001b[0m: Adding directory to artifact (/content/wandb/run-20230528_191114-2fedjzj2/files/model-best)... Done. 0.0s\n"
          ]
        },
        {
          "output_type": "stream",
          "name": "stdout",
          "text": [
            "\b\b\b\b\b\b\b\b\b\b\b\b\b\b\b\b\b\b\b\b\b\b\b\b\b\b\b\b\b\b\b\b\b\b\b\b\b\b\b\b\b\b\b\b\b\b\b\b\b\b\b\b\b\b\b\b\b\b\b\b\b\b\b\b\b\b\b\b\b\b\b\b\b\b\b\b\b\r50/50 [==============================] - 1s 23ms/step - loss: 0.0720 - mse: 0.0720 - val_loss: 0.0215 - val_mse: 0.0215\n",
            "Epoch 25/30\n",
            "50/50 [==============================] - ETA: 0s - loss: 0.0669 - mse: 0.0669"
          ]
        },
        {
          "output_type": "stream",
          "name": "stderr",
          "text": [
            "WARNING:absl:Found untraced functions such as _update_step_xla while saving (showing 1 of 1). These functions will not be directly callable after loading.\n",
            "\u001b[34m\u001b[1mwandb\u001b[0m: Adding directory to artifact (/content/wandb/run-20230528_191114-2fedjzj2/files/model-best)... Done. 0.0s\n"
          ]
        },
        {
          "output_type": "stream",
          "name": "stdout",
          "text": [
            "\b\b\b\b\b\b\b\b\b\b\b\b\b\b\b\b\b\b\b\b\b\b\b\b\b\b\b\b\b\b\b\b\b\b\b\b\b\b\b\b\b\b\b\b\b\b\b\b\b\b\b\b\b\b\b\b\b\b\b\b\b\b\b\b\b\b\b\b\b\b\b\b\b\b\b\b\b\r50/50 [==============================] - 2s 34ms/step - loss: 0.0669 - mse: 0.0669 - val_loss: 0.0194 - val_mse: 0.0194\n",
            "Epoch 26/30\n",
            "45/50 [==========================>...] - ETA: 0s - loss: 0.0655 - mse: 0.0655"
          ]
        },
        {
          "output_type": "stream",
          "name": "stderr",
          "text": [
            "WARNING:absl:Found untraced functions such as _update_step_xla while saving (showing 1 of 1). These functions will not be directly callable after loading.\n",
            "\u001b[34m\u001b[1mwandb\u001b[0m: Adding directory to artifact (/content/wandb/run-20230528_191114-2fedjzj2/files/model-best)... Done. 0.0s\n"
          ]
        },
        {
          "output_type": "stream",
          "name": "stdout",
          "text": [
            "\b\b\b\b\b\b\b\b\b\b\b\b\b\b\b\b\b\b\b\b\b\b\b\b\b\b\b\b\b\b\b\b\b\b\b\b\b\b\b\b\b\b\b\b\b\b\b\b\b\b\b\b\b\b\b\b\b\b\b\b\b\b\b\b\b\b\b\b\b\b\b\b\b\b\b\b\b\r50/50 [==============================] - 2s 35ms/step - loss: 0.0651 - mse: 0.0651 - val_loss: 0.0185 - val_mse: 0.0185\n",
            "Epoch 27/30\n",
            "50/50 [==============================] - 0s 7ms/step - loss: 0.0590 - mse: 0.0590 - val_loss: 0.0187 - val_mse: 0.0187\n",
            "Epoch 28/30\n",
            "50/50 [==============================] - 0s 6ms/step - loss: 0.0543 - mse: 0.0543 - val_loss: 0.0198 - val_mse: 0.0198\n",
            "Epoch 29/30\n",
            "45/50 [==========================>...] - ETA: 0s - loss: 0.0461 - mse: 0.0461"
          ]
        },
        {
          "output_type": "stream",
          "name": "stderr",
          "text": [
            "WARNING:absl:Found untraced functions such as _update_step_xla while saving (showing 1 of 1). These functions will not be directly callable after loading.\n",
            "\u001b[34m\u001b[1mwandb\u001b[0m: Adding directory to artifact (/content/wandb/run-20230528_191114-2fedjzj2/files/model-best)... Done. 0.0s\n"
          ]
        },
        {
          "output_type": "stream",
          "name": "stdout",
          "text": [
            "\b\b\b\b\b\b\b\b\b\b\b\b\b\b\b\b\b\b\b\b\b\b\b\b\b\b\b\b\b\b\b\b\b\b\b\b\b\b\b\b\b\b\b\b\b\b\b\b\b\b\b\b\b\b\b\b\b\b\b\b\b\b\b\b\b\b\b\b\b\b\b\b\b\b\b\b\b\r50/50 [==============================] - 1s 24ms/step - loss: 0.0487 - mse: 0.0487 - val_loss: 0.0164 - val_mse: 0.0164\n",
            "Epoch 30/30\n",
            "50/50 [==============================] - 0s 5ms/step - loss: 0.0582 - mse: 0.0582 - val_loss: 0.0223 - val_mse: 0.0223\n"
          ]
        }
      ],
      "source": [
        "model.compile(loss='mean_squared_error', optimizer=SGD(learning_rate=learning_rate), metrics=['mse'])\n",
        "history = model.fit(x_train, y_train, batch_size=batch_size, epochs=epochs, verbose=1, validation_data=(x_test, y_test),callbacks=[WandbCallback()])"
      ]
    },
    {
      "cell_type": "code",
      "execution_count": 15,
      "metadata": {
        "id": "48CJGeqbPeMi",
        "colab": {
          "base_uri": "https://localhost:8080/",
          "height": 560
        },
        "outputId": "281f9342-a5b1-489b-c4f1-cfbb9ac3d6a7"
      },
      "outputs": [
        {
          "output_type": "stream",
          "name": "stdout",
          "text": [
            "4/4 [==============================] - 0s 3ms/step\n"
          ]
        },
        {
          "output_type": "display_data",
          "data": {
            "text/plain": [
              "<Figure size 800x600 with 1 Axes>"
            ],
            "image/png": "[encoded data removed]"
          },
          "metadata": {}
        }
      ],
      "source": [
        "x_pred = np.linspace(-1, 1, 100).reshape(-1, 1)\n",
        "y_pred = model.predict(x_pred)\n",
        "\n",
        "plt.figure(figsize=(8, 6))\n",
        "plt.plot(x_test, y_test, color='blue', label='Función (Datos de entranamiento)')\n",
        "plt.plot(x_pred, y_pred, color='red', label='Predicción de Red Neuronal')\n",
        "plt.xlabel('x')\n",
        "plt.ylabel('y')\n",
        "plt.legend()\n",
        "plt.show()"
      ]
    },
    {
      "cell_type": "code",
      "execution_count": 16,
      "metadata": {
        "id": "_PWheNbQSq4T",
        "colab": {
          "base_uri": "https://localhost:8080/",
          "height": 449
        },
        "outputId": "6f641bf9-9a29-49e8-f3bb-db6a2d1b72f3"
      },
      "outputs": [
        {
          "output_type": "display_data",
          "data": {
            "text/plain": [
              "<Figure size 640x480 with 1 Axes>"
            ],
            "image/png": "[encoded data removed]"
          },
          "metadata": {}
        }
      ],
      "source": [
        "loss = history.history['loss']\n",
        "val_loss = history.history['val_loss']\n",
        "plt.plot(loss, label='loss')\n",
        "plt.plot(val_loss, label='val_oss')\n",
        "plt.xlabel('Epoch')\n",
        "plt.ylabel('Loss')\n",
        "plt.legend()\n",
        "plt.show()"
      ]
    },
    {
      "cell_type": "code",
      "execution_count": 17,
      "metadata": {
        "id": "ThGOk8CoxPAy"
      },
      "outputs": [],
      "source": [
        "#Ejercicio dos: Identificar enfermedades en plantas \n"
      ]
    },
    {
      "cell_type": "code",
      "execution_count": 18,
      "metadata": {
        "id": "b6GSpDdZYgqF",
        "colab": {
          "base_uri": "https://localhost:8080/"
        },
        "outputId": "9c720a04-74f3-4d54-fa42-b701a454a396"
      },
      "outputs": [
        {
          "output_type": "stream",
          "name": "stdout",
          "text": [
            "Mounted at /content/drive\n"
          ]
        }
      ],
      "source": [
        "#Para leer datos desde Google Drive: \n",
        "from google.colab import drive \n",
        "drive.mount('/content/drive') "
      ]
    },
    {
      "cell_type": "code",
      "execution_count": 19,
      "metadata": {
        "id": "2jUIvkPG3e1n"
      },
      "outputs": [],
      "source": [
        "df = pd.read_csv('/content/drive/MyDrive/Base de datos/train.csv', names=['Nombre', 'Clase'])"
      ]
    },
    {
      "cell_type": "code",
      "execution_count": 20,
      "metadata": {
        "id": "2KNuXaqv3zHM"
      },
      "outputs": [],
      "source": [
        "df=df.drop(0,axis=0)#Eliminamos la primera fila que no es d eutilidad"
      ]
    },
    {
      "cell_type": "code",
      "execution_count": 21,
      "metadata": {
        "id": "Pas6quIE3f7m",
        "colab": {
          "base_uri": "https://localhost:8080/"
        },
        "outputId": "a892d748-b28f-426e-f2ac-4430d3a6a2d9"
      },
      "outputs": [
        {
          "output_type": "execute_result",
          "data": {
            "text/plain": [
              "array(['healthy', 'scab frog_eye_leaf_spot complex', 'scab', 'complex',\n",
              "       'rust', 'frog_eye_leaf_spot', 'powdery_mildew',\n",
              "       'scab frog_eye_leaf_spot', 'frog_eye_leaf_spot complex',\n",
              "       'rust frog_eye_leaf_spot', 'powdery_mildew complex',\n",
              "       'rust complex'], dtype=object)"
            ]
          },
          "metadata": {},
          "execution_count": 21
        }
      ],
      "source": [
        "df.Clase.unique()#Checamos las etiquetas de las clases"
      ]
    },
    {
      "cell_type": "code",
      "execution_count": 22,
      "metadata": {
        "id": "5NH6UZaFxjPz",
        "colab": {
          "base_uri": "https://localhost:8080/"
        },
        "outputId": "9ff8456f-0366-4e8a-e1d8-be6bcca5614c"
      },
      "outputs": [
        {
          "output_type": "execute_result",
          "data": {
            "text/plain": [
              "4624"
            ]
          },
          "metadata": {},
          "execution_count": 22
        }
      ],
      "source": [
        "df[df['Clase']=='healthy']['Nombre'].size"
      ]
    },
    {
      "cell_type": "code",
      "execution_count": 23,
      "metadata": {
        "id": "j4iI1bFDvVcb",
        "colab": {
          "base_uri": "https://localhost:8080/"
        },
        "outputId": "835790ef-91ae-44fa-b647-ef1268805047"
      },
      "outputs": [
        {
          "output_type": "stream",
          "name": "stdout",
          "text": [
            "healthy=4624\n",
            "scab frog_eye_leaf_spot complex=200\n",
            "scab=4826\n",
            "complex=1602\n",
            "rust=1860\n",
            "frog_eye_leaf_spot=3181\n",
            "powdery_mildew=1184\n",
            "scab frog_eye_leaf_spot=686\n",
            "frog_eye_leaf_spot complex=165\n",
            "rust frog_eye_leaf_spot=120\n",
            "powdery_mildew complex=87\n",
            "rust complex=97\n"
          ]
        }
      ],
      "source": [
        "for x in list(df.Clase.unique()): \n",
        "  y=df[df['Clase']==x]['Nombre'].size\n",
        "  print(f'{x}={y}')"
      ]
    },
    {
      "cell_type": "code",
      "execution_count": 24,
      "metadata": {
        "id": "bLppSbGtKpKq",
        "colab": {
          "base_uri": "https://localhost:8080/"
        },
        "outputId": "1092a34e-2acb-4aab-8106-9444eeb25ba0"
      },
      "outputs": [
        {
          "output_type": "execute_result",
          "data": {
            "text/plain": [
              "(18632, 2)"
            ]
          },
          "metadata": {},
          "execution_count": 24
        }
      ],
      "source": [
        "df.shape"
      ]
    },
    {
      "cell_type": "code",
      "execution_count": 25,
      "metadata": {
        "id": "xhCRzQdzKfZl"
      },
      "outputs": [],
      "source": [
        "#Vamos a mezclar de manera aleatoria todas las filas del csv\n",
        "#df= df.sample(frac=1, random_state=42)\n",
        "#Vamos a dividir a la mitad la base de datos para la primera parte para imagenes de entrenamiento y la otra por prueba\n",
        "#df1=df.iloc[0:9316,:]\n",
        "#df2=df.iloc[9316:18633,:]"
      ]
    },
    {
      "cell_type": "code",
      "execution_count": 26,
      "metadata": {
        "id": "l7LL-OGFNM1T"
      },
      "outputs": [],
      "source": [
        "#Podemos notar que los conjuntos no tienen elementos en común \n",
        "#set(df1.Nombre).intersection(set(df2.Nombre))"
      ]
    },
    {
      "cell_type": "code",
      "execution_count": 27,
      "metadata": {
        "id": "gpxVur6m3onF"
      },
      "outputs": [],
      "source": [
        "# Ruta de la carpeta de destino para las subcarpetas\n",
        "mini_train = '/content/train_'\n",
        "\n",
        "# Crear la carpeta de destino si no existe\n",
        "if not os.path.exists(mini_train ):\n",
        "    os.makedirs(mini_train )"
      ]
    },
    {
      "cell_type": "code",
      "execution_count": 28,
      "metadata": {
        "id": "VteqNplB8Gxa"
      },
      "outputs": [],
      "source": [
        "#Formamos una lista ordenada de las categorias de que tenemos en nuestro csv\n",
        "E= df.sort_values('Clase')\n",
        "clases= list(E.Clase.unique())"
      ]
    },
    {
      "cell_type": "code",
      "execution_count": 29,
      "metadata": {
        "id": "9t8q8CUu1Kjy"
      },
      "outputs": [],
      "source": [
        "#El próposito de este for es formar carpetas de cada una de las clasificaciones en la carpeta llamada train_\n",
        "#Cada carpeta consta de 50 imágenes con la finalidad de reducir el tiempo de aprendizaje de la red convolucional\n",
        "for i in clases:\n",
        "    contador = 0  # Contador de imágenes en la carpeta actual\n",
        "    for c in list(df[df['Clase'] == i]['Nombre']):\n",
        "        if contador >= 50:\n",
        "            break  # Se alcanzó el límite de imágenes por carpeta\n",
        "        imagen= os.path.join('/content/drive/MyDrive/Base de datos/train_images', c)\n",
        "        if os.path.exists(imagen):\n",
        "            mt= os.path.join(mini_train , 'train_' + i)\n",
        "            if not os.path.exists(mt):\n",
        "                os.makedirs(mt)\n",
        "            m= shutil.copy(imagen,mt)\n",
        "            contador+= 1\n",
        "\n"
      ]
    },
    {
      "cell_type": "code",
      "execution_count": 30,
      "metadata": {
        "id": "WizohjIqrdBM"
      },
      "outputs": [],
      "source": [
        "l=list(os.listdir('/content/train_'))\n"
      ]
    },
    {
      "cell_type": "code",
      "execution_count": 31,
      "metadata": {
        "id": "ApCGw3SZNTa_"
      },
      "outputs": [],
      "source": [
        "#Realizamos el mismo procedimiento para crear la carpeta con subcarpetas de las categorías del problema\n",
        "#Esta vez para el conjunto de prueba \n",
        "\n",
        "# Ruta de la carpeta de destino para las subcarpetas\n",
        "mini_test = '/content/test_'\n",
        "\n",
        "# Crear la carpeta de destino si no existe\n",
        "if not os.path.exists(mini_test):\n",
        "    os.makedirs(mini_test )"
      ]
    },
    {
      "cell_type": "code",
      "execution_count": 32,
      "metadata": {
        "id": "WBjX5MMxNs2U"
      },
      "outputs": [],
      "source": [
        "#Formamos una lista ordenada de las categorias de que tenemos en nuestro csv\n",
        "#E= df2.sort_values('Clase')\n",
        "#clases= list(E.Clase.unique())"
      ]
    },
    {
      "cell_type": "code",
      "execution_count": 33,
      "metadata": {
        "id": "cfkR9xU9N2WR"
      },
      "outputs": [],
      "source": [
        "#El próposito de este for es formar carpetas de cada una de las clasificaciones en la carpeta llamada test_\n",
        "#Cada carpeta consta de 5 imágenes,estamos considerado el 10% de las imagenes de entrenamiento.\n",
        "for i in clases:\n",
        "    contador = 0  # Contador de imágenes en la carpeta actual\n",
        "    for c in list(df[df['Clase'] == i]['Nombre']):\n",
        "        if contador >= 5:\n",
        "            break  # Se alcanzó el límite de imágenes por carpeta\n",
        "        imagen= os.path.join('/content/drive/MyDrive/Base de datos/train_images', c)\n",
        "        if os.path.exists(imagen):\n",
        "            mt= os.path.join(mini_test , 'test_' + i)\n",
        "            if not os.path.exists(mt):\n",
        "                os.makedirs(mt)\n",
        "            m= shutil.copy(imagen,mt)\n",
        "            contador+= 1\n"
      ]
    },
    {
      "cell_type": "code",
      "execution_count": 34,
      "metadata": {
        "id": "MyNUZB8fRO07"
      },
      "outputs": [],
      "source": [
        "ih,iw=150,150 #Tamaño de la imagen\n",
        "input_shape=(ih,iw,3) #forma de la imagen : Largo, Ancho y colores\n",
        "train_dir= '/content/train_' #directorio de entrenamiento\n",
        "test_dir='/content/test_' #directorio de prueba \n",
        "num_class=12 #Número de clases\n",
        "epochs=30 #Epocas\n",
        "batch_size=5  #batch para hacer cada entrenamiento. Lee 5 'batch_size' imagenes antes de actualizar\n",
        "num_train= 600 #Número de imágenes en train \n",
        "num_test=60 #Número de imágenes en test\n",
        "epoch_steps= num_train//batch_size \n",
        "test_steps=num_test//batch_size"
      ]
    },
    {
      "cell_type": "code",
      "execution_count": 35,
      "metadata": {
        "colab": {
          "base_uri": "https://localhost:8080/"
        },
        "id": "0nq3yRFQVZ72",
        "outputId": "d96333ae-6746-4cf3-e1c4-e8f4b930cc8b"
      },
      "outputs": [
        {
          "output_type": "execute_result",
          "data": {
            "text/plain": [
              "set()"
            ]
          },
          "metadata": {},
          "execution_count": 35
        }
      ],
      "source": [
        "h1=set(os.listdir(train_dir))\n",
        "h2=set(os.listdir(test_dir))\n",
        "l=h1.intersection(h2)\n",
        "l"
      ]
    },
    {
      "cell_type": "code",
      "execution_count": 36,
      "metadata": {
        "colab": {
          "base_uri": "https://localhost:8080/"
        },
        "id": "sQg7DCQVnitK",
        "outputId": "8c09cd36-d687-4141-89c0-620044854c2c"
      },
      "outputs": [
        {
          "output_type": "stream",
          "name": "stdout",
          "text": [
            "Found 600 images belonging to 12 classes.\n",
            "Found 60 images belonging to 12 classes.\n"
          ]
        }
      ],
      "source": [
        "gentrain = ImageDataGenerator(rescale=1. / 255., rotation_range=20,width_shift_range=0.2,height_shift_range=0.2,shear_range=0.2,zoom_range=0.2) \n",
        "#Generamos más imágenes mediante rotaciones y traslaciones \n",
        "\n",
        "train = gentrain.flow_from_directory(train_dir,\n",
        "                batch_size=batch_size,\n",
        "                target_size=(iw, ih),\n",
        "                class_mode='categorical',shuffle=True )\n",
        "\n",
        "gentest = ImageDataGenerator(rescale=1. / 255)\n",
        "\n",
        "test = gentest.flow_from_directory(test_dir,\n",
        "                batch_size=batch_size,\n",
        "                target_size=(iw, ih),\n",
        "                class_mode='categorical',shuffle=True )"
      ]
    },
    {
      "cell_type": "code",
      "execution_count": 37,
      "metadata": {
        "id": "-hmEwCGb2knw"
      },
      "outputs": [],
      "source": [
        "#shutil.rmtree('/content/train_') #Para eliminar una carpeta\n"
      ]
    },
    {
      "cell_type": "code",
      "execution_count": 38,
      "metadata": {
        "id": "6ExgRldlsgBq"
      },
      "outputs": [],
      "source": [
        "#shutil.rmtree('/content/test_') #Para eliminar una carpeta"
      ]
    },
    {
      "cell_type": "code",
      "execution_count": 39,
      "metadata": {
        "id": "x9NhMoQs6aOc"
      },
      "outputs": [],
      "source": [
        "model=Sequential() \n",
        "model.add(Conv2D(10,(3,3),input_shape=(ih,iw,3)))\n",
        "model.add(Activation('relu'))\n",
        "model.add(MaxPooling2D(pool_size=(2,2)))\n",
        "\n",
        "model.add(Conv2D(10,(3,3))) \n",
        "model.add(Activation('relu'))\n",
        "model.add(MaxPooling2D(pool_size=(2,2))) \n",
        "\n",
        "model.add(Conv2D(20,(3,3))) \n",
        "model.add(Activation('relu')) \n",
        "model.add(MaxPooling2D(pool_size=(2,2))) \n",
        "\n",
        "model.add(Flatten())\n",
        "model.add(Dropout(0.2))\n",
        "model.add(Dense(64)) \n",
        "model.add(Activation('relu')) \n",
        "model.add(Dropout(0.2))\n",
        "model.add(Dense(12)) \n",
        "model.add(Activation('softmax'))\n",
        "\n"
      ]
    },
    {
      "cell_type": "code",
      "execution_count": 40,
      "metadata": {
        "id": "SEYCNXBnuQjZ"
      },
      "outputs": [],
      "source": [
        "model = Sequential()\n",
        "\n",
        "model.add(Conv2D(32, (3, 3), input_shape=(ih, iw, 3)))\n",
        "model.add(Activation('relu'))\n",
        "model.add(MaxPooling2D(pool_size=(2, 2)))\n",
        "\n",
        "model.add(Conv2D(64, (3, 3)))\n",
        "model.add(Activation('relu'))\n",
        "model.add(MaxPooling2D(pool_size=(2, 2)))\n",
        "\n",
        "model.add(Conv2D(128, (3, 3)))\n",
        "model.add(Activation('relu'))\n",
        "model.add(MaxPooling2D(pool_size=(2, 2)))\n",
        "\n",
        "model.add(Flatten())\n",
        "model.add(Dense(256))\n",
        "model.add(Activation('relu'))\n",
        "model.add(Dropout(0.2))\n",
        "\n",
        "model.add(Dense(128))\n",
        "model.add(Activation('relu'))\n",
        "model.add(Dropout(0.2))\n",
        "\n",
        "model.add(Dense(64))\n",
        "model.add(Activation('relu'))\n",
        "model.add(Dropout(0.2))\n",
        "\n",
        "model.add(Dense(12))\n",
        "model.add(Activation('softmax'))"
      ]
    },
    {
      "cell_type": "code",
      "execution_count": 41,
      "metadata": {
        "colab": {
          "base_uri": "https://localhost:8080/",
          "height": 422
        },
        "id": "tMzwDWRSC9T9",
        "outputId": "ab61b9b5-b986-493d-e64e-e1e4b383b9ea"
      },
      "outputs": [
        {
          "output_type": "display_data",
          "data": {
            "text/plain": [
              "<IPython.core.display.HTML object>"
            ],
            "text/html": [
              "Finishing last run (ID:2fedjzj2) before initializing another..."
            ]
          },
          "metadata": {}
        },
        {
          "output_type": "display_data",
          "data": {
            "text/plain": [
              "<IPython.core.display.HTML object>"
            ],
            "text/html": [
              "Waiting for W&B process to finish... <strong style=\"color:green\">(success).</strong>"
            ]
          },
          "metadata": {}
        },
        {
          "output_type": "display_data",
          "data": {
            "text/plain": [
              "<IPython.core.display.HTML object>"
            ],
            "text/html": [
              "<style>\n",
              "    table.wandb td:nth-child(1) { padding: 0 10px; text-align: left ; width: auto;} td:nth-child(2) {text-align: left ; width: 100%}\n",
              "    .wandb-row { display: flex; flex-direction: row; flex-wrap: wrap; justify-content: flex-start; width: 100% }\n",
              "    .wandb-col { display: flex; flex-direction: column; flex-basis: 100%; flex: 1; padding: 10px; }\n",
              "    </style>\n",
              "<div class=\"wandb-row\"><div class=\"wandb-col\"><h3>Run history:</h3><br/><table class=\"wandb\"><tr><td>epoch</td><td>▁▁▁▂▂▂▂▃▃▃▃▄▄▄▄▅▅▅▅▆▆▆▆▇▇▇▇███</td></tr><tr><td>loss</td><td>█▂▂▂▂▂▁▁▁▁▁▁▁▁▁▁▁▁▁▁▁▁▁▁▁▁▁▁▁▁</td></tr><tr><td>mse</td><td>█▂▂▂▂▂▁▁▁▁▁▁▁▁▁▁▁▁▁▁▁▁▁▁▁▁▁▁▁▁</td></tr><tr><td>val_loss</td><td>█▅▄▃▃▃▂▂▂▂▂▂▂▁▁▁▁▁▁▁▁▁▁▁▁▁▁▁▁▁</td></tr><tr><td>val_mse</td><td>█▅▄▃▃▃▂▂▂▂▂▂▂▁▁▁▁▁▁▁▁▁▁▁▁▁▁▁▁▁</td></tr></table><br/></div><div class=\"wandb-col\"><h3>Run summary:</h3><br/><table class=\"wandb\"><tr><td>best_epoch</td><td>28</td></tr><tr><td>best_val_loss</td><td>0.01639</td></tr><tr><td>epoch</td><td>29</td></tr><tr><td>loss</td><td>0.05824</td></tr><tr><td>mse</td><td>0.05824</td></tr><tr><td>val_loss</td><td>0.02228</td></tr><tr><td>val_mse</td><td>0.02228</td></tr></table><br/></div></div>"
            ]
          },
          "metadata": {}
        },
        {
          "output_type": "display_data",
          "data": {
            "text/plain": [
              "<IPython.core.display.HTML object>"
            ],
            "text/html": [
              " View run <strong style=\"color:#cdcd00\">different-bird-22</strong> at: <a href='https://wandb.ai/hilbertn/Red_Neuronal_Ejercicio1b/runs/2fedjzj2' target=\"_blank\">https://wandb.ai/hilbertn/Red_Neuronal_Ejercicio1b/runs/2fedjzj2</a><br/>Synced 5 W&B file(s), 1 media file(s), 135 artifact file(s) and 1 other file(s)"
            ]
          },
          "metadata": {}
        },
        {
          "output_type": "display_data",
          "data": {
            "text/plain": [
              "<IPython.core.display.HTML object>"
            ],
            "text/html": [
              "Find logs at: <code>./wandb/run-20230528_191114-2fedjzj2/logs</code>"
            ]
          },
          "metadata": {}
        },
        {
          "output_type": "display_data",
          "data": {
            "text/plain": [
              "<IPython.core.display.HTML object>"
            ],
            "text/html": [
              "Successfully finished last run (ID:2fedjzj2). Initializing new run:<br/>"
            ]
          },
          "metadata": {}
        },
        {
          "output_type": "display_data",
          "data": {
            "text/plain": [
              "<IPython.core.display.HTML object>"
            ],
            "text/html": [
              "Tracking run with wandb version 0.15.3"
            ]
          },
          "metadata": {}
        },
        {
          "output_type": "display_data",
          "data": {
            "text/plain": [
              "<IPython.core.display.HTML object>"
            ],
            "text/html": [
              "Run data is saved locally in <code>/content/wandb/run-20230528_191618-by2r67yn</code>"
            ]
          },
          "metadata": {}
        },
        {
          "output_type": "display_data",
          "data": {
            "text/plain": [
              "<IPython.core.display.HTML object>"
            ],
            "text/html": [
              "Syncing run <strong><a href='https://wandb.ai/hilbertn/Red_Neuronal_Ejercicio1b/runs/by2r67yn' target=\"_blank\">wise-wind-23</a></strong> to <a href='https://wandb.ai/hilbertn/Red_Neuronal_Ejercicio1b' target=\"_blank\">Weights & Biases</a> (<a href='https://wandb.me/run' target=\"_blank\">docs</a>)<br/>"
            ]
          },
          "metadata": {}
        },
        {
          "output_type": "display_data",
          "data": {
            "text/plain": [
              "<IPython.core.display.HTML object>"
            ],
            "text/html": [
              " View project at <a href='https://wandb.ai/hilbertn/Red_Neuronal_Ejercicio1b' target=\"_blank\">https://wandb.ai/hilbertn/Red_Neuronal_Ejercicio1b</a>"
            ]
          },
          "metadata": {}
        },
        {
          "output_type": "display_data",
          "data": {
            "text/plain": [
              "<IPython.core.display.HTML object>"
            ],
            "text/html": [
              " View run at <a href='https://wandb.ai/hilbertn/Red_Neuronal_Ejercicio1b/runs/by2r67yn' target=\"_blank\">https://wandb.ai/hilbertn/Red_Neuronal_Ejercicio1b/runs/by2r67yn</a>"
            ]
          },
          "metadata": {}
        }
      ],
      "source": [
        "import wandb\n",
        "from wandb.keras import WandbCallback\n",
        "wandb.init(project=\"Red_Neuronal_Ejercicio1b\")\n",
        "wandb.config.learning_rate = 0.001\n",
        "wandb.config.epochs = epochs\n",
        "wandb.config.steps_per_epoch =epoch_steps\n",
        "wandb.config.optimizador=RMSprop\n",
        "wandb.config.validation_steps=test_steps"
      ]
    },
    {
      "cell_type": "code",
      "execution_count": 42,
      "metadata": {
        "colab": {
          "base_uri": "https://localhost:8080/",
          "height": 527
        },
        "id": "pHcFN5z--pBz",
        "outputId": "a216fa87-0512-40ed-88c5-0a2876ab81d8"
      },
      "outputs": [
        {
          "output_type": "stream",
          "name": "stdout",
          "text": [
            "Epoch 1/30\n",
            "120/120 [==============================] - ETA: 0s - loss: 2.5153 - accuracy: 0.0650"
          ]
        },
        {
          "output_type": "stream",
          "name": "stderr",
          "text": [
            "WARNING:absl:Found untraced functions such as _jit_compiled_convolution_op, _jit_compiled_convolution_op, _jit_compiled_convolution_op, _update_step_xla while saving (showing 4 of 4). These functions will not be directly callable after loading.\n",
            "\u001b[34m\u001b[1mwandb\u001b[0m: Adding directory to artifact (/content/wandb/run-20230528_191618-by2r67yn/files/model-best)... Done. 2.5s\n"
          ]
        },
        {
          "output_type": "stream",
          "name": "stdout",
          "text": [
            "\b\b\b\b\b\b\b\b\b\b\b\b\b\b\b\b\b\b\b\b\b\b\b\b\b\b\b\b\b\b\b\b\b\b\b\b\b\b\b\b\b\b\b\b\b\b\b\b\b\b\b\b\b\b\b\b\b\b\b\b\b\b\b\b\b\b\b\b\b\b\b\b\b\b\b\b\b\b\b\b\b\b\b\b\r120/120 [==============================] - 184s 2s/step - loss: 2.5153 - accuracy: 0.0650 - val_loss: 2.4670 - val_accuracy: 0.1000\n",
            "Epoch 2/30\n",
            " 69/120 [================>.............] - ETA: 1:05 - loss: 2.4863 - accuracy: 0.0870"
          ]
        },
        {
          "output_type": "error",
          "ename": "KeyboardInterrupt",
          "evalue": "ignored",
          "traceback": [
            "\u001b[0;31m---------------------------------------------------------------------------\u001b[0m",
            "\u001b[0;31mKeyboardInterrupt\u001b[0m                         Traceback (most recent call last)",
            "\u001b[0;32m<ipython-input-42-4a13ebe145f8>\u001b[0m in \u001b[0;36m<cell line: 3>\u001b[0;34m()\u001b[0m\n\u001b[1;32m      1\u001b[0m \u001b[0mloss\u001b[0m\u001b[0;34m=\u001b[0m \u001b[0mCategoricalCrossentropy\u001b[0m\u001b[0;34m(\u001b[0m\u001b[0;34m)\u001b[0m\u001b[0;34m\u001b[0m\u001b[0;34m\u001b[0m\u001b[0m\n\u001b[1;32m      2\u001b[0m \u001b[0mmodel\u001b[0m\u001b[0;34m.\u001b[0m\u001b[0mcompile\u001b[0m\u001b[0;34m(\u001b[0m\u001b[0mloss\u001b[0m\u001b[0;34m=\u001b[0m\u001b[0mloss\u001b[0m\u001b[0;34m,\u001b[0m \u001b[0moptimizer\u001b[0m\u001b[0;34m=\u001b[0m\u001b[0mRMSprop\u001b[0m\u001b[0;34m(\u001b[0m\u001b[0mlearning_rate\u001b[0m\u001b[0;34m=\u001b[0m\u001b[0;36m0.001\u001b[0m\u001b[0;34m)\u001b[0m\u001b[0;34m,\u001b[0m \u001b[0mmetrics\u001b[0m\u001b[0;34m=\u001b[0m\u001b[0;34m[\u001b[0m\u001b[0;34m'accuracy'\u001b[0m\u001b[0;34m]\u001b[0m\u001b[0;34m)\u001b[0m\u001b[0;34m\u001b[0m\u001b[0;34m\u001b[0m\u001b[0m\n\u001b[0;32m----> 3\u001b[0;31m \u001b[0mmodel\u001b[0m\u001b[0;34m.\u001b[0m\u001b[0mfit\u001b[0m\u001b[0;34m(\u001b[0m\u001b[0mtrain\u001b[0m\u001b[0;34m,\u001b[0m \u001b[0msteps_per_epoch\u001b[0m\u001b[0;34m=\u001b[0m\u001b[0mepoch_steps\u001b[0m\u001b[0;34m,\u001b[0m \u001b[0mepochs\u001b[0m\u001b[0;34m=\u001b[0m\u001b[0mepochs\u001b[0m\u001b[0;34m,\u001b[0m \u001b[0mvalidation_data\u001b[0m\u001b[0;34m=\u001b[0m\u001b[0mtest\u001b[0m\u001b[0;34m,\u001b[0m \u001b[0mvalidation_steps\u001b[0m\u001b[0;34m=\u001b[0m\u001b[0mtest_steps\u001b[0m\u001b[0;34m,\u001b[0m\u001b[0mcallbacks\u001b[0m\u001b[0;34m=\u001b[0m\u001b[0;34m[\u001b[0m\u001b[0mWandbCallback\u001b[0m\u001b[0;34m(\u001b[0m\u001b[0;34m)\u001b[0m\u001b[0;34m]\u001b[0m\u001b[0;34m)\u001b[0m\u001b[0;34m\u001b[0m\u001b[0;34m\u001b[0m\u001b[0m\n\u001b[0m",
            "\u001b[0;32m/usr/local/lib/python3.10/dist-packages/wandb/integration/keras/keras.py\u001b[0m in \u001b[0;36mnew_v2\u001b[0;34m(*args, **kwargs)\u001b[0m\n\u001b[1;32m    172\u001b[0m             \u001b[0;32mfor\u001b[0m \u001b[0mcbk\u001b[0m \u001b[0;32min\u001b[0m \u001b[0mcbks\u001b[0m\u001b[0;34m:\u001b[0m\u001b[0;34m\u001b[0m\u001b[0;34m\u001b[0m\u001b[0m\n\u001b[1;32m    173\u001b[0m                 \u001b[0mset_wandb_attrs\u001b[0m\u001b[0;34m(\u001b[0m\u001b[0mcbk\u001b[0m\u001b[0;34m,\u001b[0m \u001b[0mval_data\u001b[0m\u001b[0;34m)\u001b[0m\u001b[0;34m\u001b[0m\u001b[0;34m\u001b[0m\u001b[0m\n\u001b[0;32m--> 174\u001b[0;31m         \u001b[0;32mreturn\u001b[0m \u001b[0mold_v2\u001b[0m\u001b[0;34m(\u001b[0m\u001b[0;34m*\u001b[0m\u001b[0margs\u001b[0m\u001b[0;34m,\u001b[0m \u001b[0;34m**\u001b[0m\u001b[0mkwargs\u001b[0m\u001b[0;34m)\u001b[0m\u001b[0;34m\u001b[0m\u001b[0;34m\u001b[0m\u001b[0m\n\u001b[0m\u001b[1;32m    175\u001b[0m \u001b[0;34m\u001b[0m\u001b[0m\n\u001b[1;32m    176\u001b[0m     \u001b[0mtraining_arrays\u001b[0m\u001b[0;34m.\u001b[0m\u001b[0morig_fit_loop\u001b[0m \u001b[0;34m=\u001b[0m \u001b[0mold_arrays\u001b[0m\u001b[0;34m\u001b[0m\u001b[0;34m\u001b[0m\u001b[0m\n",
            "\u001b[0;32m/usr/local/lib/python3.10/dist-packages/wandb/integration/keras/keras.py\u001b[0m in \u001b[0;36mnew_v2\u001b[0;34m(*args, **kwargs)\u001b[0m\n\u001b[1;32m    172\u001b[0m             \u001b[0;32mfor\u001b[0m \u001b[0mcbk\u001b[0m \u001b[0;32min\u001b[0m \u001b[0mcbks\u001b[0m\u001b[0;34m:\u001b[0m\u001b[0;34m\u001b[0m\u001b[0;34m\u001b[0m\u001b[0m\n\u001b[1;32m    173\u001b[0m                 \u001b[0mset_wandb_attrs\u001b[0m\u001b[0;34m(\u001b[0m\u001b[0mcbk\u001b[0m\u001b[0;34m,\u001b[0m \u001b[0mval_data\u001b[0m\u001b[0;34m)\u001b[0m\u001b[0;34m\u001b[0m\u001b[0;34m\u001b[0m\u001b[0m\n\u001b[0;32m--> 174\u001b[0;31m         \u001b[0;32mreturn\u001b[0m \u001b[0mold_v2\u001b[0m\u001b[0;34m(\u001b[0m\u001b[0;34m*\u001b[0m\u001b[0margs\u001b[0m\u001b[0;34m,\u001b[0m \u001b[0;34m**\u001b[0m\u001b[0mkwargs\u001b[0m\u001b[0;34m)\u001b[0m\u001b[0;34m\u001b[0m\u001b[0;34m\u001b[0m\u001b[0m\n\u001b[0m\u001b[1;32m    175\u001b[0m \u001b[0;34m\u001b[0m\u001b[0m\n\u001b[1;32m    176\u001b[0m     \u001b[0mtraining_arrays\u001b[0m\u001b[0;34m.\u001b[0m\u001b[0morig_fit_loop\u001b[0m \u001b[0;34m=\u001b[0m \u001b[0mold_arrays\u001b[0m\u001b[0;34m\u001b[0m\u001b[0;34m\u001b[0m\u001b[0m\n",
            "\u001b[0;32m/usr/local/lib/python3.10/dist-packages/wandb/integration/keras/keras.py\u001b[0m in \u001b[0;36mnew_v2\u001b[0;34m(*args, **kwargs)\u001b[0m\n\u001b[1;32m    172\u001b[0m             \u001b[0;32mfor\u001b[0m \u001b[0mcbk\u001b[0m \u001b[0;32min\u001b[0m \u001b[0mcbks\u001b[0m\u001b[0;34m:\u001b[0m\u001b[0;34m\u001b[0m\u001b[0;34m\u001b[0m\u001b[0m\n\u001b[1;32m    173\u001b[0m                 \u001b[0mset_wandb_attrs\u001b[0m\u001b[0;34m(\u001b[0m\u001b[0mcbk\u001b[0m\u001b[0;34m,\u001b[0m \u001b[0mval_data\u001b[0m\u001b[0;34m)\u001b[0m\u001b[0;34m\u001b[0m\u001b[0;34m\u001b[0m\u001b[0m\n\u001b[0;32m--> 174\u001b[0;31m         \u001b[0;32mreturn\u001b[0m \u001b[0mold_v2\u001b[0m\u001b[0;34m(\u001b[0m\u001b[0;34m*\u001b[0m\u001b[0margs\u001b[0m\u001b[0;34m,\u001b[0m \u001b[0;34m**\u001b[0m\u001b[0mkwargs\u001b[0m\u001b[0;34m)\u001b[0m\u001b[0;34m\u001b[0m\u001b[0;34m\u001b[0m\u001b[0m\n\u001b[0m\u001b[1;32m    175\u001b[0m \u001b[0;34m\u001b[0m\u001b[0m\n\u001b[1;32m    176\u001b[0m     \u001b[0mtraining_arrays\u001b[0m\u001b[0;34m.\u001b[0m\u001b[0morig_fit_loop\u001b[0m \u001b[0;34m=\u001b[0m \u001b[0mold_arrays\u001b[0m\u001b[0;34m\u001b[0m\u001b[0;34m\u001b[0m\u001b[0m\n",
            "\u001b[0;32m/usr/local/lib/python3.10/dist-packages/keras/utils/traceback_utils.py\u001b[0m in \u001b[0;36merror_handler\u001b[0;34m(*args, **kwargs)\u001b[0m\n\u001b[1;32m     63\u001b[0m         \u001b[0mfiltered_tb\u001b[0m \u001b[0;34m=\u001b[0m \u001b[0;32mNone\u001b[0m\u001b[0;34m\u001b[0m\u001b[0;34m\u001b[0m\u001b[0m\n\u001b[1;32m     64\u001b[0m         \u001b[0;32mtry\u001b[0m\u001b[0;34m:\u001b[0m\u001b[0;34m\u001b[0m\u001b[0;34m\u001b[0m\u001b[0m\n\u001b[0;32m---> 65\u001b[0;31m             \u001b[0;32mreturn\u001b[0m \u001b[0mfn\u001b[0m\u001b[0;34m(\u001b[0m\u001b[0;34m*\u001b[0m\u001b[0margs\u001b[0m\u001b[0;34m,\u001b[0m \u001b[0;34m**\u001b[0m\u001b[0mkwargs\u001b[0m\u001b[0;34m)\u001b[0m\u001b[0;34m\u001b[0m\u001b[0;34m\u001b[0m\u001b[0m\n\u001b[0m\u001b[1;32m     66\u001b[0m         \u001b[0;32mexcept\u001b[0m \u001b[0mException\u001b[0m \u001b[0;32mas\u001b[0m \u001b[0me\u001b[0m\u001b[0;34m:\u001b[0m\u001b[0;34m\u001b[0m\u001b[0;34m\u001b[0m\u001b[0m\n\u001b[1;32m     67\u001b[0m             \u001b[0mfiltered_tb\u001b[0m \u001b[0;34m=\u001b[0m \u001b[0m_process_traceback_frames\u001b[0m\u001b[0;34m(\u001b[0m\u001b[0me\u001b[0m\u001b[0;34m.\u001b[0m\u001b[0m__traceback__\u001b[0m\u001b[0;34m)\u001b[0m\u001b[0;34m\u001b[0m\u001b[0;34m\u001b[0m\u001b[0m\n",
            "\u001b[0;32m/usr/local/lib/python3.10/dist-packages/keras/engine/training.py\u001b[0m in \u001b[0;36mfit\u001b[0;34m(self, x, y, batch_size, epochs, verbose, callbacks, validation_split, validation_data, shuffle, class_weight, sample_weight, initial_epoch, steps_per_epoch, validation_steps, validation_batch_size, validation_freq, max_queue_size, workers, use_multiprocessing)\u001b[0m\n\u001b[1;32m   1683\u001b[0m                         ):\n\u001b[1;32m   1684\u001b[0m                             \u001b[0mcallbacks\u001b[0m\u001b[0;34m.\u001b[0m\u001b[0mon_train_batch_begin\u001b[0m\u001b[0;34m(\u001b[0m\u001b[0mstep\u001b[0m\u001b[0;34m)\u001b[0m\u001b[0;34m\u001b[0m\u001b[0;34m\u001b[0m\u001b[0m\n\u001b[0;32m-> 1685\u001b[0;31m                             \u001b[0mtmp_logs\u001b[0m \u001b[0;34m=\u001b[0m \u001b[0mself\u001b[0m\u001b[0;34m.\u001b[0m\u001b[0mtrain_function\u001b[0m\u001b[0;34m(\u001b[0m\u001b[0miterator\u001b[0m\u001b[0;34m)\u001b[0m\u001b[0;34m\u001b[0m\u001b[0;34m\u001b[0m\u001b[0m\n\u001b[0m\u001b[1;32m   1686\u001b[0m                             \u001b[0;32mif\u001b[0m \u001b[0mdata_handler\u001b[0m\u001b[0;34m.\u001b[0m\u001b[0mshould_sync\u001b[0m\u001b[0;34m:\u001b[0m\u001b[0;34m\u001b[0m\u001b[0;34m\u001b[0m\u001b[0m\n\u001b[1;32m   1687\u001b[0m                                 \u001b[0mcontext\u001b[0m\u001b[0;34m.\u001b[0m\u001b[0masync_wait\u001b[0m\u001b[0;34m(\u001b[0m\u001b[0;34m)\u001b[0m\u001b[0;34m\u001b[0m\u001b[0;34m\u001b[0m\u001b[0m\n",
            "\u001b[0;32m/usr/local/lib/python3.10/dist-packages/tensorflow/python/util/traceback_utils.py\u001b[0m in \u001b[0;36merror_handler\u001b[0;34m(*args, **kwargs)\u001b[0m\n\u001b[1;32m    148\u001b[0m     \u001b[0mfiltered_tb\u001b[0m \u001b[0;34m=\u001b[0m \u001b[0;32mNone\u001b[0m\u001b[0;34m\u001b[0m\u001b[0;34m\u001b[0m\u001b[0m\n\u001b[1;32m    149\u001b[0m     \u001b[0;32mtry\u001b[0m\u001b[0;34m:\u001b[0m\u001b[0;34m\u001b[0m\u001b[0;34m\u001b[0m\u001b[0m\n\u001b[0;32m--> 150\u001b[0;31m       \u001b[0;32mreturn\u001b[0m \u001b[0mfn\u001b[0m\u001b[0;34m(\u001b[0m\u001b[0;34m*\u001b[0m\u001b[0margs\u001b[0m\u001b[0;34m,\u001b[0m \u001b[0;34m**\u001b[0m\u001b[0mkwargs\u001b[0m\u001b[0;34m)\u001b[0m\u001b[0;34m\u001b[0m\u001b[0;34m\u001b[0m\u001b[0m\n\u001b[0m\u001b[1;32m    151\u001b[0m     \u001b[0;32mexcept\u001b[0m \u001b[0mException\u001b[0m \u001b[0;32mas\u001b[0m \u001b[0me\u001b[0m\u001b[0;34m:\u001b[0m\u001b[0;34m\u001b[0m\u001b[0;34m\u001b[0m\u001b[0m\n\u001b[1;32m    152\u001b[0m       \u001b[0mfiltered_tb\u001b[0m \u001b[0;34m=\u001b[0m \u001b[0m_process_traceback_frames\u001b[0m\u001b[0;34m(\u001b[0m\u001b[0me\u001b[0m\u001b[0;34m.\u001b[0m\u001b[0m__traceback__\u001b[0m\u001b[0;34m)\u001b[0m\u001b[0;34m\u001b[0m\u001b[0;34m\u001b[0m\u001b[0m\n",
            "\u001b[0;32m/usr/local/lib/python3.10/dist-packages/tensorflow/python/eager/polymorphic_function/polymorphic_function.py\u001b[0m in \u001b[0;36m__call__\u001b[0;34m(self, *args, **kwds)\u001b[0m\n\u001b[1;32m    892\u001b[0m \u001b[0;34m\u001b[0m\u001b[0m\n\u001b[1;32m    893\u001b[0m       \u001b[0;32mwith\u001b[0m \u001b[0mOptionalXlaContext\u001b[0m\u001b[0;34m(\u001b[0m\u001b[0mself\u001b[0m\u001b[0;34m.\u001b[0m\u001b[0m_jit_compile\u001b[0m\u001b[0;34m)\u001b[0m\u001b[0;34m:\u001b[0m\u001b[0;34m\u001b[0m\u001b[0;34m\u001b[0m\u001b[0m\n\u001b[0;32m--> 894\u001b[0;31m         \u001b[0mresult\u001b[0m \u001b[0;34m=\u001b[0m \u001b[0mself\u001b[0m\u001b[0;34m.\u001b[0m\u001b[0m_call\u001b[0m\u001b[0;34m(\u001b[0m\u001b[0;34m*\u001b[0m\u001b[0margs\u001b[0m\u001b[0;34m,\u001b[0m \u001b[0;34m**\u001b[0m\u001b[0mkwds\u001b[0m\u001b[0;34m)\u001b[0m\u001b[0;34m\u001b[0m\u001b[0;34m\u001b[0m\u001b[0m\n\u001b[0m\u001b[1;32m    895\u001b[0m \u001b[0;34m\u001b[0m\u001b[0m\n\u001b[1;32m    896\u001b[0m       \u001b[0mnew_tracing_count\u001b[0m \u001b[0;34m=\u001b[0m \u001b[0mself\u001b[0m\u001b[0;34m.\u001b[0m\u001b[0mexperimental_get_tracing_count\u001b[0m\u001b[0;34m(\u001b[0m\u001b[0;34m)\u001b[0m\u001b[0;34m\u001b[0m\u001b[0;34m\u001b[0m\u001b[0m\n",
            "\u001b[0;32m/usr/local/lib/python3.10/dist-packages/tensorflow/python/eager/polymorphic_function/polymorphic_function.py\u001b[0m in \u001b[0;36m_call\u001b[0;34m(self, *args, **kwds)\u001b[0m\n\u001b[1;32m    924\u001b[0m       \u001b[0;31m# In this case we have created variables on the first call, so we run the\u001b[0m\u001b[0;34m\u001b[0m\u001b[0;34m\u001b[0m\u001b[0m\n\u001b[1;32m    925\u001b[0m       \u001b[0;31m# defunned version which is guaranteed to never create variables.\u001b[0m\u001b[0;34m\u001b[0m\u001b[0;34m\u001b[0m\u001b[0m\n\u001b[0;32m--> 926\u001b[0;31m       \u001b[0;32mreturn\u001b[0m \u001b[0mself\u001b[0m\u001b[0;34m.\u001b[0m\u001b[0m_no_variable_creation_fn\u001b[0m\u001b[0;34m(\u001b[0m\u001b[0;34m*\u001b[0m\u001b[0margs\u001b[0m\u001b[0;34m,\u001b[0m \u001b[0;34m**\u001b[0m\u001b[0mkwds\u001b[0m\u001b[0;34m)\u001b[0m  \u001b[0;31m# pylint: disable=not-callable\u001b[0m\u001b[0;34m\u001b[0m\u001b[0;34m\u001b[0m\u001b[0m\n\u001b[0m\u001b[1;32m    927\u001b[0m     \u001b[0;32melif\u001b[0m \u001b[0mself\u001b[0m\u001b[0;34m.\u001b[0m\u001b[0m_variable_creation_fn\u001b[0m \u001b[0;32mis\u001b[0m \u001b[0;32mnot\u001b[0m \u001b[0;32mNone\u001b[0m\u001b[0;34m:\u001b[0m\u001b[0;34m\u001b[0m\u001b[0;34m\u001b[0m\u001b[0m\n\u001b[1;32m    928\u001b[0m       \u001b[0;31m# Release the lock early so that multiple threads can perform the call\u001b[0m\u001b[0;34m\u001b[0m\u001b[0;34m\u001b[0m\u001b[0m\n",
            "\u001b[0;32m/usr/local/lib/python3.10/dist-packages/tensorflow/python/eager/polymorphic_function/tracing_compiler.py\u001b[0m in \u001b[0;36m__call__\u001b[0;34m(self, *args, **kwargs)\u001b[0m\n\u001b[1;32m    141\u001b[0m       (concrete_function,\n\u001b[1;32m    142\u001b[0m        filtered_flat_args) = self._maybe_define_function(args, kwargs)\n\u001b[0;32m--> 143\u001b[0;31m     return concrete_function._call_flat(\n\u001b[0m\u001b[1;32m    144\u001b[0m         filtered_flat_args, captured_inputs=concrete_function.captured_inputs)  # pylint: disable=protected-access\n\u001b[1;32m    145\u001b[0m \u001b[0;34m\u001b[0m\u001b[0m\n",
            "\u001b[0;32m/usr/local/lib/python3.10/dist-packages/tensorflow/python/eager/polymorphic_function/monomorphic_function.py\u001b[0m in \u001b[0;36m_call_flat\u001b[0;34m(self, args, captured_inputs, cancellation_manager)\u001b[0m\n\u001b[1;32m   1755\u001b[0m         and executing_eagerly):\n\u001b[1;32m   1756\u001b[0m       \u001b[0;31m# No tape is watching; skip to running the function.\u001b[0m\u001b[0;34m\u001b[0m\u001b[0;34m\u001b[0m\u001b[0m\n\u001b[0;32m-> 1757\u001b[0;31m       return self._build_call_outputs(self._inference_function.call(\n\u001b[0m\u001b[1;32m   1758\u001b[0m           ctx, args, cancellation_manager=cancellation_manager))\n\u001b[1;32m   1759\u001b[0m     forward_backward = self._select_forward_and_backward_functions(\n",
            "\u001b[0;32m/usr/local/lib/python3.10/dist-packages/tensorflow/python/eager/polymorphic_function/monomorphic_function.py\u001b[0m in \u001b[0;36mcall\u001b[0;34m(self, ctx, args, cancellation_manager)\u001b[0m\n\u001b[1;32m    379\u001b[0m       \u001b[0;32mwith\u001b[0m \u001b[0m_InterpolateFunctionError\u001b[0m\u001b[0;34m(\u001b[0m\u001b[0mself\u001b[0m\u001b[0;34m)\u001b[0m\u001b[0;34m:\u001b[0m\u001b[0;34m\u001b[0m\u001b[0;34m\u001b[0m\u001b[0m\n\u001b[1;32m    380\u001b[0m         \u001b[0;32mif\u001b[0m \u001b[0mcancellation_manager\u001b[0m \u001b[0;32mis\u001b[0m \u001b[0;32mNone\u001b[0m\u001b[0;34m:\u001b[0m\u001b[0;34m\u001b[0m\u001b[0;34m\u001b[0m\u001b[0m\n\u001b[0;32m--> 381\u001b[0;31m           outputs = execute.execute(\n\u001b[0m\u001b[1;32m    382\u001b[0m               \u001b[0mstr\u001b[0m\u001b[0;34m(\u001b[0m\u001b[0mself\u001b[0m\u001b[0;34m.\u001b[0m\u001b[0msignature\u001b[0m\u001b[0;34m.\u001b[0m\u001b[0mname\u001b[0m\u001b[0;34m)\u001b[0m\u001b[0;34m,\u001b[0m\u001b[0;34m\u001b[0m\u001b[0;34m\u001b[0m\u001b[0m\n\u001b[1;32m    383\u001b[0m               \u001b[0mnum_outputs\u001b[0m\u001b[0;34m=\u001b[0m\u001b[0mself\u001b[0m\u001b[0;34m.\u001b[0m\u001b[0m_num_outputs\u001b[0m\u001b[0;34m,\u001b[0m\u001b[0;34m\u001b[0m\u001b[0;34m\u001b[0m\u001b[0m\n",
            "\u001b[0;32m/usr/local/lib/python3.10/dist-packages/tensorflow/python/eager/execute.py\u001b[0m in \u001b[0;36mquick_execute\u001b[0;34m(op_name, num_outputs, inputs, attrs, ctx, name)\u001b[0m\n\u001b[1;32m     50\u001b[0m   \u001b[0;32mtry\u001b[0m\u001b[0;34m:\u001b[0m\u001b[0;34m\u001b[0m\u001b[0;34m\u001b[0m\u001b[0m\n\u001b[1;32m     51\u001b[0m     \u001b[0mctx\u001b[0m\u001b[0;34m.\u001b[0m\u001b[0mensure_initialized\u001b[0m\u001b[0;34m(\u001b[0m\u001b[0;34m)\u001b[0m\u001b[0;34m\u001b[0m\u001b[0;34m\u001b[0m\u001b[0m\n\u001b[0;32m---> 52\u001b[0;31m     tensors = pywrap_tfe.TFE_Py_Execute(ctx._handle, device_name, op_name,\n\u001b[0m\u001b[1;32m     53\u001b[0m                                         inputs, attrs, num_outputs)\n\u001b[1;32m     54\u001b[0m   \u001b[0;32mexcept\u001b[0m \u001b[0mcore\u001b[0m\u001b[0;34m.\u001b[0m\u001b[0m_NotOkStatusException\u001b[0m \u001b[0;32mas\u001b[0m \u001b[0me\u001b[0m\u001b[0;34m:\u001b[0m\u001b[0;34m\u001b[0m\u001b[0;34m\u001b[0m\u001b[0m\n",
            "\u001b[0;31mKeyboardInterrupt\u001b[0m: "
          ]
        }
      ],
      "source": [
        "loss= CategoricalCrossentropy()\n",
        "model.compile(loss=loss, optimizer=RMSprop(learning_rate=0.001), metrics=['accuracy'])\n",
        "model.fit(train, steps_per_epoch=epoch_steps, epochs=epochs, validation_data=test, validation_steps=test_steps,callbacks=[WandbCallback()])"
      ]
    }
  ],
  "metadata": {
    "colab": {
      "provenance": [],
      "authorship_tag": "ABX9TyPkEq1vRdwaRIy9xHoOy8BI",
      "include_colab_link": true
    },
    "kernelspec": {
      "display_name": "Python 3",
      "name": "python3"
    },
    "language_info": {
      "name": "python"
    }
  },
  "nbformat": 4,
  "nbformat_minor": 0
}