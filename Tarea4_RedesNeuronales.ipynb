{
  "nbformat": 4,
  "nbformat_minor": 0,
  "metadata": {
    "colab": {
      "provenance": [],
      "authorship_tag": "ABX9TyNi67hjRv8heM0tDCPiLnWl",
      "include_colab_link": true
    },
    "kernelspec": {
      "name": "python3",
      "display_name": "Python 3"
    },
    "language_info": {
      "name": "python"
    }
  },
  "cells": [
    {
      "cell_type": "markdown",
      "metadata": {
        "id": "view-in-github",
        "colab_type": "text"
      },
      "source": [
        "<a href=\"https://colab.research.google.com/github/HilbertN/Analisis_de_datos_Tareas/blob/main/Tarea4_RedesNeuronales.ipynb\" target=\"_parent\"><img src=\"https://colab.research.google.com/assets/colab-badge.svg\" alt=\"Open In Colab\"/></a>"
      ]
    },
    {
      "cell_type": "code",
      "execution_count": 67,
      "metadata": {
        "id": "ThGOk8CoxPAy"
      },
      "outputs": [],
      "source": [
        "#Ejercicio dos: Identificar enfermedades en plantas \n",
        "import pandas as pd \n",
        "import numpy as np\n",
        "import shutil \n",
        "import os"
      ]
    },
    {
      "cell_type": "code",
      "source": [
        "#Para leer datos desde Google Drive: \n",
        "from google.colab import drive \n",
        "drive.mount('/content/drive') "
      ],
      "metadata": {
        "colab": {
          "base_uri": "https://localhost:8080/"
        },
        "id": "b6GSpDdZYgqF",
        "outputId": "659e43a8-de40-46c3-eab1-2f75f66163be"
      },
      "execution_count": 68,
      "outputs": [
        {
          "output_type": "stream",
          "name": "stdout",
          "text": [
            "Drive already mounted at /content/drive; to attempt to forcibly remount, call drive.mount(\"/content/drive\", force_remount=True).\n"
          ]
        }
      ]
    },
    {
      "cell_type": "code",
      "source": [
        "df = pd.read_csv('/content/drive/MyDrive/Base de datos/train.csv', names=['Nombre', 'Clase'])"
      ],
      "metadata": {
        "id": "2jUIvkPG3e1n"
      },
      "execution_count": 79,
      "outputs": []
    },
    {
      "cell_type": "code",
      "source": [
        "df=df.drop(0,axis=0)#Eliminamos la primera fila que no es d eutilidad"
      ],
      "metadata": {
        "id": "2KNuXaqv3zHM"
      },
      "execution_count": 70,
      "outputs": []
    },
    {
      "cell_type": "code",
      "source": [
        "df.Clase.unique()#Checamos las etiquetas de las clases"
      ],
      "metadata": {
        "colab": {
          "base_uri": "https://localhost:8080/"
        },
        "id": "Pas6quIE3f7m",
        "outputId": "c3946936-c047-4e08-c0b2-a25ba89364e0"
      },
      "execution_count": 80,
      "outputs": [
        {
          "output_type": "execute_result",
          "data": {
            "text/plain": [
              "array(['labels', 'healthy', 'scab frog_eye_leaf_spot complex', 'scab',\n",
              "       'complex', 'rust', 'frog_eye_leaf_spot', 'powdery_mildew',\n",
              "       'scab frog_eye_leaf_spot', 'frog_eye_leaf_spot complex',\n",
              "       'rust frog_eye_leaf_spot', 'powdery_mildew complex',\n",
              "       'rust complex'], dtype=object)"
            ]
          },
          "metadata": {},
          "execution_count": 80
        }
      ]
    },
    {
      "cell_type": "code",
      "source": [
        "df.shape"
      ],
      "metadata": {
        "colab": {
          "base_uri": "https://localhost:8080/"
        },
        "id": "bLppSbGtKpKq",
        "outputId": "351ac3fe-382b-461f-9317-75d495c9521a"
      },
      "execution_count": 91,
      "outputs": [
        {
          "output_type": "execute_result",
          "data": {
            "text/plain": [
              "(18633, 2)"
            ]
          },
          "metadata": {},
          "execution_count": 91
        }
      ]
    },
    {
      "cell_type": "code",
      "source": [
        "#Vamos a mezclar de manera aleatoria todas las filas del csv\n",
        "df= df.sample(frac=1, random_state=42)\n",
        "#Vamos a dividir a la mitad la base de datos para la primera parte para imagenes de entrenamiento y la otra por prueba\n",
        "df1=df.iloc[0:9316,:]\n",
        "df2=df.iloc[9316:18633,:]"
      ],
      "metadata": {
        "id": "xhCRzQdzKfZl"
      },
      "execution_count": 92,
      "outputs": []
    },
    {
      "cell_type": "code",
      "source": [
        "#Podemos notar que los conjuntos no tienen elementos en común \n",
        "set(df1.Nombre).intersection(set(df2.Nombre))"
      ],
      "metadata": {
        "colab": {
          "base_uri": "https://localhost:8080/"
        },
        "id": "l7LL-OGFNM1T",
        "outputId": "54c0ecd8-1e59-44b8-cc87-e2576a753dc5"
      },
      "execution_count": 103,
      "outputs": [
        {
          "output_type": "execute_result",
          "data": {
            "text/plain": [
              "set()"
            ]
          },
          "metadata": {},
          "execution_count": 103
        }
      ]
    },
    {
      "cell_type": "code",
      "source": [
        "# Ruta de la carpeta de destino para las subcarpetas\n",
        "mini_train = '/content/train_'\n",
        "\n",
        "# Crear la carpeta de destino si no existe\n",
        "if not os.path.exists(mini_train ):\n",
        "    os.makedirs(mini_train )"
      ],
      "metadata": {
        "id": "gpxVur6m3onF"
      },
      "execution_count": 104,
      "outputs": []
    },
    {
      "cell_type": "code",
      "source": [
        "#Formamos una lista ordenada de las categorias de que tenemos en nuestro csv\n",
        "E= df1.sort_values('Clase')\n",
        "clases= list(E.Clase.unique())"
      ],
      "metadata": {
        "id": "VteqNplB8Gxa"
      },
      "execution_count": 106,
      "outputs": []
    },
    {
      "cell_type": "code",
      "source": [
        "#El próposito de este for es formar carpetas de cada una de las clasificaciones en la carpeta llamada train_\n",
        "#Cada carpeta consta de 100 imágenes con la finalidad de reducir el tiempo de aprendizaje de la red convolucional\n",
        "for i in clases:\n",
        "    contador = 0  # Contador de imágenes en la carpeta actual\n",
        "    for c in list(df1[df1['Clase'] == i]['Nombre']):\n",
        "        if contador >= 100:\n",
        "            break  # Se alcanzó el límite de imágenes por carpeta\n",
        "        imagen= os.path.join('/content/drive/MyDrive/Base de datos/train_images', c)\n",
        "        if os.path.exists(imagen):\n",
        "            mt= os.path.join(mini_train , 'train_' + i)\n",
        "            if not os.path.exists(mt):\n",
        "                os.makedirs(mt)\n",
        "            m= shutil.copy(imagen,mt)\n",
        "            contador+= 1\n",
        "\n"
      ],
      "metadata": {
        "id": "9t8q8CUu1Kjy"
      },
      "execution_count": 96,
      "outputs": []
    },
    {
      "cell_type": "code",
      "source": [
        "#Realizamos el mismo procedimiento para crear la carpeta con subcarpetas de las categorías del problema\n",
        "#Esta vez para el conjunto de prueba \n",
        "\n",
        "# Ruta de la carpeta de destino para las subcarpetas\n",
        "mini_test = '/content/test_'\n",
        "\n",
        "# Crear la carpeta de destino si no existe\n",
        "if not os.path.exists(mini_test):\n",
        "    os.makedirs(mini_test )"
      ],
      "metadata": {
        "id": "ApCGw3SZNTa_"
      },
      "execution_count": 105,
      "outputs": []
    },
    {
      "cell_type": "code",
      "source": [
        "#Formamos una lista ordenada de las categorias de que tenemos en nuestro csv\n",
        "E= df2.sort_values('Clase')\n",
        "clases= list(E.Clase.unique())"
      ],
      "metadata": {
        "id": "WBjX5MMxNs2U"
      },
      "execution_count": 107,
      "outputs": []
    },
    {
      "cell_type": "code",
      "source": [
        "#El próposito de este for es formar carpetas de cada una de las clasificaciones en la carpeta llamada test_\n",
        "#Cada carpeta consta de 10 imágenes,estamos considerado el 10% de las imagenes de entrenamiento.\n",
        "for i in clases:\n",
        "    contador = 0  # Contador de imágenes en la carpeta actual\n",
        "    for c in list(df2[df2['Clase'] == i]['Nombre']):\n",
        "        if contador >= 10:\n",
        "            break  # Se alcanzó el límite de imágenes por carpeta\n",
        "        imagen= os.path.join('/content/drive/MyDrive/Base de datos/train_images', c)\n",
        "        if os.path.exists(imagen):\n",
        "            mt= os.path.join(mini_test , 'test_' + i)\n",
        "            if not os.path.exists(mt):\n",
        "                os.makedirs(mt)\n",
        "            m= shutil.copy(imagen,mt)\n",
        "            contador+= 1\n"
      ],
      "metadata": {
        "id": "cfkR9xU9N2WR"
      },
      "execution_count": 111,
      "outputs": []
    },
    {
      "cell_type": "code",
      "source": [
        "import tensorflow as tf\n",
        "from tensorflow import keras\n",
        "from tensorflow.keras.datasets import mnist\n",
        "from tensorflow.keras.models import Sequential\n",
        "from tensorflow.keras.layers import Dense, Dropout\n",
        "from tensorflow.keras.optimizers import RMSprop, SGD, Adam\n",
        "from tensorflow.keras.losses import CategoricalCrossentropy"
      ],
      "metadata": {
        "id": "UNILIjBTHyW4"
      },
      "execution_count": 90,
      "outputs": []
    }
  ]
}