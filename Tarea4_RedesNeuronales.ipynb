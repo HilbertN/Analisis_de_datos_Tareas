{
  "cells": [
    {
      "cell_type": "markdown",
      "metadata": {
        "id": "view-in-github",
        "colab_type": "text"
      },
      "source": [
        "<a href=\"https://colab.research.google.com/github/HilbertN/Analisis_de_datos_Tareas/blob/main/Tarea4_RedesNeuronales.ipynb\" target=\"_parent\"><img src=\"https://colab.research.google.com/assets/colab-badge.svg\" alt=\"Open In Colab\"/></a>"
      ]
    },
    {
      "cell_type": "code",
      "execution_count": null,
      "metadata": {
        "id": "mwHkNutiQktm"
      },
      "outputs": [],
      "source": [
        "import tensorflow as tf\n",
        "from tensorflow import keras\n",
        "from tensorflow.keras import layers,models,regularizers\n",
        "from tensorflow.keras.datasets import mnist\n",
        "from tensorflow.keras.models import Sequential\n",
        "from tensorflow.keras.layers import Dense, Dropout,Activation,MaxPooling2D,Flatten,Conv2D\n",
        "from tensorflow.keras.optimizers import RMSprop, SGD, Adam\n",
        "from tensorflow.keras.losses import CategoricalCrossentropy,MeanSquaredError\n",
        "from keras.preprocessing.image import ImageDataGenerator\n",
        "from keras.preprocessing import  image\n",
        "import pandas as pd \n",
        "import numpy as np\n",
        "import shutil \n",
        "import os\n",
        "import matplotlib.pyplot as plt"
      ]
    },
    {
      "cell_type": "code",
      "execution_count": 97,
      "metadata": {
        "id": "7zKE2skuVyza"
      },
      "outputs": [],
      "source": [
        "# Weights & Biases  (optional)\n",
        "!pip install -q wandb"
      ]
    },
    {
      "cell_type": "code",
      "execution_count": 98,
      "metadata": {
        "id": "DuDK614nV5MK",
        "colab": {
          "base_uri": "https://localhost:8080/"
        },
        "outputId": "68b10553-342c-4e75-92e6-b49634dddd94"
      },
      "outputs": [
        {
          "output_type": "stream",
          "name": "stdout",
          "text": [
            "\u001b[34m\u001b[1mwandb\u001b[0m: \u001b[32m\u001b[41mERROR\u001b[0m Find detailed error logs at: /content/wandb/debug-cli.root.log\n",
            "Error: \u001b[31mConnection to wandb service failed: [Errno 111] Connection refused. \u001b[0m\n"
          ]
        }
      ],
      "source": [
        "!wandb login"
      ]
    },
    {
      "cell_type": "code",
      "execution_count": 113,
      "metadata": {
        "id": "YnH0MfFrzWLG"
      },
      "outputs": [],
      "source": [
        "#Ejercicio 1: Entrena una red neuronal para que reproduzca la siguientes funciones en el  intervalo  de  [-1,1].  \n",
        "# Graficar  la  solución  de  la  red  en  conjunto  con  la gráfica de la función.(a)  3 sin(πx)(b)  1 + 2x+ 4x3\n",
        "\n",
        "#Ejercicio 1(a): \n",
        "#Vamos a proponer los siguientes arreglos como conjuntos de entranmiento y de prueba \n",
        "\n",
        "x_train = np.linspace(-1, 1, 1000).reshape(-1, 1)\n",
        "y_train = 3 * np.sin(np.pi * x_train)\n",
        "\n",
        "#Eliminamos elementos repetidos entre el conjunto de entrenamiento y de prueba\n",
        "v=np.linspace(-1, 1, 100)\n",
        "cond=np.isin(np.linspace(-1, 1, 100),np.linspace(-1, 1, 1000))\n",
        "v=v[np.where(~cond)]\n",
        "\n",
        "x_test = v.reshape(-1, 1)\n",
        "y_test= 3 * np.sin(np.pi * x_test)\n"
      ]
    },
    {
      "cell_type": "code",
      "execution_count": 114,
      "metadata": {
        "id": "AB_VsCGZE4aU",
        "colab": {
          "base_uri": "https://localhost:8080/"
        },
        "outputId": "6a241a56-8734-47ca-f55c-bb564809564c"
      },
      "outputs": [
        {
          "output_type": "execute_result",
          "data": {
            "text/plain": [
              "[]"
            ]
          },
          "metadata": {},
          "execution_count": 114
        }
      ],
      "source": [
        "#No hay elementos repetidos entre el conjunto de prueba y entrenamiento\n",
        "h1=set(np.linspace(-1, 1, 1000))\n",
        "h3=set(v)\n",
        "Repetidos=list(h3.intersection(h1))\n",
        "Repetidos"
      ]
    },
    {
      "cell_type": "code",
      "execution_count": 115,
      "metadata": {
        "id": "KYrfAK504xJ-"
      },
      "outputs": [],
      "source": [
        "model = Sequential()\n",
        "model.add(Dense(300, activation='relu', input_shape=(1,)))\n",
        "model.add(Dropout(0.2))\n",
        "model.add(Dense(300, activation='relu'))\n",
        "model.add(Dense(1))\n",
        "\n",
        "\n"
      ]
    },
    {
      "cell_type": "code",
      "execution_count": 116,
      "metadata": {
        "id": "bEIKgwBbQ_Rm"
      },
      "outputs": [],
      "source": [
        "batch_size=30 \n",
        "epochs=40 \n",
        "learning_rate=0.03\n",
        "Optimizador=SGD"
      ]
    },
    {
      "cell_type": "code",
      "execution_count": 117,
      "metadata": {
        "id": "RkEMuSd6B4Ij",
        "colab": {
          "base_uri": "https://localhost:8080/"
        },
        "outputId": "5ed13614-f1d1-42df-9ca5-e13aceafdcb0"
      },
      "outputs": [
        {
          "output_type": "stream",
          "name": "stdout",
          "text": [
            "Epoch 1/40\n",
            "34/34 [==============================] - 1s 15ms/step - loss: 2.1939 - mse: 2.1939 - val_loss: 1.1548 - val_mse: 1.1548\n",
            "Epoch 2/40\n",
            "34/34 [==============================] - 0s 5ms/step - loss: 1.0931 - mse: 1.0931 - val_loss: 0.9586 - val_mse: 0.9586\n",
            "Epoch 3/40\n",
            "34/34 [==============================] - 0s 5ms/step - loss: 0.9854 - mse: 0.9854 - val_loss: 0.8724 - val_mse: 0.8724\n",
            "Epoch 4/40\n",
            "34/34 [==============================] - 0s 5ms/step - loss: 0.8873 - mse: 0.8873 - val_loss: 0.8608 - val_mse: 0.8608\n",
            "Epoch 5/40\n",
            "34/34 [==============================] - 0s 5ms/step - loss: 0.7824 - mse: 0.7824 - val_loss: 0.6429 - val_mse: 0.6429\n",
            "Epoch 6/40\n",
            "34/34 [==============================] - 0s 5ms/step - loss: 0.6347 - mse: 0.6347 - val_loss: 0.6204 - val_mse: 0.6204\n",
            "Epoch 7/40\n",
            "34/34 [==============================] - 0s 5ms/step - loss: 0.4991 - mse: 0.4991 - val_loss: 0.3429 - val_mse: 0.3429\n",
            "Epoch 8/40\n",
            "34/34 [==============================] - 0s 5ms/step - loss: 0.3598 - mse: 0.3598 - val_loss: 0.3758 - val_mse: 0.3758\n",
            "Epoch 9/40\n",
            "34/34 [==============================] - 0s 5ms/step - loss: 0.2550 - mse: 0.2550 - val_loss: 0.1982 - val_mse: 0.1982\n",
            "Epoch 10/40\n",
            "34/34 [==============================] - 0s 5ms/step - loss: 0.1820 - mse: 0.1820 - val_loss: 0.1268 - val_mse: 0.1268\n",
            "Epoch 11/40\n",
            "34/34 [==============================] - 0s 5ms/step - loss: 0.1349 - mse: 0.1349 - val_loss: 0.0851 - val_mse: 0.0851\n",
            "Epoch 12/40\n",
            "34/34 [==============================] - 0s 5ms/step - loss: 0.1023 - mse: 0.1023 - val_loss: 0.0633 - val_mse: 0.0633\n",
            "Epoch 13/40\n",
            "34/34 [==============================] - 0s 5ms/step - loss: 0.0811 - mse: 0.0811 - val_loss: 0.0412 - val_mse: 0.0412\n",
            "Epoch 14/40\n",
            "34/34 [==============================] - 0s 5ms/step - loss: 0.0661 - mse: 0.0661 - val_loss: 0.0497 - val_mse: 0.0497\n",
            "Epoch 15/40\n",
            "34/34 [==============================] - 0s 5ms/step - loss: 0.0556 - mse: 0.0556 - val_loss: 0.0278 - val_mse: 0.0278\n",
            "Epoch 16/40\n",
            "34/34 [==============================] - 0s 4ms/step - loss: 0.0477 - mse: 0.0477 - val_loss: 0.0207 - val_mse: 0.0207\n",
            "Epoch 17/40\n",
            "34/34 [==============================] - 0s 5ms/step - loss: 0.0401 - mse: 0.0401 - val_loss: 0.0189 - val_mse: 0.0189\n",
            "Epoch 18/40\n",
            "34/34 [==============================] - 0s 5ms/step - loss: 0.0360 - mse: 0.0360 - val_loss: 0.0866 - val_mse: 0.0866\n",
            "Epoch 19/40\n",
            "34/34 [==============================] - 0s 5ms/step - loss: 0.0391 - mse: 0.0391 - val_loss: 0.0152 - val_mse: 0.0152\n",
            "Epoch 20/40\n",
            "34/34 [==============================] - 0s 5ms/step - loss: 0.0323 - mse: 0.0323 - val_loss: 0.0120 - val_mse: 0.0120\n",
            "Epoch 21/40\n",
            "34/34 [==============================] - 0s 5ms/step - loss: 0.0298 - mse: 0.0298 - val_loss: 0.0177 - val_mse: 0.0177\n",
            "Epoch 22/40\n",
            "34/34 [==============================] - 0s 5ms/step - loss: 0.0293 - mse: 0.0293 - val_loss: 0.0186 - val_mse: 0.0186\n",
            "Epoch 23/40\n",
            "34/34 [==============================] - 0s 5ms/step - loss: 0.0265 - mse: 0.0265 - val_loss: 0.0200 - val_mse: 0.0200\n",
            "Epoch 24/40\n",
            "34/34 [==============================] - 0s 5ms/step - loss: 0.0270 - mse: 0.0270 - val_loss: 0.0166 - val_mse: 0.0166\n",
            "Epoch 25/40\n",
            "34/34 [==============================] - 0s 5ms/step - loss: 0.0246 - mse: 0.0246 - val_loss: 0.0052 - val_mse: 0.0052\n",
            "Epoch 26/40\n",
            "34/34 [==============================] - 0s 5ms/step - loss: 0.0260 - mse: 0.0260 - val_loss: 0.0138 - val_mse: 0.0138\n",
            "Epoch 27/40\n",
            "34/34 [==============================] - 0s 6ms/step - loss: 0.0231 - mse: 0.0231 - val_loss: 0.0166 - val_mse: 0.0166\n",
            "Epoch 28/40\n",
            "34/34 [==============================] - 0s 5ms/step - loss: 0.0225 - mse: 0.0225 - val_loss: 0.0101 - val_mse: 0.0101\n",
            "Epoch 29/40\n",
            "34/34 [==============================] - 0s 6ms/step - loss: 0.0223 - mse: 0.0223 - val_loss: 0.0057 - val_mse: 0.0057\n",
            "Epoch 30/40\n",
            "34/34 [==============================] - 0s 8ms/step - loss: 0.0239 - mse: 0.0239 - val_loss: 0.0076 - val_mse: 0.0076\n",
            "Epoch 31/40\n",
            "34/34 [==============================] - 0s 12ms/step - loss: 0.0221 - mse: 0.0221 - val_loss: 0.0126 - val_mse: 0.0126\n",
            "Epoch 32/40\n",
            "34/34 [==============================] - 1s 19ms/step - loss: 0.0217 - mse: 0.0217 - val_loss: 0.0068 - val_mse: 0.0068\n",
            "Epoch 33/40\n",
            "34/34 [==============================] - 1s 17ms/step - loss: 0.0250 - mse: 0.0250 - val_loss: 0.0200 - val_mse: 0.0200\n",
            "Epoch 34/40\n",
            "34/34 [==============================] - 0s 12ms/step - loss: 0.0215 - mse: 0.0215 - val_loss: 0.0047 - val_mse: 0.0047\n",
            "Epoch 35/40\n",
            "34/34 [==============================] - 1s 16ms/step - loss: 0.0188 - mse: 0.0188 - val_loss: 0.0037 - val_mse: 0.0037\n",
            "Epoch 36/40\n",
            "34/34 [==============================] - 0s 14ms/step - loss: 0.0203 - mse: 0.0203 - val_loss: 0.0045 - val_mse: 0.0045\n",
            "Epoch 37/40\n",
            "34/34 [==============================] - 0s 14ms/step - loss: 0.0184 - mse: 0.0184 - val_loss: 0.0027 - val_mse: 0.0027\n",
            "Epoch 38/40\n",
            "34/34 [==============================] - 1s 15ms/step - loss: 0.0172 - mse: 0.0172 - val_loss: 0.0037 - val_mse: 0.0037\n",
            "Epoch 39/40\n",
            "34/34 [==============================] - 1s 16ms/step - loss: 0.0176 - mse: 0.0176 - val_loss: 0.0171 - val_mse: 0.0171\n",
            "Epoch 40/40\n",
            "34/34 [==============================] - 1s 19ms/step - loss: 0.0198 - mse: 0.0198 - val_loss: 0.0033 - val_mse: 0.0033\n"
          ]
        }
      ],
      "source": [
        "model.compile(loss='mean_squared_error', optimizer=Optimizador(learning_rate=learning_rate), metrics=['mse'])\n",
        "history = model.fit(x_train, y_train, batch_size=batch_size, epochs=epochs, verbose=1, validation_data=(x_test, y_test))"
      ]
    },
    {
      "cell_type": "code",
      "execution_count": 120,
      "metadata": {
        "id": "IdZ9-LlSLXx8",
        "colab": {
          "base_uri": "https://localhost:8080/",
          "height": 560
        },
        "outputId": "e11e04a1-abff-415d-bfec-0f36fbda870d"
      },
      "outputs": [
        {
          "output_type": "stream",
          "name": "stdout",
          "text": [
            "4/4 [==============================] - 0s 5ms/step\n"
          ]
        },
        {
          "output_type": "display_data",
          "data": {
            "text/plain": [
              "<Figure size 800x600 with 1 Axes>"
            ],
            "image/png": "[encoded data removed]"
          },
          "metadata": {}
        }
      ],
      "source": [
        "x_pred = np.linspace(-1, 1, 100).reshape(-1, 1)\n",
        "y_pred = model.predict(x_pred)\n",
        "\n",
        "\n",
        "plt.figure(figsize=(8, 6))\n",
        "plt.plot(x_test, y_test, color='blue', label='Función (Datos de entranamiento)')\n",
        "plt.plot(x_pred, y_pred, color='red', label='Predicción de Red Neuronal')\n",
        "plt.xlabel('x')\n",
        "plt.ylabel('y')\n",
        "plt.legend()\n",
        "\n",
        "plt.show()"
      ]
    },
    {
      "cell_type": "code",
      "execution_count": 119,
      "metadata": {
        "id": "uWGnWHkJUmE_",
        "colab": {
          "base_uri": "https://localhost:8080/",
          "height": 449
        },
        "outputId": "b5bcc47e-2645-4d5f-8048-f8729087b5f5"
      },
      "outputs": [
        {
          "output_type": "display_data",
          "data": {
            "text/plain": [
              "<Figure size 640x480 with 1 Axes>"
            ],
            "image/png": "[encoded data removed]"
          },
          "metadata": {}
        }
      ],
      "source": [
        "loss = history.history['loss']\n",
        "val_loss = history.history['val_loss']\n",
        "plt.plot(loss, label='loss')\n",
        "plt.plot(val_loss, label='val_loss')\n",
        "plt.xlabel('Epoch')\n",
        "plt.ylabel('Loss')\n",
        "plt.legend()\n",
        "\n",
        "plt.show()\n",
        "\n"
      ]
    },
    {
      "cell_type": "code",
      "execution_count": 137,
      "metadata": {
        "id": "XqJS8s22Nd2s"
      },
      "outputs": [],
      "source": [
        "#Ejercicio 1(b): \n",
        "#Vamos a proponer los siguientes arreglos como conjuntos de entranmiento y de prueba \n",
        "\n",
        "x_train = np.linspace(-1, 1, 10000).reshape(-1, 1)\n",
        "y_train = 1+2*x_train+4*np.power(x_train,3.)\n",
        "\n",
        "#Eliminamos elementos repetidos entre el conjunto de entrenamiento y de prueba\n",
        "v=np.linspace(-1, 1, 100)\n",
        "cond=np.isin(np.linspace(-1, 1, 100),np.linspace(-1, 1, 1000))\n",
        "v=v[np.where(~cond)]\n",
        "\n",
        "x_test = v.reshape(-1, 1)\n",
        "y_test = 1+2*x_test+4*np.power(x_test,3.)\n"
      ]
    },
    {
      "cell_type": "code",
      "execution_count": 122,
      "metadata": {
        "id": "u7v0nOMYOTCl"
      },
      "outputs": [],
      "source": [
        "model = Sequential()\n",
        "model.add(Dense(600, activation='relu', input_shape=(1,)))\n",
        "model.add(Dropout(0.2))\n",
        "model.add(Dense(600, activation='relu'))\n",
        "model.add(Dense(1))\n",
        "\n"
      ]
    },
    {
      "cell_type": "code",
      "source": [
        "model = Sequential()\n",
        "model.add(Dense(800, activation='relu', kernel_regularizer=regularizers.l2(0.01), input_shape=(1,)))\n",
        "model.add(Dropout(0.2))\n",
        "model.add(Dense(100, activation='relu', kernel_regularizer=regularizers.l2(0.01)))\n",
        "model.add(Dropout(0.2))\n",
        "model.add(Dense(200, activation='relu', kernel_regularizer=regularizers.l2(0.01)))\n",
        "model.add(Dropout(0.2))\n",
        "model.add(Dense(300, activation='sigmoid', kernel_regularizer=regularizers.l2(0.01)))\n",
        "model.add(Dense(1))"
      ],
      "metadata": {
        "id": "oR-dciXIzvMu"
      },
      "execution_count": 146,
      "outputs": []
    },
    {
      "cell_type": "code",
      "source": [
        "model = Sequential()\n",
        "model.add(Dense(600, activation='relu', kernel_regularizer=regularizers.l2(0.01), input_shape=(1,)))\n",
        "model.add(Dropout(0.2))\n",
        "model.add(Dense(1))"
      ],
      "metadata": {
        "id": "4m29I4e0P2dd"
      },
      "execution_count": 107,
      "outputs": []
    },
    {
      "cell_type": "code",
      "execution_count": 147,
      "metadata": {
        "id": "wz9JQrGsSDmw"
      },
      "outputs": [],
      "source": [
        "batch_size=120\n",
        "epochs=30\n",
        "learning_rate=0.01\n",
        "Optimizador=SGD\n"
      ]
    },
    {
      "cell_type": "code",
      "execution_count": 148,
      "metadata": {
        "id": "QoPKQzZWOgkm",
        "colab": {
          "base_uri": "https://localhost:8080/"
        },
        "outputId": "5138c798-bc81-4caa-9f63-bc5b6cb614de"
      },
      "outputs": [
        {
          "output_type": "stream",
          "name": "stdout",
          "text": [
            "Epoch 1/30\n",
            "84/84 [==============================] - 3s 21ms/step - loss: 12.0927 - mse: 6.6380 - val_loss: 11.2351 - val_mse: 5.8597\n",
            "Epoch 2/30\n",
            "84/84 [==============================] - 1s 18ms/step - loss: 7.6988 - mse: 2.3675 - val_loss: 6.3668 - val_mse: 1.1022\n",
            "Epoch 3/30\n",
            "84/84 [==============================] - 1s 17ms/step - loss: 6.1355 - mse: 0.9551 - val_loss: 5.8058 - val_mse: 0.7102\n",
            "Epoch 4/30\n",
            "84/84 [==============================] - 1s 11ms/step - loss: 6.0364 - mse: 1.0197 - val_loss: 6.6300 - val_mse: 1.6979\n",
            "Epoch 5/30\n",
            "84/84 [==============================] - 1s 11ms/step - loss: 6.1165 - mse: 1.2587 - val_loss: 5.1006 - val_mse: 0.3202\n",
            "Epoch 6/30\n",
            "84/84 [==============================] - 1s 11ms/step - loss: 5.4111 - mse: 0.7045 - val_loss: 5.0326 - val_mse: 0.4030\n",
            "Epoch 7/30\n",
            "84/84 [==============================] - 1s 11ms/step - loss: 5.3108 - mse: 0.7515 - val_loss: 4.9273 - val_mse: 0.4409\n",
            "Epoch 8/30\n",
            "84/84 [==============================] - 1s 11ms/step - loss: 5.0821 - mse: 0.6649 - val_loss: 4.5643 - val_mse: 0.2189\n",
            "Epoch 9/30\n",
            "84/84 [==============================] - 1s 11ms/step - loss: 4.9726 - mse: 0.6930 - val_loss: 4.7675 - val_mse: 0.5570\n",
            "Epoch 10/30\n",
            "84/84 [==============================] - 1s 11ms/step - loss: 4.8133 - mse: 0.6660 - val_loss: 4.2957 - val_mse: 0.2139\n",
            "Epoch 11/30\n",
            "84/84 [==============================] - 1s 11ms/step - loss: 4.4525 - mse: 0.4327 - val_loss: 4.2357 - val_mse: 0.2812\n",
            "Epoch 12/30\n",
            "84/84 [==============================] - 1s 11ms/step - loss: 4.4362 - mse: 0.5405 - val_loss: 3.9409 - val_mse: 0.1069\n",
            "Epoch 13/30\n",
            "84/84 [==============================] - 1s 11ms/step - loss: 4.2694 - mse: 0.4937 - val_loss: 3.9089 - val_mse: 0.1930\n",
            "Epoch 14/30\n",
            "84/84 [==============================] - 1s 14ms/step - loss: 4.2589 - mse: 0.5990 - val_loss: 3.6981 - val_mse: 0.0968\n",
            "Epoch 15/30\n",
            "84/84 [==============================] - 1s 18ms/step - loss: 3.9265 - mse: 0.3786 - val_loss: 3.7133 - val_mse: 0.2208\n",
            "Epoch 16/30\n",
            "84/84 [==============================] - 2s 18ms/step - loss: 3.8138 - mse: 0.3744 - val_loss: 3.5049 - val_mse: 0.1201\n",
            "Epoch 17/30\n",
            "84/84 [==============================] - 2s 18ms/step - loss: 3.7268 - mse: 0.3924 - val_loss: 4.2163 - val_mse: 0.9337\n",
            "Epoch 18/30\n",
            "84/84 [==============================] - 1s 14ms/step - loss: 3.7248 - mse: 0.4926 - val_loss: 3.2804 - val_mse: 0.0988\n",
            "Epoch 19/30\n",
            "84/84 [==============================] - 1s 11ms/step - loss: 3.4030 - mse: 0.2689 - val_loss: 3.6427 - val_mse: 0.5559\n",
            "Epoch 20/30\n",
            "84/84 [==============================] - 1s 11ms/step - loss: 3.5873 - mse: 0.5488 - val_loss: 3.0480 - val_mse: 0.0576\n",
            "Epoch 21/30\n",
            "84/84 [==============================] - 1s 11ms/step - loss: 3.1917 - mse: 0.2456 - val_loss: 2.9639 - val_mse: 0.0631\n",
            "Epoch 22/30\n",
            "84/84 [==============================] - 1s 11ms/step - loss: 3.2578 - mse: 0.4014 - val_loss: 3.2633 - val_mse: 0.4503\n",
            "Epoch 23/30\n",
            "84/84 [==============================] - 1s 11ms/step - loss: 3.0411 - mse: 0.2713 - val_loss: 2.8854 - val_mse: 0.1583\n",
            "Epoch 24/30\n",
            "84/84 [==============================] - 1s 11ms/step - loss: 2.9245 - mse: 0.2385 - val_loss: 2.6876 - val_mse: 0.0443\n",
            "Epoch 25/30\n",
            "84/84 [==============================] - 1s 11ms/step - loss: 2.8735 - mse: 0.2688 - val_loss: 2.9010 - val_mse: 0.3377\n",
            "Epoch 26/30\n",
            "84/84 [==============================] - 1s 11ms/step - loss: 2.9575 - mse: 0.4318 - val_loss: 2.5285 - val_mse: 0.0416\n",
            "Epoch 27/30\n",
            "84/84 [==============================] - 1s 11ms/step - loss: 2.7858 - mse: 0.3360 - val_loss: 2.6187 - val_mse: 0.2055\n",
            "Epoch 28/30\n",
            "84/84 [==============================] - 1s 11ms/step - loss: 2.7200 - mse: 0.3436 - val_loss: 2.3766 - val_mse: 0.0372\n",
            "Epoch 29/30\n",
            "84/84 [==============================] - 1s 15ms/step - loss: 2.5643 - mse: 0.2590 - val_loss: 2.5464 - val_mse: 0.2762\n",
            "Epoch 30/30\n",
            "84/84 [==============================] - 2s 18ms/step - loss: 2.5545 - mse: 0.3184 - val_loss: 2.2364 - val_mse: 0.0338\n"
          ]
        }
      ],
      "source": [
        "model.compile(loss='mean_squared_error', optimizer=SGD(learning_rate=learning_rate), metrics=['mse'])\n",
        "history = model.fit(x_train, y_train, batch_size=batch_size, epochs=epochs, verbose=1, validation_data=(x_test, y_test))"
      ]
    },
    {
      "cell_type": "code",
      "execution_count": 149,
      "metadata": {
        "id": "48CJGeqbPeMi",
        "colab": {
          "base_uri": "https://localhost:8080/",
          "height": 560
        },
        "outputId": "f94effad-b755-43fd-8d00-1e8a86144322"
      },
      "outputs": [
        {
          "output_type": "stream",
          "name": "stdout",
          "text": [
            "4/4 [==============================] - 0s 4ms/step\n"
          ]
        },
        {
          "output_type": "display_data",
          "data": {
            "text/plain": [
              "<Figure size 800x600 with 1 Axes>"
            ],
            "image/png": "[encoded data removed]"
          },
          "metadata": {}
        }
      ],
      "source": [
        "x_pred = np.linspace(-1, 1, 100).reshape(-1, 1)\n",
        "y_pred = model.predict(x_pred)\n",
        "\n",
        "plt.figure(figsize=(8, 6))\n",
        "plt.plot(x_test, y_test, color='blue', label='Función (Datos de entranamiento)')\n",
        "plt.plot(x_pred, y_pred, color='red', label='Predicción de Red Neuronal')\n",
        "plt.xlabel('x')\n",
        "plt.ylabel('y')\n",
        "plt.legend()\n",
        "\n",
        "plt.show()"
      ]
    },
    {
      "cell_type": "code",
      "execution_count": 150,
      "metadata": {
        "id": "_PWheNbQSq4T",
        "colab": {
          "base_uri": "https://localhost:8080/",
          "height": 449
        },
        "outputId": "e45c844d-cd93-45a3-843e-61cb8a98fb57"
      },
      "outputs": [
        {
          "output_type": "display_data",
          "data": {
            "text/plain": [
              "<Figure size 640x480 with 1 Axes>"
            ],
            "image/png": "[encoded data removed]"
          },
          "metadata": {}
        }
      ],
      "source": [
        "loss = history.history['loss']\n",
        "val_loss = history.history['val_loss']\n",
        "plt.plot(loss, label='loss')\n",
        "plt.plot(val_loss, label='val_oss')\n",
        "plt.xlabel('Epoch')\n",
        "plt.ylabel('Loss')\n",
        "plt.legend()\n",
        "\n",
        "plt.show()"
      ]
    },
    {
      "cell_type": "code",
      "execution_count": null,
      "metadata": {
        "id": "ThGOk8CoxPAy"
      },
      "outputs": [],
      "source": [
        "#Ejercicio dos: Identificar enfermedades en plantas \n"
      ]
    },
    {
      "cell_type": "code",
      "execution_count": null,
      "metadata": {
        "id": "b6GSpDdZYgqF"
      },
      "outputs": [],
      "source": [
        "#Para leer datos desde Google Drive: \n",
        "from google.colab import drive \n",
        "drive.mount('/content/drive') "
      ]
    },
    {
      "cell_type": "code",
      "execution_count": null,
      "metadata": {
        "id": "2jUIvkPG3e1n"
      },
      "outputs": [],
      "source": [
        "df = pd.read_csv('/content/drive/MyDrive/Base de datos/train.csv', names=['Nombre', 'Clase'])"
      ]
    },
    {
      "cell_type": "code",
      "execution_count": null,
      "metadata": {
        "id": "2KNuXaqv3zHM"
      },
      "outputs": [],
      "source": [
        "df=df.drop(0,axis=0)#Eliminamos la primera fila que no es d eutilidad"
      ]
    },
    {
      "cell_type": "code",
      "execution_count": null,
      "metadata": {
        "id": "Pas6quIE3f7m"
      },
      "outputs": [],
      "source": [
        "df.Clase.unique()#Checamos las etiquetas de las clases"
      ]
    },
    {
      "cell_type": "code",
      "execution_count": null,
      "metadata": {
        "id": "5NH6UZaFxjPz"
      },
      "outputs": [],
      "source": [
        "df[df['Clase']=='healthy']['Nombre'].size"
      ]
    },
    {
      "cell_type": "code",
      "execution_count": null,
      "metadata": {
        "id": "j4iI1bFDvVcb"
      },
      "outputs": [],
      "source": [
        "for x in list(df.Clase.unique()): \n",
        "  y=df[df['Clase']==x]['Nombre'].size\n",
        "  print(f'{x}={y}')"
      ]
    },
    {
      "cell_type": "code",
      "execution_count": null,
      "metadata": {
        "id": "bLppSbGtKpKq"
      },
      "outputs": [],
      "source": [
        "df.shape"
      ]
    },
    {
      "cell_type": "code",
      "execution_count": null,
      "metadata": {
        "id": "xhCRzQdzKfZl"
      },
      "outputs": [],
      "source": [
        "#Vamos a mezclar de manera aleatoria todas las filas del csv\n",
        "#df= df.sample(frac=1, random_state=42)\n",
        "#Vamos a dividir a la mitad la base de datos para la primera parte para imagenes de entrenamiento y la otra por prueba\n",
        "#df1=df.iloc[0:9316,:]\n",
        "#df2=df.iloc[9316:18633,:]"
      ]
    },
    {
      "cell_type": "code",
      "execution_count": null,
      "metadata": {
        "id": "l7LL-OGFNM1T"
      },
      "outputs": [],
      "source": [
        "#Podemos notar que los conjuntos no tienen elementos en común \n",
        "#set(df1.Nombre).intersection(set(df2.Nombre))"
      ]
    },
    {
      "cell_type": "code",
      "execution_count": null,
      "metadata": {
        "id": "gpxVur6m3onF"
      },
      "outputs": [],
      "source": [
        "# Ruta de la carpeta de destino para las subcarpetas\n",
        "mini_train = '/content/train_'\n",
        "\n",
        "# Crear la carpeta de destino si no existe\n",
        "if not os.path.exists(mini_train ):\n",
        "    os.makedirs(mini_train )"
      ]
    },
    {
      "cell_type": "code",
      "execution_count": null,
      "metadata": {
        "id": "VteqNplB8Gxa"
      },
      "outputs": [],
      "source": [
        "#Formamos una lista ordenada de las categorias de que tenemos en nuestro csv\n",
        "E= df.sort_values('Clase')\n",
        "clases= list(E.Clase.unique())"
      ]
    },
    {
      "cell_type": "code",
      "execution_count": null,
      "metadata": {
        "id": "9t8q8CUu1Kjy"
      },
      "outputs": [],
      "source": [
        "#El próposito de este for es formar carpetas de cada una de las clasificaciones en la carpeta llamada train_\n",
        "#Cada carpeta consta de 50 imágenes con la finalidad de reducir el tiempo de aprendizaje de la red convolucional\n",
        "for i in clases:\n",
        "    contador = 0  # Contador de imágenes en la carpeta actual\n",
        "    for c in list(df[df['Clase'] == i]['Nombre']):\n",
        "        if contador >= 50:\n",
        "            break  # Se alcanzó el límite de imágenes por carpeta\n",
        "        imagen= os.path.join('/content/drive/MyDrive/Base de datos/train_images', c)\n",
        "        if os.path.exists(imagen):\n",
        "            mt= os.path.join(mini_train , 'train_' + i)\n",
        "            if not os.path.exists(mt):\n",
        "                os.makedirs(mt)\n",
        "            m= shutil.copy(imagen,mt)\n",
        "            contador+= 1\n",
        "\n"
      ]
    },
    {
      "cell_type": "code",
      "execution_count": null,
      "metadata": {
        "id": "WizohjIqrdBM"
      },
      "outputs": [],
      "source": [
        "l=list(os.listdir('/content/train_'))\n"
      ]
    },
    {
      "cell_type": "code",
      "execution_count": null,
      "metadata": {
        "id": "ApCGw3SZNTa_"
      },
      "outputs": [],
      "source": [
        "#Realizamos el mismo procedimiento para crear la carpeta con subcarpetas de las categorías del problema\n",
        "#Esta vez para el conjunto de prueba \n",
        "\n",
        "# Ruta de la carpeta de destino para las subcarpetas\n",
        "mini_test = '/content/test_'\n",
        "\n",
        "# Crear la carpeta de destino si no existe\n",
        "if not os.path.exists(mini_test):\n",
        "    os.makedirs(mini_test )"
      ]
    },
    {
      "cell_type": "code",
      "execution_count": null,
      "metadata": {
        "id": "WBjX5MMxNs2U"
      },
      "outputs": [],
      "source": [
        "#Formamos una lista ordenada de las categorias de que tenemos en nuestro csv\n",
        "#E= df2.sort_values('Clase')\n",
        "#clases= list(E.Clase.unique())"
      ]
    },
    {
      "cell_type": "code",
      "execution_count": null,
      "metadata": {
        "id": "cfkR9xU9N2WR"
      },
      "outputs": [],
      "source": [
        "#El próposito de este for es formar carpetas de cada una de las clasificaciones en la carpeta llamada test_\n",
        "#Cada carpeta consta de 5 imágenes,estamos considerado el 10% de las imagenes de entrenamiento.\n",
        "for i in clases:\n",
        "    contador = 0  # Contador de imágenes en la carpeta actual\n",
        "    for c in list(df[df['Clase'] == i]['Nombre']):\n",
        "        if contador >= 5:\n",
        "            break  # Se alcanzó el límite de imágenes por carpeta\n",
        "        imagen= os.path.join('/content/drive/MyDrive/Base de datos/train_images', c)\n",
        "        if os.path.exists(imagen):\n",
        "            mt= os.path.join(mini_test , 'test_' + i)\n",
        "            if not os.path.exists(mt):\n",
        "                os.makedirs(mt)\n",
        "            m= shutil.copy(imagen,mt)\n",
        "            contador+= 1\n"
      ]
    },
    {
      "cell_type": "code",
      "execution_count": null,
      "metadata": {
        "id": "MyNUZB8fRO07"
      },
      "outputs": [],
      "source": [
        "ih,iw=150,150 #Tamaño de la imagen\n",
        "input_shape=(ih,iw,3) #forma de la imagen : Largo, Ancho y colores\n",
        "train_dir= '/content/train_' #directorio de entrenamiento\n",
        "test_dir='/content/test_' #directorio de prueba \n",
        "num_class=12 #Número de clases\n",
        "epochs=30 #Epocas\n",
        "batch_size=5  #batch para hacer cada entrenamiento. Lee 5 'batch_size' imagenes antes de actualizar\n",
        "num_train= 600 #Número de imágenes en train \n",
        "num_test=60 #Número de imágenes en test\n",
        "epoch_steps= num_train//batch_size \n",
        "test_steps=num_test//batch_size"
      ]
    },
    {
      "cell_type": "code",
      "execution_count": null,
      "metadata": {
        "id": "0nq3yRFQVZ72"
      },
      "outputs": [],
      "source": [
        "h1=set(os.listdir(train_dir))\n",
        "h2=set(os.listdir(test_dir))\n",
        "l=h1.intersection(h2)\n",
        "l"
      ]
    },
    {
      "cell_type": "code",
      "execution_count": null,
      "metadata": {
        "id": "sQg7DCQVnitK"
      },
      "outputs": [],
      "source": [
        "gentrain = ImageDataGenerator(rescale=1. / 255., rotation_range=20,width_shift_range=0.2,height_shift_range=0.2,shear_range=0.2,zoom_range=0.2) \n",
        "#Generamos más imágenes mediante rotaciones y traslaciones \n",
        "\n",
        "train = gentrain.flow_from_directory(train_dir,\n",
        "                batch_size=batch_size,\n",
        "                target_size=(iw, ih),\n",
        "                class_mode='categorical',shuffle=True )\n",
        "\n",
        "gentest = ImageDataGenerator(rescale=1. / 255)\n",
        "\n",
        "test = gentest.flow_from_directory(test_dir,\n",
        "                batch_size=batch_size,\n",
        "                target_size=(iw, ih),\n",
        "                class_mode='categorical',shuffle=True )"
      ]
    },
    {
      "cell_type": "code",
      "execution_count": null,
      "metadata": {
        "id": "-hmEwCGb2knw"
      },
      "outputs": [],
      "source": [
        "#shutil.rmtree('/content/train_') #Para eliminar una carpeta\n"
      ]
    },
    {
      "cell_type": "code",
      "execution_count": null,
      "metadata": {
        "id": "6ExgRldlsgBq"
      },
      "outputs": [],
      "source": [
        "#shutil.rmtree('/content/test_') #Para eliminar una carpeta"
      ]
    },
    {
      "cell_type": "code",
      "execution_count": null,
      "metadata": {
        "id": "x9NhMoQs6aOc"
      },
      "outputs": [],
      "source": [
        "model=Sequential() \n",
        "model.add(Conv2D(10,(3,3),input_shape=(ih,iw,3)))\n",
        "model.add(Activation('relu'))\n",
        "model.add(MaxPooling2D(pool_size=(2,2)))\n",
        "\n",
        "model.add(Conv2D(10,(3,3))) \n",
        "model.add(Activation('relu'))\n",
        "model.add(MaxPooling2D(pool_size=(2,2))) \n",
        "\n",
        "model.add(Conv2D(20,(3,3))) \n",
        "model.add(Activation('relu')) \n",
        "model.add(MaxPooling2D(pool_size=(2,2))) \n",
        "\n",
        "model.add(Flatten())\n",
        "model.add(Dropout(0.2))\n",
        "model.add(Dense(64)) \n",
        "model.add(Activation('relu')) \n",
        "model.add(Dropout(0.2))\n",
        "model.add(Dense(12)) \n",
        "model.add(Activation('softmax'))\n",
        "\n"
      ]
    },
    {
      "cell_type": "code",
      "execution_count": null,
      "metadata": {
        "id": "SEYCNXBnuQjZ"
      },
      "outputs": [],
      "source": [
        "model = Sequential()\n",
        "\n",
        "model.add(Conv2D(32, (3, 3), input_shape=(ih, iw, 3)))\n",
        "model.add(Activation('relu'))\n",
        "model.add(MaxPooling2D(pool_size=(2, 2)))\n",
        "\n",
        "model.add(Conv2D(64, (3, 3)))\n",
        "model.add(Activation('relu'))\n",
        "model.add(MaxPooling2D(pool_size=(2, 2)))\n",
        "\n",
        "model.add(Conv2D(128, (3, 3)))\n",
        "model.add(Activation('relu'))\n",
        "model.add(MaxPooling2D(pool_size=(2, 2)))\n",
        "\n",
        "model.add(Flatten())\n",
        "model.add(Dense(256))\n",
        "model.add(Activation('relu'))\n",
        "model.add(Dropout(0.2))\n",
        "\n",
        "model.add(Dense(128))\n",
        "model.add(Activation('relu'))\n",
        "model.add(Dropout(0.2))\n",
        "\n",
        "model.add(Dense(64))\n",
        "model.add(Activation('relu'))\n",
        "model.add(Dropout(0.2))\n",
        "\n",
        "model.add(Dense(12))\n",
        "model.add(Activation('softmax'))"
      ]
    },
    {
      "cell_type": "code",
      "execution_count": null,
      "metadata": {
        "id": "tMzwDWRSC9T9"
      },
      "outputs": [],
      "source": [
        "import wandb\n",
        "from wandb.keras import WandbCallback\n",
        "wandb.init(project=\"Red_Neuronal_Ejercicio1b\")\n",
        "wandb.config.learning_rate = 0.001\n",
        "wandb.config.epochs = epochs\n",
        "wandb.config.steps_per_epoch =epoch_steps\n",
        "wandb.config.optimizador=RMSprop\n",
        "wandb.config.validation_steps=test_steps"
      ]
    },
    {
      "cell_type": "code",
      "execution_count": null,
      "metadata": {
        "id": "pHcFN5z--pBz"
      },
      "outputs": [],
      "source": [
        "loss= CategoricalCrossentropy()\n",
        "model.compile(loss=loss, optimizer=RMSprop(learning_rate=0.001), metrics=['accuracy'])\n",
        "model.fit(train, steps_per_epoch=epoch_steps, epochs=epochs, validation_data=test, validation_steps=test_steps,callbacks=[WandbCallback()])"
      ]
    }
  ],
  "metadata": {
    "colab": {
      "provenance": [],
      "authorship_tag": "ABX9TyNYvOhZmnJJ3n+FYEJ0uXFo",
      "include_colab_link": true
    },
    "kernelspec": {
      "display_name": "Python 3",
      "name": "python3"
    },
    "language_info": {
      "name": "python"
    }
  },
  "nbformat": 4,
  "nbformat_minor": 0
}