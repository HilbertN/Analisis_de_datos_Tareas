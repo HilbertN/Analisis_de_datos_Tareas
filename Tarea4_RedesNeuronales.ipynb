{
  "cells": [
    {
      "cell_type": "markdown",
      "metadata": {
        "id": "view-in-github",
        "colab_type": "text"
      },
      "source": [
        "<a href=\"https://colab.research.google.com/github/HilbertN/Analisis_de_datos_Tareas/blob/main/Tarea4_RedesNeuronales.ipynb\" target=\"_parent\"><img src=\"https://colab.research.google.com/assets/colab-badge.svg\" alt=\"Open In Colab\"/></a>"
      ]
    },
    {
      "cell_type": "code",
      "execution_count": null,
      "metadata": {
        "id": "mwHkNutiQktm"
      },
      "outputs": [],
      "source": [
        "import tensorflow as tf\n",
        "from tensorflow import keras\n",
        "from tensorflow.keras import layers,models,regularizers\n",
        "from tensorflow.keras.datasets import mnist\n",
        "from tensorflow.keras.models import Sequential\n",
        "from tensorflow.keras.layers import Dense, Dropout,Activation,MaxPooling2D,Flatten,Conv2D\n",
        "from tensorflow.keras.optimizers import RMSprop, SGD, Adam\n",
        "from tensorflow.keras.losses import CategoricalCrossentropy,MeanSquaredError\n",
        "from keras.preprocessing.image import ImageDataGenerator\n",
        "from keras.preprocessing import  image\n",
        "import pandas as pd \n",
        "import numpy as np\n",
        "import shutil \n",
        "import os\n",
        "import matplotlib.pyplot as plt"
      ]
    },
    {
      "cell_type": "code",
      "execution_count": 97,
      "metadata": {
        "id": "7zKE2skuVyza"
      },
      "outputs": [],
      "source": [
        "# Weights & Biases  (optional)\n",
        "!pip install -q wandb"
      ]
    },
    {
      "cell_type": "code",
      "execution_count": 98,
      "metadata": {
        "id": "DuDK614nV5MK",
        "colab": {
          "base_uri": "https://localhost:8080/"
        },
        "outputId": "68b10553-342c-4e75-92e6-b49634dddd94"
      },
      "outputs": [
        {
          "output_type": "stream",
          "name": "stdout",
          "text": [
            "\u001b[34m\u001b[1mwandb\u001b[0m: \u001b[32m\u001b[41mERROR\u001b[0m Find detailed error logs at: /content/wandb/debug-cli.root.log\n",
            "Error: \u001b[31mConnection to wandb service failed: [Errno 111] Connection refused. \u001b[0m\n"
          ]
        }
      ],
      "source": [
        "!wandb login"
      ]
    },
    {
      "cell_type": "code",
      "execution_count": null,
      "metadata": {
        "id": "YnH0MfFrzWLG"
      },
      "outputs": [],
      "source": [
        "#Ejercicio 1: Entrena una red neuronal para que reproduzca la siguientes funciones en el  intervalo  de  [-1,1].  \n",
        "# Graficar  la  solución  de  la  red  en  conjunto  con  la gráfica de la función.(a)  3 sin(πx)(b)  1 + 2x+ 4x3\n",
        "\n",
        "#Ejercicio 1(a): \n",
        "#Vamos a proponer los siguientes arreglos como conjuntos de entranmiento y de prueba \n",
        "\n",
        "x_train = np.linspace(-1, 1, 1000).reshape(-1, 1)\n",
        "y_train = 3 * np.sin(np.pi * x_train)\n",
        "\n",
        "#Eliminamos elementos repetidos entre el conjunto de entrenamiento y de prueba\n",
        "v=np.linspace(-1, 1, 100)\n",
        "cond=np.isin(np.linspace(-1, 1, 100),np.linspace(-1, 1, 1000))\n",
        "v=v[np.where(~cond)]\n",
        "\n",
        "x_test = v.reshape(-1, 1)\n",
        "y_test= 3 * np.sin(np.pi * x_test)\n"
      ]
    },
    {
      "cell_type": "code",
      "execution_count": null,
      "metadata": {
        "id": "AB_VsCGZE4aU",
        "colab": {
          "base_uri": "https://localhost:8080/"
        },
        "outputId": "1bacfbb5-d93c-4f86-df61-2311ba32d3b3"
      },
      "outputs": [
        {
          "output_type": "execute_result",
          "data": {
            "text/plain": [
              "[]"
            ]
          },
          "metadata": {},
          "execution_count": 74
        }
      ],
      "source": [
        "#No hay elementos repetidos entre el conjunto de prueba y entrenamiento\n",
        "h1=set(np.linspace(-1, 1, 1000))\n",
        "h3=set(v)\n",
        "Repetidos=list(h3.intersection(h1))\n",
        "Repetidos"
      ]
    },
    {
      "cell_type": "code",
      "execution_count": null,
      "metadata": {
        "id": "KYrfAK504xJ-"
      },
      "outputs": [],
      "source": [
        "model = Sequential()\n",
        "model.add(Dense(300, activation='relu', input_shape=(1,)))\n",
        "model.add(Dropout(0.2))\n",
        "model.add(Dense(300, activation='relu'))\n",
        "model.add(Dense(1))\n",
        "\n",
        "\n"
      ]
    },
    {
      "cell_type": "code",
      "execution_count": null,
      "metadata": {
        "id": "bEIKgwBbQ_Rm"
      },
      "outputs": [],
      "source": [
        "batch_size=30 \n",
        "epochs=40 \n",
        "learning_rate=0.03\n",
        "Optimizador=SGD"
      ]
    },
    {
      "cell_type": "code",
      "execution_count": null,
      "metadata": {
        "id": "RkEMuSd6B4Ij",
        "colab": {
          "base_uri": "https://localhost:8080/"
        },
        "outputId": "88b54b9b-d0d4-41b4-d4b6-04675a33da2c"
      },
      "outputs": [
        {
          "output_type": "stream",
          "name": "stdout",
          "text": [
            "Epoch 1/40\n",
            "34/34 [==============================] - 2s 25ms/step - loss: 2.1758 - mse: 2.1758 - val_loss: 1.1061 - val_mse: 1.1061\n",
            "Epoch 2/40\n",
            "34/34 [==============================] - 0s 8ms/step - loss: 1.0777 - mse: 1.0777 - val_loss: 1.0066 - val_mse: 1.0066\n",
            "Epoch 3/40\n",
            "34/34 [==============================] - 0s 14ms/step - loss: 0.9885 - mse: 0.9885 - val_loss: 0.8963 - val_mse: 0.8963\n",
            "Epoch 4/40\n",
            "34/34 [==============================] - 0s 14ms/step - loss: 0.9000 - mse: 0.9000 - val_loss: 0.7426 - val_mse: 0.7426\n",
            "Epoch 5/40\n",
            "34/34 [==============================] - 0s 13ms/step - loss: 0.7779 - mse: 0.7779 - val_loss: 0.6304 - val_mse: 0.6304\n",
            "Epoch 6/40\n",
            "34/34 [==============================] - 1s 17ms/step - loss: 0.6363 - mse: 0.6363 - val_loss: 0.4901 - val_mse: 0.4901\n",
            "Epoch 7/40\n",
            "34/34 [==============================] - 0s 14ms/step - loss: 0.4986 - mse: 0.4986 - val_loss: 0.3786 - val_mse: 0.3786\n",
            "Epoch 8/40\n",
            "34/34 [==============================] - 0s 14ms/step - loss: 0.3592 - mse: 0.3592 - val_loss: 0.2366 - val_mse: 0.2366\n",
            "Epoch 9/40\n",
            "34/34 [==============================] - 1s 18ms/step - loss: 0.2603 - mse: 0.2603 - val_loss: 0.2530 - val_mse: 0.2530\n",
            "Epoch 10/40\n",
            "34/34 [==============================] - 0s 14ms/step - loss: 0.1840 - mse: 0.1840 - val_loss: 0.1011 - val_mse: 0.1011\n",
            "Epoch 11/40\n",
            "34/34 [==============================] - 0s 11ms/step - loss: 0.1298 - mse: 0.1298 - val_loss: 0.0842 - val_mse: 0.0842\n",
            "Epoch 12/40\n",
            "34/34 [==============================] - 0s 14ms/step - loss: 0.0969 - mse: 0.0969 - val_loss: 0.0744 - val_mse: 0.0744\n",
            "Epoch 13/40\n",
            "34/34 [==============================] - 1s 16ms/step - loss: 0.0828 - mse: 0.0828 - val_loss: 0.0548 - val_mse: 0.0548\n",
            "Epoch 14/40\n",
            "34/34 [==============================] - 1s 15ms/step - loss: 0.0639 - mse: 0.0639 - val_loss: 0.0318 - val_mse: 0.0318\n",
            "Epoch 15/40\n",
            "34/34 [==============================] - 0s 13ms/step - loss: 0.0511 - mse: 0.0511 - val_loss: 0.0233 - val_mse: 0.0233\n",
            "Epoch 16/40\n",
            "34/34 [==============================] - 0s 9ms/step - loss: 0.0471 - mse: 0.0471 - val_loss: 0.0211 - val_mse: 0.0211\n",
            "Epoch 17/40\n",
            "34/34 [==============================] - 0s 9ms/step - loss: 0.0448 - mse: 0.0448 - val_loss: 0.0211 - val_mse: 0.0211\n",
            "Epoch 18/40\n",
            "34/34 [==============================] - 0s 11ms/step - loss: 0.0352 - mse: 0.0352 - val_loss: 0.0234 - val_mse: 0.0234\n",
            "Epoch 19/40\n",
            "34/34 [==============================] - 0s 7ms/step - loss: 0.0367 - mse: 0.0367 - val_loss: 0.0234 - val_mse: 0.0234\n",
            "Epoch 20/40\n",
            "34/34 [==============================] - 0s 9ms/step - loss: 0.0284 - mse: 0.0284 - val_loss: 0.0141 - val_mse: 0.0141\n",
            "Epoch 21/40\n",
            "34/34 [==============================] - 0s 11ms/step - loss: 0.0289 - mse: 0.0289 - val_loss: 0.0093 - val_mse: 0.0093\n",
            "Epoch 22/40\n",
            "34/34 [==============================] - 0s 8ms/step - loss: 0.0278 - mse: 0.0278 - val_loss: 0.0107 - val_mse: 0.0107\n",
            "Epoch 23/40\n",
            "34/34 [==============================] - 0s 8ms/step - loss: 0.0251 - mse: 0.0251 - val_loss: 0.0080 - val_mse: 0.0080\n",
            "Epoch 24/40\n",
            "34/34 [==============================] - 0s 9ms/step - loss: 0.0268 - mse: 0.0268 - val_loss: 0.0344 - val_mse: 0.0344\n",
            "Epoch 25/40\n",
            "34/34 [==============================] - 0s 12ms/step - loss: 0.0266 - mse: 0.0266 - val_loss: 0.0062 - val_mse: 0.0062\n",
            "Epoch 26/40\n",
            "34/34 [==============================] - 0s 10ms/step - loss: 0.0225 - mse: 0.0225 - val_loss: 0.0064 - val_mse: 0.0064\n",
            "Epoch 27/40\n",
            "34/34 [==============================] - 0s 12ms/step - loss: 0.0261 - mse: 0.0261 - val_loss: 0.0060 - val_mse: 0.0060\n",
            "Epoch 28/40\n",
            "34/34 [==============================] - 0s 11ms/step - loss: 0.0221 - mse: 0.0221 - val_loss: 0.0103 - val_mse: 0.0103\n",
            "Epoch 29/40\n",
            "34/34 [==============================] - 0s 14ms/step - loss: 0.0219 - mse: 0.0219 - val_loss: 0.0120 - val_mse: 0.0120\n",
            "Epoch 30/40\n",
            "34/34 [==============================] - 0s 10ms/step - loss: 0.0194 - mse: 0.0194 - val_loss: 0.0046 - val_mse: 0.0046\n",
            "Epoch 31/40\n",
            "34/34 [==============================] - 0s 9ms/step - loss: 0.0229 - mse: 0.0229 - val_loss: 0.0110 - val_mse: 0.0110\n",
            "Epoch 32/40\n",
            "34/34 [==============================] - 0s 12ms/step - loss: 0.0210 - mse: 0.0210 - val_loss: 0.0063 - val_mse: 0.0063\n",
            "Epoch 33/40\n",
            "34/34 [==============================] - 0s 12ms/step - loss: 0.0201 - mse: 0.0201 - val_loss: 0.0045 - val_mse: 0.0045\n",
            "Epoch 34/40\n",
            "34/34 [==============================] - 0s 9ms/step - loss: 0.0230 - mse: 0.0230 - val_loss: 0.0068 - val_mse: 0.0068\n",
            "Epoch 35/40\n",
            "34/34 [==============================] - 0s 11ms/step - loss: 0.0214 - mse: 0.0214 - val_loss: 0.0054 - val_mse: 0.0054\n",
            "Epoch 36/40\n",
            "34/34 [==============================] - 0s 11ms/step - loss: 0.0194 - mse: 0.0194 - val_loss: 0.0086 - val_mse: 0.0086\n",
            "Epoch 37/40\n",
            "34/34 [==============================] - 0s 11ms/step - loss: 0.0212 - mse: 0.0212 - val_loss: 0.0100 - val_mse: 0.0100\n",
            "Epoch 38/40\n",
            "34/34 [==============================] - 1s 17ms/step - loss: 0.0193 - mse: 0.0193 - val_loss: 0.0053 - val_mse: 0.0053\n",
            "Epoch 39/40\n",
            "34/34 [==============================] - 1s 16ms/step - loss: 0.0204 - mse: 0.0204 - val_loss: 0.0163 - val_mse: 0.0163\n",
            "Epoch 40/40\n",
            "34/34 [==============================] - 1s 19ms/step - loss: 0.0169 - mse: 0.0169 - val_loss: 0.0059 - val_mse: 0.0059\n"
          ]
        }
      ],
      "source": [
        "model.compile(loss='mean_squared_error', optimizer=Optimizador(learning_rate=learning_rate), metrics=['mse'])\n",
        "history = model.fit(x_train, y_train, batch_size=batch_size, epochs=epochs, verbose=1, validation_data=(x_test, y_test))"
      ]
    },
    {
      "cell_type": "code",
      "execution_count": null,
      "metadata": {
        "id": "IdZ9-LlSLXx8"
      },
      "outputs": [],
      "source": [
        "x_pred = np.linspace(-1, 1, 100).reshape(-1, 1)\n",
        "y_pred = model.predict(x_pred)\n",
        "\n",
        "\n",
        "plt.figure(figsize=(8, 6))\n",
        "plt.plot(x_test, y_test, color='blue', label='Función (Datos de entranamiento)')\n",
        "plt.plot(x_pred, y_pred, color='red', label='Predicción de Red Neuronal')\n",
        "plt.xlabel('x')\n",
        "plt.ylabel('y')\n",
        "plt.legend()\n",
        "plt.show()"
      ]
    },
    {
      "cell_type": "code",
      "execution_count": 85,
      "metadata": {
        "id": "uWGnWHkJUmE_",
        "colab": {
          "base_uri": "https://localhost:8080/",
          "height": 449
        },
        "outputId": "67614fb4-8a29-4bb9-db87-1f40ba58ab2d"
      },
      "outputs": [
        {
          "output_type": "display_data",
          "data": {
            "text/plain": [
              "<Figure size 640x480 with 1 Axes>"
            ],
            "image/png": "[encoded data removed]"
          },
          "metadata": {}
        }
      ],
      "source": [
        "loss = history.history['loss']\n",
        "val_loss = history.history['val_loss']\n",
        "plt.plot(loss, label='loss')\n",
        "plt.plot(val_loss, label='val_loss')\n",
        "plt.xlabel('Epoch')\n",
        "plt.ylabel('Loss')\n",
        "plt.legend()\n",
        "plt.show()"
      ]
    },
    {
      "cell_type": "code",
      "execution_count": 106,
      "metadata": {
        "id": "XqJS8s22Nd2s"
      },
      "outputs": [],
      "source": [
        "#Ejercicio 1(b): \n",
        "#Vamos a proponer los siguientes arreglos como conjuntos de entranmiento y de prueba \n",
        "\n",
        "x_train = np.linspace(-1, 1, 10000).reshape(-1, 1)\n",
        "y_train = 1+2*x_train+4*np.power(x_train,3.)\n",
        "\n",
        "#Eliminamos elementos repetidos entre el conjunto de entrenamiento y de prueba\n",
        "v=np.linspace(-1, 1, 100)\n",
        "cond=np.isin(np.linspace(-1, 1, 100),np.linspace(-1, 1, 1000))\n",
        "v=v[np.where(~cond)]\n",
        "\n",
        "x_test = v.reshape(-1, 1)\n",
        "y_test = 1+2*x_test+4*np.power(x_test,3.)\n"
      ]
    },
    {
      "cell_type": "code",
      "execution_count": null,
      "metadata": {
        "id": "u7v0nOMYOTCl"
      },
      "outputs": [],
      "source": [
        "model = Sequential()\n",
        "model.add(Dense(300, activation='relu', input_shape=(1,)))\n",
        "model.add(Dropout(0.2))\n",
        "model.add(Dense(300, activation='relu'))\n",
        "model.add(Dense(1))\n",
        "\n"
      ]
    },
    {
      "cell_type": "code",
      "source": [
        "model = Sequential()\n",
        "model.add(Dense(600, activation='relu', kernel_regularizer=regularizers.l2(0.01), input_shape=(1,)))\n",
        "model.add(Dropout(0.2))\n",
        "model.add(Dense(200, activation='relu', kernel_regularizer=regularizers.l2(0.01)))\n",
        "model.add(Dropout(0.2))\n",
        "model.add(Dense(300, activation='sigmoid', kernel_regularizer=regularizers.l2(0.01)))\n",
        "model.add(Dense(1))"
      ],
      "metadata": {
        "id": "oR-dciXIzvMu"
      },
      "execution_count": 104,
      "outputs": []
    },
    {
      "cell_type": "code",
      "source": [
        "model = Sequential()\n",
        "model.add(Dense(600, activation='relu', kernel_regularizer=regularizers.l2(0.01), input_shape=(1,)))\n",
        "model.add(Dropout(0.2))\n",
        "model.add(Dense(1))"
      ],
      "metadata": {
        "id": "4m29I4e0P2dd"
      },
      "execution_count": 107,
      "outputs": []
    },
    {
      "cell_type": "code",
      "execution_count": 108,
      "metadata": {
        "id": "wz9JQrGsSDmw"
      },
      "outputs": [],
      "source": [
        "batch_size=50\n",
        "epochs=30\n",
        "learning_rate=0.01\n",
        "Optimizador=SGD\n"
      ]
    },
    {
      "cell_type": "code",
      "execution_count": 109,
      "metadata": {
        "id": "QoPKQzZWOgkm",
        "colab": {
          "base_uri": "https://localhost:8080/"
        },
        "outputId": "7a7f0b40-a7f0-450c-bd4c-3623118bba40"
      },
      "outputs": [
        {
          "output_type": "stream",
          "name": "stdout",
          "text": [
            "Epoch 1/30\n",
            "200/200 [==============================] - 1s 3ms/step - loss: 1.5488 - mse: 1.5121 - val_loss: 0.4309 - val_mse: 0.3919\n",
            "Epoch 2/30\n",
            "200/200 [==============================] - 1s 3ms/step - loss: 0.4490 - mse: 0.4113 - val_loss: 0.3889 - val_mse: 0.3519\n",
            "Epoch 3/30\n",
            "200/200 [==============================] - 1s 3ms/step - loss: 0.4238 - mse: 0.3873 - val_loss: 0.3702 - val_mse: 0.3335\n",
            "Epoch 4/30\n",
            "200/200 [==============================] - 1s 3ms/step - loss: 0.4105 - mse: 0.3744 - val_loss: 0.3586 - val_mse: 0.3227\n",
            "Epoch 5/30\n",
            "200/200 [==============================] - 1s 3ms/step - loss: 0.4014 - mse: 0.3655 - val_loss: 0.3503 - val_mse: 0.3146\n",
            "Epoch 6/30\n",
            "200/200 [==============================] - 1s 3ms/step - loss: 0.3957 - mse: 0.3599 - val_loss: 0.3466 - val_mse: 0.3109\n",
            "Epoch 7/30\n",
            "200/200 [==============================] - 1s 3ms/step - loss: 0.3869 - mse: 0.3509 - val_loss: 0.3362 - val_mse: 0.3004\n",
            "Epoch 8/30\n",
            "200/200 [==============================] - 1s 3ms/step - loss: 0.3773 - mse: 0.3410 - val_loss: 0.3336 - val_mse: 0.2968\n",
            "Epoch 9/30\n",
            "200/200 [==============================] - 1s 3ms/step - loss: 0.3704 - mse: 0.3335 - val_loss: 0.3196 - val_mse: 0.2820\n",
            "Epoch 10/30\n",
            "200/200 [==============================] - 1s 3ms/step - loss: 0.3591 - mse: 0.3214 - val_loss: 0.3102 - val_mse: 0.2723\n",
            "Epoch 11/30\n",
            "200/200 [==============================] - 1s 4ms/step - loss: 0.3453 - mse: 0.3067 - val_loss: 0.3009 - val_mse: 0.2615\n",
            "Epoch 12/30\n",
            "200/200 [==============================] - 1s 5ms/step - loss: 0.3316 - mse: 0.2918 - val_loss: 0.2879 - val_mse: 0.2476\n",
            "Epoch 13/30\n",
            "200/200 [==============================] - 1s 4ms/step - loss: 0.3200 - mse: 0.2788 - val_loss: 0.2733 - val_mse: 0.2315\n",
            "Epoch 14/30\n",
            "200/200 [==============================] - 1s 4ms/step - loss: 0.3031 - mse: 0.2603 - val_loss: 0.2600 - val_mse: 0.2165\n",
            "Epoch 15/30\n",
            "200/200 [==============================] - 1s 5ms/step - loss: 0.2912 - mse: 0.2467 - val_loss: 0.2471 - val_mse: 0.2013\n",
            "Epoch 16/30\n",
            "200/200 [==============================] - 1s 5ms/step - loss: 0.2765 - mse: 0.2300 - val_loss: 0.2326 - val_mse: 0.1848\n",
            "Epoch 17/30\n",
            "200/200 [==============================] - 1s 4ms/step - loss: 0.2616 - mse: 0.2129 - val_loss: 0.2184 - val_mse: 0.1687\n",
            "Epoch 18/30\n",
            "200/200 [==============================] - 1s 3ms/step - loss: 0.2456 - mse: 0.1947 - val_loss: 0.2053 - val_mse: 0.1531\n",
            "Epoch 19/30\n",
            "200/200 [==============================] - 1s 3ms/step - loss: 0.2305 - mse: 0.1773 - val_loss: 0.1917 - val_mse: 0.1373\n",
            "Epoch 20/30\n",
            "200/200 [==============================] - 1s 3ms/step - loss: 0.2175 - mse: 0.1620 - val_loss: 0.1794 - val_mse: 0.1227\n",
            "Epoch 21/30\n",
            "200/200 [==============================] - 1s 3ms/step - loss: 0.2052 - mse: 0.1475 - val_loss: 0.1690 - val_mse: 0.1103\n",
            "Epoch 22/30\n",
            "200/200 [==============================] - 1s 3ms/step - loss: 0.1911 - mse: 0.1314 - val_loss: 0.1580 - val_mse: 0.0972\n",
            "Epoch 23/30\n",
            "200/200 [==============================] - 1s 3ms/step - loss: 0.1816 - mse: 0.1200 - val_loss: 0.1493 - val_mse: 0.0867\n",
            "Epoch 24/30\n",
            "200/200 [==============================] - 1s 3ms/step - loss: 0.1751 - mse: 0.1117 - val_loss: 0.1426 - val_mse: 0.0780\n",
            "Epoch 25/30\n",
            "200/200 [==============================] - 1s 3ms/step - loss: 0.1646 - mse: 0.0996 - val_loss: 0.1350 - val_mse: 0.0692\n",
            "Epoch 26/30\n",
            "200/200 [==============================] - 1s 3ms/step - loss: 0.1562 - mse: 0.0898 - val_loss: 0.1290 - val_mse: 0.0620\n",
            "Epoch 27/30\n",
            "200/200 [==============================] - 1s 3ms/step - loss: 0.1508 - mse: 0.0831 - val_loss: 0.1241 - val_mse: 0.0559\n",
            "Epoch 28/30\n",
            "200/200 [==============================] - 1s 3ms/step - loss: 0.1463 - mse: 0.0778 - val_loss: 0.1196 - val_mse: 0.0507\n",
            "Epoch 29/30\n",
            "200/200 [==============================] - 1s 3ms/step - loss: 0.1402 - mse: 0.0710 - val_loss: 0.1162 - val_mse: 0.0465\n",
            "Epoch 30/30\n",
            "200/200 [==============================] - 1s 3ms/step - loss: 0.1373 - mse: 0.0675 - val_loss: 0.1128 - val_mse: 0.0427\n"
          ]
        }
      ],
      "source": [
        "model.compile(loss='mean_squared_error', optimizer=SGD(learning_rate=learning_rate), metrics=['mse'])\n",
        "history = model.fit(x_train, y_train, batch_size=batch_size, epochs=epochs, verbose=1, validation_data=(x_test, y_test))"
      ]
    },
    {
      "cell_type": "code",
      "execution_count": 110,
      "metadata": {
        "id": "48CJGeqbPeMi",
        "colab": {
          "base_uri": "https://localhost:8080/",
          "height": 560
        },
        "outputId": "dd5a8d00-8fe4-4101-9c6d-b2d7f0b08f49"
      },
      "outputs": [
        {
          "output_type": "stream",
          "name": "stdout",
          "text": [
            "4/4 [==============================] - 0s 4ms/step\n"
          ]
        },
        {
          "output_type": "display_data",
          "data": {
            "text/plain": [
              "<Figure size 800x600 with 1 Axes>"
            ],
            "image/png": "[encoded data removed]"
          },
          "metadata": {}
        }
      ],
      "source": [
        "x_pred = np.linspace(-1, 1, 100).reshape(-1, 1)\n",
        "y_pred = model.predict(x_pred)\n",
        "\n",
        "plt.figure(figsize=(8, 6))\n",
        "plt.plot(x_test, y_test, color='blue', label='Función (Datos de entranamiento)')\n",
        "plt.plot(x_pred, y_pred, color='red', label='Predicción de Red Neuronal')\n",
        "plt.xlabel('x')\n",
        "plt.ylabel('y')\n",
        "plt.legend()\n",
        "plt.show()"
      ]
    },
    {
      "cell_type": "code",
      "execution_count": 111,
      "metadata": {
        "id": "_PWheNbQSq4T",
        "colab": {
          "base_uri": "https://localhost:8080/",
          "height": 450
        },
        "outputId": "b0609f48-fb6d-43b0-c317-5f19fe8999d3"
      },
      "outputs": [
        {
          "output_type": "display_data",
          "data": {
            "text/plain": [
              "<Figure size 640x480 with 1 Axes>"
            ],
            "image/png": "[encoded data removed]"
          },
          "metadata": {}
        }
      ],
      "source": [
        "loss = history.history['loss']\n",
        "val_loss = history.history['val_loss']\n",
        "plt.plot(loss, label='loss')\n",
        "plt.plot(val_loss, label='val_oss')\n",
        "plt.xlabel('Epoch')\n",
        "plt.ylabel('Loss')\n",
        "plt.legend()\n",
        "plt.show()"
      ]
    },
    {
      "cell_type": "code",
      "execution_count": null,
      "metadata": {
        "id": "ThGOk8CoxPAy"
      },
      "outputs": [],
      "source": [
        "#Ejercicio dos: Identificar enfermedades en plantas \n"
      ]
    },
    {
      "cell_type": "code",
      "execution_count": null,
      "metadata": {
        "id": "b6GSpDdZYgqF"
      },
      "outputs": [],
      "source": [
        "#Para leer datos desde Google Drive: \n",
        "from google.colab import drive \n",
        "drive.mount('/content/drive') "
      ]
    },
    {
      "cell_type": "code",
      "execution_count": null,
      "metadata": {
        "id": "2jUIvkPG3e1n"
      },
      "outputs": [],
      "source": [
        "df = pd.read_csv('/content/drive/MyDrive/Base de datos/train.csv', names=['Nombre', 'Clase'])"
      ]
    },
    {
      "cell_type": "code",
      "execution_count": null,
      "metadata": {
        "id": "2KNuXaqv3zHM"
      },
      "outputs": [],
      "source": [
        "df=df.drop(0,axis=0)#Eliminamos la primera fila que no es d eutilidad"
      ]
    },
    {
      "cell_type": "code",
      "execution_count": null,
      "metadata": {
        "id": "Pas6quIE3f7m"
      },
      "outputs": [],
      "source": [
        "df.Clase.unique()#Checamos las etiquetas de las clases"
      ]
    },
    {
      "cell_type": "code",
      "execution_count": null,
      "metadata": {
        "id": "5NH6UZaFxjPz"
      },
      "outputs": [],
      "source": [
        "df[df['Clase']=='healthy']['Nombre'].size"
      ]
    },
    {
      "cell_type": "code",
      "execution_count": null,
      "metadata": {
        "id": "j4iI1bFDvVcb"
      },
      "outputs": [],
      "source": [
        "for x in list(df.Clase.unique()): \n",
        "  y=df[df['Clase']==x]['Nombre'].size\n",
        "  print(f'{x}={y}')"
      ]
    },
    {
      "cell_type": "code",
      "execution_count": null,
      "metadata": {
        "id": "bLppSbGtKpKq"
      },
      "outputs": [],
      "source": [
        "df.shape"
      ]
    },
    {
      "cell_type": "code",
      "execution_count": null,
      "metadata": {
        "id": "xhCRzQdzKfZl"
      },
      "outputs": [],
      "source": [
        "#Vamos a mezclar de manera aleatoria todas las filas del csv\n",
        "#df= df.sample(frac=1, random_state=42)\n",
        "#Vamos a dividir a la mitad la base de datos para la primera parte para imagenes de entrenamiento y la otra por prueba\n",
        "#df1=df.iloc[0:9316,:]\n",
        "#df2=df.iloc[9316:18633,:]"
      ]
    },
    {
      "cell_type": "code",
      "execution_count": null,
      "metadata": {
        "id": "l7LL-OGFNM1T"
      },
      "outputs": [],
      "source": [
        "#Podemos notar que los conjuntos no tienen elementos en común \n",
        "#set(df1.Nombre).intersection(set(df2.Nombre))"
      ]
    },
    {
      "cell_type": "code",
      "execution_count": null,
      "metadata": {
        "id": "gpxVur6m3onF"
      },
      "outputs": [],
      "source": [
        "# Ruta de la carpeta de destino para las subcarpetas\n",
        "mini_train = '/content/train_'\n",
        "\n",
        "# Crear la carpeta de destino si no existe\n",
        "if not os.path.exists(mini_train ):\n",
        "    os.makedirs(mini_train )"
      ]
    },
    {
      "cell_type": "code",
      "execution_count": null,
      "metadata": {
        "id": "VteqNplB8Gxa"
      },
      "outputs": [],
      "source": [
        "#Formamos una lista ordenada de las categorias de que tenemos en nuestro csv\n",
        "E= df.sort_values('Clase')\n",
        "clases= list(E.Clase.unique())"
      ]
    },
    {
      "cell_type": "code",
      "execution_count": null,
      "metadata": {
        "id": "9t8q8CUu1Kjy"
      },
      "outputs": [],
      "source": [
        "#El próposito de este for es formar carpetas de cada una de las clasificaciones en la carpeta llamada train_\n",
        "#Cada carpeta consta de 50 imágenes con la finalidad de reducir el tiempo de aprendizaje de la red convolucional\n",
        "for i in clases:\n",
        "    contador = 0  # Contador de imágenes en la carpeta actual\n",
        "    for c in list(df[df['Clase'] == i]['Nombre']):\n",
        "        if contador >= 50:\n",
        "            break  # Se alcanzó el límite de imágenes por carpeta\n",
        "        imagen= os.path.join('/content/drive/MyDrive/Base de datos/train_images', c)\n",
        "        if os.path.exists(imagen):\n",
        "            mt= os.path.join(mini_train , 'train_' + i)\n",
        "            if not os.path.exists(mt):\n",
        "                os.makedirs(mt)\n",
        "            m= shutil.copy(imagen,mt)\n",
        "            contador+= 1\n",
        "\n"
      ]
    },
    {
      "cell_type": "code",
      "execution_count": null,
      "metadata": {
        "id": "WizohjIqrdBM"
      },
      "outputs": [],
      "source": [
        "l=list(os.listdir('/content/train_'))\n"
      ]
    },
    {
      "cell_type": "code",
      "execution_count": null,
      "metadata": {
        "id": "ApCGw3SZNTa_"
      },
      "outputs": [],
      "source": [
        "#Realizamos el mismo procedimiento para crear la carpeta con subcarpetas de las categorías del problema\n",
        "#Esta vez para el conjunto de prueba \n",
        "\n",
        "# Ruta de la carpeta de destino para las subcarpetas\n",
        "mini_test = '/content/test_'\n",
        "\n",
        "# Crear la carpeta de destino si no existe\n",
        "if not os.path.exists(mini_test):\n",
        "    os.makedirs(mini_test )"
      ]
    },
    {
      "cell_type": "code",
      "execution_count": null,
      "metadata": {
        "id": "WBjX5MMxNs2U"
      },
      "outputs": [],
      "source": [
        "#Formamos una lista ordenada de las categorias de que tenemos en nuestro csv\n",
        "#E= df2.sort_values('Clase')\n",
        "#clases= list(E.Clase.unique())"
      ]
    },
    {
      "cell_type": "code",
      "execution_count": null,
      "metadata": {
        "id": "cfkR9xU9N2WR"
      },
      "outputs": [],
      "source": [
        "#El próposito de este for es formar carpetas de cada una de las clasificaciones en la carpeta llamada test_\n",
        "#Cada carpeta consta de 5 imágenes,estamos considerado el 10% de las imagenes de entrenamiento.\n",
        "for i in clases:\n",
        "    contador = 0  # Contador de imágenes en la carpeta actual\n",
        "    for c in list(df[df['Clase'] == i]['Nombre']):\n",
        "        if contador >= 5:\n",
        "            break  # Se alcanzó el límite de imágenes por carpeta\n",
        "        imagen= os.path.join('/content/drive/MyDrive/Base de datos/train_images', c)\n",
        "        if os.path.exists(imagen):\n",
        "            mt= os.path.join(mini_test , 'test_' + i)\n",
        "            if not os.path.exists(mt):\n",
        "                os.makedirs(mt)\n",
        "            m= shutil.copy(imagen,mt)\n",
        "            contador+= 1\n"
      ]
    },
    {
      "cell_type": "code",
      "execution_count": null,
      "metadata": {
        "id": "MyNUZB8fRO07"
      },
      "outputs": [],
      "source": [
        "ih,iw=150,150 #Tamaño de la imagen\n",
        "input_shape=(ih,iw,3) #forma de la imagen : Largo, Ancho y colores\n",
        "train_dir= '/content/train_' #directorio de entrenamiento\n",
        "test_dir='/content/test_' #directorio de prueba \n",
        "num_class=12 #Número de clases\n",
        "epochs=30 #Epocas\n",
        "batch_size=5  #batch para hacer cada entrenamiento. Lee 5 'batch_size' imagenes antes de actualizar\n",
        "num_train= 600 #Número de imágenes en train \n",
        "num_test=60 #Número de imágenes en test\n",
        "epoch_steps= num_train//batch_size \n",
        "test_steps=num_test//batch_size"
      ]
    },
    {
      "cell_type": "code",
      "execution_count": null,
      "metadata": {
        "id": "0nq3yRFQVZ72"
      },
      "outputs": [],
      "source": [
        "h1=set(os.listdir(train_dir))\n",
        "h2=set(os.listdir(test_dir))\n",
        "l=h1.intersection(h2)\n",
        "l"
      ]
    },
    {
      "cell_type": "code",
      "execution_count": null,
      "metadata": {
        "id": "sQg7DCQVnitK"
      },
      "outputs": [],
      "source": [
        "gentrain = ImageDataGenerator(rescale=1. / 255., rotation_range=20,width_shift_range=0.2,height_shift_range=0.2,shear_range=0.2,zoom_range=0.2) \n",
        "#Generamos más imágenes mediante rotaciones y traslaciones \n",
        "\n",
        "train = gentrain.flow_from_directory(train_dir,\n",
        "                batch_size=batch_size,\n",
        "                target_size=(iw, ih),\n",
        "                class_mode='categorical',shuffle=True )\n",
        "\n",
        "gentest = ImageDataGenerator(rescale=1. / 255)\n",
        "\n",
        "test = gentest.flow_from_directory(test_dir,\n",
        "                batch_size=batch_size,\n",
        "                target_size=(iw, ih),\n",
        "                class_mode='categorical',shuffle=True )"
      ]
    },
    {
      "cell_type": "code",
      "execution_count": null,
      "metadata": {
        "id": "-hmEwCGb2knw"
      },
      "outputs": [],
      "source": [
        "#shutil.rmtree('/content/train_') #Para eliminar una carpeta\n"
      ]
    },
    {
      "cell_type": "code",
      "execution_count": null,
      "metadata": {
        "id": "6ExgRldlsgBq"
      },
      "outputs": [],
      "source": [
        "#shutil.rmtree('/content/test_') #Para eliminar una carpeta"
      ]
    },
    {
      "cell_type": "code",
      "execution_count": null,
      "metadata": {
        "id": "x9NhMoQs6aOc"
      },
      "outputs": [],
      "source": [
        "model=Sequential() \n",
        "model.add(Conv2D(10,(3,3),input_shape=(ih,iw,3)))\n",
        "model.add(Activation('relu'))\n",
        "model.add(MaxPooling2D(pool_size=(2,2)))\n",
        "\n",
        "model.add(Conv2D(10,(3,3))) \n",
        "model.add(Activation('relu'))\n",
        "model.add(MaxPooling2D(pool_size=(2,2))) \n",
        "\n",
        "model.add(Conv2D(20,(3,3))) \n",
        "model.add(Activation('relu')) \n",
        "model.add(MaxPooling2D(pool_size=(2,2))) \n",
        "\n",
        "model.add(Flatten())\n",
        "model.add(Dropout(0.2))\n",
        "model.add(Dense(64)) \n",
        "model.add(Activation('relu')) \n",
        "model.add(Dropout(0.2))\n",
        "model.add(Dense(12)) \n",
        "model.add(Activation('softmax'))\n",
        "\n"
      ]
    },
    {
      "cell_type": "code",
      "execution_count": null,
      "metadata": {
        "id": "SEYCNXBnuQjZ"
      },
      "outputs": [],
      "source": [
        "model = Sequential()\n",
        "\n",
        "model.add(Conv2D(32, (3, 3), input_shape=(ih, iw, 3)))\n",
        "model.add(Activation('relu'))\n",
        "model.add(MaxPooling2D(pool_size=(2, 2)))\n",
        "\n",
        "model.add(Conv2D(64, (3, 3)))\n",
        "model.add(Activation('relu'))\n",
        "model.add(MaxPooling2D(pool_size=(2, 2)))\n",
        "\n",
        "model.add(Conv2D(128, (3, 3)))\n",
        "model.add(Activation('relu'))\n",
        "model.add(MaxPooling2D(pool_size=(2, 2)))\n",
        "\n",
        "model.add(Flatten())\n",
        "model.add(Dense(256))\n",
        "model.add(Activation('relu'))\n",
        "model.add(Dropout(0.2))\n",
        "\n",
        "model.add(Dense(128))\n",
        "model.add(Activation('relu'))\n",
        "model.add(Dropout(0.2))\n",
        "\n",
        "model.add(Dense(64))\n",
        "model.add(Activation('relu'))\n",
        "model.add(Dropout(0.2))\n",
        "\n",
        "model.add(Dense(12))\n",
        "model.add(Activation('softmax'))"
      ]
    },
    {
      "cell_type": "code",
      "execution_count": null,
      "metadata": {
        "id": "tMzwDWRSC9T9"
      },
      "outputs": [],
      "source": [
        "import wandb\n",
        "from wandb.keras import WandbCallback\n",
        "wandb.init(project=\"Red_Neuronal_Ejercicio1b\")\n",
        "wandb.config.learning_rate = 0.001\n",
        "wandb.config.epochs = epochs\n",
        "wandb.config.steps_per_epoch =epoch_steps\n",
        "wandb.config.optimizador=RMSprop\n",
        "wandb.config.validation_steps=test_steps"
      ]
    },
    {
      "cell_type": "code",
      "execution_count": null,
      "metadata": {
        "id": "pHcFN5z--pBz"
      },
      "outputs": [],
      "source": [
        "loss= CategoricalCrossentropy()\n",
        "model.compile(loss=loss, optimizer=RMSprop(learning_rate=0.001), metrics=['accuracy'])\n",
        "model.fit(train, steps_per_epoch=epoch_steps, epochs=epochs, validation_data=test, validation_steps=test_steps,callbacks=[WandbCallback()])"
      ]
    }
  ],
  "metadata": {
    "colab": {
      "provenance": [],
      "authorship_tag": "ABX9TyMogN/hggJqWVFfwtSm8HYs",
      "include_colab_link": true
    },
    "kernelspec": {
      "display_name": "Python 3",
      "name": "python3"
    },
    "language_info": {
      "name": "python"
    }
  },
  "nbformat": 4,
  "nbformat_minor": 0
}