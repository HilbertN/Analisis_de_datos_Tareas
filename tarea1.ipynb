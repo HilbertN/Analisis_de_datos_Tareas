{
  "nbformat": 4,
  "nbformat_minor": 0,
  "metadata": {
    "colab": {
      "provenance": [],
      "authorship_tag": "ABX9TyNLn6GDFJS+8uMll1I9n2NY",
      "include_colab_link": true
    },
    "kernelspec": {
      "name": "python3",
      "display_name": "Python 3"
    },
    "language_info": {
      "name": "python"
    }
  },
  "cells": [
    {
      "cell_type": "markdown",
      "metadata": {
        "id": "view-in-github",
        "colab_type": "text"
      },
      "source": [
        "<a href=\"https://colab.research.google.com/github/HilbertN/Tarea1/blob/main/tarea1.ipynb\" target=\"_parent\"><img src=\"https://colab.research.google.com/assets/colab-badge.svg\" alt=\"Open In Colab\"/></a>"
      ]
    },
    {
      "cell_type": "code",
      "source": [
        "from google.colab import drive\n",
        "drive.mount('/content/drive')"
      ],
      "metadata": {
        "colab": {
          "base_uri": "https://localhost:8080/"
        },
        "id": "sp7yhWGjfOBJ",
        "outputId": "1c6f6e63-bf62-4b85-c81d-1eaea9f203d5"
      },
      "execution_count": 1,
      "outputs": [
        {
          "output_type": "stream",
          "name": "stdout",
          "text": [
            "Mounted at /content/drive\n"
          ]
        }
      ]
    },
    {
      "cell_type": "code",
      "source": [
        "import numpy as np\n",
        "import pandas as pd \n",
        "import matplotlib.pyplot as plt"
      ],
      "metadata": {
        "id": "ua0_dwyTln8x"
      },
      "execution_count": 2,
      "outputs": []
    },
    {
      "cell_type": "code",
      "source": [
        "\n",
        "quince=pd.read_excel(\"/content/drive/MyDrive/Base de datos/capturas_2015-2020.xlsx\") \n"
      ],
      "metadata": {
        "id": "LY5O4nC4fcb5"
      },
      "execution_count": 23,
      "outputs": []
    },
    {
      "cell_type": "code",
      "source": [
        "dieciseis=pd.read_excel(\"/content/drive/MyDrive/Base de datos/capturas_2015-2020.xlsx\",sheet_name=2) "
      ],
      "metadata": {
        "id": "1yxytoA1eGQG"
      },
      "execution_count": 45,
      "outputs": []
    },
    {
      "cell_type": "code",
      "source": [
        "diecinueve=pd.read_excel(\"/content/drive/MyDrive/Base de datos/capturas_2015-2020.xlsx\",sheet_name=5) "
      ],
      "metadata": {
        "id": "uTgdjsw0evNH"
      },
      "execution_count": 48,
      "outputs": []
    },
    {
      "cell_type": "code",
      "source": [
        "diecisiete=pd.read_excel(\"/content/drive/MyDrive/Base de datos/capturas_2015-2020.xlsx\",sheet_name=3) \n"
      ],
      "metadata": {
        "id": "mg4oTvBmh_06"
      },
      "execution_count": 43,
      "outputs": []
    },
    {
      "cell_type": "code",
      "source": [
        "dieciocho=pd.read_excel(\"/content/drive/MyDrive/Base de datos/capturas_2015-2020.xlsx\",sheet_name=4) "
      ],
      "metadata": {
        "id": "ijZjMfU5e4PF"
      },
      "execution_count": 47,
      "outputs": []
    },
    {
      "cell_type": "code",
      "source": [
        "veinte=pd.read_excel(\"/content/drive/MyDrive/Base de datos/capturas_2015-2020.xlsx\",sheet_name=6) "
      ],
      "metadata": {
        "id": "epjlQ2N5kDGo"
      },
      "execution_count": 26,
      "outputs": []
    },
    {
      "cell_type": "markdown",
      "source": [
        "###Ejercicio 1\n",
        "\n",
        "Hacer una gráfica del promedio de Diaphorinas por trampa para cada mes\n",
        "de los años 2015, 2017,2020. Es decir una gráfica por cada año donde\n",
        "el eje horizontal esté el mes y el vertical el promedio de diaphorinas por\n",
        "trampa.\n",
        "\n",
        "\n",
        "\n"
      ],
      "metadata": {
        "id": "GUv_FEgYkLn3"
      }
    },
    {
      "cell_type": "code",
      "source": [
        "bdc=quince.copy() \n",
        "bd1c=diecisiete.copy() \n",
        "bd2c=veinte.copy() \n",
        "\n"
      ],
      "metadata": {
        "id": "KAlqhYzIkosZ"
      },
      "execution_count": 27,
      "outputs": []
    },
    {
      "cell_type": "code",
      "source": [
        "bdc.dropna(subset=['No_DiaphorinasXtrampa'],inplace=True)\n",
        "bd1c.dropna(subset=['No_DiaphorinasXtrampa'],inplace=True)\n",
        "bd2c.dropna(subset=['DiaphorinaXTrampa'],inplace=True)"
      ],
      "metadata": {
        "id": "C9Vm39Ri85pP"
      },
      "execution_count": 28,
      "outputs": []
    },
    {
      "cell_type": "code",
      "source": [
        "bdc.head()"
      ],
      "metadata": {
        "colab": {
          "base_uri": "https://localhost:8080/",
          "height": 444
        },
        "id": "Kfq87OBKyxcS",
        "outputId": "3b983009-13f1-4682-9b4e-8c40e2fac815"
      },
      "execution_count": 29,
      "outputs": [
        {
          "output_type": "execute_result",
          "data": {
            "text/plain": [
              "       Fecha   Latitud  Longitud                  Ubicacion Municipio  \\\n",
              "0 2015-01-22  24.11564 -99.03734  177_THUE05-28-030-0415T01   PADILLA   \n",
              "1 2015-01-29  24.11564 -99.03734  177_THUE05-28-030-0415T01   PADILLA   \n",
              "2 2015-01-29  24.11562 -99.03560  177_THUE05-28-030-0415T02   PADILLA   \n",
              "3 2015-01-22  24.11562 -99.03560  177_THUE05-28-030-0415T02   PADILLA   \n",
              "4 2015-01-29  24.11726 -99.03528  177_THUE05-28-030-0415T03   PADILLA   \n",
              "\n",
              "            Comunidad                  Productor Cultivo  \\\n",
              "0  Ej. Marte R. Gomez  MARTINEZ_ZAMBRANO_ROBERTA   LIMÓN   \n",
              "1  Ej. Marte R. Gomez  MARTINEZ_ZAMBRANO_ROBERTA   LIMÓN   \n",
              "2  Ej. Marte R. Gomez  MARTINEZ_ZAMBRANO_ROBERTA   LIMÓN   \n",
              "3  Ej. Marte R. Gomez  MARTINEZ_ZAMBRANO_ROBERTA   LIMÓN   \n",
              "4  Ej. Marte R. Gomez  MARTINEZ_ZAMBRANO_ROBERTA   LIMÓN   \n",
              "\n",
              "                  Fenologia  Superficie_ha  No_Trampas_Instaladas  \\\n",
              "0  DESARROLLO (crecimiento)           25.0                    0.0   \n",
              "1  DESARROLLO (crecimiento)           25.0                    1.0   \n",
              "2  DESARROLLO (crecimiento)            0.0                    1.0   \n",
              "3  DESARROLLO (crecimiento)            0.0                    0.0   \n",
              "4  DESARROLLO (crecimiento)            0.0                    1.0   \n",
              "\n",
              "   No_Trampas_Revisadas  No_DiaphorinasXtrampa  Mes  Semana  \n",
              "0                   1.0                    0.0  1.0     4.0  \n",
              "1                   1.0                    0.0  1.0     5.0  \n",
              "2                   1.0                    0.0  1.0     5.0  \n",
              "3                   1.0                    0.0  1.0     4.0  \n",
              "4                   1.0                    0.0  1.0     5.0  "
            ],
            "text/html": [
              "\n",
              "  <div id=\"df-18f0a926-26d7-4468-8e37-e95e12142c76\">\n",
              "    <div class=\"colab-df-container\">\n",
              "      <div>\n",
              "<style scoped>\n",
              "    .dataframe tbody tr th:only-of-type {\n",
              "        vertical-align: middle;\n",
              "    }\n",
              "\n",
              "    .dataframe tbody tr th {\n",
              "        vertical-align: top;\n",
              "    }\n",
              "\n",
              "    .dataframe thead th {\n",
              "        text-align: right;\n",
              "    }\n",
              "</style>\n",
              "<table border=\"1\" class=\"dataframe\">\n",
              "  <thead>\n",
              "    <tr style=\"text-align: right;\">\n",
              "      <th></th>\n",
              "      <th>Fecha</th>\n",
              "      <th>Latitud</th>\n",
              "      <th>Longitud</th>\n",
              "      <th>Ubicacion</th>\n",
              "      <th>Municipio</th>\n",
              "      <th>Comunidad</th>\n",
              "      <th>Productor</th>\n",
              "      <th>Cultivo</th>\n",
              "      <th>Fenologia</th>\n",
              "      <th>Superficie_ha</th>\n",
              "      <th>No_Trampas_Instaladas</th>\n",
              "      <th>No_Trampas_Revisadas</th>\n",
              "      <th>No_DiaphorinasXtrampa</th>\n",
              "      <th>Mes</th>\n",
              "      <th>Semana</th>\n",
              "    </tr>\n",
              "  </thead>\n",
              "  <tbody>\n",
              "    <tr>\n",
              "      <th>0</th>\n",
              "      <td>2015-01-22</td>\n",
              "      <td>24.11564</td>\n",
              "      <td>-99.03734</td>\n",
              "      <td>177_THUE05-28-030-0415T01</td>\n",
              "      <td>PADILLA</td>\n",
              "      <td>Ej. Marte R. Gomez</td>\n",
              "      <td>MARTINEZ_ZAMBRANO_ROBERTA</td>\n",
              "      <td>LIMÓN</td>\n",
              "      <td>DESARROLLO (crecimiento)</td>\n",
              "      <td>25.0</td>\n",
              "      <td>0.0</td>\n",
              "      <td>1.0</td>\n",
              "      <td>0.0</td>\n",
              "      <td>1.0</td>\n",
              "      <td>4.0</td>\n",
              "    </tr>\n",
              "    <tr>\n",
              "      <th>1</th>\n",
              "      <td>2015-01-29</td>\n",
              "      <td>24.11564</td>\n",
              "      <td>-99.03734</td>\n",
              "      <td>177_THUE05-28-030-0415T01</td>\n",
              "      <td>PADILLA</td>\n",
              "      <td>Ej. Marte R. Gomez</td>\n",
              "      <td>MARTINEZ_ZAMBRANO_ROBERTA</td>\n",
              "      <td>LIMÓN</td>\n",
              "      <td>DESARROLLO (crecimiento)</td>\n",
              "      <td>25.0</td>\n",
              "      <td>1.0</td>\n",
              "      <td>1.0</td>\n",
              "      <td>0.0</td>\n",
              "      <td>1.0</td>\n",
              "      <td>5.0</td>\n",
              "    </tr>\n",
              "    <tr>\n",
              "      <th>2</th>\n",
              "      <td>2015-01-29</td>\n",
              "      <td>24.11562</td>\n",
              "      <td>-99.03560</td>\n",
              "      <td>177_THUE05-28-030-0415T02</td>\n",
              "      <td>PADILLA</td>\n",
              "      <td>Ej. Marte R. Gomez</td>\n",
              "      <td>MARTINEZ_ZAMBRANO_ROBERTA</td>\n",
              "      <td>LIMÓN</td>\n",
              "      <td>DESARROLLO (crecimiento)</td>\n",
              "      <td>0.0</td>\n",
              "      <td>1.0</td>\n",
              "      <td>1.0</td>\n",
              "      <td>0.0</td>\n",
              "      <td>1.0</td>\n",
              "      <td>5.0</td>\n",
              "    </tr>\n",
              "    <tr>\n",
              "      <th>3</th>\n",
              "      <td>2015-01-22</td>\n",
              "      <td>24.11562</td>\n",
              "      <td>-99.03560</td>\n",
              "      <td>177_THUE05-28-030-0415T02</td>\n",
              "      <td>PADILLA</td>\n",
              "      <td>Ej. Marte R. Gomez</td>\n",
              "      <td>MARTINEZ_ZAMBRANO_ROBERTA</td>\n",
              "      <td>LIMÓN</td>\n",
              "      <td>DESARROLLO (crecimiento)</td>\n",
              "      <td>0.0</td>\n",
              "      <td>0.0</td>\n",
              "      <td>1.0</td>\n",
              "      <td>0.0</td>\n",
              "      <td>1.0</td>\n",
              "      <td>4.0</td>\n",
              "    </tr>\n",
              "    <tr>\n",
              "      <th>4</th>\n",
              "      <td>2015-01-29</td>\n",
              "      <td>24.11726</td>\n",
              "      <td>-99.03528</td>\n",
              "      <td>177_THUE05-28-030-0415T03</td>\n",
              "      <td>PADILLA</td>\n",
              "      <td>Ej. Marte R. Gomez</td>\n",
              "      <td>MARTINEZ_ZAMBRANO_ROBERTA</td>\n",
              "      <td>LIMÓN</td>\n",
              "      <td>DESARROLLO (crecimiento)</td>\n",
              "      <td>0.0</td>\n",
              "      <td>1.0</td>\n",
              "      <td>1.0</td>\n",
              "      <td>0.0</td>\n",
              "      <td>1.0</td>\n",
              "      <td>5.0</td>\n",
              "    </tr>\n",
              "  </tbody>\n",
              "</table>\n",
              "</div>\n",
              "      <button class=\"colab-df-convert\" onclick=\"convertToInteractive('df-18f0a926-26d7-4468-8e37-e95e12142c76')\"\n",
              "              title=\"Convert this dataframe to an interactive table.\"\n",
              "              style=\"display:none;\">\n",
              "        \n",
              "  <svg xmlns=\"http://www.w3.org/2000/svg\" height=\"24px\"viewBox=\"0 0 24 24\"\n",
              "       width=\"24px\">\n",
              "    <path d=\"M0 0h24v24H0V0z\" fill=\"none\"/>\n",
              "    <path d=\"M18.56 5.44l.94 2.06.94-2.06 2.06-.94-2.06-.94-.94-2.06-.94 2.06-2.06.94zm-11 1L8.5 8.5l.94-2.06 2.06-.94-2.06-.94L8.5 2.5l-.94 2.06-2.06.94zm10 10l.94 2.06.94-2.06 2.06-.94-2.06-.94-.94-2.06-.94 2.06-2.06.94z\"/><path d=\"M17.41 7.96l-1.37-1.37c-.4-.4-.92-.59-1.43-.59-.52 0-1.04.2-1.43.59L10.3 9.45l-7.72 7.72c-.78.78-.78 2.05 0 2.83L4 21.41c.39.39.9.59 1.41.59.51 0 1.02-.2 1.41-.59l7.78-7.78 2.81-2.81c.8-.78.8-2.07 0-2.86zM5.41 20L4 18.59l7.72-7.72 1.47 1.35L5.41 20z\"/>\n",
              "  </svg>\n",
              "      </button>\n",
              "      \n",
              "  <style>\n",
              "    .colab-df-container {\n",
              "      display:flex;\n",
              "      flex-wrap:wrap;\n",
              "      gap: 12px;\n",
              "    }\n",
              "\n",
              "    .colab-df-convert {\n",
              "      background-color: #E8F0FE;\n",
              "      border: none;\n",
              "      border-radius: 50%;\n",
              "      cursor: pointer;\n",
              "      display: none;\n",
              "      fill: #1967D2;\n",
              "      height: 32px;\n",
              "      padding: 0 0 0 0;\n",
              "      width: 32px;\n",
              "    }\n",
              "\n",
              "    .colab-df-convert:hover {\n",
              "      background-color: #E2EBFA;\n",
              "      box-shadow: 0px 1px 2px rgba(60, 64, 67, 0.3), 0px 1px 3px 1px rgba(60, 64, 67, 0.15);\n",
              "      fill: #174EA6;\n",
              "    }\n",
              "\n",
              "    [theme=dark] .colab-df-convert {\n",
              "      background-color: #3B4455;\n",
              "      fill: #D2E3FC;\n",
              "    }\n",
              "\n",
              "    [theme=dark] .colab-df-convert:hover {\n",
              "      background-color: #434B5C;\n",
              "      box-shadow: 0px 1px 3px 1px rgba(0, 0, 0, 0.15);\n",
              "      filter: drop-shadow(0px 1px 2px rgba(0, 0, 0, 0.3));\n",
              "      fill: #FFFFFF;\n",
              "    }\n",
              "  </style>\n",
              "\n",
              "      <script>\n",
              "        const buttonEl =\n",
              "          document.querySelector('#df-18f0a926-26d7-4468-8e37-e95e12142c76 button.colab-df-convert');\n",
              "        buttonEl.style.display =\n",
              "          google.colab.kernel.accessAllowed ? 'block' : 'none';\n",
              "\n",
              "        async function convertToInteractive(key) {\n",
              "          const element = document.querySelector('#df-18f0a926-26d7-4468-8e37-e95e12142c76');\n",
              "          const dataTable =\n",
              "            await google.colab.kernel.invokeFunction('convertToInteractive',\n",
              "                                                     [key], {});\n",
              "          if (!dataTable) return;\n",
              "\n",
              "          const docLinkHtml = 'Like what you see? Visit the ' +\n",
              "            '<a target=\"_blank\" href=https://colab.research.google.com/notebooks/data_table.ipynb>data table notebook</a>'\n",
              "            + ' to learn more about interactive tables.';\n",
              "          element.innerHTML = '';\n",
              "          dataTable['output_type'] = 'display_data';\n",
              "          await google.colab.output.renderOutput(dataTable, element);\n",
              "          const docLink = document.createElement('div');\n",
              "          docLink.innerHTML = docLinkHtml;\n",
              "          element.appendChild(docLink);\n",
              "        }\n",
              "      </script>\n",
              "    </div>\n",
              "  </div>\n",
              "  "
            ]
          },
          "metadata": {},
          "execution_count": 29
        }
      ]
    },
    {
      "cell_type": "code",
      "source": [
        "bdc.columns.values"
      ],
      "metadata": {
        "colab": {
          "base_uri": "https://localhost:8080/"
        },
        "id": "zmvskVZxXI9a",
        "outputId": "417d48e4-5903-4351-9316-3aaeaaaeba15"
      },
      "execution_count": 30,
      "outputs": [
        {
          "output_type": "execute_result",
          "data": {
            "text/plain": [
              "array(['Fecha', 'Latitud', 'Longitud', 'Ubicacion', 'Municipio',\n",
              "       'Comunidad', 'Productor', 'Cultivo', 'Fenologia', 'Superficie_ha',\n",
              "       'No_Trampas_Instaladas', 'No_Trampas_Revisadas',\n",
              "       'No_DiaphorinasXtrampa', 'Mes', 'Semana'], dtype=object)"
            ]
          },
          "metadata": {},
          "execution_count": 30
        }
      ]
    },
    {
      "cell_type": "code",
      "source": [
        "bd1c.columns.values"
      ],
      "metadata": {
        "colab": {
          "base_uri": "https://localhost:8080/"
        },
        "id": "IefL2Y3iXNqx",
        "outputId": "c98f1535-b2cf-486f-b54e-9326056532af"
      },
      "execution_count": 31,
      "outputs": [
        {
          "output_type": "execute_result",
          "data": {
            "text/plain": [
              "array(['Fecha', 'Latitud', 'Longitud', 'Ubicacion', 'Municipio',\n",
              "       'Comunidad', 'Productor', 'Cultivo', 'Fenologia', 'Superficie_ha',\n",
              "       'No_Trampas_Instaladas', 'No_Trampas_Revisadas',\n",
              "       'No_DiaphorinasXtrampa', 'Mes', 'Semana'], dtype=object)"
            ]
          },
          "metadata": {},
          "execution_count": 31
        }
      ]
    },
    {
      "cell_type": "code",
      "source": [
        "bd2c.columns.values"
      ],
      "metadata": {
        "colab": {
          "base_uri": "https://localhost:8080/"
        },
        "id": "6g8J5AFVXOYC",
        "outputId": "8631b9f6-be8c-41c5-df5d-4def2ffff296"
      },
      "execution_count": 32,
      "outputs": [
        {
          "output_type": "execute_result",
          "data": {
            "text/plain": [
              "array(['Fecha', 'Ubicacion', 'Latitud', 'Longitud', 'Productor',\n",
              "       'Municipio', 'Localidad', 'Cultivo', 'Variedad', 'noProductores',\n",
              "       'Superficie', 'NoTrampasInst', 'Trampas_revisadas',\n",
              "       'DiaphorinaXTrampa', 'Observacion', 'Incidencia_Psilido',\n",
              "       'Fenologia_Brote_1', 'Adultos_Brote_1', 'Ninfas_Brote_1',\n",
              "       'Fenologia_Brote_2', 'Adultos_Brote_2', 'Ninfas_Brote_2',\n",
              "       'Fenologia_Brote_3', 'Adultos_Brote_3', 'Ninfas_Brote_3',\n",
              "       'Fenologia_Brote_4', 'Adultos_Brote_4', 'Ninfas_Brote_4', 'Mes',\n",
              "       'Semana', 'Tecnico'], dtype=object)"
            ]
          },
          "metadata": {},
          "execution_count": 32
        }
      ]
    },
    {
      "cell_type": "code",
      "source": [
        "g1=bdc.groupby(['Mes','Ubicacion'])[bd1c.columns.values[12]].mean().groupby(level='Mes').mean()\n",
        "\n",
        "\n"
      ],
      "metadata": {
        "id": "UbhMKrKHyqyp"
      },
      "execution_count": 33,
      "outputs": []
    },
    {
      "cell_type": "code",
      "source": [
        "g2=bd1c.groupby(['Mes','Ubicacion'])[bd1c.columns.values[12]].mean().groupby(level='Mes').mean() \n",
        "\n"
      ],
      "metadata": {
        "id": "J3kPVEmgXaNA"
      },
      "execution_count": 34,
      "outputs": []
    },
    {
      "cell_type": "code",
      "source": [
        "g3=bd2c.groupby(['Mes','Ubicacion'])[bd2c.columns.values[13]].mean().groupby(level='Mes').mean() \n",
        "\n"
      ],
      "metadata": {
        "id": "qJyypeQ7X6ZI"
      },
      "execution_count": 35,
      "outputs": []
    },
    {
      "cell_type": "code",
      "source": [
        "g1=bdc.groupby(['Mes','Ubicacion'])[bd1c.columns.values[12]].mean().groupby(level='Mes').mean()\n",
        "g2=bd1c.groupby(['Mes','Ubicacion'])[bd1c.columns.values[12]].mean().groupby(level='Mes').mean() \n",
        "g3=bd2c.groupby(['Mes','Ubicacion'])[bd2c.columns.values[13]].mean().groupby(level='Mes').mean() \n",
        "\n",
        "fig, (ax1,ax2,ax3)= plt.subplots(1,3,figsize=(25,10))\n",
        "\n",
        "fig.suptitle('Gráficas',fontsize=30,color='blue')\n",
        "\n",
        "ax1.plot(g1.index,g1.values)\n",
        "ax1.set_title('2015',fontsize=20)\n",
        "ax1.set_xlabel(\"Mes\",fontsize=20)\n",
        "ax1.set_ylabel(\"No. promedio de diaphorinas por trampa\",fontsize=15)\n",
        "ax1.set_xticks(range(0, 13))\n",
        "\n",
        "ax2.plot(g2)\n",
        "ax2.set_title('2017',fontsize=20)\n",
        "ax2.set_xticks(range(0, 13))\n",
        "ax2.set_xlabel(\"Mes\",fontsize=20)\n",
        "ax2.set_ylabel(\"No. promedio de diaphorinas por trampa\",fontsize=15)\n",
        "\n",
        "ax3.plot(g3)\n",
        "ax3.set_title('2020',fontsize=20)\n",
        "ax3.set_xticks(range(0, 13))\n",
        "ax3.set_xlabel(\"Mes\",fontsize=20)\n",
        "ax3.set_ylabel(\"No. promedio de diaphorinas por trampa\",fontsize=15)\n",
        "\n",
        "\n",
        "\n",
        "plt.show()"
      ],
      "metadata": {
        "colab": {
          "base_uri": "https://localhost:8080/",
          "height": 686
        },
        "id": "6CQ5zTpmY84h",
        "outputId": "f4aa44cf-6f23-4c15-ab16-700bca8e01eb"
      },
      "execution_count": 36,
      "outputs": [
        {
          "output_type": "display_data",
          "data": {
            "text/plain": [
              "<Figure size 1800x720 with 3 Axes>"
            ],
            "image/png": "[encoded data removed]"
          },
          "metadata": {
            "needs_background": "light"
          }
        }
      ]
    },
    {
      "cell_type": "markdown",
      "source": [
        "###Ejercicio 2 \n",
        "\n",
        "Hacer una gráfica del promedio de Diaphorinas por trampa para cada mes del año 2020 pero sólo de un minicipio"
      ],
      "metadata": {
        "id": "YYfRIIpQdGYr"
      }
    },
    {
      "cell_type": "code",
      "source": [
        "bd2c['Municipio'].unique()"
      ],
      "metadata": {
        "colab": {
          "base_uri": "https://localhost:8080/"
        },
        "id": "uY8PzCPuZ-Wr",
        "outputId": "01640bb2-d63a-4f1c-cb8d-bf9fa52341ab"
      },
      "execution_count": 37,
      "outputs": [
        {
          "output_type": "execute_result",
          "data": {
            "text/plain": [
              "array(['LLERA', 'HIDALGO', 'GUEMEZ', 'PADILLA', 'VICTORIA'], dtype=object)"
            ]
          },
          "metadata": {},
          "execution_count": 37
        }
      ]
    },
    {
      "cell_type": "code",
      "source": [
        "g4=bd2c[bd2c['Municipio']=='PADILLA'].groupby(['Mes','Ubicacion'])[bd2c.columns.values[13]].mean().groupby(level='Mes').mean()\n"
      ],
      "metadata": {
        "id": "FNkgkEHe0ZtS"
      },
      "execution_count": 38,
      "outputs": []
    },
    {
      "cell_type": "code",
      "source": [
        "g4=bd2c[bd2c['Municipio']=='PADILLA'].groupby(['Mes','Ubicacion'])[bd2c.columns.values[13]].mean().groupby(level='Mes').mean()\n",
        "fig,ax=plt.subplots(figsize=(20,10)) \n",
        "ax.plot(g4) \n",
        "ax.set_title('2020',fontsize=20)\n",
        "ax.set_xticks(range(0,13))\n",
        "ax.set_xlabel(\"Mes\",fontsize=20)\n",
        "ax.set_ylabel(\"No. promedio de diaphorinas por trampa\",fontsize=15)\n",
        "plt.show()"
      ],
      "metadata": {
        "colab": {
          "base_uri": "https://localhost:8080/",
          "height": 636
        },
        "id": "Uyl-ihuFa9s7",
        "outputId": "5456a2be-38e2-4c73-f36e-cb2fd4e392e2"
      },
      "execution_count": 39,
      "outputs": [
        {
          "output_type": "display_data",
          "data": {
            "text/plain": [
              "<Figure size 1440x720 with 1 Axes>"
            ],
            "image/png": "[encoded data removed]"
          },
          "metadata": {
            "needs_background": "light"
          }
        }
      ]
    },
    {
      "cell_type": "markdown",
      "source": [
        "###Ejercicio 3\n",
        "\n",
        "Hacer una tabla donde la primera columna sea el mes, la segunda el índice Id(por trampa) y la tercera el índice Cx para el año 2015"
      ],
      "metadata": {
        "id": "EpFW0450dYD5"
      }
    },
    {
      "cell_type": "code",
      "source": [
        "bdc.head()"
      ],
      "metadata": {
        "colab": {
          "base_uri": "https://localhost:8080/",
          "height": 444
        },
        "id": "nW3tOZnNdlXB",
        "outputId": "44b31906-19d7-4853-8a9e-8b2018fc3131"
      },
      "execution_count": 20,
      "outputs": [
        {
          "output_type": "execute_result",
          "data": {
            "text/plain": [
              "       Fecha   Latitud  Longitud                  Ubicacion Municipio  \\\n",
              "0 2015-01-22  24.11564 -99.03734  177_THUE05-28-030-0415T01   PADILLA   \n",
              "1 2015-01-29  24.11564 -99.03734  177_THUE05-28-030-0415T01   PADILLA   \n",
              "2 2015-01-29  24.11562 -99.03560  177_THUE05-28-030-0415T02   PADILLA   \n",
              "3 2015-01-22  24.11562 -99.03560  177_THUE05-28-030-0415T02   PADILLA   \n",
              "4 2015-01-29  24.11726 -99.03528  177_THUE05-28-030-0415T03   PADILLA   \n",
              "\n",
              "            Comunidad                  Productor Cultivo  \\\n",
              "0  Ej. Marte R. Gomez  MARTINEZ_ZAMBRANO_ROBERTA   LIMÓN   \n",
              "1  Ej. Marte R. Gomez  MARTINEZ_ZAMBRANO_ROBERTA   LIMÓN   \n",
              "2  Ej. Marte R. Gomez  MARTINEZ_ZAMBRANO_ROBERTA   LIMÓN   \n",
              "3  Ej. Marte R. Gomez  MARTINEZ_ZAMBRANO_ROBERTA   LIMÓN   \n",
              "4  Ej. Marte R. Gomez  MARTINEZ_ZAMBRANO_ROBERTA   LIMÓN   \n",
              "\n",
              "                  Fenologia  Superficie_ha  No_Trampas_Instaladas  \\\n",
              "0  DESARROLLO (crecimiento)           25.0                    0.0   \n",
              "1  DESARROLLO (crecimiento)           25.0                    1.0   \n",
              "2  DESARROLLO (crecimiento)            0.0                    1.0   \n",
              "3  DESARROLLO (crecimiento)            0.0                    0.0   \n",
              "4  DESARROLLO (crecimiento)            0.0                    1.0   \n",
              "\n",
              "   No_Trampas_Revisadas  No_DiaphorinasXtrampa  Mes  Semana  \n",
              "0                   1.0                    0.0  1.0     4.0  \n",
              "1                   1.0                    0.0  1.0     5.0  \n",
              "2                   1.0                    0.0  1.0     5.0  \n",
              "3                   1.0                    0.0  1.0     4.0  \n",
              "4                   1.0                    0.0  1.0     5.0  "
            ],
            "text/html": [
              "\n",
              "  <div id=\"df-4570a6b5-ae8a-4cc0-8826-9c616165236b\">\n",
              "    <div class=\"colab-df-container\">\n",
              "      <div>\n",
              "<style scoped>\n",
              "    .dataframe tbody tr th:only-of-type {\n",
              "        vertical-align: middle;\n",
              "    }\n",
              "\n",
              "    .dataframe tbody tr th {\n",
              "        vertical-align: top;\n",
              "    }\n",
              "\n",
              "    .dataframe thead th {\n",
              "        text-align: right;\n",
              "    }\n",
              "</style>\n",
              "<table border=\"1\" class=\"dataframe\">\n",
              "  <thead>\n",
              "    <tr style=\"text-align: right;\">\n",
              "      <th></th>\n",
              "      <th>Fecha</th>\n",
              "      <th>Latitud</th>\n",
              "      <th>Longitud</th>\n",
              "      <th>Ubicacion</th>\n",
              "      <th>Municipio</th>\n",
              "      <th>Comunidad</th>\n",
              "      <th>Productor</th>\n",
              "      <th>Cultivo</th>\n",
              "      <th>Fenologia</th>\n",
              "      <th>Superficie_ha</th>\n",
              "      <th>No_Trampas_Instaladas</th>\n",
              "      <th>No_Trampas_Revisadas</th>\n",
              "      <th>No_DiaphorinasXtrampa</th>\n",
              "      <th>Mes</th>\n",
              "      <th>Semana</th>\n",
              "    </tr>\n",
              "  </thead>\n",
              "  <tbody>\n",
              "    <tr>\n",
              "      <th>0</th>\n",
              "      <td>2015-01-22</td>\n",
              "      <td>24.11564</td>\n",
              "      <td>-99.03734</td>\n",
              "      <td>177_THUE05-28-030-0415T01</td>\n",
              "      <td>PADILLA</td>\n",
              "      <td>Ej. Marte R. Gomez</td>\n",
              "      <td>MARTINEZ_ZAMBRANO_ROBERTA</td>\n",
              "      <td>LIMÓN</td>\n",
              "      <td>DESARROLLO (crecimiento)</td>\n",
              "      <td>25.0</td>\n",
              "      <td>0.0</td>\n",
              "      <td>1.0</td>\n",
              "      <td>0.0</td>\n",
              "      <td>1.0</td>\n",
              "      <td>4.0</td>\n",
              "    </tr>\n",
              "    <tr>\n",
              "      <th>1</th>\n",
              "      <td>2015-01-29</td>\n",
              "      <td>24.11564</td>\n",
              "      <td>-99.03734</td>\n",
              "      <td>177_THUE05-28-030-0415T01</td>\n",
              "      <td>PADILLA</td>\n",
              "      <td>Ej. Marte R. Gomez</td>\n",
              "      <td>MARTINEZ_ZAMBRANO_ROBERTA</td>\n",
              "      <td>LIMÓN</td>\n",
              "      <td>DESARROLLO (crecimiento)</td>\n",
              "      <td>25.0</td>\n",
              "      <td>1.0</td>\n",
              "      <td>1.0</td>\n",
              "      <td>0.0</td>\n",
              "      <td>1.0</td>\n",
              "      <td>5.0</td>\n",
              "    </tr>\n",
              "    <tr>\n",
              "      <th>2</th>\n",
              "      <td>2015-01-29</td>\n",
              "      <td>24.11562</td>\n",
              "      <td>-99.03560</td>\n",
              "      <td>177_THUE05-28-030-0415T02</td>\n",
              "      <td>PADILLA</td>\n",
              "      <td>Ej. Marte R. Gomez</td>\n",
              "      <td>MARTINEZ_ZAMBRANO_ROBERTA</td>\n",
              "      <td>LIMÓN</td>\n",
              "      <td>DESARROLLO (crecimiento)</td>\n",
              "      <td>0.0</td>\n",
              "      <td>1.0</td>\n",
              "      <td>1.0</td>\n",
              "      <td>0.0</td>\n",
              "      <td>1.0</td>\n",
              "      <td>5.0</td>\n",
              "    </tr>\n",
              "    <tr>\n",
              "      <th>3</th>\n",
              "      <td>2015-01-22</td>\n",
              "      <td>24.11562</td>\n",
              "      <td>-99.03560</td>\n",
              "      <td>177_THUE05-28-030-0415T02</td>\n",
              "      <td>PADILLA</td>\n",
              "      <td>Ej. Marte R. Gomez</td>\n",
              "      <td>MARTINEZ_ZAMBRANO_ROBERTA</td>\n",
              "      <td>LIMÓN</td>\n",
              "      <td>DESARROLLO (crecimiento)</td>\n",
              "      <td>0.0</td>\n",
              "      <td>0.0</td>\n",
              "      <td>1.0</td>\n",
              "      <td>0.0</td>\n",
              "      <td>1.0</td>\n",
              "      <td>4.0</td>\n",
              "    </tr>\n",
              "    <tr>\n",
              "      <th>4</th>\n",
              "      <td>2015-01-29</td>\n",
              "      <td>24.11726</td>\n",
              "      <td>-99.03528</td>\n",
              "      <td>177_THUE05-28-030-0415T03</td>\n",
              "      <td>PADILLA</td>\n",
              "      <td>Ej. Marte R. Gomez</td>\n",
              "      <td>MARTINEZ_ZAMBRANO_ROBERTA</td>\n",
              "      <td>LIMÓN</td>\n",
              "      <td>DESARROLLO (crecimiento)</td>\n",
              "      <td>0.0</td>\n",
              "      <td>1.0</td>\n",
              "      <td>1.0</td>\n",
              "      <td>0.0</td>\n",
              "      <td>1.0</td>\n",
              "      <td>5.0</td>\n",
              "    </tr>\n",
              "  </tbody>\n",
              "</table>\n",
              "</div>\n",
              "      <button class=\"colab-df-convert\" onclick=\"convertToInteractive('df-4570a6b5-ae8a-4cc0-8826-9c616165236b')\"\n",
              "              title=\"Convert this dataframe to an interactive table.\"\n",
              "              style=\"display:none;\">\n",
              "        \n",
              "  <svg xmlns=\"http://www.w3.org/2000/svg\" height=\"24px\"viewBox=\"0 0 24 24\"\n",
              "       width=\"24px\">\n",
              "    <path d=\"M0 0h24v24H0V0z\" fill=\"none\"/>\n",
              "    <path d=\"M18.56 5.44l.94 2.06.94-2.06 2.06-.94-2.06-.94-.94-2.06-.94 2.06-2.06.94zm-11 1L8.5 8.5l.94-2.06 2.06-.94-2.06-.94L8.5 2.5l-.94 2.06-2.06.94zm10 10l.94 2.06.94-2.06 2.06-.94-2.06-.94-.94-2.06-.94 2.06-2.06.94z\"/><path d=\"M17.41 7.96l-1.37-1.37c-.4-.4-.92-.59-1.43-.59-.52 0-1.04.2-1.43.59L10.3 9.45l-7.72 7.72c-.78.78-.78 2.05 0 2.83L4 21.41c.39.39.9.59 1.41.59.51 0 1.02-.2 1.41-.59l7.78-7.78 2.81-2.81c.8-.78.8-2.07 0-2.86zM5.41 20L4 18.59l7.72-7.72 1.47 1.35L5.41 20z\"/>\n",
              "  </svg>\n",
              "      </button>\n",
              "      \n",
              "  <style>\n",
              "    .colab-df-container {\n",
              "      display:flex;\n",
              "      flex-wrap:wrap;\n",
              "      gap: 12px;\n",
              "    }\n",
              "\n",
              "    .colab-df-convert {\n",
              "      background-color: #E8F0FE;\n",
              "      border: none;\n",
              "      border-radius: 50%;\n",
              "      cursor: pointer;\n",
              "      display: none;\n",
              "      fill: #1967D2;\n",
              "      height: 32px;\n",
              "      padding: 0 0 0 0;\n",
              "      width: 32px;\n",
              "    }\n",
              "\n",
              "    .colab-df-convert:hover {\n",
              "      background-color: #E2EBFA;\n",
              "      box-shadow: 0px 1px 2px rgba(60, 64, 67, 0.3), 0px 1px 3px 1px rgba(60, 64, 67, 0.15);\n",
              "      fill: #174EA6;\n",
              "    }\n",
              "\n",
              "    [theme=dark] .colab-df-convert {\n",
              "      background-color: #3B4455;\n",
              "      fill: #D2E3FC;\n",
              "    }\n",
              "\n",
              "    [theme=dark] .colab-df-convert:hover {\n",
              "      background-color: #434B5C;\n",
              "      box-shadow: 0px 1px 3px 1px rgba(0, 0, 0, 0.15);\n",
              "      filter: drop-shadow(0px 1px 2px rgba(0, 0, 0, 0.3));\n",
              "      fill: #FFFFFF;\n",
              "    }\n",
              "  </style>\n",
              "\n",
              "      <script>\n",
              "        const buttonEl =\n",
              "          document.querySelector('#df-4570a6b5-ae8a-4cc0-8826-9c616165236b button.colab-df-convert');\n",
              "        buttonEl.style.display =\n",
              "          google.colab.kernel.accessAllowed ? 'block' : 'none';\n",
              "\n",
              "        async function convertToInteractive(key) {\n",
              "          const element = document.querySelector('#df-4570a6b5-ae8a-4cc0-8826-9c616165236b');\n",
              "          const dataTable =\n",
              "            await google.colab.kernel.invokeFunction('convertToInteractive',\n",
              "                                                     [key], {});\n",
              "          if (!dataTable) return;\n",
              "\n",
              "          const docLinkHtml = 'Like what you see? Visit the ' +\n",
              "            '<a target=\"_blank\" href=https://colab.research.google.com/notebooks/data_table.ipynb>data table notebook</a>'\n",
              "            + ' to learn more about interactive tables.';\n",
              "          element.innerHTML = '';\n",
              "          dataTable['output_type'] = 'display_data';\n",
              "          await google.colab.output.renderOutput(dataTable, element);\n",
              "          const docLink = document.createElement('div');\n",
              "          docLink.innerHTML = docLinkHtml;\n",
              "          element.appendChild(docLink);\n",
              "        }\n",
              "      </script>\n",
              "    </div>\n",
              "  </div>\n",
              "  "
            ]
          },
          "metadata": {},
          "execution_count": 20
        }
      ]
    },
    {
      "cell_type": "code",
      "source": [
        "mes=pd.DataFrame({'Mes':range(1,13)})\n",
        "mes.index=list(range(1,13))\n",
        "m=bdc.groupby(['Mes','Ubicacion'])[bd1c.columns.values[12]].mean().groupby(level='Mes').mean() \n",
        "v=bdc.groupby(['Mes','Ubicacion'])[bd1c.columns.values[12]].mean().groupby(level='Mes').var()\n",
        "s=bdc.groupby(['Mes','Ubicacion'])[bd1c.columns.values[12]].mean().groupby(level='Mes').sum()\n",
        "i=v/m\n",
        "c=(i-1)/(s-1)\n",
        "t=pd.concat([mes,i,c],axis=1)\n",
        "t.columns=['Mes','Id','Cx']\n",
        "t\n",
        "\n"
      ],
      "metadata": {
        "id": "x1veFhsNfZKa",
        "colab": {
          "base_uri": "https://localhost:8080/",
          "height": 426
        },
        "outputId": "f6114502-9f88-4d87-93e8-bf59caa4ea2a"
      },
      "execution_count": 40,
      "outputs": [
        {
          "output_type": "execute_result",
          "data": {
            "text/plain": [
              "      Mes        Id        Cx\n",
              "1.0     1  0.983414 -0.004384\n",
              "2.0     2  1.300031  0.000330\n",
              "3.0     3  1.822582  0.000656\n",
              "4.0     4  0.870531 -0.000158\n",
              "5.0     5  0.766092 -0.000811\n",
              "6.0     6  1.436829  0.001701\n",
              "7.0     7  1.611956  0.002006\n",
              "8.0     8  2.679645  0.001878\n",
              "9.0     9  3.118737  0.001741\n",
              "10.0   10  4.229056  0.002381\n",
              "11.0   11  2.043487  0.001645\n",
              "12.0   12  2.128658  0.004011"
            ],
            "text/html": [
              "\n",
              "  <div id=\"df-5f99b53d-f4a9-46c8-9f2e-5a1c0858aab0\">\n",
              "    <div class=\"colab-df-container\">\n",
              "      <div>\n",
              "<style scoped>\n",
              "    .dataframe tbody tr th:only-of-type {\n",
              "        vertical-align: middle;\n",
              "    }\n",
              "\n",
              "    .dataframe tbody tr th {\n",
              "        vertical-align: top;\n",
              "    }\n",
              "\n",
              "    .dataframe thead th {\n",
              "        text-align: right;\n",
              "    }\n",
              "</style>\n",
              "<table border=\"1\" class=\"dataframe\">\n",
              "  <thead>\n",
              "    <tr style=\"text-align: right;\">\n",
              "      <th></th>\n",
              "      <th>Mes</th>\n",
              "      <th>Id</th>\n",
              "      <th>Cx</th>\n",
              "    </tr>\n",
              "  </thead>\n",
              "  <tbody>\n",
              "    <tr>\n",
              "      <th>1.0</th>\n",
              "      <td>1</td>\n",
              "      <td>0.983414</td>\n",
              "      <td>-0.004384</td>\n",
              "    </tr>\n",
              "    <tr>\n",
              "      <th>2.0</th>\n",
              "      <td>2</td>\n",
              "      <td>1.300031</td>\n",
              "      <td>0.000330</td>\n",
              "    </tr>\n",
              "    <tr>\n",
              "      <th>3.0</th>\n",
              "      <td>3</td>\n",
              "      <td>1.822582</td>\n",
              "      <td>0.000656</td>\n",
              "    </tr>\n",
              "    <tr>\n",
              "      <th>4.0</th>\n",
              "      <td>4</td>\n",
              "      <td>0.870531</td>\n",
              "      <td>-0.000158</td>\n",
              "    </tr>\n",
              "    <tr>\n",
              "      <th>5.0</th>\n",
              "      <td>5</td>\n",
              "      <td>0.766092</td>\n",
              "      <td>-0.000811</td>\n",
              "    </tr>\n",
              "    <tr>\n",
              "      <th>6.0</th>\n",
              "      <td>6</td>\n",
              "      <td>1.436829</td>\n",
              "      <td>0.001701</td>\n",
              "    </tr>\n",
              "    <tr>\n",
              "      <th>7.0</th>\n",
              "      <td>7</td>\n",
              "      <td>1.611956</td>\n",
              "      <td>0.002006</td>\n",
              "    </tr>\n",
              "    <tr>\n",
              "      <th>8.0</th>\n",
              "      <td>8</td>\n",
              "      <td>2.679645</td>\n",
              "      <td>0.001878</td>\n",
              "    </tr>\n",
              "    <tr>\n",
              "      <th>9.0</th>\n",
              "      <td>9</td>\n",
              "      <td>3.118737</td>\n",
              "      <td>0.001741</td>\n",
              "    </tr>\n",
              "    <tr>\n",
              "      <th>10.0</th>\n",
              "      <td>10</td>\n",
              "      <td>4.229056</td>\n",
              "      <td>0.002381</td>\n",
              "    </tr>\n",
              "    <tr>\n",
              "      <th>11.0</th>\n",
              "      <td>11</td>\n",
              "      <td>2.043487</td>\n",
              "      <td>0.001645</td>\n",
              "    </tr>\n",
              "    <tr>\n",
              "      <th>12.0</th>\n",
              "      <td>12</td>\n",
              "      <td>2.128658</td>\n",
              "      <td>0.004011</td>\n",
              "    </tr>\n",
              "  </tbody>\n",
              "</table>\n",
              "</div>\n",
              "      <button class=\"colab-df-convert\" onclick=\"convertToInteractive('df-5f99b53d-f4a9-46c8-9f2e-5a1c0858aab0')\"\n",
              "              title=\"Convert this dataframe to an interactive table.\"\n",
              "              style=\"display:none;\">\n",
              "        \n",
              "  <svg xmlns=\"http://www.w3.org/2000/svg\" height=\"24px\"viewBox=\"0 0 24 24\"\n",
              "       width=\"24px\">\n",
              "    <path d=\"M0 0h24v24H0V0z\" fill=\"none\"/>\n",
              "    <path d=\"M18.56 5.44l.94 2.06.94-2.06 2.06-.94-2.06-.94-.94-2.06-.94 2.06-2.06.94zm-11 1L8.5 8.5l.94-2.06 2.06-.94-2.06-.94L8.5 2.5l-.94 2.06-2.06.94zm10 10l.94 2.06.94-2.06 2.06-.94-2.06-.94-.94-2.06-.94 2.06-2.06.94z\"/><path d=\"M17.41 7.96l-1.37-1.37c-.4-.4-.92-.59-1.43-.59-.52 0-1.04.2-1.43.59L10.3 9.45l-7.72 7.72c-.78.78-.78 2.05 0 2.83L4 21.41c.39.39.9.59 1.41.59.51 0 1.02-.2 1.41-.59l7.78-7.78 2.81-2.81c.8-.78.8-2.07 0-2.86zM5.41 20L4 18.59l7.72-7.72 1.47 1.35L5.41 20z\"/>\n",
              "  </svg>\n",
              "      </button>\n",
              "      \n",
              "  <style>\n",
              "    .colab-df-container {\n",
              "      display:flex;\n",
              "      flex-wrap:wrap;\n",
              "      gap: 12px;\n",
              "    }\n",
              "\n",
              "    .colab-df-convert {\n",
              "      background-color: #E8F0FE;\n",
              "      border: none;\n",
              "      border-radius: 50%;\n",
              "      cursor: pointer;\n",
              "      display: none;\n",
              "      fill: #1967D2;\n",
              "      height: 32px;\n",
              "      padding: 0 0 0 0;\n",
              "      width: 32px;\n",
              "    }\n",
              "\n",
              "    .colab-df-convert:hover {\n",
              "      background-color: #E2EBFA;\n",
              "      box-shadow: 0px 1px 2px rgba(60, 64, 67, 0.3), 0px 1px 3px 1px rgba(60, 64, 67, 0.15);\n",
              "      fill: #174EA6;\n",
              "    }\n",
              "\n",
              "    [theme=dark] .colab-df-convert {\n",
              "      background-color: #3B4455;\n",
              "      fill: #D2E3FC;\n",
              "    }\n",
              "\n",
              "    [theme=dark] .colab-df-convert:hover {\n",
              "      background-color: #434B5C;\n",
              "      box-shadow: 0px 1px 3px 1px rgba(0, 0, 0, 0.15);\n",
              "      filter: drop-shadow(0px 1px 2px rgba(0, 0, 0, 0.3));\n",
              "      fill: #FFFFFF;\n",
              "    }\n",
              "  </style>\n",
              "\n",
              "      <script>\n",
              "        const buttonEl =\n",
              "          document.querySelector('#df-5f99b53d-f4a9-46c8-9f2e-5a1c0858aab0 button.colab-df-convert');\n",
              "        buttonEl.style.display =\n",
              "          google.colab.kernel.accessAllowed ? 'block' : 'none';\n",
              "\n",
              "        async function convertToInteractive(key) {\n",
              "          const element = document.querySelector('#df-5f99b53d-f4a9-46c8-9f2e-5a1c0858aab0');\n",
              "          const dataTable =\n",
              "            await google.colab.kernel.invokeFunction('convertToInteractive',\n",
              "                                                     [key], {});\n",
              "          if (!dataTable) return;\n",
              "\n",
              "          const docLinkHtml = 'Like what you see? Visit the ' +\n",
              "            '<a target=\"_blank\" href=https://colab.research.google.com/notebooks/data_table.ipynb>data table notebook</a>'\n",
              "            + ' to learn more about interactive tables.';\n",
              "          element.innerHTML = '';\n",
              "          dataTable['output_type'] = 'display_data';\n",
              "          await google.colab.output.renderOutput(dataTable, element);\n",
              "          const docLink = document.createElement('div');\n",
              "          docLink.innerHTML = docLinkHtml;\n",
              "          element.appendChild(docLink);\n",
              "        }\n",
              "      </script>\n",
              "    </div>\n",
              "  </div>\n",
              "  "
            ]
          },
          "metadata": {},
          "execution_count": 40
        }
      ]
    },
    {
      "cell_type": "markdown",
      "source": [
        "###Ejercicio 4\n",
        "Hacer una gr afica del  ́ındice Id (por trampa) como funci on del mes que abarque desde 2015 hasta 2020.\n",
        "\n",
        "\n",
        "\n"
      ],
      "metadata": {
        "id": "gyiHvmQmaCVa"
      }
    },
    {
      "cell_type": "code",
      "source": [
        "quince.columns.values"
      ],
      "metadata": {
        "colab": {
          "base_uri": "https://localhost:8080/"
        },
        "id": "60c86ebJgq3x",
        "outputId": "6d9988df-aba7-49da-b26e-429561017e59"
      },
      "execution_count": 53,
      "outputs": [
        {
          "output_type": "execute_result",
          "data": {
            "text/plain": [
              "array(['Fecha', 'Latitud', 'Longitud', 'Ubicacion', 'Municipio',\n",
              "       'Comunidad', 'Productor', 'Cultivo', 'Fenologia', 'Superficie_ha',\n",
              "       'No_Trampas_Instaladas', 'No_Trampas_Revisadas',\n",
              "       'No_DiaphorinasXtrampa', 'Mes', 'Semana'], dtype=object)"
            ]
          },
          "metadata": {},
          "execution_count": 53
        }
      ]
    },
    {
      "cell_type": "code",
      "source": [
        "dieciseis.columns.values"
      ],
      "metadata": {
        "colab": {
          "base_uri": "https://localhost:8080/"
        },
        "id": "ObogEfqWgyP9",
        "outputId": "26aafe91-0ac6-40bb-8fba-98b08fe1bd2a"
      },
      "execution_count": 67,
      "outputs": [
        {
          "output_type": "execute_result",
          "data": {
            "text/plain": [
              "array(['Fecha', 'Latitud', 'Longitud', 'Ubicacion', 'Municipio',\n",
              "       'Comunidad', 'Productor', 'Cultivo', 'Fenologia', 'Superficie_ha',\n",
              "       'No_Trampas_Instaladas', 'No_Trampas_Revisadas',\n",
              "       'No_DiaphorinasXtrampa', 'Mes', 'Semana'], dtype=object)"
            ]
          },
          "metadata": {},
          "execution_count": 67
        }
      ]
    },
    {
      "cell_type": "code",
      "source": [
        "diecisiete.columns.values"
      ],
      "metadata": {
        "colab": {
          "base_uri": "https://localhost:8080/"
        },
        "id": "G9jo68mBg1LO",
        "outputId": "139a3e56-7af4-4153-cd6f-24bec3415f9e"
      },
      "execution_count": 55,
      "outputs": [
        {
          "output_type": "execute_result",
          "data": {
            "text/plain": [
              "array(['Fecha', 'Latitud', 'Longitud', 'Ubicacion', 'Municipio',\n",
              "       'Comunidad', 'Productor', 'Cultivo', 'Fenologia', 'Superficie_ha',\n",
              "       'No_Trampas_Instaladas', 'No_Trampas_Revisadas',\n",
              "       'No_DiaphorinasXtrampa', 'Mes', 'Semana'], dtype=object)"
            ]
          },
          "metadata": {},
          "execution_count": 55
        }
      ]
    },
    {
      "cell_type": "code",
      "source": [
        "dieciocho.columns.values\n"
      ],
      "metadata": {
        "colab": {
          "base_uri": "https://localhost:8080/"
        },
        "id": "dxilwbg7g31N",
        "outputId": "5914651b-d181-4411-f44d-648c857d7d79"
      },
      "execution_count": 56,
      "outputs": [
        {
          "output_type": "execute_result",
          "data": {
            "text/plain": [
              "array(['fecha', 'ano', 'semana', 'name_thue', 'latitud', 'longitud',\n",
              "       'fenologia', 'Revisada', 'captura', 'campo', 'superficie'],\n",
              "      dtype=object)"
            ]
          },
          "metadata": {},
          "execution_count": 56
        }
      ]
    },
    {
      "cell_type": "code",
      "source": [
        "diecinueve.columns.values"
      ],
      "metadata": {
        "colab": {
          "base_uri": "https://localhost:8080/"
        },
        "id": "KrWWsiJUg8YN",
        "outputId": "2cc2197b-f580-4549-be3a-5beabc613343"
      },
      "execution_count": 57,
      "outputs": [
        {
          "output_type": "execute_result",
          "data": {
            "text/plain": [
              "array(['Fecha', 'Ubicacion', 'Latitud', 'Longitud', 'Productor',\n",
              "       'Municipio', 'Localidad', 'Cultivo', 'Superficie', 'NoTrampasInst',\n",
              "       'Trampas_revisadas', 'DiaphorinaXTrampa', 'Fenologia_Brote_1',\n",
              "       'Adultos_Brote_1', 'Ninfas_Brote_1', 'Fenologia_Brote_2',\n",
              "       'Adultos_Brote_2', 'Ninfas_Brote_2', 'Fenologia_Brote_3',\n",
              "       'Adultos_Brote_3', 'Ninfas_Brote_3', 'Fenologia_Brote_4',\n",
              "       'Adultos_Brote_4', 'Ninfas_Brote_4', 'Mes', 'Semana'], dtype=object)"
            ]
          },
          "metadata": {},
          "execution_count": 57
        }
      ]
    },
    {
      "cell_type": "code",
      "source": [
        "veinte.columns.values"
      ],
      "metadata": {
        "colab": {
          "base_uri": "https://localhost:8080/"
        },
        "id": "2EzXoXFLg_wl",
        "outputId": "f87d19a0-3476-49f3-8114-e8b1c94823ed"
      },
      "execution_count": 58,
      "outputs": [
        {
          "output_type": "execute_result",
          "data": {
            "text/plain": [
              "array(['Fecha', 'Ubicacion', 'Latitud', 'Longitud', 'Productor',\n",
              "       'Municipio', 'Localidad', 'Cultivo', 'Variedad', 'noProductores',\n",
              "       'Superficie', 'NoTrampasInst', 'Trampas_revisadas',\n",
              "       'DiaphorinaXTrampa', 'Observacion', 'Incidencia_Psilido',\n",
              "       'Fenologia_Brote_1', 'Adultos_Brote_1', 'Ninfas_Brote_1',\n",
              "       'Fenologia_Brote_2', 'Adultos_Brote_2', 'Ninfas_Brote_2',\n",
              "       'Fenologia_Brote_3', 'Adultos_Brote_3', 'Ninfas_Brote_3',\n",
              "       'Fenologia_Brote_4', 'Adultos_Brote_4', 'Ninfas_Brote_4', 'Mes',\n",
              "       'Semana', 'Tecnico'], dtype=object)"
            ]
          },
          "metadata": {},
          "execution_count": 58
        }
      ]
    },
    {
      "cell_type": "code",
      "source": [
        "quince.dropna(subset=['No_DiaphorinasXtrampa'],inplace=True)\n",
        "dieciseis.dropna(subset=['No_DiaphorinasXtrampa'],inplace=True)\n",
        "diecisiete.dropna(subset=['No_DiaphorinasXtrampa'],inplace=True)\n",
        "diecinueve.dropna(subset=['DiaphorinaXTrampa'],inplace=True)\n",
        "veinte.dropna(subset=['DiaphorinaXTrampa'],inplace=True)"
      ],
      "metadata": {
        "id": "oNFkwsMikvTH"
      },
      "execution_count": 68,
      "outputs": []
    },
    {
      "cell_type": "code",
      "source": [
        "\n",
        "\n",
        "m15=quince.groupby(['Mes','Ubicacion'])[quince.columns.values[12]].mean().groupby(level='Mes').mean() \n",
        "v15=quince.groupby(['Mes','Ubicacion'])[quince.columns.values[12]].mean().groupby(level='Mes').var() \n",
        "i15=v15/m15\n",
        "\n",
        "m16=dieciseis.groupby(['Mes','Ubicacion'])[dieciseis.columns.values[12]].mean().groupby(level='Mes').mean() \n",
        "v16=dieciseis.groupby(['Mes','Ubicacion'])[dieciseis.columns.values[12]].mean().groupby(level='Mes').var() \n",
        "i16=v16/m16\n",
        "\n",
        "m17=diecisiete.groupby(['Mes','Ubicacion'])[diecisiete.columns.values[12]].mean().groupby(level='Mes').mean() \n",
        "v17=diecisiete.groupby(['Mes','Ubicacion'])[diecisiete.columns.values[12]].mean().groupby(level='Mes').var() \n",
        "i17=v17/m17\n",
        "\n",
        "m19=diecinueve.groupby(['Mes','Ubicacion'])[diecinueve.columns.values[11]].mean().groupby(level='Mes').mean() \n",
        "v19=diecinueve.groupby(['Mes','Ubicacion'])[diecinueve.columns.values[11]].mean().groupby(level='Mes').var() \n",
        "i19=v19/m19\n",
        "\n",
        "m20=veinte.groupby(['Mes','Ubicacion'])[veinte.columns.values[13]].mean().groupby(level='Mes').mean() \n",
        "v20=veinte.groupby(['Mes','Ubicacion'])[veinte.columns.values[13]].mean().groupby(level='Mes').var() \n",
        "i20=v20/m20 \n",
        "\n",
        "t1=pd.concat([i15,i16,i17,i19,i20],axis=1)\n",
        "t1.columns=['Id_2015','Id_2016','Id_2017','Id_2019','Id_2020'] \n",
        "t1"
      ],
      "metadata": {
        "id": "bwIUt116VV3k",
        "colab": {
          "base_uri": "https://localhost:8080/",
          "height": 457
        },
        "outputId": "eb7a046e-d87a-4f61-bc15-363a91cbd093"
      },
      "execution_count": 89,
      "outputs": [
        {
          "output_type": "execute_result",
          "data": {
            "text/plain": [
              "       Id_2015   Id_2016    Id_2017   Id_2019    Id_2020\n",
              "Mes                                                     \n",
              "1.0   0.983414       NaN   3.478753  1.935869   3.088598\n",
              "2.0   1.300031       NaN   3.884052       NaN   2.781782\n",
              "3.0   1.822582       NaN   3.130191  1.519169   2.304640\n",
              "4.0   0.870531       NaN   2.513582  1.557938   4.067846\n",
              "5.0   0.766092  1.283410   5.174450  1.686462   1.812823\n",
              "6.0   1.436829  0.838205  22.104664  1.505744   1.367249\n",
              "7.0   1.611956  2.069950   4.069778  1.404029  30.278160\n",
              "8.0   2.679645  1.763871   5.187896  1.205052   2.255536\n",
              "9.0   3.118737  1.405549   4.089781  2.524058   1.704885\n",
              "10.0  4.229056  1.873183   6.835403  2.314925   1.453953\n",
              "11.0  2.043487  0.964357   4.719882  2.220002   2.314942\n",
              "12.0  2.128658  2.136334   4.251332  1.782696   3.354034"
            ],
            "text/html": [
              "\n",
              "  <div id=\"df-734a94e1-76b7-4f8d-8afc-c21634b1bd53\">\n",
              "    <div class=\"colab-df-container\">\n",
              "      <div>\n",
              "<style scoped>\n",
              "    .dataframe tbody tr th:only-of-type {\n",
              "        vertical-align: middle;\n",
              "    }\n",
              "\n",
              "    .dataframe tbody tr th {\n",
              "        vertical-align: top;\n",
              "    }\n",
              "\n",
              "    .dataframe thead th {\n",
              "        text-align: right;\n",
              "    }\n",
              "</style>\n",
              "<table border=\"1\" class=\"dataframe\">\n",
              "  <thead>\n",
              "    <tr style=\"text-align: right;\">\n",
              "      <th></th>\n",
              "      <th>Id_2015</th>\n",
              "      <th>Id_2016</th>\n",
              "      <th>Id_2017</th>\n",
              "      <th>Id_2019</th>\n",
              "      <th>Id_2020</th>\n",
              "    </tr>\n",
              "    <tr>\n",
              "      <th>Mes</th>\n",
              "      <th></th>\n",
              "      <th></th>\n",
              "      <th></th>\n",
              "      <th></th>\n",
              "      <th></th>\n",
              "    </tr>\n",
              "  </thead>\n",
              "  <tbody>\n",
              "    <tr>\n",
              "      <th>1.0</th>\n",
              "      <td>0.983414</td>\n",
              "      <td>NaN</td>\n",
              "      <td>3.478753</td>\n",
              "      <td>1.935869</td>\n",
              "      <td>3.088598</td>\n",
              "    </tr>\n",
              "    <tr>\n",
              "      <th>2.0</th>\n",
              "      <td>1.300031</td>\n",
              "      <td>NaN</td>\n",
              "      <td>3.884052</td>\n",
              "      <td>NaN</td>\n",
              "      <td>2.781782</td>\n",
              "    </tr>\n",
              "    <tr>\n",
              "      <th>3.0</th>\n",
              "      <td>1.822582</td>\n",
              "      <td>NaN</td>\n",
              "      <td>3.130191</td>\n",
              "      <td>1.519169</td>\n",
              "      <td>2.304640</td>\n",
              "    </tr>\n",
              "    <tr>\n",
              "      <th>4.0</th>\n",
              "      <td>0.870531</td>\n",
              "      <td>NaN</td>\n",
              "      <td>2.513582</td>\n",
              "      <td>1.557938</td>\n",
              "      <td>4.067846</td>\n",
              "    </tr>\n",
              "    <tr>\n",
              "      <th>5.0</th>\n",
              "      <td>0.766092</td>\n",
              "      <td>1.283410</td>\n",
              "      <td>5.174450</td>\n",
              "      <td>1.686462</td>\n",
              "      <td>1.812823</td>\n",
              "    </tr>\n",
              "    <tr>\n",
              "      <th>6.0</th>\n",
              "      <td>1.436829</td>\n",
              "      <td>0.838205</td>\n",
              "      <td>22.104664</td>\n",
              "      <td>1.505744</td>\n",
              "      <td>1.367249</td>\n",
              "    </tr>\n",
              "    <tr>\n",
              "      <th>7.0</th>\n",
              "      <td>1.611956</td>\n",
              "      <td>2.069950</td>\n",
              "      <td>4.069778</td>\n",
              "      <td>1.404029</td>\n",
              "      <td>30.278160</td>\n",
              "    </tr>\n",
              "    <tr>\n",
              "      <th>8.0</th>\n",
              "      <td>2.679645</td>\n",
              "      <td>1.763871</td>\n",
              "      <td>5.187896</td>\n",
              "      <td>1.205052</td>\n",
              "      <td>2.255536</td>\n",
              "    </tr>\n",
              "    <tr>\n",
              "      <th>9.0</th>\n",
              "      <td>3.118737</td>\n",
              "      <td>1.405549</td>\n",
              "      <td>4.089781</td>\n",
              "      <td>2.524058</td>\n",
              "      <td>1.704885</td>\n",
              "    </tr>\n",
              "    <tr>\n",
              "      <th>10.0</th>\n",
              "      <td>4.229056</td>\n",
              "      <td>1.873183</td>\n",
              "      <td>6.835403</td>\n",
              "      <td>2.314925</td>\n",
              "      <td>1.453953</td>\n",
              "    </tr>\n",
              "    <tr>\n",
              "      <th>11.0</th>\n",
              "      <td>2.043487</td>\n",
              "      <td>0.964357</td>\n",
              "      <td>4.719882</td>\n",
              "      <td>2.220002</td>\n",
              "      <td>2.314942</td>\n",
              "    </tr>\n",
              "    <tr>\n",
              "      <th>12.0</th>\n",
              "      <td>2.128658</td>\n",
              "      <td>2.136334</td>\n",
              "      <td>4.251332</td>\n",
              "      <td>1.782696</td>\n",
              "      <td>3.354034</td>\n",
              "    </tr>\n",
              "  </tbody>\n",
              "</table>\n",
              "</div>\n",
              "      <button class=\"colab-df-convert\" onclick=\"convertToInteractive('df-734a94e1-76b7-4f8d-8afc-c21634b1bd53')\"\n",
              "              title=\"Convert this dataframe to an interactive table.\"\n",
              "              style=\"display:none;\">\n",
              "        \n",
              "  <svg xmlns=\"http://www.w3.org/2000/svg\" height=\"24px\"viewBox=\"0 0 24 24\"\n",
              "       width=\"24px\">\n",
              "    <path d=\"M0 0h24v24H0V0z\" fill=\"none\"/>\n",
              "    <path d=\"M18.56 5.44l.94 2.06.94-2.06 2.06-.94-2.06-.94-.94-2.06-.94 2.06-2.06.94zm-11 1L8.5 8.5l.94-2.06 2.06-.94-2.06-.94L8.5 2.5l-.94 2.06-2.06.94zm10 10l.94 2.06.94-2.06 2.06-.94-2.06-.94-.94-2.06-.94 2.06-2.06.94z\"/><path d=\"M17.41 7.96l-1.37-1.37c-.4-.4-.92-.59-1.43-.59-.52 0-1.04.2-1.43.59L10.3 9.45l-7.72 7.72c-.78.78-.78 2.05 0 2.83L4 21.41c.39.39.9.59 1.41.59.51 0 1.02-.2 1.41-.59l7.78-7.78 2.81-2.81c.8-.78.8-2.07 0-2.86zM5.41 20L4 18.59l7.72-7.72 1.47 1.35L5.41 20z\"/>\n",
              "  </svg>\n",
              "      </button>\n",
              "      \n",
              "  <style>\n",
              "    .colab-df-container {\n",
              "      display:flex;\n",
              "      flex-wrap:wrap;\n",
              "      gap: 12px;\n",
              "    }\n",
              "\n",
              "    .colab-df-convert {\n",
              "      background-color: #E8F0FE;\n",
              "      border: none;\n",
              "      border-radius: 50%;\n",
              "      cursor: pointer;\n",
              "      display: none;\n",
              "      fill: #1967D2;\n",
              "      height: 32px;\n",
              "      padding: 0 0 0 0;\n",
              "      width: 32px;\n",
              "    }\n",
              "\n",
              "    .colab-df-convert:hover {\n",
              "      background-color: #E2EBFA;\n",
              "      box-shadow: 0px 1px 2px rgba(60, 64, 67, 0.3), 0px 1px 3px 1px rgba(60, 64, 67, 0.15);\n",
              "      fill: #174EA6;\n",
              "    }\n",
              "\n",
              "    [theme=dark] .colab-df-convert {\n",
              "      background-color: #3B4455;\n",
              "      fill: #D2E3FC;\n",
              "    }\n",
              "\n",
              "    [theme=dark] .colab-df-convert:hover {\n",
              "      background-color: #434B5C;\n",
              "      box-shadow: 0px 1px 3px 1px rgba(0, 0, 0, 0.15);\n",
              "      filter: drop-shadow(0px 1px 2px rgba(0, 0, 0, 0.3));\n",
              "      fill: #FFFFFF;\n",
              "    }\n",
              "  </style>\n",
              "\n",
              "      <script>\n",
              "        const buttonEl =\n",
              "          document.querySelector('#df-734a94e1-76b7-4f8d-8afc-c21634b1bd53 button.colab-df-convert');\n",
              "        buttonEl.style.display =\n",
              "          google.colab.kernel.accessAllowed ? 'block' : 'none';\n",
              "\n",
              "        async function convertToInteractive(key) {\n",
              "          const element = document.querySelector('#df-734a94e1-76b7-4f8d-8afc-c21634b1bd53');\n",
              "          const dataTable =\n",
              "            await google.colab.kernel.invokeFunction('convertToInteractive',\n",
              "                                                     [key], {});\n",
              "          if (!dataTable) return;\n",
              "\n",
              "          const docLinkHtml = 'Like what you see? Visit the ' +\n",
              "            '<a target=\"_blank\" href=https://colab.research.google.com/notebooks/data_table.ipynb>data table notebook</a>'\n",
              "            + ' to learn more about interactive tables.';\n",
              "          element.innerHTML = '';\n",
              "          dataTable['output_type'] = 'display_data';\n",
              "          await google.colab.output.renderOutput(dataTable, element);\n",
              "          const docLink = document.createElement('div');\n",
              "          docLink.innerHTML = docLinkHtml;\n",
              "          element.appendChild(docLink);\n",
              "        }\n",
              "      </script>\n",
              "    </div>\n",
              "  </div>\n",
              "  "
            ]
          },
          "metadata": {},
          "execution_count": 89
        }
      ]
    }
  ]
}