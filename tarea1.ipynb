{
  "nbformat": 4,
  "nbformat_minor": 0,
  "metadata": {
    "colab": {
      "provenance": [],
      "authorship_tag": "ABX9TyP7B27vbQzDfqd276tocy2d",
      "include_colab_link": true
    },
    "kernelspec": {
      "name": "python3",
      "display_name": "Python 3"
    },
    "language_info": {
      "name": "python"
    }
  },
  "cells": [
    {
      "cell_type": "markdown",
      "metadata": {
        "id": "view-in-github",
        "colab_type": "text"
      },
      "source": [
        "<a href=\"https://colab.research.google.com/github/HilbertN/Tarea1/blob/main/tarea1.ipynb\" target=\"_parent\"><img src=\"https://colab.research.google.com/assets/colab-badge.svg\" alt=\"Open In Colab\"/></a>"
      ]
    },
    {
      "cell_type": "code",
      "source": [
        "from google.colab import drive\n",
        "drive.mount('/content/drive')"
      ],
      "metadata": {
        "colab": {
          "base_uri": "https://localhost:8080/"
        },
        "id": "sp7yhWGjfOBJ",
        "outputId": "e9c852dd-4c30-49cc-9906-199e35dd8196"
      },
      "execution_count": 1,
      "outputs": [
        {
          "output_type": "stream",
          "name": "stdout",
          "text": [
            "Mounted at /content/drive\n"
          ]
        }
      ]
    },
    {
      "cell_type": "code",
      "source": [
        "import numpy as np\n",
        "import pandas as pd \n",
        "import matplotlib.pyplot as plt"
      ],
      "metadata": {
        "id": "ua0_dwyTln8x"
      },
      "execution_count": 2,
      "outputs": []
    },
    {
      "cell_type": "code",
      "source": [
        "\n",
        "bd=pd.read_excel(\"/content/drive/MyDrive/Base de datos/capturas_2015-2020.xlsx\") \n"
      ],
      "metadata": {
        "id": "LY5O4nC4fcb5"
      },
      "execution_count": 3,
      "outputs": []
    },
    {
      "cell_type": "code",
      "source": [
        "bd1=pd.read_excel(\"/content/drive/MyDrive/Base de datos/capturas_2015-2020.xlsx\",sheet_name=3) \n"
      ],
      "metadata": {
        "id": "mg4oTvBmh_06"
      },
      "execution_count": 4,
      "outputs": []
    },
    {
      "cell_type": "code",
      "source": [
        "bd2=pd.read_excel(\"/content/drive/MyDrive/Base de datos/capturas_2015-2020.xlsx\",sheet_name=6) "
      ],
      "metadata": {
        "id": "epjlQ2N5kDGo"
      },
      "execution_count": 5,
      "outputs": []
    },
    {
      "cell_type": "code",
      "source": [
        "bd2.head()"
      ],
      "metadata": {
        "colab": {
          "base_uri": "https://localhost:8080/",
          "height": 560
        },
        "id": "ALpTHtv-7GLw",
        "outputId": "201db551-1897-4735-9f0f-401c4c9024ed"
      },
      "execution_count": 6,
      "outputs": [
        {
          "output_type": "execute_result",
          "data": {
            "text/plain": [
              "        Fecha              Ubicacion   Latitud  Longitud  \\\n",
              "0  02/01/2020  THUE05/28-019/2974T06  23.25613 -98.82374   \n",
              "1  16/01/2020  THUE05/28-019/2974T06  23.25613 -98.82374   \n",
              "2  02/01/2020  THUE05/28-019/2974T11  23.25575 -98.82317   \n",
              "3  16/01/2020  THUE05/28-019/2974T02  23.25653 -98.82423   \n",
              "4  16/01/2020  THUE05/28-019/2974T17  23.25618 -98.82309   \n",
              "\n",
              "                Productor Municipio                  Localidad  Cultivo  \\\n",
              "0  PALMIRA CASTRO ALVAREZ     LLERA  EJIDO JOSE SILVA SANCHEZ.  NARANJA   \n",
              "1  PALMIRA CASTRO ALVAREZ     LLERA  EJIDO JOSE SILVA SANCHEZ.  NARANJA   \n",
              "2  PALMIRA CASTRO ALVAREZ     LLERA  EJIDO JOSE SILVA SANCHEZ.  NARANJA   \n",
              "3  PALMIRA CASTRO ALVAREZ     LLERA  EJIDO JOSE SILVA SANCHEZ.  NARANJA   \n",
              "4  PALMIRA CASTRO ALVAREZ     LLERA  EJIDO JOSE SILVA SANCHEZ.  NARANJA   \n",
              "\n",
              "   Variedad  noProductores  ...  Ninfas_Brote_2  Fenologia_Brote_3  \\\n",
              "0  VALENCIA              1  ...               0                 V6   \n",
              "1  VALENCIA              1  ...               0                 V5   \n",
              "2  VALENCIA              1  ...               0                 V6   \n",
              "3  VALENCIA              1  ...               0                 V5   \n",
              "4  VALENCIA              1  ...               0                 V5   \n",
              "\n",
              "   Adultos_Brote_3  Ninfas_Brote_3  Fenologia_Brote_4  Adultos_Brote_4  \\\n",
              "0                0               0                 V5                0   \n",
              "1                0               0                 V4                0   \n",
              "2                1               0                 V5                1   \n",
              "3                0               0                 V4                0   \n",
              "4                0               0                 V5                1   \n",
              "\n",
              "  Ninfas_Brote_4  Mes  Semana                  Tecnico  \n",
              "0              0    1       1  GERARDO GUEVARA SANCHEZ  \n",
              "1              0    1       3  GERARDO GUEVARA SANCHEZ  \n",
              "2              0    1       1  GERARDO GUEVARA SANCHEZ  \n",
              "3              0    1       3  GERARDO GUEVARA SANCHEZ  \n",
              "4              0    1       3  GERARDO GUEVARA SANCHEZ  \n",
              "\n",
              "[5 rows x 31 columns]"
            ],
            "text/html": [
              "\n",
              "  <div id=\"df-77da3cf7-3ded-44bb-95d5-ea138a3bf917\">\n",
              "    <div class=\"colab-df-container\">\n",
              "      <div>\n",
              "<style scoped>\n",
              "    .dataframe tbody tr th:only-of-type {\n",
              "        vertical-align: middle;\n",
              "    }\n",
              "\n",
              "    .dataframe tbody tr th {\n",
              "        vertical-align: top;\n",
              "    }\n",
              "\n",
              "    .dataframe thead th {\n",
              "        text-align: right;\n",
              "    }\n",
              "</style>\n",
              "<table border=\"1\" class=\"dataframe\">\n",
              "  <thead>\n",
              "    <tr style=\"text-align: right;\">\n",
              "      <th></th>\n",
              "      <th>Fecha</th>\n",
              "      <th>Ubicacion</th>\n",
              "      <th>Latitud</th>\n",
              "      <th>Longitud</th>\n",
              "      <th>Productor</th>\n",
              "      <th>Municipio</th>\n",
              "      <th>Localidad</th>\n",
              "      <th>Cultivo</th>\n",
              "      <th>Variedad</th>\n",
              "      <th>noProductores</th>\n",
              "      <th>...</th>\n",
              "      <th>Ninfas_Brote_2</th>\n",
              "      <th>Fenologia_Brote_3</th>\n",
              "      <th>Adultos_Brote_3</th>\n",
              "      <th>Ninfas_Brote_3</th>\n",
              "      <th>Fenologia_Brote_4</th>\n",
              "      <th>Adultos_Brote_4</th>\n",
              "      <th>Ninfas_Brote_4</th>\n",
              "      <th>Mes</th>\n",
              "      <th>Semana</th>\n",
              "      <th>Tecnico</th>\n",
              "    </tr>\n",
              "  </thead>\n",
              "  <tbody>\n",
              "    <tr>\n",
              "      <th>0</th>\n",
              "      <td>02/01/2020</td>\n",
              "      <td>THUE05/28-019/2974T06</td>\n",
              "      <td>23.25613</td>\n",
              "      <td>-98.82374</td>\n",
              "      <td>PALMIRA CASTRO ALVAREZ</td>\n",
              "      <td>LLERA</td>\n",
              "      <td>EJIDO JOSE SILVA SANCHEZ.</td>\n",
              "      <td>NARANJA</td>\n",
              "      <td>VALENCIA</td>\n",
              "      <td>1</td>\n",
              "      <td>...</td>\n",
              "      <td>0</td>\n",
              "      <td>V6</td>\n",
              "      <td>0</td>\n",
              "      <td>0</td>\n",
              "      <td>V5</td>\n",
              "      <td>0</td>\n",
              "      <td>0</td>\n",
              "      <td>1</td>\n",
              "      <td>1</td>\n",
              "      <td>GERARDO GUEVARA SANCHEZ</td>\n",
              "    </tr>\n",
              "    <tr>\n",
              "      <th>1</th>\n",
              "      <td>16/01/2020</td>\n",
              "      <td>THUE05/28-019/2974T06</td>\n",
              "      <td>23.25613</td>\n",
              "      <td>-98.82374</td>\n",
              "      <td>PALMIRA CASTRO ALVAREZ</td>\n",
              "      <td>LLERA</td>\n",
              "      <td>EJIDO JOSE SILVA SANCHEZ.</td>\n",
              "      <td>NARANJA</td>\n",
              "      <td>VALENCIA</td>\n",
              "      <td>1</td>\n",
              "      <td>...</td>\n",
              "      <td>0</td>\n",
              "      <td>V5</td>\n",
              "      <td>0</td>\n",
              "      <td>0</td>\n",
              "      <td>V4</td>\n",
              "      <td>0</td>\n",
              "      <td>0</td>\n",
              "      <td>1</td>\n",
              "      <td>3</td>\n",
              "      <td>GERARDO GUEVARA SANCHEZ</td>\n",
              "    </tr>\n",
              "    <tr>\n",
              "      <th>2</th>\n",
              "      <td>02/01/2020</td>\n",
              "      <td>THUE05/28-019/2974T11</td>\n",
              "      <td>23.25575</td>\n",
              "      <td>-98.82317</td>\n",
              "      <td>PALMIRA CASTRO ALVAREZ</td>\n",
              "      <td>LLERA</td>\n",
              "      <td>EJIDO JOSE SILVA SANCHEZ.</td>\n",
              "      <td>NARANJA</td>\n",
              "      <td>VALENCIA</td>\n",
              "      <td>1</td>\n",
              "      <td>...</td>\n",
              "      <td>0</td>\n",
              "      <td>V6</td>\n",
              "      <td>1</td>\n",
              "      <td>0</td>\n",
              "      <td>V5</td>\n",
              "      <td>1</td>\n",
              "      <td>0</td>\n",
              "      <td>1</td>\n",
              "      <td>1</td>\n",
              "      <td>GERARDO GUEVARA SANCHEZ</td>\n",
              "    </tr>\n",
              "    <tr>\n",
              "      <th>3</th>\n",
              "      <td>16/01/2020</td>\n",
              "      <td>THUE05/28-019/2974T02</td>\n",
              "      <td>23.25653</td>\n",
              "      <td>-98.82423</td>\n",
              "      <td>PALMIRA CASTRO ALVAREZ</td>\n",
              "      <td>LLERA</td>\n",
              "      <td>EJIDO JOSE SILVA SANCHEZ.</td>\n",
              "      <td>NARANJA</td>\n",
              "      <td>VALENCIA</td>\n",
              "      <td>1</td>\n",
              "      <td>...</td>\n",
              "      <td>0</td>\n",
              "      <td>V5</td>\n",
              "      <td>0</td>\n",
              "      <td>0</td>\n",
              "      <td>V4</td>\n",
              "      <td>0</td>\n",
              "      <td>0</td>\n",
              "      <td>1</td>\n",
              "      <td>3</td>\n",
              "      <td>GERARDO GUEVARA SANCHEZ</td>\n",
              "    </tr>\n",
              "    <tr>\n",
              "      <th>4</th>\n",
              "      <td>16/01/2020</td>\n",
              "      <td>THUE05/28-019/2974T17</td>\n",
              "      <td>23.25618</td>\n",
              "      <td>-98.82309</td>\n",
              "      <td>PALMIRA CASTRO ALVAREZ</td>\n",
              "      <td>LLERA</td>\n",
              "      <td>EJIDO JOSE SILVA SANCHEZ.</td>\n",
              "      <td>NARANJA</td>\n",
              "      <td>VALENCIA</td>\n",
              "      <td>1</td>\n",
              "      <td>...</td>\n",
              "      <td>0</td>\n",
              "      <td>V5</td>\n",
              "      <td>0</td>\n",
              "      <td>0</td>\n",
              "      <td>V5</td>\n",
              "      <td>1</td>\n",
              "      <td>0</td>\n",
              "      <td>1</td>\n",
              "      <td>3</td>\n",
              "      <td>GERARDO GUEVARA SANCHEZ</td>\n",
              "    </tr>\n",
              "  </tbody>\n",
              "</table>\n",
              "<p>5 rows × 31 columns</p>\n",
              "</div>\n",
              "      <button class=\"colab-df-convert\" onclick=\"convertToInteractive('df-77da3cf7-3ded-44bb-95d5-ea138a3bf917')\"\n",
              "              title=\"Convert this dataframe to an interactive table.\"\n",
              "              style=\"display:none;\">\n",
              "        \n",
              "  <svg xmlns=\"http://www.w3.org/2000/svg\" height=\"24px\"viewBox=\"0 0 24 24\"\n",
              "       width=\"24px\">\n",
              "    <path d=\"M0 0h24v24H0V0z\" fill=\"none\"/>\n",
              "    <path d=\"M18.56 5.44l.94 2.06.94-2.06 2.06-.94-2.06-.94-.94-2.06-.94 2.06-2.06.94zm-11 1L8.5 8.5l.94-2.06 2.06-.94-2.06-.94L8.5 2.5l-.94 2.06-2.06.94zm10 10l.94 2.06.94-2.06 2.06-.94-2.06-.94-.94-2.06-.94 2.06-2.06.94z\"/><path d=\"M17.41 7.96l-1.37-1.37c-.4-.4-.92-.59-1.43-.59-.52 0-1.04.2-1.43.59L10.3 9.45l-7.72 7.72c-.78.78-.78 2.05 0 2.83L4 21.41c.39.39.9.59 1.41.59.51 0 1.02-.2 1.41-.59l7.78-7.78 2.81-2.81c.8-.78.8-2.07 0-2.86zM5.41 20L4 18.59l7.72-7.72 1.47 1.35L5.41 20z\"/>\n",
              "  </svg>\n",
              "      </button>\n",
              "      \n",
              "  <style>\n",
              "    .colab-df-container {\n",
              "      display:flex;\n",
              "      flex-wrap:wrap;\n",
              "      gap: 12px;\n",
              "    }\n",
              "\n",
              "    .colab-df-convert {\n",
              "      background-color: #E8F0FE;\n",
              "      border: none;\n",
              "      border-radius: 50%;\n",
              "      cursor: pointer;\n",
              "      display: none;\n",
              "      fill: #1967D2;\n",
              "      height: 32px;\n",
              "      padding: 0 0 0 0;\n",
              "      width: 32px;\n",
              "    }\n",
              "\n",
              "    .colab-df-convert:hover {\n",
              "      background-color: #E2EBFA;\n",
              "      box-shadow: 0px 1px 2px rgba(60, 64, 67, 0.3), 0px 1px 3px 1px rgba(60, 64, 67, 0.15);\n",
              "      fill: #174EA6;\n",
              "    }\n",
              "\n",
              "    [theme=dark] .colab-df-convert {\n",
              "      background-color: #3B4455;\n",
              "      fill: #D2E3FC;\n",
              "    }\n",
              "\n",
              "    [theme=dark] .colab-df-convert:hover {\n",
              "      background-color: #434B5C;\n",
              "      box-shadow: 0px 1px 3px 1px rgba(0, 0, 0, 0.15);\n",
              "      filter: drop-shadow(0px 1px 2px rgba(0, 0, 0, 0.3));\n",
              "      fill: #FFFFFF;\n",
              "    }\n",
              "  </style>\n",
              "\n",
              "      <script>\n",
              "        const buttonEl =\n",
              "          document.querySelector('#df-77da3cf7-3ded-44bb-95d5-ea138a3bf917 button.colab-df-convert');\n",
              "        buttonEl.style.display =\n",
              "          google.colab.kernel.accessAllowed ? 'block' : 'none';\n",
              "\n",
              "        async function convertToInteractive(key) {\n",
              "          const element = document.querySelector('#df-77da3cf7-3ded-44bb-95d5-ea138a3bf917');\n",
              "          const dataTable =\n",
              "            await google.colab.kernel.invokeFunction('convertToInteractive',\n",
              "                                                     [key], {});\n",
              "          if (!dataTable) return;\n",
              "\n",
              "          const docLinkHtml = 'Like what you see? Visit the ' +\n",
              "            '<a target=\"_blank\" href=https://colab.research.google.com/notebooks/data_table.ipynb>data table notebook</a>'\n",
              "            + ' to learn more about interactive tables.';\n",
              "          element.innerHTML = '';\n",
              "          dataTable['output_type'] = 'display_data';\n",
              "          await google.colab.output.renderOutput(dataTable, element);\n",
              "          const docLink = document.createElement('div');\n",
              "          docLink.innerHTML = docLinkHtml;\n",
              "          element.appendChild(docLink);\n",
              "        }\n",
              "      </script>\n",
              "    </div>\n",
              "  </div>\n",
              "  "
            ]
          },
          "metadata": {},
          "execution_count": 6
        }
      ]
    },
    {
      "cell_type": "markdown",
      "source": [
        "###Ejercicio 1\n",
        "\n",
        "Hacer una gráfica del promedio de Diaphorinas por trampa para cada mes\n",
        "de los años 2015, 2017,2020. Es decir una gráfica por cada año donde\n",
        "el eje horizontal esté el mes y el vertical el promedio de diaphorinas por\n",
        "trampa.\n",
        "\n",
        "\n",
        "\n"
      ],
      "metadata": {
        "id": "GUv_FEgYkLn3"
      }
    },
    {
      "cell_type": "code",
      "source": [
        "bdc=bd.copy() \n",
        "bd1c=bd1.copy() \n",
        "bd2c=bd2.copy() \n",
        "\n"
      ],
      "metadata": {
        "id": "KAlqhYzIkosZ"
      },
      "execution_count": 7,
      "outputs": []
    },
    {
      "cell_type": "code",
      "source": [
        "bdc.dropna(subset=['No_DiaphorinasXtrampa'],inplace=True)\n",
        "bd1c.dropna(subset=['No_DiaphorinasXtrampa'],inplace=True)\n",
        "bd2c.dropna(subset=['DiaphorinaXTrampa'],inplace=True)"
      ],
      "metadata": {
        "id": "C9Vm39Ri85pP"
      },
      "execution_count": 8,
      "outputs": []
    },
    {
      "cell_type": "code",
      "source": [
        "bdc.head()"
      ],
      "metadata": {
        "colab": {
          "base_uri": "https://localhost:8080/",
          "height": 444
        },
        "id": "Kfq87OBKyxcS",
        "outputId": "29c53f27-fbc0-4a7a-decd-173a347a396f"
      },
      "execution_count": 20,
      "outputs": [
        {
          "output_type": "execute_result",
          "data": {
            "text/plain": [
              "       Fecha   Latitud  Longitud                  Ubicacion Municipio  \\\n",
              "0 2015-01-22  24.11564 -99.03734  177_THUE05-28-030-0415T01   PADILLA   \n",
              "1 2015-01-29  24.11564 -99.03734  177_THUE05-28-030-0415T01   PADILLA   \n",
              "2 2015-01-29  24.11562 -99.03560  177_THUE05-28-030-0415T02   PADILLA   \n",
              "3 2015-01-22  24.11562 -99.03560  177_THUE05-28-030-0415T02   PADILLA   \n",
              "4 2015-01-29  24.11726 -99.03528  177_THUE05-28-030-0415T03   PADILLA   \n",
              "\n",
              "            Comunidad                  Productor Cultivo  \\\n",
              "0  Ej. Marte R. Gomez  MARTINEZ_ZAMBRANO_ROBERTA   LIMÓN   \n",
              "1  Ej. Marte R. Gomez  MARTINEZ_ZAMBRANO_ROBERTA   LIMÓN   \n",
              "2  Ej. Marte R. Gomez  MARTINEZ_ZAMBRANO_ROBERTA   LIMÓN   \n",
              "3  Ej. Marte R. Gomez  MARTINEZ_ZAMBRANO_ROBERTA   LIMÓN   \n",
              "4  Ej. Marte R. Gomez  MARTINEZ_ZAMBRANO_ROBERTA   LIMÓN   \n",
              "\n",
              "                  Fenologia  Superficie_ha  No_Trampas_Instaladas  \\\n",
              "0  DESARROLLO (crecimiento)           25.0                    0.0   \n",
              "1  DESARROLLO (crecimiento)           25.0                    1.0   \n",
              "2  DESARROLLO (crecimiento)            0.0                    1.0   \n",
              "3  DESARROLLO (crecimiento)            0.0                    0.0   \n",
              "4  DESARROLLO (crecimiento)            0.0                    1.0   \n",
              "\n",
              "   No_Trampas_Revisadas  No_DiaphorinasXtrampa  Mes  Semana  \n",
              "0                   1.0                    0.0  1.0     4.0  \n",
              "1                   1.0                    0.0  1.0     5.0  \n",
              "2                   1.0                    0.0  1.0     5.0  \n",
              "3                   1.0                    0.0  1.0     4.0  \n",
              "4                   1.0                    0.0  1.0     5.0  "
            ],
            "text/html": [
              "\n",
              "  <div id=\"df-c8385d2a-6b1d-4da4-8a08-85ba41eb7e0e\">\n",
              "    <div class=\"colab-df-container\">\n",
              "      <div>\n",
              "<style scoped>\n",
              "    .dataframe tbody tr th:only-of-type {\n",
              "        vertical-align: middle;\n",
              "    }\n",
              "\n",
              "    .dataframe tbody tr th {\n",
              "        vertical-align: top;\n",
              "    }\n",
              "\n",
              "    .dataframe thead th {\n",
              "        text-align: right;\n",
              "    }\n",
              "</style>\n",
              "<table border=\"1\" class=\"dataframe\">\n",
              "  <thead>\n",
              "    <tr style=\"text-align: right;\">\n",
              "      <th></th>\n",
              "      <th>Fecha</th>\n",
              "      <th>Latitud</th>\n",
              "      <th>Longitud</th>\n",
              "      <th>Ubicacion</th>\n",
              "      <th>Municipio</th>\n",
              "      <th>Comunidad</th>\n",
              "      <th>Productor</th>\n",
              "      <th>Cultivo</th>\n",
              "      <th>Fenologia</th>\n",
              "      <th>Superficie_ha</th>\n",
              "      <th>No_Trampas_Instaladas</th>\n",
              "      <th>No_Trampas_Revisadas</th>\n",
              "      <th>No_DiaphorinasXtrampa</th>\n",
              "      <th>Mes</th>\n",
              "      <th>Semana</th>\n",
              "    </tr>\n",
              "  </thead>\n",
              "  <tbody>\n",
              "    <tr>\n",
              "      <th>0</th>\n",
              "      <td>2015-01-22</td>\n",
              "      <td>24.11564</td>\n",
              "      <td>-99.03734</td>\n",
              "      <td>177_THUE05-28-030-0415T01</td>\n",
              "      <td>PADILLA</td>\n",
              "      <td>Ej. Marte R. Gomez</td>\n",
              "      <td>MARTINEZ_ZAMBRANO_ROBERTA</td>\n",
              "      <td>LIMÓN</td>\n",
              "      <td>DESARROLLO (crecimiento)</td>\n",
              "      <td>25.0</td>\n",
              "      <td>0.0</td>\n",
              "      <td>1.0</td>\n",
              "      <td>0.0</td>\n",
              "      <td>1.0</td>\n",
              "      <td>4.0</td>\n",
              "    </tr>\n",
              "    <tr>\n",
              "      <th>1</th>\n",
              "      <td>2015-01-29</td>\n",
              "      <td>24.11564</td>\n",
              "      <td>-99.03734</td>\n",
              "      <td>177_THUE05-28-030-0415T01</td>\n",
              "      <td>PADILLA</td>\n",
              "      <td>Ej. Marte R. Gomez</td>\n",
              "      <td>MARTINEZ_ZAMBRANO_ROBERTA</td>\n",
              "      <td>LIMÓN</td>\n",
              "      <td>DESARROLLO (crecimiento)</td>\n",
              "      <td>25.0</td>\n",
              "      <td>1.0</td>\n",
              "      <td>1.0</td>\n",
              "      <td>0.0</td>\n",
              "      <td>1.0</td>\n",
              "      <td>5.0</td>\n",
              "    </tr>\n",
              "    <tr>\n",
              "      <th>2</th>\n",
              "      <td>2015-01-29</td>\n",
              "      <td>24.11562</td>\n",
              "      <td>-99.03560</td>\n",
              "      <td>177_THUE05-28-030-0415T02</td>\n",
              "      <td>PADILLA</td>\n",
              "      <td>Ej. Marte R. Gomez</td>\n",
              "      <td>MARTINEZ_ZAMBRANO_ROBERTA</td>\n",
              "      <td>LIMÓN</td>\n",
              "      <td>DESARROLLO (crecimiento)</td>\n",
              "      <td>0.0</td>\n",
              "      <td>1.0</td>\n",
              "      <td>1.0</td>\n",
              "      <td>0.0</td>\n",
              "      <td>1.0</td>\n",
              "      <td>5.0</td>\n",
              "    </tr>\n",
              "    <tr>\n",
              "      <th>3</th>\n",
              "      <td>2015-01-22</td>\n",
              "      <td>24.11562</td>\n",
              "      <td>-99.03560</td>\n",
              "      <td>177_THUE05-28-030-0415T02</td>\n",
              "      <td>PADILLA</td>\n",
              "      <td>Ej. Marte R. Gomez</td>\n",
              "      <td>MARTINEZ_ZAMBRANO_ROBERTA</td>\n",
              "      <td>LIMÓN</td>\n",
              "      <td>DESARROLLO (crecimiento)</td>\n",
              "      <td>0.0</td>\n",
              "      <td>0.0</td>\n",
              "      <td>1.0</td>\n",
              "      <td>0.0</td>\n",
              "      <td>1.0</td>\n",
              "      <td>4.0</td>\n",
              "    </tr>\n",
              "    <tr>\n",
              "      <th>4</th>\n",
              "      <td>2015-01-29</td>\n",
              "      <td>24.11726</td>\n",
              "      <td>-99.03528</td>\n",
              "      <td>177_THUE05-28-030-0415T03</td>\n",
              "      <td>PADILLA</td>\n",
              "      <td>Ej. Marte R. Gomez</td>\n",
              "      <td>MARTINEZ_ZAMBRANO_ROBERTA</td>\n",
              "      <td>LIMÓN</td>\n",
              "      <td>DESARROLLO (crecimiento)</td>\n",
              "      <td>0.0</td>\n",
              "      <td>1.0</td>\n",
              "      <td>1.0</td>\n",
              "      <td>0.0</td>\n",
              "      <td>1.0</td>\n",
              "      <td>5.0</td>\n",
              "    </tr>\n",
              "  </tbody>\n",
              "</table>\n",
              "</div>\n",
              "      <button class=\"colab-df-convert\" onclick=\"convertToInteractive('df-c8385d2a-6b1d-4da4-8a08-85ba41eb7e0e')\"\n",
              "              title=\"Convert this dataframe to an interactive table.\"\n",
              "              style=\"display:none;\">\n",
              "        \n",
              "  <svg xmlns=\"http://www.w3.org/2000/svg\" height=\"24px\"viewBox=\"0 0 24 24\"\n",
              "       width=\"24px\">\n",
              "    <path d=\"M0 0h24v24H0V0z\" fill=\"none\"/>\n",
              "    <path d=\"M18.56 5.44l.94 2.06.94-2.06 2.06-.94-2.06-.94-.94-2.06-.94 2.06-2.06.94zm-11 1L8.5 8.5l.94-2.06 2.06-.94-2.06-.94L8.5 2.5l-.94 2.06-2.06.94zm10 10l.94 2.06.94-2.06 2.06-.94-2.06-.94-.94-2.06-.94 2.06-2.06.94z\"/><path d=\"M17.41 7.96l-1.37-1.37c-.4-.4-.92-.59-1.43-.59-.52 0-1.04.2-1.43.59L10.3 9.45l-7.72 7.72c-.78.78-.78 2.05 0 2.83L4 21.41c.39.39.9.59 1.41.59.51 0 1.02-.2 1.41-.59l7.78-7.78 2.81-2.81c.8-.78.8-2.07 0-2.86zM5.41 20L4 18.59l7.72-7.72 1.47 1.35L5.41 20z\"/>\n",
              "  </svg>\n",
              "      </button>\n",
              "      \n",
              "  <style>\n",
              "    .colab-df-container {\n",
              "      display:flex;\n",
              "      flex-wrap:wrap;\n",
              "      gap: 12px;\n",
              "    }\n",
              "\n",
              "    .colab-df-convert {\n",
              "      background-color: #E8F0FE;\n",
              "      border: none;\n",
              "      border-radius: 50%;\n",
              "      cursor: pointer;\n",
              "      display: none;\n",
              "      fill: #1967D2;\n",
              "      height: 32px;\n",
              "      padding: 0 0 0 0;\n",
              "      width: 32px;\n",
              "    }\n",
              "\n",
              "    .colab-df-convert:hover {\n",
              "      background-color: #E2EBFA;\n",
              "      box-shadow: 0px 1px 2px rgba(60, 64, 67, 0.3), 0px 1px 3px 1px rgba(60, 64, 67, 0.15);\n",
              "      fill: #174EA6;\n",
              "    }\n",
              "\n",
              "    [theme=dark] .colab-df-convert {\n",
              "      background-color: #3B4455;\n",
              "      fill: #D2E3FC;\n",
              "    }\n",
              "\n",
              "    [theme=dark] .colab-df-convert:hover {\n",
              "      background-color: #434B5C;\n",
              "      box-shadow: 0px 1px 3px 1px rgba(0, 0, 0, 0.15);\n",
              "      filter: drop-shadow(0px 1px 2px rgba(0, 0, 0, 0.3));\n",
              "      fill: #FFFFFF;\n",
              "    }\n",
              "  </style>\n",
              "\n",
              "      <script>\n",
              "        const buttonEl =\n",
              "          document.querySelector('#df-c8385d2a-6b1d-4da4-8a08-85ba41eb7e0e button.colab-df-convert');\n",
              "        buttonEl.style.display =\n",
              "          google.colab.kernel.accessAllowed ? 'block' : 'none';\n",
              "\n",
              "        async function convertToInteractive(key) {\n",
              "          const element = document.querySelector('#df-c8385d2a-6b1d-4da4-8a08-85ba41eb7e0e');\n",
              "          const dataTable =\n",
              "            await google.colab.kernel.invokeFunction('convertToInteractive',\n",
              "                                                     [key], {});\n",
              "          if (!dataTable) return;\n",
              "\n",
              "          const docLinkHtml = 'Like what you see? Visit the ' +\n",
              "            '<a target=\"_blank\" href=https://colab.research.google.com/notebooks/data_table.ipynb>data table notebook</a>'\n",
              "            + ' to learn more about interactive tables.';\n",
              "          element.innerHTML = '';\n",
              "          dataTable['output_type'] = 'display_data';\n",
              "          await google.colab.output.renderOutput(dataTable, element);\n",
              "          const docLink = document.createElement('div');\n",
              "          docLink.innerHTML = docLinkHtml;\n",
              "          element.appendChild(docLink);\n",
              "        }\n",
              "      </script>\n",
              "    </div>\n",
              "  </div>\n",
              "  "
            ]
          },
          "metadata": {},
          "execution_count": 20
        }
      ]
    },
    {
      "cell_type": "code",
      "source": [
        "bdc.columns.values"
      ],
      "metadata": {
        "colab": {
          "base_uri": "https://localhost:8080/"
        },
        "id": "zmvskVZxXI9a",
        "outputId": "f962a9c0-9b76-4e56-c098-f9692c4a6e7f"
      },
      "execution_count": 9,
      "outputs": [
        {
          "output_type": "execute_result",
          "data": {
            "text/plain": [
              "array(['Fecha', 'Latitud', 'Longitud', 'Ubicacion', 'Municipio',\n",
              "       'Comunidad', 'Productor', 'Cultivo', 'Fenologia', 'Superficie_ha',\n",
              "       'No_Trampas_Instaladas', 'No_Trampas_Revisadas',\n",
              "       'No_DiaphorinasXtrampa', 'Mes', 'Semana'], dtype=object)"
            ]
          },
          "metadata": {},
          "execution_count": 9
        }
      ]
    },
    {
      "cell_type": "code",
      "source": [
        "bd1c.columns.values"
      ],
      "metadata": {
        "colab": {
          "base_uri": "https://localhost:8080/"
        },
        "id": "IefL2Y3iXNqx",
        "outputId": "bcb85ca0-c091-4631-f4f3-3b2d89b4d268"
      },
      "execution_count": 10,
      "outputs": [
        {
          "output_type": "execute_result",
          "data": {
            "text/plain": [
              "array(['Fecha', 'Latitud', 'Longitud', 'Ubicacion', 'Municipio',\n",
              "       'Comunidad', 'Productor', 'Cultivo', 'Fenologia', 'Superficie_ha',\n",
              "       'No_Trampas_Instaladas', 'No_Trampas_Revisadas',\n",
              "       'No_DiaphorinasXtrampa', 'Mes', 'Semana'], dtype=object)"
            ]
          },
          "metadata": {},
          "execution_count": 10
        }
      ]
    },
    {
      "cell_type": "code",
      "source": [
        "bd2c.columns.values"
      ],
      "metadata": {
        "colab": {
          "base_uri": "https://localhost:8080/"
        },
        "id": "6g8J5AFVXOYC",
        "outputId": "d252f5e0-987f-4b75-f7ca-8b8561018113"
      },
      "execution_count": 11,
      "outputs": [
        {
          "output_type": "execute_result",
          "data": {
            "text/plain": [
              "array(['Fecha', 'Ubicacion', 'Latitud', 'Longitud', 'Productor',\n",
              "       'Municipio', 'Localidad', 'Cultivo', 'Variedad', 'noProductores',\n",
              "       'Superficie', 'NoTrampasInst', 'Trampas_revisadas',\n",
              "       'DiaphorinaXTrampa', 'Observacion', 'Incidencia_Psilido',\n",
              "       'Fenologia_Brote_1', 'Adultos_Brote_1', 'Ninfas_Brote_1',\n",
              "       'Fenologia_Brote_2', 'Adultos_Brote_2', 'Ninfas_Brote_2',\n",
              "       'Fenologia_Brote_3', 'Adultos_Brote_3', 'Ninfas_Brote_3',\n",
              "       'Fenologia_Brote_4', 'Adultos_Brote_4', 'Ninfas_Brote_4', 'Mes',\n",
              "       'Semana', 'Tecnico'], dtype=object)"
            ]
          },
          "metadata": {},
          "execution_count": 11
        }
      ]
    },
    {
      "cell_type": "code",
      "source": [
        "g1=bdc.groupby(['Mes','Ubicacion'])[bd1c.columns.values[12]].mean().groupby(level='Mes').mean()\n",
        "\n",
        "\n"
      ],
      "metadata": {
        "id": "UbhMKrKHyqyp"
      },
      "execution_count": 34,
      "outputs": []
    },
    {
      "cell_type": "code",
      "source": [
        "g2=bd1c.groupby(['Mes','Ubicacion'])[bd1c.columns.values[12]].mean().groupby(level='Mes').mean() \n",
        "\n"
      ],
      "metadata": {
        "id": "J3kPVEmgXaNA"
      },
      "execution_count": 27,
      "outputs": []
    },
    {
      "cell_type": "code",
      "source": [
        "g3=bd2c.groupby(['Mes','Ubicacion'])[bd2c.columns.values[13]].mean().groupby(level='Mes').mean() \n",
        "\n"
      ],
      "metadata": {
        "id": "qJyypeQ7X6ZI"
      },
      "execution_count": 30,
      "outputs": []
    },
    {
      "cell_type": "code",
      "source": [
        "g1=bdc.groupby(['Mes','Ubicacion'])[bd1c.columns.values[12]].mean().groupby(level='Mes').mean()\n",
        "g2=bd1c.groupby(['Mes','Ubicacion'])[bd1c.columns.values[12]].mean().groupby(level='Mes').mean() \n",
        "g3=bd2c.groupby(['Mes','Ubicacion'])[bd2c.columns.values[13]].mean().groupby(level='Mes').mean() \n",
        "\n",
        "fig, (ax1,ax2,ax3)= plt.subplots(1,3,figsize=(25,10))\n",
        "\n",
        "fig.suptitle('Gráficas',fontsize=30,color='blue')\n",
        "\n",
        "ax1.plot(g1.index,g1.values)\n",
        "ax1.set_title('2015',fontsize=20)\n",
        "ax1.set_xlabel(\"Mes\",fontsize=20)\n",
        "ax1.set_ylabel(\"No. promedio de diaphorinas por trampa\",fontsize=15)\n",
        "ax1.set_xticks(range(0, 13))\n",
        "\n",
        "ax2.plot(g2)\n",
        "ax2.set_title('2017',fontsize=20)\n",
        "ax2.set_xticks(range(0, 13))\n",
        "ax2.set_xlabel(\"Mes\",fontsize=20)\n",
        "ax2.set_ylabel(\"No. promedio de diaphorinas por trampa\",fontsize=15)\n",
        "\n",
        "ax3.plot(g3)\n",
        "ax3.set_title('2020',fontsize=20)\n",
        "ax3.set_xticks(range(0, 13))\n",
        "ax3.set_xlabel(\"Mes\",fontsize=20)\n",
        "ax3.set_ylabel(\"No. promedio de diaphorinas por trampa\",fontsize=15)\n",
        "\n",
        "\n",
        "\n",
        "plt.show()"
      ],
      "metadata": {
        "colab": {
          "base_uri": "https://localhost:8080/",
          "height": 686
        },
        "id": "6CQ5zTpmY84h",
        "outputId": "602e6974-fa44-4b37-8719-5755e452931e"
      },
      "execution_count": 32,
      "outputs": [
        {
          "output_type": "display_data",
          "data": {
            "text/plain": [
              "<Figure size 1800x720 with 3 Axes>"
            ],
            "image/png": "[encoded data removed]"
          },
          "metadata": {
            "needs_background": "light"
          }
        }
      ]
    },
    {
      "cell_type": "markdown",
      "source": [
        "###Ejercicio 2 \n",
        "\n",
        "Hacer una gráfica del promedio de Diaphorinas por trampa para cada mes del año 2020 pero sólo de un minicipio"
      ],
      "metadata": {
        "id": "YYfRIIpQdGYr"
      }
    },
    {
      "cell_type": "code",
      "source": [
        "bd2c['Municipio'].unique()"
      ],
      "metadata": {
        "colab": {
          "base_uri": "https://localhost:8080/"
        },
        "id": "uY8PzCPuZ-Wr",
        "outputId": "92be53fa-1a8b-436a-a2b4-6cf868e99a87"
      },
      "execution_count": 15,
      "outputs": [
        {
          "output_type": "execute_result",
          "data": {
            "text/plain": [
              "array(['LLERA', 'HIDALGO', 'GUEMEZ', 'PADILLA', 'VICTORIA'], dtype=object)"
            ]
          },
          "metadata": {},
          "execution_count": 15
        }
      ]
    },
    {
      "cell_type": "code",
      "source": [
        "g4=bd2c[bd2c['Municipio']=='PADILLA'].groupby(['Mes','Ubicacion'])[bd2c.columns.values[13]].mean().groupby(level='Mes').mean()\n"
      ],
      "metadata": {
        "id": "FNkgkEHe0ZtS"
      },
      "execution_count": 57,
      "outputs": []
    },
    {
      "cell_type": "code",
      "source": [
        "g4=bd2c[bd2c['Municipio']=='PADILLA'].groupby(['Mes','Ubicacion'])[bd2c.columns.values[13]].mean().groupby(level='Mes').mean()\n",
        "fig,ax=plt.subplots(figsize=(20,10)) \n",
        "ax.plot(g4) \n",
        "ax.set_title('2015',fontsize=20)\n",
        "ax.set_xticks(range(0,13))\n",
        "ax.set_xlabel(\"Mes\",fontsize=20)\n",
        "ax.set_ylabel(\"No. promedio de diaphorinas por trampa\",fontsize=15)\n",
        "plt.show()"
      ],
      "metadata": {
        "colab": {
          "base_uri": "https://localhost:8080/",
          "height": 636
        },
        "id": "Uyl-ihuFa9s7",
        "outputId": "b67958cf-71dc-439e-c652-dffadc46e769"
      },
      "execution_count": 55,
      "outputs": [
        {
          "output_type": "display_data",
          "data": {
            "text/plain": [
              "<Figure size 1440x720 with 1 Axes>"
            ],
            "image/png": "[encoded data removed]"
          },
          "metadata": {
            "needs_background": "light"
          }
        }
      ]
    },
    {
      "cell_type": "markdown",
      "source": [
        "###Ejercicio 3\n",
        "\n",
        "Hacer una tabla donde la primera columna sea el mes, la segunda el índice Id(por trampa) y la tercera el índice Cx para el año 2015"
      ],
      "metadata": {
        "id": "EpFW0450dYD5"
      }
    },
    {
      "cell_type": "code",
      "source": [
        "bdc.head()"
      ],
      "metadata": {
        "colab": {
          "base_uri": "https://localhost:8080/",
          "height": 444
        },
        "id": "nW3tOZnNdlXB",
        "outputId": "a9bb01e5-6356-49a8-b638-8e3f359395b1"
      },
      "execution_count": 17,
      "outputs": [
        {
          "output_type": "execute_result",
          "data": {
            "text/plain": [
              "       Fecha   Latitud  Longitud                  Ubicacion Municipio  \\\n",
              "0 2015-01-22  24.11564 -99.03734  177_THUE05-28-030-0415T01   PADILLA   \n",
              "1 2015-01-29  24.11564 -99.03734  177_THUE05-28-030-0415T01   PADILLA   \n",
              "2 2015-01-29  24.11562 -99.03560  177_THUE05-28-030-0415T02   PADILLA   \n",
              "3 2015-01-22  24.11562 -99.03560  177_THUE05-28-030-0415T02   PADILLA   \n",
              "4 2015-01-29  24.11726 -99.03528  177_THUE05-28-030-0415T03   PADILLA   \n",
              "\n",
              "            Comunidad                  Productor Cultivo  \\\n",
              "0  Ej. Marte R. Gomez  MARTINEZ_ZAMBRANO_ROBERTA   LIMÓN   \n",
              "1  Ej. Marte R. Gomez  MARTINEZ_ZAMBRANO_ROBERTA   LIMÓN   \n",
              "2  Ej. Marte R. Gomez  MARTINEZ_ZAMBRANO_ROBERTA   LIMÓN   \n",
              "3  Ej. Marte R. Gomez  MARTINEZ_ZAMBRANO_ROBERTA   LIMÓN   \n",
              "4  Ej. Marte R. Gomez  MARTINEZ_ZAMBRANO_ROBERTA   LIMÓN   \n",
              "\n",
              "                  Fenologia  Superficie_ha  No_Trampas_Instaladas  \\\n",
              "0  DESARROLLO (crecimiento)           25.0                    0.0   \n",
              "1  DESARROLLO (crecimiento)           25.0                    1.0   \n",
              "2  DESARROLLO (crecimiento)            0.0                    1.0   \n",
              "3  DESARROLLO (crecimiento)            0.0                    0.0   \n",
              "4  DESARROLLO (crecimiento)            0.0                    1.0   \n",
              "\n",
              "   No_Trampas_Revisadas  No_DiaphorinasXtrampa  Mes  Semana  \n",
              "0                   1.0                    0.0  1.0     4.0  \n",
              "1                   1.0                    0.0  1.0     5.0  \n",
              "2                   1.0                    0.0  1.0     5.0  \n",
              "3                   1.0                    0.0  1.0     4.0  \n",
              "4                   1.0                    0.0  1.0     5.0  "
            ],
            "text/html": [
              "\n",
              "  <div id=\"df-93d32178-2c20-4086-b114-b7ed36fcec86\">\n",
              "    <div class=\"colab-df-container\">\n",
              "      <div>\n",
              "<style scoped>\n",
              "    .dataframe tbody tr th:only-of-type {\n",
              "        vertical-align: middle;\n",
              "    }\n",
              "\n",
              "    .dataframe tbody tr th {\n",
              "        vertical-align: top;\n",
              "    }\n",
              "\n",
              "    .dataframe thead th {\n",
              "        text-align: right;\n",
              "    }\n",
              "</style>\n",
              "<table border=\"1\" class=\"dataframe\">\n",
              "  <thead>\n",
              "    <tr style=\"text-align: right;\">\n",
              "      <th></th>\n",
              "      <th>Fecha</th>\n",
              "      <th>Latitud</th>\n",
              "      <th>Longitud</th>\n",
              "      <th>Ubicacion</th>\n",
              "      <th>Municipio</th>\n",
              "      <th>Comunidad</th>\n",
              "      <th>Productor</th>\n",
              "      <th>Cultivo</th>\n",
              "      <th>Fenologia</th>\n",
              "      <th>Superficie_ha</th>\n",
              "      <th>No_Trampas_Instaladas</th>\n",
              "      <th>No_Trampas_Revisadas</th>\n",
              "      <th>No_DiaphorinasXtrampa</th>\n",
              "      <th>Mes</th>\n",
              "      <th>Semana</th>\n",
              "    </tr>\n",
              "  </thead>\n",
              "  <tbody>\n",
              "    <tr>\n",
              "      <th>0</th>\n",
              "      <td>2015-01-22</td>\n",
              "      <td>24.11564</td>\n",
              "      <td>-99.03734</td>\n",
              "      <td>177_THUE05-28-030-0415T01</td>\n",
              "      <td>PADILLA</td>\n",
              "      <td>Ej. Marte R. Gomez</td>\n",
              "      <td>MARTINEZ_ZAMBRANO_ROBERTA</td>\n",
              "      <td>LIMÓN</td>\n",
              "      <td>DESARROLLO (crecimiento)</td>\n",
              "      <td>25.0</td>\n",
              "      <td>0.0</td>\n",
              "      <td>1.0</td>\n",
              "      <td>0.0</td>\n",
              "      <td>1.0</td>\n",
              "      <td>4.0</td>\n",
              "    </tr>\n",
              "    <tr>\n",
              "      <th>1</th>\n",
              "      <td>2015-01-29</td>\n",
              "      <td>24.11564</td>\n",
              "      <td>-99.03734</td>\n",
              "      <td>177_THUE05-28-030-0415T01</td>\n",
              "      <td>PADILLA</td>\n",
              "      <td>Ej. Marte R. Gomez</td>\n",
              "      <td>MARTINEZ_ZAMBRANO_ROBERTA</td>\n",
              "      <td>LIMÓN</td>\n",
              "      <td>DESARROLLO (crecimiento)</td>\n",
              "      <td>25.0</td>\n",
              "      <td>1.0</td>\n",
              "      <td>1.0</td>\n",
              "      <td>0.0</td>\n",
              "      <td>1.0</td>\n",
              "      <td>5.0</td>\n",
              "    </tr>\n",
              "    <tr>\n",
              "      <th>2</th>\n",
              "      <td>2015-01-29</td>\n",
              "      <td>24.11562</td>\n",
              "      <td>-99.03560</td>\n",
              "      <td>177_THUE05-28-030-0415T02</td>\n",
              "      <td>PADILLA</td>\n",
              "      <td>Ej. Marte R. Gomez</td>\n",
              "      <td>MARTINEZ_ZAMBRANO_ROBERTA</td>\n",
              "      <td>LIMÓN</td>\n",
              "      <td>DESARROLLO (crecimiento)</td>\n",
              "      <td>0.0</td>\n",
              "      <td>1.0</td>\n",
              "      <td>1.0</td>\n",
              "      <td>0.0</td>\n",
              "      <td>1.0</td>\n",
              "      <td>5.0</td>\n",
              "    </tr>\n",
              "    <tr>\n",
              "      <th>3</th>\n",
              "      <td>2015-01-22</td>\n",
              "      <td>24.11562</td>\n",
              "      <td>-99.03560</td>\n",
              "      <td>177_THUE05-28-030-0415T02</td>\n",
              "      <td>PADILLA</td>\n",
              "      <td>Ej. Marte R. Gomez</td>\n",
              "      <td>MARTINEZ_ZAMBRANO_ROBERTA</td>\n",
              "      <td>LIMÓN</td>\n",
              "      <td>DESARROLLO (crecimiento)</td>\n",
              "      <td>0.0</td>\n",
              "      <td>0.0</td>\n",
              "      <td>1.0</td>\n",
              "      <td>0.0</td>\n",
              "      <td>1.0</td>\n",
              "      <td>4.0</td>\n",
              "    </tr>\n",
              "    <tr>\n",
              "      <th>4</th>\n",
              "      <td>2015-01-29</td>\n",
              "      <td>24.11726</td>\n",
              "      <td>-99.03528</td>\n",
              "      <td>177_THUE05-28-030-0415T03</td>\n",
              "      <td>PADILLA</td>\n",
              "      <td>Ej. Marte R. Gomez</td>\n",
              "      <td>MARTINEZ_ZAMBRANO_ROBERTA</td>\n",
              "      <td>LIMÓN</td>\n",
              "      <td>DESARROLLO (crecimiento)</td>\n",
              "      <td>0.0</td>\n",
              "      <td>1.0</td>\n",
              "      <td>1.0</td>\n",
              "      <td>0.0</td>\n",
              "      <td>1.0</td>\n",
              "      <td>5.0</td>\n",
              "    </tr>\n",
              "  </tbody>\n",
              "</table>\n",
              "</div>\n",
              "      <button class=\"colab-df-convert\" onclick=\"convertToInteractive('df-93d32178-2c20-4086-b114-b7ed36fcec86')\"\n",
              "              title=\"Convert this dataframe to an interactive table.\"\n",
              "              style=\"display:none;\">\n",
              "        \n",
              "  <svg xmlns=\"http://www.w3.org/2000/svg\" height=\"24px\"viewBox=\"0 0 24 24\"\n",
              "       width=\"24px\">\n",
              "    <path d=\"M0 0h24v24H0V0z\" fill=\"none\"/>\n",
              "    <path d=\"M18.56 5.44l.94 2.06.94-2.06 2.06-.94-2.06-.94-.94-2.06-.94 2.06-2.06.94zm-11 1L8.5 8.5l.94-2.06 2.06-.94-2.06-.94L8.5 2.5l-.94 2.06-2.06.94zm10 10l.94 2.06.94-2.06 2.06-.94-2.06-.94-.94-2.06-.94 2.06-2.06.94z\"/><path d=\"M17.41 7.96l-1.37-1.37c-.4-.4-.92-.59-1.43-.59-.52 0-1.04.2-1.43.59L10.3 9.45l-7.72 7.72c-.78.78-.78 2.05 0 2.83L4 21.41c.39.39.9.59 1.41.59.51 0 1.02-.2 1.41-.59l7.78-7.78 2.81-2.81c.8-.78.8-2.07 0-2.86zM5.41 20L4 18.59l7.72-7.72 1.47 1.35L5.41 20z\"/>\n",
              "  </svg>\n",
              "      </button>\n",
              "      \n",
              "  <style>\n",
              "    .colab-df-container {\n",
              "      display:flex;\n",
              "      flex-wrap:wrap;\n",
              "      gap: 12px;\n",
              "    }\n",
              "\n",
              "    .colab-df-convert {\n",
              "      background-color: #E8F0FE;\n",
              "      border: none;\n",
              "      border-radius: 50%;\n",
              "      cursor: pointer;\n",
              "      display: none;\n",
              "      fill: #1967D2;\n",
              "      height: 32px;\n",
              "      padding: 0 0 0 0;\n",
              "      width: 32px;\n",
              "    }\n",
              "\n",
              "    .colab-df-convert:hover {\n",
              "      background-color: #E2EBFA;\n",
              "      box-shadow: 0px 1px 2px rgba(60, 64, 67, 0.3), 0px 1px 3px 1px rgba(60, 64, 67, 0.15);\n",
              "      fill: #174EA6;\n",
              "    }\n",
              "\n",
              "    [theme=dark] .colab-df-convert {\n",
              "      background-color: #3B4455;\n",
              "      fill: #D2E3FC;\n",
              "    }\n",
              "\n",
              "    [theme=dark] .colab-df-convert:hover {\n",
              "      background-color: #434B5C;\n",
              "      box-shadow: 0px 1px 3px 1px rgba(0, 0, 0, 0.15);\n",
              "      filter: drop-shadow(0px 1px 2px rgba(0, 0, 0, 0.3));\n",
              "      fill: #FFFFFF;\n",
              "    }\n",
              "  </style>\n",
              "\n",
              "      <script>\n",
              "        const buttonEl =\n",
              "          document.querySelector('#df-93d32178-2c20-4086-b114-b7ed36fcec86 button.colab-df-convert');\n",
              "        buttonEl.style.display =\n",
              "          google.colab.kernel.accessAllowed ? 'block' : 'none';\n",
              "\n",
              "        async function convertToInteractive(key) {\n",
              "          const element = document.querySelector('#df-93d32178-2c20-4086-b114-b7ed36fcec86');\n",
              "          const dataTable =\n",
              "            await google.colab.kernel.invokeFunction('convertToInteractive',\n",
              "                                                     [key], {});\n",
              "          if (!dataTable) return;\n",
              "\n",
              "          const docLinkHtml = 'Like what you see? Visit the ' +\n",
              "            '<a target=\"_blank\" href=https://colab.research.google.com/notebooks/data_table.ipynb>data table notebook</a>'\n",
              "            + ' to learn more about interactive tables.';\n",
              "          element.innerHTML = '';\n",
              "          dataTable['output_type'] = 'display_data';\n",
              "          await google.colab.output.renderOutput(dataTable, element);\n",
              "          const docLink = document.createElement('div');\n",
              "          docLink.innerHTML = docLinkHtml;\n",
              "          element.appendChild(docLink);\n",
              "        }\n",
              "      </script>\n",
              "    </div>\n",
              "  </div>\n",
              "  "
            ]
          },
          "metadata": {},
          "execution_count": 17
        }
      ]
    },
    {
      "cell_type": "code",
      "source": [
        "bdc['Ubicacion'].shape"
      ],
      "metadata": {
        "colab": {
          "base_uri": "https://localhost:8080/"
        },
        "id": "RBXvoiRfetaY",
        "outputId": "cab7f85f-5d5d-4a7f-a6e5-cf5d2d8ca8bf"
      },
      "execution_count": 18,
      "outputs": [
        {
          "output_type": "execute_result",
          "data": {
            "text/plain": [
              "(384663,)"
            ]
          },
          "metadata": {},
          "execution_count": 18
        }
      ]
    },
    {
      "cell_type": "code",
      "source": [
        "bdc['Ubicacion'].unique().shape"
      ],
      "metadata": {
        "colab": {
          "base_uri": "https://localhost:8080/"
        },
        "id": "GCG76aJee3qB",
        "outputId": "c4771ab8-e606-4eb8-9a87-edd4a4cf0537"
      },
      "execution_count": 19,
      "outputs": [
        {
          "output_type": "execute_result",
          "data": {
            "text/plain": [
              "(9802,)"
            ]
          },
          "metadata": {},
          "execution_count": 19
        }
      ]
    },
    {
      "cell_type": "code",
      "source": [],
      "metadata": {
        "id": "x1veFhsNfZKa"
      },
      "execution_count": 19,
      "outputs": []
    }
  ]
}